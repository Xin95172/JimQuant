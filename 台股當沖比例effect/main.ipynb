{
 "cells": [
  {
   "cell_type": "code",
   "execution_count": 16,
   "id": "cc04e5e0",
   "metadata": {},
   "outputs": [
    {
     "name": "stdout",
     "output_type": "stream",
     "text": [
      "The autoreload extension is already loaded. To reload it, use:\n",
      "  %reload_ext autoreload\n"
     ]
    }
   ],
   "source": [
    "%load_ext autoreload\n",
    "%autoreload 2\n",
    "import sys\n",
    "# sys.path.append(\"D:/Github\")                                  # for windows\n",
    "sys.path.append(\"/Users/xinc./Documents/GitHub/note/module\")    # for mac\n",
    "from glob import glob\n",
    "from get_info_TWSE import GetInfoTWSE\n",
    "import pandas as pd\n",
    "import numpy as np\n",
    "from tqdm import tqdm\n",
    "import matplotlib.pyplot as plt\n",
    "import statsmodels.api as sm\n",
    "from statsmodels.stats.outliers_influence import variance_inflation_factor\n",
    "from statsmodels.stats.sandwich_covariance import cov_hac\n",
    "from pprint import pprint"
   ]
  },
  {
   "cell_type": "markdown",
   "id": "7066c4f7",
   "metadata": {},
   "source": [
    "# get data"
   ]
  },
  {
   "cell_type": "code",
   "execution_count": 89,
   "id": "4aa53f6a",
   "metadata": {},
   "outputs": [],
   "source": [
    "list = pd.read_csv(\"stock_id_list.csv\")\n",
    "list = list[\"Code\"].to_list()"
   ]
  },
  {
   "cell_type": "code",
   "execution_count": null,
   "id": "2671b696",
   "metadata": {},
   "outputs": [
    {
     "name": "stderr",
     "output_type": "stream",
     "text": [
      "  2%|▏         | 23/1066 [1:09:12<37:15:10, 128.58s/it]"
     ]
    }
   ],
   "source": [
    "import urllib3\n",
    "urllib3.disable_warnings(urllib3.exceptions.InsecureRequestWarning)\n",
    "\n",
    "fetcher = GetInfoTWSE()\n",
    "for id in tqdm(list):\n",
    "    try:\n",
    "        df = fetcher.init_df(str(id), \"2020-01-01\", \"2025-09-04\")\n",
    "        df = fetcher.get_stock_price()\n",
    "        df = fetcher.get_day_trading_info()\n",
    "        df.to_csv(f\"data/{id}.csv\", index = True)\n",
    "    except:\n",
    "        continue"
   ]
  },
  {
   "cell_type": "markdown",
   "id": "3e1b6697",
   "metadata": {},
   "source": [
    "# Analyse"
   ]
  },
  {
   "cell_type": "code",
   "execution_count": 3,
   "id": "5446053d",
   "metadata": {},
   "outputs": [],
   "source": [
    "file = pd.read_csv(\"data/1108.csv\", index_col = \"Date\")\n",
    "file[\"o_c_spread\"] = file[\"Open\"] - file[\"Close\"]\n",
    "file.dropna(inplace = True)"
   ]
  },
  {
   "cell_type": "code",
   "execution_count": 18,
   "id": "9e6464f8",
   "metadata": {},
   "outputs": [
    {
     "data": {
      "text/html": [
       "<div>\n",
       "<style scoped>\n",
       "    .dataframe tbody tr th:only-of-type {\n",
       "        vertical-align: middle;\n",
       "    }\n",
       "\n",
       "    .dataframe tbody tr th {\n",
       "        vertical-align: top;\n",
       "    }\n",
       "\n",
       "    .dataframe thead th {\n",
       "        text-align: right;\n",
       "    }\n",
       "</style>\n",
       "<table border=\"1\" class=\"dataframe\">\n",
       "  <thead>\n",
       "    <tr style=\"text-align: right;\">\n",
       "      <th></th>\n",
       "      <th>Open</th>\n",
       "      <th>High</th>\n",
       "      <th>Low</th>\n",
       "      <th>Close</th>\n",
       "      <th>Volume</th>\n",
       "      <th>當日沖銷交易成交股數</th>\n",
       "      <th>當日沖銷交易買進成交金額</th>\n",
       "      <th>當日沖銷交易賣出成交金額</th>\n",
       "      <th>當沖佔交易量比例</th>\n",
       "      <th>BiasNorm</th>\n",
       "      <th>o_c_spread</th>\n",
       "      <th>target</th>\n",
       "    </tr>\n",
       "    <tr>\n",
       "      <th>Date</th>\n",
       "      <th></th>\n",
       "      <th></th>\n",
       "      <th></th>\n",
       "      <th></th>\n",
       "      <th></th>\n",
       "      <th></th>\n",
       "      <th></th>\n",
       "      <th></th>\n",
       "      <th></th>\n",
       "      <th></th>\n",
       "      <th></th>\n",
       "      <th></th>\n",
       "    </tr>\n",
       "  </thead>\n",
       "  <tbody>\n",
       "    <tr>\n",
       "      <th>2020-01-02</th>\n",
       "      <td>8.38</td>\n",
       "      <td>8.45</td>\n",
       "      <td>8.28</td>\n",
       "      <td>8.37</td>\n",
       "      <td>310216.0</td>\n",
       "      <td>52000</td>\n",
       "      <td>432520</td>\n",
       "      <td>436540</td>\n",
       "      <td>0.167625</td>\n",
       "      <td>-0.004626</td>\n",
       "      <td>0.01</td>\n",
       "      <td>0.03</td>\n",
       "    </tr>\n",
       "    <tr>\n",
       "      <th>2020-01-03</th>\n",
       "      <td>8.40</td>\n",
       "      <td>8.40</td>\n",
       "      <td>8.28</td>\n",
       "      <td>8.37</td>\n",
       "      <td>239000.0</td>\n",
       "      <td>22000</td>\n",
       "      <td>183680</td>\n",
       "      <td>183890</td>\n",
       "      <td>0.092050</td>\n",
       "      <td>-0.000571</td>\n",
       "      <td>0.03</td>\n",
       "      <td>0.16</td>\n",
       "    </tr>\n",
       "    <tr>\n",
       "      <th>2020-01-06</th>\n",
       "      <td>8.37</td>\n",
       "      <td>8.37</td>\n",
       "      <td>8.21</td>\n",
       "      <td>8.21</td>\n",
       "      <td>191975.0</td>\n",
       "      <td>22000</td>\n",
       "      <td>180900</td>\n",
       "      <td>182790</td>\n",
       "      <td>0.114598</td>\n",
       "      <td>-0.005197</td>\n",
       "      <td>0.16</td>\n",
       "      <td>0.09</td>\n",
       "    </tr>\n",
       "    <tr>\n",
       "      <th>2020-01-08</th>\n",
       "      <td>8.24</td>\n",
       "      <td>8.28</td>\n",
       "      <td>8.15</td>\n",
       "      <td>8.15</td>\n",
       "      <td>94000.0</td>\n",
       "      <td>9000</td>\n",
       "      <td>73560</td>\n",
       "      <td>73620</td>\n",
       "      <td>0.095745</td>\n",
       "      <td>-0.000408</td>\n",
       "      <td>0.09</td>\n",
       "      <td>-0.03</td>\n",
       "    </tr>\n",
       "    <tr>\n",
       "      <th>2020-01-09</th>\n",
       "      <td>8.15</td>\n",
       "      <td>8.22</td>\n",
       "      <td>8.15</td>\n",
       "      <td>8.18</td>\n",
       "      <td>120076.0</td>\n",
       "      <td>3000</td>\n",
       "      <td>24450</td>\n",
       "      <td>24660</td>\n",
       "      <td>0.024984</td>\n",
       "      <td>-0.004276</td>\n",
       "      <td>-0.03</td>\n",
       "      <td>0.11</td>\n",
       "    </tr>\n",
       "    <tr>\n",
       "      <th>...</th>\n",
       "      <td>...</td>\n",
       "      <td>...</td>\n",
       "      <td>...</td>\n",
       "      <td>...</td>\n",
       "      <td>...</td>\n",
       "      <td>...</td>\n",
       "      <td>...</td>\n",
       "      <td>...</td>\n",
       "      <td>...</td>\n",
       "      <td>...</td>\n",
       "      <td>...</td>\n",
       "      <td>...</td>\n",
       "    </tr>\n",
       "    <tr>\n",
       "      <th>2025-08-28</th>\n",
       "      <td>15.25</td>\n",
       "      <td>15.35</td>\n",
       "      <td>15.25</td>\n",
       "      <td>15.25</td>\n",
       "      <td>137908.0</td>\n",
       "      <td>1000</td>\n",
       "      <td>15300</td>\n",
       "      <td>15250</td>\n",
       "      <td>0.007251</td>\n",
       "      <td>0.001637</td>\n",
       "      <td>0.00</td>\n",
       "      <td>-0.05</td>\n",
       "    </tr>\n",
       "    <tr>\n",
       "      <th>2025-08-29</th>\n",
       "      <td>15.30</td>\n",
       "      <td>15.45</td>\n",
       "      <td>15.30</td>\n",
       "      <td>15.35</td>\n",
       "      <td>337529.0</td>\n",
       "      <td>6000</td>\n",
       "      <td>92350</td>\n",
       "      <td>92150</td>\n",
       "      <td>0.017776</td>\n",
       "      <td>0.001084</td>\n",
       "      <td>-0.05</td>\n",
       "      <td>0.05</td>\n",
       "    </tr>\n",
       "    <tr>\n",
       "      <th>2025-09-01</th>\n",
       "      <td>15.40</td>\n",
       "      <td>15.40</td>\n",
       "      <td>15.25</td>\n",
       "      <td>15.35</td>\n",
       "      <td>333990.0</td>\n",
       "      <td>3000</td>\n",
       "      <td>45950</td>\n",
       "      <td>46050</td>\n",
       "      <td>0.008982</td>\n",
       "      <td>-0.001087</td>\n",
       "      <td>0.05</td>\n",
       "      <td>0.05</td>\n",
       "    </tr>\n",
       "    <tr>\n",
       "      <th>2025-09-02</th>\n",
       "      <td>15.35</td>\n",
       "      <td>15.35</td>\n",
       "      <td>15.30</td>\n",
       "      <td>15.30</td>\n",
       "      <td>75631.0</td>\n",
       "      <td>4000</td>\n",
       "      <td>61400</td>\n",
       "      <td>61200</td>\n",
       "      <td>0.052888</td>\n",
       "      <td>0.001631</td>\n",
       "      <td>0.05</td>\n",
       "      <td>0.00</td>\n",
       "    </tr>\n",
       "    <tr>\n",
       "      <th>2025-09-04</th>\n",
       "      <td>15.40</td>\n",
       "      <td>15.45</td>\n",
       "      <td>15.30</td>\n",
       "      <td>15.40</td>\n",
       "      <td>308035.0</td>\n",
       "      <td>2000</td>\n",
       "      <td>30700</td>\n",
       "      <td>30800</td>\n",
       "      <td>0.006493</td>\n",
       "      <td>-0.001626</td>\n",
       "      <td>0.00</td>\n",
       "      <td>NaN</td>\n",
       "    </tr>\n",
       "  </tbody>\n",
       "</table>\n",
       "<p>1347 rows × 12 columns</p>\n",
       "</div>"
      ],
      "text/plain": [
       "             Open   High    Low  Close    Volume  當日沖銷交易成交股數  當日沖銷交易買進成交金額  \\\n",
       "Date                                                                         \n",
       "2020-01-02   8.38   8.45   8.28   8.37  310216.0       52000        432520   \n",
       "2020-01-03   8.40   8.40   8.28   8.37  239000.0       22000        183680   \n",
       "2020-01-06   8.37   8.37   8.21   8.21  191975.0       22000        180900   \n",
       "2020-01-08   8.24   8.28   8.15   8.15   94000.0        9000         73560   \n",
       "2020-01-09   8.15   8.22   8.15   8.18  120076.0        3000         24450   \n",
       "...           ...    ...    ...    ...       ...         ...           ...   \n",
       "2025-08-28  15.25  15.35  15.25  15.25  137908.0        1000         15300   \n",
       "2025-08-29  15.30  15.45  15.30  15.35  337529.0        6000         92350   \n",
       "2025-09-01  15.40  15.40  15.25  15.35  333990.0        3000         45950   \n",
       "2025-09-02  15.35  15.35  15.30  15.30   75631.0        4000         61400   \n",
       "2025-09-04  15.40  15.45  15.30  15.40  308035.0        2000         30700   \n",
       "\n",
       "            當日沖銷交易賣出成交金額  當沖佔交易量比例  BiasNorm  o_c_spread  target  \n",
       "Date                                                              \n",
       "2020-01-02        436540  0.167625 -0.004626        0.01    0.03  \n",
       "2020-01-03        183890  0.092050 -0.000571        0.03    0.16  \n",
       "2020-01-06        182790  0.114598 -0.005197        0.16    0.09  \n",
       "2020-01-08         73620  0.095745 -0.000408        0.09   -0.03  \n",
       "2020-01-09         24660  0.024984 -0.004276       -0.03    0.11  \n",
       "...                  ...       ...       ...         ...     ...  \n",
       "2025-08-28         15250  0.007251  0.001637        0.00   -0.05  \n",
       "2025-08-29         92150  0.017776  0.001084       -0.05    0.05  \n",
       "2025-09-01         46050  0.008982 -0.001087        0.05    0.05  \n",
       "2025-09-02         61200  0.052888  0.001631        0.05    0.00  \n",
       "2025-09-04         30800  0.006493 -0.001626        0.00     NaN  \n",
       "\n",
       "[1347 rows x 12 columns]"
      ]
     },
     "execution_count": 18,
     "metadata": {},
     "output_type": "execute_result"
    }
   ],
   "source": [
    "file"
   ]
  },
  {
   "cell_type": "markdown",
   "id": "ad98a568",
   "metadata": {},
   "source": [
    "### 看資料傾向"
   ]
  },
  {
   "cell_type": "code",
   "execution_count": 25,
   "id": "ce2273f5",
   "metadata": {},
   "outputs": [],
   "source": [
    "\"\"\"concat 成 panel data\"\"\"\n",
    "\n",
    "files = glob(\"test_data/*.csv\")\n",
    "dfs = []\n",
    "for f in files:\n",
    "    stock_id = f.split(\"\\\\\")[-1].replace(\".csv\",\"\")\n",
    "    df = pd.read_csv(f, parse_dates = [\"Date\"])\n",
    "    df[\"stock\"] = stock_id\n",
    "    df[\"c_o_spread\"] = df[\"Close\"] - df[\"Open\"]         # 建立 Close - Open\n",
    "    df[\"c_o_spread_t+1\"] = df[\"c_o_spread\"].shift(-1)\n",
    "    dfs.append(df)\n",
    "\n",
    "df_all = pd.concat(dfs, ignore_index = True)\n",
    "df_all = df_all.sort_values([\"Date\",\"stock\"])\n",
    "df_all.dropna(inplace = True)\n",
    "\n",
    "# 把 'stock' 移到第二個位置\n",
    "cols = df_all.columns.tolist()\n",
    "cols.remove(\"stock\")\n",
    "cols.insert(1, \"stock\")\n",
    "df_all = df_all[cols]"
   ]
  },
  {
   "cell_type": "code",
   "execution_count": 42,
   "id": "ce8244eb",
   "metadata": {},
   "outputs": [],
   "source": [
    "\"\"\"畫圖 function\"\"\"\n",
    "\n",
    "def sorted_cumY_plot(df_all: pd.DataFrame, x: str, y: str):\n",
    "    # 排序 (由小到大)\n",
    "    df_all_sorted = df_all.sort_values(x).reset_index(drop = True)\n",
    "\n",
    "    # 累加 target\n",
    "    df_all_sorted[f\"cumulative_{y}\"] = df_all_sorted[y].cumsum()\n",
    "\n",
    "    # 畫圖\n",
    "    plt.figure(figsize = (16, 5))\n",
    "    plt.plot(df_all_sorted[x], df_all_sorted[f\"cumulative_{y}\"], label = f\"cum {y}\")\n",
    "    plt.xlabel(\"date trading ratio\")\n",
    "    plt.ylabel(\"cum target\")\n",
    "    plt.legend()\n",
    "    plt.grid(True)\n",
    "    plt.show()"
   ]
  },
  {
   "cell_type": "code",
   "execution_count": 43,
   "id": "3283f1c8",
   "metadata": {},
   "outputs": [
    {
     "data": {
      "image/png": "[encoded data removed]",
      "text/plain": [
       "<Figure size 1600x500 with 1 Axes>"
      ]
     },
     "metadata": {},
     "output_type": "display_data"
    }
   ],
   "source": [
    "sorted_cumY_plot(df_all, \"當沖佔交易量比例\", \"c_o_spread_t+1\")"
   ]
  },
  {
   "cell_type": "code",
   "execution_count": 44,
   "id": "22f21e20",
   "metadata": {},
   "outputs": [
    {
     "data": {
      "image/png": "[encoded data removed]",
      "text/plain": [
       "<Figure size 1600x500 with 1 Axes>"
      ]
     },
     "metadata": {},
     "output_type": "display_data"
    }
   ],
   "source": [
    "sorted_cumY_plot(df_all, \"BiasNorm\", \"c_o_spread_t+1\")"
   ]
  },
  {
   "cell_type": "markdown",
   "id": "6ca5a285",
   "metadata": {},
   "source": [
    "## regression"
   ]
  },
  {
   "cell_type": "markdown",
   "id": "b5ff5786",
   "metadata": {},
   "source": [
    "### macro"
   ]
  },
  {
   "cell_type": "code",
   "execution_count": null,
   "id": "aee932ec",
   "metadata": {},
   "outputs": [],
   "source": [
    "\"\"\"concat 成 panel data\"\"\"\n",
    "\n",
    "files = glob(\"test_data/*.csv\")\n",
    "dfs = []\n",
    "for f in files:\n",
    "    stock_id = f.split(\"\\\\\")[-1].replace(\".csv\",\"\")\n",
    "    df = pd.read_csv(f, parse_dates = [\"Date\"])\n",
    "    df[\"stock\"] = stock_id\n",
    "    df[\"c_o_spread\"] = df[\"Close\"] - df[\"Open\"]         # 建立 Close - Open\n",
    "    df[\"c_o_spread_t+1\"] = df[\"c_o_spread\"].shift(-1)\n",
    "    dfs.append(df)\n",
    "\n",
    "df_all = pd.concat(dfs, ignore_index = True)\n",
    "df_all = df_all.sort_values([\"Date\",\"stock\"])\n",
    "df_all.dropna(inplace = True)\n",
    "\n",
    "# 把 'stock' 移到第二個位置\n",
    "cols = df_all.columns.tolist()\n",
    "cols.remove(\"stock\")\n",
    "cols.insert(1, \"stock\")\n",
    "df_all = df_all[cols]"
   ]
  },
  {
   "cell_type": "code",
   "execution_count": 116,
   "id": "c8805512",
   "metadata": {},
   "outputs": [
    {
     "data": {
      "text/html": [
       "<div>\n",
       "<style scoped>\n",
       "    .dataframe tbody tr th:only-of-type {\n",
       "        vertical-align: middle;\n",
       "    }\n",
       "\n",
       "    .dataframe tbody tr th {\n",
       "        vertical-align: top;\n",
       "    }\n",
       "\n",
       "    .dataframe thead th {\n",
       "        text-align: right;\n",
       "    }\n",
       "</style>\n",
       "<table border=\"1\" class=\"dataframe\">\n",
       "  <thead>\n",
       "    <tr style=\"text-align: right;\">\n",
       "      <th></th>\n",
       "      <th>var</th>\n",
       "      <th>beta_bar</th>\n",
       "      <th>SE_NW</th>\n",
       "      <th>t_NW</th>\n",
       "      <th>T</th>\n",
       "    </tr>\n",
       "  </thead>\n",
       "  <tbody>\n",
       "    <tr>\n",
       "      <th>0</th>\n",
       "      <td>當沖佔交易量比例</td>\n",
       "      <td>-0.073933</td>\n",
       "      <td>0.049480</td>\n",
       "      <td>-1.494196</td>\n",
       "      <td>1379</td>\n",
       "    </tr>\n",
       "    <tr>\n",
       "      <th>1</th>\n",
       "      <td>BiasNorm</td>\n",
       "      <td>-6.838958</td>\n",
       "      <td>2.686327</td>\n",
       "      <td>-2.545839</td>\n",
       "      <td>1379</td>\n",
       "    </tr>\n",
       "  </tbody>\n",
       "</table>\n",
       "</div>"
      ],
      "text/plain": [
       "        var  beta_bar     SE_NW      t_NW     T\n",
       "0  當沖佔交易量比例 -0.073933  0.049480 -1.494196  1379\n",
       "1  BiasNorm -6.838958  2.686327 -2.545839  1379"
      ]
     },
     "execution_count": 116,
     "metadata": {},
     "output_type": "execute_result"
    }
   ],
   "source": [
    "\"\"\"fama macbeth regression\"\"\"\n",
    "\n",
    "# cross sectional regression\n",
    "rows = []\n",
    "dates = []\n",
    "\n",
    "vars_ = [\"當沖佔交易量比例\", \"BiasNorm\"]\n",
    "\n",
    "for dt, g in df_all.groupby(\"Date\"):\n",
    "    Y = g[\"c_o_spread_t+1\"]\n",
    "    X = g[vars_]\n",
    "    X = sm.add_constant(X)\n",
    "\n",
    "    # 確保樣本不會太少\n",
    "    if len(g) > X.shape[1] + 3:\n",
    "        res = sm.OLS(Y, X).fit()\n",
    "        rows.append(res.params.reindex(vars_).astype(float))\n",
    "        dates.append(dt)\n",
    "\n",
    "betas_df = pd.DataFrame(rows, index=pd.Index(dates, name=\"Date\")).sort_index()\n",
    "\n",
    "# time series average\n",
    "out = []\n",
    "T = betas_df.shape[0]\n",
    "X_time = sm.add_constant(np.ones(T))\n",
    "\n",
    "# statistic\n",
    "for col in betas_df.columns:\n",
    "    series_t = betas_df[col].dropna()\n",
    "    # 平均β\n",
    "    beta_bar = series_t.mean()\n",
    "    # NW-SE\n",
    "    res_time = sm.OLS(series_t.values, X_time[:len(series_t)]).fit()\n",
    "    cov = cov_hac(res_time)\n",
    "    se_nw = np.sqrt(cov[0, 0])\n",
    "    t_nw = beta_bar / se_nw\n",
    "    out.append((col, beta_bar, se_nw, t_nw, len(series_t)))\n",
    "\n",
    "res_table = pd.DataFrame(out, columns = [\"var\",\"beta_bar\",\"SE_NW\",\"t_NW\",\"T\"])\n",
    "res_table"
   ]
  },
  {
   "cell_type": "code",
   "execution_count": null,
   "id": "0f5d44a9",
   "metadata": {},
   "outputs": [],
   "source": [
    "X = file[[\"當沖佔交易量比例\", \"BiasNorm\", \"當日沖銷交易賣出成交金額\"]]\n",
    "X = sm.add_constant(X)\n",
    "y = file[\"o_c_spread\"].values\n",
    "\n",
    "reg = sm.OLS(y, X, missing = \"drop\").fit()\n",
    "\n",
    "# VIF\n",
    "vif = pd.DataFrame()\n",
    "vif[\"variable\"] = X.columns\n",
    "vif[\"VIF\"] = [variance_inflation_factor(X.values, i) for i in range(X.shape[1])]"
   ]
  },
  {
   "cell_type": "code",
   "execution_count": 9,
   "id": "62f3245e",
   "metadata": {},
   "outputs": [
    {
     "data": {
      "text/html": [
       "<div>\n",
       "<style scoped>\n",
       "    .dataframe tbody tr th:only-of-type {\n",
       "        vertical-align: middle;\n",
       "    }\n",
       "\n",
       "    .dataframe tbody tr th {\n",
       "        vertical-align: top;\n",
       "    }\n",
       "\n",
       "    .dataframe thead th {\n",
       "        text-align: right;\n",
       "    }\n",
       "</style>\n",
       "<table border=\"1\" class=\"dataframe\">\n",
       "  <thead>\n",
       "    <tr style=\"text-align: right;\">\n",
       "      <th></th>\n",
       "      <th>variable</th>\n",
       "      <th>VIF</th>\n",
       "    </tr>\n",
       "  </thead>\n",
       "  <tbody>\n",
       "    <tr>\n",
       "      <th>0</th>\n",
       "      <td>const</td>\n",
       "      <td>2.882881</td>\n",
       "    </tr>\n",
       "    <tr>\n",
       "      <th>1</th>\n",
       "      <td>當沖佔交易量比例</td>\n",
       "      <td>1.264467</td>\n",
       "    </tr>\n",
       "    <tr>\n",
       "      <th>2</th>\n",
       "      <td>BiasNorm</td>\n",
       "      <td>1.015175</td>\n",
       "    </tr>\n",
       "    <tr>\n",
       "      <th>3</th>\n",
       "      <td>當日沖銷交易賣出成交金額</td>\n",
       "      <td>1.265735</td>\n",
       "    </tr>\n",
       "  </tbody>\n",
       "</table>\n",
       "</div>"
      ],
      "text/plain": [
       "       variable       VIF\n",
       "0         const  2.882881\n",
       "1      當沖佔交易量比例  1.264467\n",
       "2      BiasNorm  1.015175\n",
       "3  當日沖銷交易賣出成交金額  1.265735"
      ]
     },
     "execution_count": 9,
     "metadata": {},
     "output_type": "execute_result"
    }
   ],
   "source": [
    "vif"
   ]
  },
  {
   "cell_type": "code",
   "execution_count": 10,
   "id": "d86464b2",
   "metadata": {},
   "outputs": [
    {
     "name": "stdout",
     "output_type": "stream",
     "text": [
      "                            OLS Regression Results                            \n",
      "==============================================================================\n",
      "Dep. Variable:                      y   R-squared:                       0.137\n",
      "Model:                            OLS   Adj. R-squared:                  0.135\n",
      "Method:                 Least Squares   F-statistic:                     70.93\n",
      "Date:                Sat, 06 Sep 2025   Prob (F-statistic):           1.40e-42\n",
      "Time:                        19:59:25   Log-Likelihood:                 236.94\n",
      "No. Observations:                1347   AIC:                            -465.9\n",
      "Df Residuals:                    1343   BIC:                            -445.1\n",
      "Df Model:                           3                                         \n",
      "Covariance Type:            nonrobust                                         \n",
      "================================================================================\n",
      "                   coef    std err          t      P>|t|      [0.025      0.975]\n",
      "--------------------------------------------------------------------------------\n",
      "const            0.0542      0.009      5.761      0.000       0.036       0.073\n",
      "當沖佔交易量比例         0.0263      0.055      0.478      0.633      -0.082       0.134\n",
      "BiasNorm        27.6785      2.325     11.906      0.000      23.118      32.239\n",
      "當日沖銷交易賣出成交金額 -2.458e-09   3.74e-10     -6.569      0.000   -3.19e-09   -1.72e-09\n",
      "==============================================================================\n",
      "Omnibus:                      847.032   Durbin-Watson:                   1.999\n",
      "Prob(Omnibus):                  0.000   Jarque-Bera (JB):            33218.245\n",
      "Skew:                           2.324   Prob(JB):                         0.00\n",
      "Kurtosis:                      26.880   Cond. No.                     7.19e+09\n",
      "==============================================================================\n",
      "\n",
      "Notes:\n",
      "[1] Standard Errors assume that the covariance matrix of the errors is correctly specified.\n",
      "[2] The condition number is large, 7.19e+09. This might indicate that there are\n",
      "strong multicollinearity or other numerical problems.\n"
     ]
    }
   ],
   "source": [
    "print(reg.summary())"
   ]
  },
  {
   "cell_type": "markdown",
   "id": "1734457a",
   "metadata": {},
   "source": [
    "### industry"
   ]
  },
  {
   "cell_type": "code",
   "execution_count": 53,
   "id": "91b2399d",
   "metadata": {},
   "outputs": [
    {
     "name": "stderr",
     "output_type": "stream",
     "text": [
      "c:\\Users\\ownme\\anaconda3\\envs\\quant\\Lib\\site-packages\\urllib3\\connectionpool.py:1097: InsecureRequestWarning: Unverified HTTPS request is being made to host 'openapi.twse.com.tw'. Adding certificate verification is strongly advised. See: https://urllib3.readthedocs.io/en/latest/advanced-usage.html#tls-warnings\n",
      "  warnings.warn(\n"
     ]
    },
    {
     "ename": "KeyError",
     "evalue": "'市值(百萬元)'",
     "output_type": "error",
     "traceback": [
      "\u001b[31m---------------------------------------------------------------------------\u001b[39m",
      "\u001b[31mKeyError\u001b[39m                                  Traceback (most recent call last)",
      "\u001b[36mFile \u001b[39m\u001b[32mc:\\Users\\ownme\\anaconda3\\envs\\quant\\Lib\\site-packages\\pandas\\core\\indexes\\base.py:3812\u001b[39m, in \u001b[36mIndex.get_loc\u001b[39m\u001b[34m(self, key)\u001b[39m\n\u001b[32m   3811\u001b[39m \u001b[38;5;28;01mtry\u001b[39;00m:\n\u001b[32m-> \u001b[39m\u001b[32m3812\u001b[39m     \u001b[38;5;28;01mreturn\u001b[39;00m \u001b[38;5;28;43mself\u001b[39;49m\u001b[43m.\u001b[49m\u001b[43m_engine\u001b[49m\u001b[43m.\u001b[49m\u001b[43mget_loc\u001b[49m\u001b[43m(\u001b[49m\u001b[43mcasted_key\u001b[49m\u001b[43m)\u001b[49m\n\u001b[32m   3813\u001b[39m \u001b[38;5;28;01mexcept\u001b[39;00m \u001b[38;5;167;01mKeyError\u001b[39;00m \u001b[38;5;28;01mas\u001b[39;00m err:\n",
      "\u001b[36mFile \u001b[39m\u001b[32mpandas/_libs/index.pyx:167\u001b[39m, in \u001b[36mpandas._libs.index.IndexEngine.get_loc\u001b[39m\u001b[34m()\u001b[39m\n",
      "\u001b[36mFile \u001b[39m\u001b[32mpandas/_libs/index.pyx:196\u001b[39m, in \u001b[36mpandas._libs.index.IndexEngine.get_loc\u001b[39m\u001b[34m()\u001b[39m\n",
      "\u001b[36mFile \u001b[39m\u001b[32mpandas/_libs/hashtable_class_helper.pxi:7088\u001b[39m, in \u001b[36mpandas._libs.hashtable.PyObjectHashTable.get_item\u001b[39m\u001b[34m()\u001b[39m\n",
      "\u001b[36mFile \u001b[39m\u001b[32mpandas/_libs/hashtable_class_helper.pxi:7096\u001b[39m, in \u001b[36mpandas._libs.hashtable.PyObjectHashTable.get_item\u001b[39m\u001b[34m()\u001b[39m\n",
      "\u001b[31mKeyError\u001b[39m: '市值(百萬元)'",
      "\nThe above exception was the direct cause of the following exception:\n",
      "\u001b[31mKeyError\u001b[39m                                  Traceback (most recent call last)",
      "\u001b[36mCell\u001b[39m\u001b[36m \u001b[39m\u001b[32mIn[53]\u001b[39m\u001b[32m, line 9\u001b[39m\n\u001b[32m      6\u001b[39m data = requests.get(url, timeout=\u001b[32m30\u001b[39m, verify = \u001b[38;5;28;01mFalse\u001b[39;00m).json()\n\u001b[32m      8\u001b[39m df = pd.DataFrame(data)\n\u001b[32m----> \u001b[39m\u001b[32m9\u001b[39m df[\u001b[33m\"\u001b[39m\u001b[33m市值(元)\u001b[39m\u001b[33m\"\u001b[39m] = pd.to_numeric(\u001b[43mdf\u001b[49m\u001b[43m[\u001b[49m\u001b[33;43m\"\u001b[39;49m\u001b[33;43m市值(百萬元)\u001b[39;49m\u001b[33;43m\"\u001b[39;49m\u001b[43m]\u001b[49m, errors=\u001b[33m\"\u001b[39m\u001b[33mcoerce\u001b[39m\u001b[33m\"\u001b[39m) * \u001b[32m1_000_000\u001b[39m\n\u001b[32m     11\u001b[39m \u001b[38;5;28mprint\u001b[39m(df[[\u001b[33m\"\u001b[39m\u001b[33m日期\u001b[39m\u001b[33m\"\u001b[39m, \u001b[33m\"\u001b[39m\u001b[33m證券代號\u001b[39m\u001b[33m\"\u001b[39m, \u001b[33m\"\u001b[39m\u001b[33m證券名稱\u001b[39m\u001b[33m\"\u001b[39m, \u001b[33m\"\u001b[39m\u001b[33m市值(元)\u001b[39m\u001b[33m\"\u001b[39m]])\n",
      "\u001b[36mFile \u001b[39m\u001b[32mc:\\Users\\ownme\\anaconda3\\envs\\quant\\Lib\\site-packages\\pandas\\core\\frame.py:4107\u001b[39m, in \u001b[36mDataFrame.__getitem__\u001b[39m\u001b[34m(self, key)\u001b[39m\n\u001b[32m   4105\u001b[39m \u001b[38;5;28;01mif\u001b[39;00m \u001b[38;5;28mself\u001b[39m.columns.nlevels > \u001b[32m1\u001b[39m:\n\u001b[32m   4106\u001b[39m     \u001b[38;5;28;01mreturn\u001b[39;00m \u001b[38;5;28mself\u001b[39m._getitem_multilevel(key)\n\u001b[32m-> \u001b[39m\u001b[32m4107\u001b[39m indexer = \u001b[38;5;28;43mself\u001b[39;49m\u001b[43m.\u001b[49m\u001b[43mcolumns\u001b[49m\u001b[43m.\u001b[49m\u001b[43mget_loc\u001b[49m\u001b[43m(\u001b[49m\u001b[43mkey\u001b[49m\u001b[43m)\u001b[49m\n\u001b[32m   4108\u001b[39m \u001b[38;5;28;01mif\u001b[39;00m is_integer(indexer):\n\u001b[32m   4109\u001b[39m     indexer = [indexer]\n",
      "\u001b[36mFile \u001b[39m\u001b[32mc:\\Users\\ownme\\anaconda3\\envs\\quant\\Lib\\site-packages\\pandas\\core\\indexes\\base.py:3819\u001b[39m, in \u001b[36mIndex.get_loc\u001b[39m\u001b[34m(self, key)\u001b[39m\n\u001b[32m   3814\u001b[39m     \u001b[38;5;28;01mif\u001b[39;00m \u001b[38;5;28misinstance\u001b[39m(casted_key, \u001b[38;5;28mslice\u001b[39m) \u001b[38;5;129;01mor\u001b[39;00m (\n\u001b[32m   3815\u001b[39m         \u001b[38;5;28misinstance\u001b[39m(casted_key, abc.Iterable)\n\u001b[32m   3816\u001b[39m         \u001b[38;5;129;01mand\u001b[39;00m \u001b[38;5;28many\u001b[39m(\u001b[38;5;28misinstance\u001b[39m(x, \u001b[38;5;28mslice\u001b[39m) \u001b[38;5;28;01mfor\u001b[39;00m x \u001b[38;5;129;01min\u001b[39;00m casted_key)\n\u001b[32m   3817\u001b[39m     ):\n\u001b[32m   3818\u001b[39m         \u001b[38;5;28;01mraise\u001b[39;00m InvalidIndexError(key)\n\u001b[32m-> \u001b[39m\u001b[32m3819\u001b[39m     \u001b[38;5;28;01mraise\u001b[39;00m \u001b[38;5;167;01mKeyError\u001b[39;00m(key) \u001b[38;5;28;01mfrom\u001b[39;00m\u001b[38;5;250m \u001b[39m\u001b[34;01merr\u001b[39;00m\n\u001b[32m   3820\u001b[39m \u001b[38;5;28;01mexcept\u001b[39;00m \u001b[38;5;167;01mTypeError\u001b[39;00m:\n\u001b[32m   3821\u001b[39m     \u001b[38;5;66;03m# If we have a listlike key, _check_indexing_error will raise\u001b[39;00m\n\u001b[32m   3822\u001b[39m     \u001b[38;5;66;03m#  InvalidIndexError. Otherwise we fall through and re-raise\u001b[39;00m\n\u001b[32m   3823\u001b[39m     \u001b[38;5;66;03m#  the TypeError.\u001b[39;00m\n\u001b[32m   3824\u001b[39m     \u001b[38;5;28mself\u001b[39m._check_indexing_error(key)\n",
      "\u001b[31mKeyError\u001b[39m: '市值(百萬元)'"
     ]
    }
   ],
   "source": [
    "import requests\n",
    "import pandas as pd\n",
    "\n",
    "stock = \"2330\"  # 台積電\n",
    "url = f\"https://openapi.twse.com.tw/v1/exchangeReport/BWIBBU_d?stockNo={stock}\"\n",
    "data = requests.get(url, timeout=30, verify = False).json()\n",
    "\n",
    "df = pd.DataFrame(data)\n",
    "df[\"市值(元)\"] = pd.to_numeric(df[\"市值(百萬元)\"], errors=\"coerce\") * 1_000_000\n",
    "\n",
    "print(df[[\"日期\", \"證券代號\", \"證券名稱\", \"市值(元)\"]])\n"
   ]
  },
  {
   "cell_type": "markdown",
   "id": "438cc72b",
   "metadata": {},
   "source": [
    "## random forest"
   ]
  },
  {
   "cell_type": "code",
   "execution_count": 20,
   "id": "14730e87",
   "metadata": {},
   "outputs": [],
   "source": [
    "from sklearn.model_selection import train_test_split\n",
    "from sklearn.ensemble import RandomForestRegressor, RandomForestClassifier\n",
    "from sklearn.model_selection import TimeSeriesSplit\n",
    "from sklearn.metrics import accuracy_score, precision_recall_fscore_support, roc_auc_score, confusion_matrix, classification_report\n",
    "from sklearn.metrics import mean_squared_error, r2_score"
   ]
  },
  {
   "cell_type": "markdown",
   "id": "a6b66142",
   "metadata": {},
   "source": [
    "### naive random forest"
   ]
  },
  {
   "cell_type": "code",
   "execution_count": 16,
   "id": "05edaf12",
   "metadata": {},
   "outputs": [
    {
     "name": "stdout",
     "output_type": "stream",
     "text": [
      "Accuracy: 0.578 | Precision: 0.546 | Recall: 0.476 | F1: 0.509 | ROC-AUC: 0.561\n",
      "Confusion matrix:\n",
      " [[97 49]\n",
      " [65 59]]\n"
     ]
    },
    {
     "data": {
      "text/html": [
       "<div>\n",
       "<style scoped>\n",
       "    .dataframe tbody tr th:only-of-type {\n",
       "        vertical-align: middle;\n",
       "    }\n",
       "\n",
       "    .dataframe tbody tr th {\n",
       "        vertical-align: top;\n",
       "    }\n",
       "\n",
       "    .dataframe thead th {\n",
       "        text-align: right;\n",
       "    }\n",
       "</style>\n",
       "<table border=\"1\" class=\"dataframe\">\n",
       "  <thead>\n",
       "    <tr style=\"text-align: right;\">\n",
       "      <th></th>\n",
       "      <th>Feature</th>\n",
       "      <th>Importance</th>\n",
       "    </tr>\n",
       "  </thead>\n",
       "  <tbody>\n",
       "    <tr>\n",
       "      <th>2</th>\n",
       "      <td>BiasNorm</td>\n",
       "      <td>0.336074</td>\n",
       "    </tr>\n",
       "    <tr>\n",
       "      <th>0</th>\n",
       "      <td>當日沖銷交易賣出成交金額</td>\n",
       "      <td>0.335098</td>\n",
       "    </tr>\n",
       "    <tr>\n",
       "      <th>1</th>\n",
       "      <td>當沖佔交易量比例</td>\n",
       "      <td>0.328828</td>\n",
       "    </tr>\n",
       "  </tbody>\n",
       "</table>\n",
       "</div>"
      ],
      "text/plain": [
       "        Feature  Importance\n",
       "2      BiasNorm    0.336074\n",
       "0  當日沖銷交易賣出成交金額    0.335098\n",
       "1      當沖佔交易量比例    0.328828"
      ]
     },
     "execution_count": 16,
     "metadata": {},
     "output_type": "execute_result"
    }
   ],
   "source": [
    "\"\"\"預測方向\"\"\"\n",
    "\n",
    "file[\"target\"] = file[\"o_c_spread\"].shift(-1)\n",
    "\n",
    "data = file.dropna()\n",
    "\n",
    "X = data[[\"當日沖銷交易賣出成交金額\", \"當沖佔交易量比例\", \"BiasNorm\"]]\n",
    "y = (data[\"target\"] > 0).astype(int)\n",
    "\n",
    "# 切資料\n",
    "split_point = int(len(X) * 0.8)\n",
    "X_train, X_test = X.iloc[: split_point], X.iloc[split_point: ]\n",
    "y_train, y_test = y.iloc[: split_point], y.iloc[split_point: ]\n",
    "\n",
    "rf = RandomForestClassifier(\n",
    "    n_estimators = 300,     # 樹的數量\n",
    "    max_depth = None,       # 不限制深度\n",
    "    class_weight = \"balanced_subsample\",\n",
    "    n_jobs = -1\n",
    ")\n",
    "rf.fit(X_train, y_train)\n",
    "\n",
    "y_pred = rf.predict(X_test)\n",
    "y_proba = rf.predict_proba(X_test)[:,1]\n",
    "\n",
    "# metrics\n",
    "acc = accuracy_score(y_test, y_pred)\n",
    "prec, rec, f1, _ = precision_recall_fscore_support(y_test, y_pred, average = \"binary\", zero_division = 0)\n",
    "auc = roc_auc_score(y_test, y_proba)\n",
    "cm = confusion_matrix(y_test, y_pred)\n",
    "\n",
    "print(f\"Accuracy: {acc:.3f} | Precision: {prec:.3f} | Recall: {rec:.3f} | F1: {f1:.3f} | ROC-AUC: {auc:.3f}\")\n",
    "print(\"Confusion matrix:\\n\", cm)\n",
    "\n",
    "# feature 重要性\n",
    "imp = pd.DataFrame({\"Feature\": X.columns, \"Importance\": rf.feature_importances_})\\\n",
    "        .sort_values(\"Importance\", ascending=False)\n",
    "\n",
    "imp"
   ]
  },
  {
   "cell_type": "markdown",
   "id": "60ec30b5",
   "metadata": {},
   "source": [
    "### target encoding random forest"
   ]
  },
  {
   "cell_type": "code",
   "execution_count": 17,
   "id": "76d7828e",
   "metadata": {},
   "outputs": [],
   "source": [
    "def target_encode_timeseries(train: pd.DataFrame, valid: pd.DataFrame, col: str, target: str) -> pd.Series:\n",
    "    \"\"\"\n",
    "    train: 訓練集 (只用過去資料)\n",
    "    valid: 驗證集 (未來資料)\n",
    "    col:   要做 target encoding 的欄位 (例如 'Industry')\n",
    "    target: 標籤欄位 (例如 'target')\n",
    "    \"\"\"\n",
    "    # get mean of train data\n",
    "    mapping = train.groupby(col)[target].mean()\n",
    "\n",
    "    # encode valid data by mean of train\n",
    "    valid_encoded = valid[col].map(mapping)\n",
    "\n",
    "    return valid_encoded"
   ]
  },
  {
   "cell_type": "code",
   "execution_count": 21,
   "id": "a781c944",
   "metadata": {},
   "outputs": [
    {
     "ename": "KeyError",
     "evalue": "\"['Industry'] not in index\"",
     "output_type": "error",
     "traceback": [
      "\u001b[31m---------------------------------------------------------------------------\u001b[39m",
      "\u001b[31mKeyError\u001b[39m                                  Traceback (most recent call last)",
      "\u001b[36mCell\u001b[39m\u001b[36m \u001b[39m\u001b[32mIn[21]\u001b[39m\u001b[32m, line 2\u001b[39m\n\u001b[32m      1\u001b[39m tscv = TimeSeriesSplit(n_splits = \u001b[32m5\u001b[39m)\n\u001b[32m----> \u001b[39m\u001b[32m2\u001b[39m X = \u001b[43mdata\u001b[49m\u001b[43m[\u001b[49m\u001b[43m[\u001b[49m\u001b[33;43m\"\u001b[39;49m\u001b[33;43mIndustry\u001b[39;49m\u001b[33;43m\"\u001b[39;49m\u001b[43m,\u001b[49m\u001b[43m \u001b[49m\u001b[33;43m\"\u001b[39;49m\u001b[33;43m當沖佔交易量比例\u001b[39;49m\u001b[33;43m\"\u001b[39;49m\u001b[43m]\u001b[49m\u001b[43m]\u001b[49m.copy()\n",
      "\u001b[36mFile \u001b[39m\u001b[32mc:\\Users\\ownme\\anaconda3\\envs\\quant\\Lib\\site-packages\\pandas\\core\\frame.py:4113\u001b[39m, in \u001b[36mDataFrame.__getitem__\u001b[39m\u001b[34m(self, key)\u001b[39m\n\u001b[32m   4111\u001b[39m     \u001b[38;5;28;01mif\u001b[39;00m is_iterator(key):\n\u001b[32m   4112\u001b[39m         key = \u001b[38;5;28mlist\u001b[39m(key)\n\u001b[32m-> \u001b[39m\u001b[32m4113\u001b[39m     indexer = \u001b[38;5;28;43mself\u001b[39;49m\u001b[43m.\u001b[49m\u001b[43mcolumns\u001b[49m\u001b[43m.\u001b[49m\u001b[43m_get_indexer_strict\u001b[49m\u001b[43m(\u001b[49m\u001b[43mkey\u001b[49m\u001b[43m,\u001b[49m\u001b[43m \u001b[49m\u001b[33;43m\"\u001b[39;49m\u001b[33;43mcolumns\u001b[39;49m\u001b[33;43m\"\u001b[39;49m\u001b[43m)\u001b[49m[\u001b[32m1\u001b[39m]\n\u001b[32m   4115\u001b[39m \u001b[38;5;66;03m# take() does not accept boolean indexers\u001b[39;00m\n\u001b[32m   4116\u001b[39m \u001b[38;5;28;01mif\u001b[39;00m \u001b[38;5;28mgetattr\u001b[39m(indexer, \u001b[33m\"\u001b[39m\u001b[33mdtype\u001b[39m\u001b[33m\"\u001b[39m, \u001b[38;5;28;01mNone\u001b[39;00m) == \u001b[38;5;28mbool\u001b[39m:\n",
      "\u001b[36mFile \u001b[39m\u001b[32mc:\\Users\\ownme\\anaconda3\\envs\\quant\\Lib\\site-packages\\pandas\\core\\indexes\\base.py:6212\u001b[39m, in \u001b[36mIndex._get_indexer_strict\u001b[39m\u001b[34m(self, key, axis_name)\u001b[39m\n\u001b[32m   6209\u001b[39m \u001b[38;5;28;01melse\u001b[39;00m:\n\u001b[32m   6210\u001b[39m     keyarr, indexer, new_indexer = \u001b[38;5;28mself\u001b[39m._reindex_non_unique(keyarr)\n\u001b[32m-> \u001b[39m\u001b[32m6212\u001b[39m \u001b[38;5;28;43mself\u001b[39;49m\u001b[43m.\u001b[49m\u001b[43m_raise_if_missing\u001b[49m\u001b[43m(\u001b[49m\u001b[43mkeyarr\u001b[49m\u001b[43m,\u001b[49m\u001b[43m \u001b[49m\u001b[43mindexer\u001b[49m\u001b[43m,\u001b[49m\u001b[43m \u001b[49m\u001b[43maxis_name\u001b[49m\u001b[43m)\u001b[49m\n\u001b[32m   6214\u001b[39m keyarr = \u001b[38;5;28mself\u001b[39m.take(indexer)\n\u001b[32m   6215\u001b[39m \u001b[38;5;28;01mif\u001b[39;00m \u001b[38;5;28misinstance\u001b[39m(key, Index):\n\u001b[32m   6216\u001b[39m     \u001b[38;5;66;03m# GH 42790 - Preserve name from an Index\u001b[39;00m\n",
      "\u001b[36mFile \u001b[39m\u001b[32mc:\\Users\\ownme\\anaconda3\\envs\\quant\\Lib\\site-packages\\pandas\\core\\indexes\\base.py:6264\u001b[39m, in \u001b[36mIndex._raise_if_missing\u001b[39m\u001b[34m(self, key, indexer, axis_name)\u001b[39m\n\u001b[32m   6261\u001b[39m     \u001b[38;5;28;01mraise\u001b[39;00m \u001b[38;5;167;01mKeyError\u001b[39;00m(\u001b[33mf\u001b[39m\u001b[33m\"\u001b[39m\u001b[33mNone of [\u001b[39m\u001b[38;5;132;01m{\u001b[39;00mkey\u001b[38;5;132;01m}\u001b[39;00m\u001b[33m] are in the [\u001b[39m\u001b[38;5;132;01m{\u001b[39;00maxis_name\u001b[38;5;132;01m}\u001b[39;00m\u001b[33m]\u001b[39m\u001b[33m\"\u001b[39m)\n\u001b[32m   6263\u001b[39m not_found = \u001b[38;5;28mlist\u001b[39m(ensure_index(key)[missing_mask.nonzero()[\u001b[32m0\u001b[39m]].unique())\n\u001b[32m-> \u001b[39m\u001b[32m6264\u001b[39m \u001b[38;5;28;01mraise\u001b[39;00m \u001b[38;5;167;01mKeyError\u001b[39;00m(\u001b[33mf\u001b[39m\u001b[33m\"\u001b[39m\u001b[38;5;132;01m{\u001b[39;00mnot_found\u001b[38;5;132;01m}\u001b[39;00m\u001b[33m not in index\u001b[39m\u001b[33m\"\u001b[39m)\n",
      "\u001b[31mKeyError\u001b[39m: \"['Industry'] not in index\""
     ]
    }
   ],
   "source": [
    "tscv = TimeSeriesSplit(n_splits = 5)\n",
    "X = data[[\"Industry\", \"當沖佔交易量比例\"]].copy()"
   ]
  }
 ],
 "metadata": {
  "kernelspec": {
   "display_name": "day_trading",
   "language": "python",
   "name": "python3"
  },
  "language_info": {
   "codemirror_mode": {
    "name": "ipython",
    "version": 3
   },
   "file_extension": ".py",
   "mimetype": "text/x-python",
   "name": "python",
   "nbconvert_exporter": "python",
   "pygments_lexer": "ipython3",
   "version": "3.13.5"
  }
 },
 "nbformat": 4,
 "nbformat_minor": 5
}
