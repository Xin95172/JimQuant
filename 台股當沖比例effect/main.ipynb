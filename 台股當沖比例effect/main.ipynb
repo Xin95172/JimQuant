{
 "cells": [
  {
   "cell_type": "code",
   "execution_count": 1,
   "id": "cc04e5e0",
   "metadata": {},
   "outputs": [],
   "source": [
    "%load_ext autoreload\n",
    "%autoreload 2\n",
    "import sys\n",
    "sys.path.append(\"D:/Github\")\n",
    "from note.get_info_TWSE import GetInfoTWSE\n",
    "import pandas as pd\n",
    "from tqdm import tqdm\n",
    "from pprint import pprint"
   ]
  },
  {
   "cell_type": "code",
   "execution_count": 2,
   "id": "4aa53f6a",
   "metadata": {},
   "outputs": [],
   "source": [
    "list = pd.read_csv(\"stock_id_list.csv\")\n",
    "list = list[\"Code\"].to_list()"
   ]
  },
  {
   "cell_type": "code",
   "execution_count": null,
   "id": "2671b696",
   "metadata": {},
   "outputs": [
    {
     "name": "stderr",
     "output_type": "stream",
     "text": [
      "  1%|          | 13/1066 [44:11<57:27:37, 196.45s/it]D:\\Github\\note\\get_info_TWSE.py:184: FutureWarning: The behavior of DataFrame concatenation with empty or all-NA entries is deprecated. In a future version, this will no longer exclude empty or all-NA columns when determining the result dtypes. To retain the old behavior, exclude the relevant entries before the concat operation.\n",
      "  px = pd.concat(all_data, ignore_index = True)\n",
      "  2%|▏         | 18/1066 [59:51<55:33:22, 190.84s/it]D:\\Github\\note\\get_info_TWSE.py:184: FutureWarning: The behavior of DataFrame concatenation with empty or all-NA entries is deprecated. In a future version, this will no longer exclude empty or all-NA columns when determining the result dtypes. To retain the old behavior, exclude the relevant entries before the concat operation.\n",
      "  px = pd.concat(all_data, ignore_index = True)\n",
      "  2%|▏         | 19/1066 [1:02:54<54:52:13, 188.67s/it]D:\\Github\\note\\get_info_TWSE.py:184: FutureWarning: The behavior of DataFrame concatenation with empty or all-NA entries is deprecated. In a future version, this will no longer exclude empty or all-NA columns when determining the result dtypes. To retain the old behavior, exclude the relevant entries before the concat operation.\n",
      "  px = pd.concat(all_data, ignore_index = True)\n",
      "  2%|▏         | 20/1066 [1:06:17<56:02:19, 192.87s/it]D:\\Github\\note\\get_info_TWSE.py:184: FutureWarning: The behavior of DataFrame concatenation with empty or all-NA entries is deprecated. In a future version, this will no longer exclude empty or all-NA columns when determining the result dtypes. To retain the old behavior, exclude the relevant entries before the concat operation.\n",
      "  px = pd.concat(all_data, ignore_index = True)\n",
      "  2%|▏         | 23/1066 [1:16:05<56:16:07, 194.22s/it]D:\\Github\\note\\get_info_TWSE.py:184: FutureWarning: The behavior of DataFrame concatenation with empty or all-NA entries is deprecated. In a future version, this will no longer exclude empty or all-NA columns when determining the result dtypes. To retain the old behavior, exclude the relevant entries before the concat operation.\n",
      "  px = pd.concat(all_data, ignore_index = True)\n",
      "  2%|▏         | 24/1066 [1:19:43<58:17:31, 201.39s/it]D:\\Github\\note\\get_info_TWSE.py:184: FutureWarning: The behavior of DataFrame concatenation with empty or all-NA entries is deprecated. In a future version, this will no longer exclude empty or all-NA columns when determining the result dtypes. To retain the old behavior, exclude the relevant entries before the concat operation.\n",
      "  px = pd.concat(all_data, ignore_index = True)\n",
      "  5%|▍         | 53/1066 [2:58:39<53:25:31, 189.86s/it]D:\\Github\\note\\get_info_TWSE.py:184: FutureWarning: The behavior of DataFrame concatenation with empty or all-NA entries is deprecated. In a future version, this will no longer exclude empty or all-NA columns when determining the result dtypes. To retain the old behavior, exclude the relevant entries before the concat operation.\n",
      "  px = pd.concat(all_data, ignore_index = True)\n",
      "  5%|▌         | 58/1066 [3:14:06<52:54:06, 188.93s/it]D:\\Github\\note\\get_info_TWSE.py:184: FutureWarning: The behavior of DataFrame concatenation with empty or all-NA entries is deprecated. In a future version, this will no longer exclude empty or all-NA columns when determining the result dtypes. To retain the old behavior, exclude the relevant entries before the concat operation.\n",
      "  px = pd.concat(all_data, ignore_index = True)\n",
      "  6%|▌         | 66/1066 [3:39:33<53:44:36, 193.48s/it]D:\\Github\\note\\get_info_TWSE.py:184: FutureWarning: The behavior of DataFrame concatenation with empty or all-NA entries is deprecated. In a future version, this will no longer exclude empty or all-NA columns when determining the result dtypes. To retain the old behavior, exclude the relevant entries before the concat operation.\n",
      "  px = pd.concat(all_data, ignore_index = True)\n",
      "  9%|▉         | 101/1066 [5:29:06<50:04:55, 186.84s/it]D:\\Github\\note\\get_info_TWSE.py:184: FutureWarning: The behavior of DataFrame concatenation with empty or all-NA entries is deprecated. In a future version, this will no longer exclude empty or all-NA columns when determining the result dtypes. To retain the old behavior, exclude the relevant entries before the concat operation.\n",
      "  px = pd.concat(all_data, ignore_index = True)\n",
      " 11%|█         | 115/1066 [6:13:38<50:45:25, 192.14s/it]D:\\Github\\note\\get_info_TWSE.py:184: FutureWarning: The behavior of DataFrame concatenation with empty or all-NA entries is deprecated. In a future version, this will no longer exclude empty or all-NA columns when determining the result dtypes. To retain the old behavior, exclude the relevant entries before the concat operation.\n",
      "  px = pd.concat(all_data, ignore_index = True)\n",
      " 13%|█▎        | 135/1066 [7:17:10<51:41:08, 199.86s/it]D:\\Github\\note\\get_info_TWSE.py:184: FutureWarning: The behavior of DataFrame concatenation with empty or all-NA entries is deprecated. In a future version, this will no longer exclude empty or all-NA columns when determining the result dtypes. To retain the old behavior, exclude the relevant entries before the concat operation.\n",
      "  px = pd.concat(all_data, ignore_index = True)\n",
      " 21%|██        | 220/1066 [11:52:57<44:20:26, 188.68s/it]"
     ]
    }
   ],
   "source": [
    "import urllib3\n",
    "urllib3.disable_warnings(urllib3.exceptions.InsecureRequestWarning)\n",
    "\n",
    "fetcher = GetInfoTWSE()\n",
    "for id in tqdm(list):\n",
    "    try:\n",
    "        df = fetcher.init_df(str(id), \"2020-01-01\", \"2025-09-04\")\n",
    "        df = fetcher.get_stock_price()\n",
    "        df = fetcher.get_day_trading_info()\n",
    "        df.to_csv(f\"data/{id}.csv\")\n",
    "    except:\n",
    "        continue"
   ]
  }
 ],
 "metadata": {
  "kernelspec": {
   "display_name": "quant",
   "language": "python",
   "name": "python3"
  },
  "language_info": {
   "codemirror_mode": {
    "name": "ipython",
    "version": 3
   },
   "file_extension": ".py",
   "mimetype": "text/x-python",
   "name": "python",
   "nbconvert_exporter": "python",
   "pygments_lexer": "ipython3",
   "version": "3.13.5"
  }
 },
 "nbformat": 4,
 "nbformat_minor": 5
}
