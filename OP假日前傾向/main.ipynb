{
 "cells": [
  {
   "cell_type": "code",
   "execution_count": 1,
   "id": "4ffd9d80",
   "metadata": {},
   "outputs": [],
   "source": [
    "import sys\n",
    "import pandas as pd\n",
    "import numpy as np\n",
    "from typing import Any\n",
    "from scipy.stats import linregress, ttest_1samp\n",
    "\n",
    "%load_ext autoreload\n",
    "%autoreload 2\n",
    "# sys.path.append(\"D:/Github/note/module\")                        # for windows\n",
    "sys.path.append(\"/Users/xinc./Documents/GitHub/note/module\")    # for mac\n",
    "from get_info_FinMind import GetInfoFinMind\n",
    "FinMind_fetcher = GetInfoFinMind()\n",
    "from plot_func import plot, plot_scatter, plot_df_columns, plot_pdf, plot_dropped_positions, plot_sequence\n",
    "from performance_func import summarize_performance, mean_ttest\n",
    "\n",
    "start_date = pd.to_datetime(\"2020-01-01\", format = \"%Y-%m-%d\")\n",
    "end_date = pd.to_datetime(\"2025-09-25\", format = \"%Y-%m-%d\")"
   ]
  },
  {
   "cell_type": "markdown",
   "id": "01ca4cb4",
   "metadata": {},
   "source": [
    "# download data"
   ]
  },
  {
   "cell_type": "code",
   "execution_count": 157,
   "id": "f2daa0cb",
   "metadata": {},
   "outputs": [
    {
     "name": "stderr",
     "output_type": "stream",
     "text": [
      "\u001b[32m2025-10-21 11:10:47.150\u001b[0m | \u001b[1mINFO    \u001b[0m | \u001b[36mFinMind.data.finmind_api\u001b[0m:\u001b[36mget_data\u001b[0m:\u001b[36m158\u001b[0m - \u001b[1mdownload Dataset.TaiwanOptionDaily, data_id: TXO\u001b[0m\n",
      "\u001b[32m2025-10-21 11:12:26.065\u001b[0m | \u001b[1mINFO    \u001b[0m | \u001b[36mFinMind.data.finmind_api\u001b[0m:\u001b[36mget_data\u001b[0m:\u001b[36m158\u001b[0m - \u001b[1mdownload Dataset.TaiwanFuturesDaily, data_id: TX\u001b[0m\n",
      "/Users/xinc./Documents/GitHub/note/module/get_info_FinMind.py:267: FutureWarning:\n",
      "\n",
      "DataFrameGroupBy.apply operated on the grouping columns. This behavior is deprecated, and in a future version of pandas the grouping columns will be excluded from the operation. Either pass `include_groups=False` to exclude the groupings or explicitly select the grouping columns after groupby to silence this warning.\n",
      "\n",
      "\u001b[32m2025-10-21 11:12:28.603\u001b[0m | \u001b[1mINFO    \u001b[0m | \u001b[36mFinMind.data.finmind_api\u001b[0m:\u001b[36mget_data\u001b[0m:\u001b[36m158\u001b[0m - \u001b[1mdownload Dataset.TaiwanFuturesDaily, data_id: TX\u001b[0m\n",
      "/Users/xinc./Documents/GitHub/note/module/get_info_FinMind.py:267: FutureWarning:\n",
      "\n",
      "DataFrameGroupBy.apply operated on the grouping columns. This behavior is deprecated, and in a future version of pandas the grouping columns will be excluded from the operation. Either pass `include_groups=False` to exclude the groupings or explicitly select the grouping columns after groupby to silence this warning.\n",
      "\n"
     ]
    }
   ],
   "source": [
    "# TXO\n",
    "op_df = FinMind_fetcher.get_option_daily(\"TXO\", start_date, end_date, trading_session = \"all\")\n",
    "op_df.reset_index(drop = True, inplace = True)\n",
    "op_df_position = op_df[op_df[\"trading_session\"] == \"position\"].copy()\n",
    "\n",
    "# TXOa\n",
    "op_df_after = op_df[op_df[\"trading_session\"] == \"after_market\"].copy()\n",
    "op_df_position.to_pickle(\"../data/TXO.pkl\")\n",
    "op_df_after.to_pickle(\"../data/TXO_after.pkl\")\n",
    "\n",
    "# TX\n",
    "tx_df = FinMind_fetcher.init_df(\"TX\", start_date, end_date)\n",
    "tx_df = FinMind_fetcher.get_future_price()\n",
    "tx_df.to_csv(\"../data/TX.csv\")\n",
    "\n",
    "# TXa\n",
    "txa_df = FinMind_fetcher.init_df(\"TX\", start_date, end_date)\n",
    "txa_df = FinMind_fetcher.get_future_price(trading_session = \"after_market\")\n",
    "txa_df.to_csv(\"../data/TX_after.csv\")"
   ]
  },
  {
   "cell_type": "markdown",
   "id": "b71ad1e5",
   "metadata": {},
   "source": [
    "# read"
   ]
  },
  {
   "cell_type": "code",
   "execution_count": 2,
   "id": "b308ebed",
   "metadata": {},
   "outputs": [],
   "source": [
    "\"\"\"read tx, txo\"\"\"\n",
    "tx_df = pd.read_csv(\"../data/TX.csv\")\n",
    "txa_df = pd.read_csv(\"../data/TX_after.csv\")\n",
    "op_df = pd.read_pickle(\"../data/TXO.pkl\")\n",
    "opa_df = pd.read_pickle(\"../data/TXO_after.pkl\")\n",
    "twii_df = pd.read_pickle(\"../data/twii.pkl\")\n",
    "twii_df.index = pd.to_datetime(twii_df.index)\n",
    "twii_df = twii_df.loc[start_date: end_date]\n",
    "\n",
    "\n",
    "\"\"\"extract at the money data by TX\"\"\"\n",
    "tx_ref = (\n",
    "    tx_df.reset_index()[[\"Timestamp\", \"Close\"]]\n",
    "    .rename(columns = {\"Timestamp\": \"date\", \"Close\": \"tx_close\"})\n",
    ")\n",
    "tx_close_map = tx_ref.set_index(\"date\")[\"tx_close\"]\n",
    "op_atm_df = op_df.copy()\n",
    "op_atm_df[\"tx_close\"] = op_atm_df[\"date\"].map(tx_close_map)\n",
    "op_atm_df = op_atm_df[op_atm_df[\"tx_close\"].notna()].copy()\n",
    "op_atm_df[\"moneyness_gap\"] = (op_atm_df[\"strike_price\"] - op_atm_df[\"tx_close\"]).abs()\n",
    "op_atm_df = (\n",
    "    op_atm_df.sort_values([\"date\", \"call_put\", \"moneyness_gap\", \"volume\", \"open_interest\"],\n",
    "                         ascending = [True, True, True, False, False])\n",
    "    .groupby([\"date\", \"call_put\"], as_index = False)\n",
    "    .head(1)\n",
    "    .reset_index(drop = True)\n",
    ")\n",
    "op_df[\"date\"] = pd.to_datetime(op_df[\"date\"])\n",
    "op_atm_df.drop(columns = [\"tx_close\", \"moneyness_gap\"], inplace = True)\n",
    "\n",
    "\n",
    "\"\"\"extract at the money data by TXa\"\"\"\n",
    "tx_ref = (\n",
    "    txa_df.reset_index()[[\"Timestamp\", \"Close\"]]\n",
    "    .rename(columns = {\"Timestamp\": \"date\", \"Close\": \"txa_close\"})\n",
    ")\n",
    "txa_close_map = tx_ref.set_index(\"date\")[\"txa_close\"]\n",
    "opa_atm_df = opa_df.copy()\n",
    "opa_atm_df[\"txa_close\"] = opa_atm_df[\"date\"].map(txa_close_map)\n",
    "opa_atm_df = opa_atm_df[opa_atm_df[\"txa_close\"].notna()].copy()\n",
    "opa_atm_df[\"moneyness_gap\"] = (opa_atm_df[\"strike_price\"] - opa_atm_df[\"txa_close\"]).abs()\n",
    "opa_atm_df = (\n",
    "    opa_atm_df.sort_values([\"date\", \"call_put\", \"moneyness_gap\", \"volume\", \"open_interest\"],\n",
    "                        ascending = [True, True, True, False, False])\n",
    "    .groupby([\"date\", \"call_put\"], as_index = False)\n",
    "    .head(1)\n",
    "    .reset_index(drop = True)\n",
    ")\n",
    "opa_df[\"date\"] = pd.to_datetime(opa_df[\"date\"])\n",
    "opa_atm_df.drop(columns = [\"txa_close\", \"moneyness_gap\"], inplace = True)"
   ]
  },
  {
   "cell_type": "markdown",
   "id": "e8529150",
   "metadata": {},
   "source": [
    "# diff scenario"
   ]
  },
  {
   "cell_type": "markdown",
   "id": "de6d08dc",
   "metadata": {},
   "source": [
    "## 夜盤 close - 日盤 open"
   ]
  },
  {
   "cell_type": "markdown",
   "id": "df850225",
   "metadata": {},
   "source": [
    "### put"
   ]
  },
  {
   "cell_type": "code",
   "execution_count": 3,
   "id": "fb483184",
   "metadata": {},
   "outputs": [],
   "source": [
    "put_df = pd.DataFrame(index = op_atm_df[\"date\"].unique())\n",
    "\n",
    "# get cross ret\n",
    "put_df = put_df.merge(\n",
    "    opa_atm_df.loc[opa_atm_df[\"call_put\"] == \"put\", [\"date\", \"strike_price\", \"close\"]].rename(columns = {\"close\": \"prev_night_close\"}),\n",
    "    left_index = True,\n",
    "    right_on = \"date\",\n",
    "    how = \"left\"\n",
    ")\n",
    "put_df[\"date\"] = pd.to_datetime(put_df[\"date\"])\n",
    "put_df = put_df.merge(\n",
    "    op_df.loc[op_df[\"call_put\"] == \"put\", [\"date\", \"strike_price\", \"open\"]],\n",
    "    on = [\"date\", \"strike_price\"],\n",
    "    how = \"left\"\n",
    ")\n",
    "put_mask = (put_df[\"prev_night_close\"] > 0) & (put_df[\"open\"] > 0)\n",
    "put_df[\"cross_ret\"] = np.where(put_mask, (put_df[\"open\"] / put_df[\"prev_night_close\"]) - 1, np.nan)\n",
    "\n",
    "# calculate date delta\n",
    "put_df[\"gap_days\"] = put_df[\"date\"].diff().dt.days\n",
    "\n",
    "# get tx\n",
    "merge_df = pd.merge(\n",
    "    tx_df[[\"Timestamp\", \"Open\"]], txa_df[[\"Timestamp\", \"Close\"]],\n",
    "    on = \"Timestamp\"\n",
    ")\n",
    "merge_df[\"tx_ret\"] = (merge_df[\"Open\"] / merge_df[\"Close\"]) - 1\n",
    "put_df[\"date\"], merge_df[\"Timestamp\"] = pd.to_datetime(put_df[\"date\"]), pd.to_datetime(merge_df[\"Timestamp\"])\n",
    "\n",
    "put_df = put_df.merge(\n",
    "    merge_df[[\"Timestamp\", \"tx_ret\"]].rename(columns = {\"Timestamp\": \"date\"}),\n",
    "    on = \"date\",\n",
    "    how = \"left\"\n",
    ")"
   ]
  },
  {
   "cell_type": "code",
   "execution_count": 4,
   "id": "db506ada",
   "metadata": {},
   "outputs": [
    {
     "data": {
      "application/vnd.plotly.v1+json": {
       "config": {
        "plotlyServerURL": "https://plot.ly"
       },
       "data": [
        {
         "line": {
          "color": "rgb(31, 119, 180)"
         },
         "mode": "lines",
         "name": "norm_cum_demeaned_cross_ret",
         "type": "scatter",
         "x": {
          "bdata": "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",
          "dtype": "f8"
         },
         "xaxis": "x",
         "y": {
          "bdata": "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",
          "dtype": "f8"
         },
         "yaxis": "y"
        },
        {
         "line": {
          "color": "rgb(44, 160, 44)"
         },
         "mode": "lines",
         "name": "norm_cum_demeaned_tx_ret",
         "type": "scatter",
         "x": {
          "bdata": "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",
          "dtype": "f8"
         },
         "xaxis": "x",
         "y": {
          "bdata": "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",
          "dtype": "f8"
         },
         "yaxis": "y"
        },
        {
         "line": {
          "color": "rgb(214, 39, 40)",
          "dash": "dash"
         },
         "mode": "lines",
         "name": "gap_days",
         "type": "scatter",
         "x": {
          "bdata": "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",
          "dtype": "f8"
         },
         "xaxis": "x",
         "y": {
          "bdata": "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",
          "dtype": "f8"
         },
         "yaxis": "y2"
        }
       ],
       "layout": {
        "annotations": [
         {
          "font": {
           "color": "gray",
           "size": 12
          },
          "showarrow": false,
          "text": "Sample size: 1395",
          "x": 0.99,
          "xanchor": "right",
          "xref": "paper",
          "y": 0.02,
          "yref": "paper"
         }
        ],
        "height": 500,
        "legend": {
         "x": 1.02,
         "xanchor": "left",
         "y": 0.5
        },
        "margin": {
         "b": 50,
         "l": 70,
         "r": 160,
         "t": 50
        },
        "template": {
         "data": {
          "bar": [
           {
            "error_x": {
             "color": "#2a3f5f"
            },
            "error_y": {
             "color": "#2a3f5f"
            },
            "marker": {
             "line": {
              "color": "white",
              "width": 0.5
             },
             "pattern": {
              "fillmode": "overlay",
              "size": 10,
              "solidity": 0.2
             }
            },
            "type": "bar"
           }
          ],
          "barpolar": [
           {
            "marker": {
             "line": {
              "color": "white",
              "width": 0.5
             },
             "pattern": {
              "fillmode": "overlay",
              "size": 10,
              "solidity": 0.2
             }
            },
            "type": "barpolar"
           }
          ],
          "carpet": [
           {
            "aaxis": {
             "endlinecolor": "#2a3f5f",
             "gridcolor": "#C8D4E3",
             "linecolor": "#C8D4E3",
             "minorgridcolor": "#C8D4E3",
             "startlinecolor": "#2a3f5f"
            },
            "baxis": {
             "endlinecolor": "#2a3f5f",
             "gridcolor": "#C8D4E3",
             "linecolor": "#C8D4E3",
             "minorgridcolor": "#C8D4E3",
             "startlinecolor": "#2a3f5f"
            },
            "type": "carpet"
           }
          ],
          "choropleth": [
           {
            "colorbar": {
             "outlinewidth": 0,
             "ticks": ""
            },
            "type": "choropleth"
           }
          ],
          "contour": [
           {
            "colorbar": {
             "outlinewidth": 0,
             "ticks": ""
            },
            "colorscale": [
             [
              0,
              "#0d0887"
             ],
             [
              0.1111111111111111,
              "#46039f"
             ],
             [
              0.2222222222222222,
              "#7201a8"
             ],
             [
              0.3333333333333333,
              "#9c179e"
             ],
             [
              0.4444444444444444,
              "#bd3786"
             ],
             [
              0.5555555555555556,
              "#d8576b"
             ],
             [
              0.6666666666666666,
              "#ed7953"
             ],
             [
              0.7777777777777778,
              "#fb9f3a"
             ],
             [
              0.8888888888888888,
              "#fdca26"
             ],
             [
              1,
              "#f0f921"
             ]
            ],
            "type": "contour"
           }
          ],
          "contourcarpet": [
           {
            "colorbar": {
             "outlinewidth": 0,
             "ticks": ""
            },
            "type": "contourcarpet"
           }
          ],
          "heatmap": [
           {
            "colorbar": {
             "outlinewidth": 0,
             "ticks": ""
            },
            "colorscale": [
             [
              0,
              "#0d0887"
             ],
             [
              0.1111111111111111,
              "#46039f"
             ],
             [
              0.2222222222222222,
              "#7201a8"
             ],
             [
              0.3333333333333333,
              "#9c179e"
             ],
             [
              0.4444444444444444,
              "#bd3786"
             ],
             [
              0.5555555555555556,
              "#d8576b"
             ],
             [
              0.6666666666666666,
              "#ed7953"
             ],
             [
              0.7777777777777778,
              "#fb9f3a"
             ],
             [
              0.8888888888888888,
              "#fdca26"
             ],
             [
              1,
              "#f0f921"
             ]
            ],
            "type": "heatmap"
           }
          ],
          "histogram": [
           {
            "marker": {
             "pattern": {
              "fillmode": "overlay",
              "size": 10,
              "solidity": 0.2
             }
            },
            "type": "histogram"
           }
          ],
          "histogram2d": [
           {
            "colorbar": {
             "outlinewidth": 0,
             "ticks": ""
            },
            "colorscale": [
             [
              0,
              "#0d0887"
             ],
             [
              0.1111111111111111,
              "#46039f"
             ],
             [
              0.2222222222222222,
              "#7201a8"
             ],
             [
              0.3333333333333333,
              "#9c179e"
             ],
             [
              0.4444444444444444,
              "#bd3786"
             ],
             [
              0.5555555555555556,
              "#d8576b"
             ],
             [
              0.6666666666666666,
              "#ed7953"
             ],
             [
              0.7777777777777778,
              "#fb9f3a"
             ],
             [
              0.8888888888888888,
              "#fdca26"
             ],
             [
              1,
              "#f0f921"
             ]
            ],
            "type": "histogram2d"
           }
          ],
          "histogram2dcontour": [
           {
            "colorbar": {
             "outlinewidth": 0,
             "ticks": ""
            },
            "colorscale": [
             [
              0,
              "#0d0887"
             ],
             [
              0.1111111111111111,
              "#46039f"
             ],
             [
              0.2222222222222222,
              "#7201a8"
             ],
             [
              0.3333333333333333,
              "#9c179e"
             ],
             [
              0.4444444444444444,
              "#bd3786"
             ],
             [
              0.5555555555555556,
              "#d8576b"
             ],
             [
              0.6666666666666666,
              "#ed7953"
             ],
             [
              0.7777777777777778,
              "#fb9f3a"
             ],
             [
              0.8888888888888888,
              "#fdca26"
             ],
             [
              1,
              "#f0f921"
             ]
            ],
            "type": "histogram2dcontour"
           }
          ],
          "mesh3d": [
           {
            "colorbar": {
             "outlinewidth": 0,
             "ticks": ""
            },
            "type": "mesh3d"
           }
          ],
          "parcoords": [
           {
            "line": {
             "colorbar": {
              "outlinewidth": 0,
              "ticks": ""
             }
            },
            "type": "parcoords"
           }
          ],
          "pie": [
           {
            "automargin": true,
            "type": "pie"
           }
          ],
          "scatter": [
           {
            "fillpattern": {
             "fillmode": "overlay",
             "size": 10,
             "solidity": 0.2
            },
            "type": "scatter"
           }
          ],
          "scatter3d": [
           {
            "line": {
             "colorbar": {
              "outlinewidth": 0,
              "ticks": ""
             }
            },
            "marker": {
             "colorbar": {
              "outlinewidth": 0,
              "ticks": ""
             }
            },
            "type": "scatter3d"
           }
          ],
          "scattercarpet": [
           {
            "marker": {
             "colorbar": {
              "outlinewidth": 0,
              "ticks": ""
             }
            },
            "type": "scattercarpet"
           }
          ],
          "scattergeo": [
           {
            "marker": {
             "colorbar": {
              "outlinewidth": 0,
              "ticks": ""
             }
            },
            "type": "scattergeo"
           }
          ],
          "scattergl": [
           {
            "marker": {
             "colorbar": {
              "outlinewidth": 0,
              "ticks": ""
             }
            },
            "type": "scattergl"
           }
          ],
          "scattermap": [
           {
            "marker": {
             "colorbar": {
              "outlinewidth": 0,
              "ticks": ""
             }
            },
            "type": "scattermap"
           }
          ],
          "scattermapbox": [
           {
            "marker": {
             "colorbar": {
              "outlinewidth": 0,
              "ticks": ""
             }
            },
            "type": "scattermapbox"
           }
          ],
          "scatterpolar": [
           {
            "marker": {
             "colorbar": {
              "outlinewidth": 0,
              "ticks": ""
             }
            },
            "type": "scatterpolar"
           }
          ],
          "scatterpolargl": [
           {
            "marker": {
             "colorbar": {
              "outlinewidth": 0,
              "ticks": ""
             }
            },
            "type": "scatterpolargl"
           }
          ],
          "scatterternary": [
           {
            "marker": {
             "colorbar": {
              "outlinewidth": 0,
              "ticks": ""
             }
            },
            "type": "scatterternary"
           }
          ],
          "surface": [
           {
            "colorbar": {
             "outlinewidth": 0,
             "ticks": ""
            },
            "colorscale": [
             [
              0,
              "#0d0887"
             ],
             [
              0.1111111111111111,
              "#46039f"
             ],
             [
              0.2222222222222222,
              "#7201a8"
             ],
             [
              0.3333333333333333,
              "#9c179e"
             ],
             [
              0.4444444444444444,
              "#bd3786"
             ],
             [
              0.5555555555555556,
              "#d8576b"
             ],
             [
              0.6666666666666666,
              "#ed7953"
             ],
             [
              0.7777777777777778,
              "#fb9f3a"
             ],
             [
              0.8888888888888888,
              "#fdca26"
             ],
             [
              1,
              "#f0f921"
             ]
            ],
            "type": "surface"
           }
          ],
          "table": [
           {
            "cells": {
             "fill": {
              "color": "#EBF0F8"
             },
             "line": {
              "color": "white"
             }
            },
            "header": {
             "fill": {
              "color": "#C8D4E3"
             },
             "line": {
              "color": "white"
             }
            },
            "type": "table"
           }
          ]
         },
         "layout": {
          "annotationdefaults": {
           "arrowcolor": "#2a3f5f",
           "arrowhead": 0,
           "arrowwidth": 1
          },
          "autotypenumbers": "strict",
          "coloraxis": {
           "colorbar": {
            "outlinewidth": 0,
            "ticks": ""
           }
          },
          "colorscale": {
           "diverging": [
            [
             0,
             "#8e0152"
            ],
            [
             0.1,
             "#c51b7d"
            ],
            [
             0.2,
             "#de77ae"
            ],
            [
             0.3,
             "#f1b6da"
            ],
            [
             0.4,
             "#fde0ef"
            ],
            [
             0.5,
             "#f7f7f7"
            ],
            [
             0.6,
             "#e6f5d0"
            ],
            [
             0.7,
             "#b8e186"
            ],
            [
             0.8,
             "#7fbc41"
            ],
            [
             0.9,
             "#4d9221"
            ],
            [
             1,
             "#276419"
            ]
           ],
           "sequential": [
            [
             0,
             "#0d0887"
            ],
            [
             0.1111111111111111,
             "#46039f"
            ],
            [
             0.2222222222222222,
             "#7201a8"
            ],
            [
             0.3333333333333333,
             "#9c179e"
            ],
            [
             0.4444444444444444,
             "#bd3786"
            ],
            [
             0.5555555555555556,
             "#d8576b"
            ],
            [
             0.6666666666666666,
             "#ed7953"
            ],
            [
             0.7777777777777778,
             "#fb9f3a"
            ],
            [
             0.8888888888888888,
             "#fdca26"
            ],
            [
             1,
             "#f0f921"
            ]
           ],
           "sequentialminus": [
            [
             0,
             "#0d0887"
            ],
            [
             0.1111111111111111,
             "#46039f"
            ],
            [
             0.2222222222222222,
             "#7201a8"
            ],
            [
             0.3333333333333333,
             "#9c179e"
            ],
            [
             0.4444444444444444,
             "#bd3786"
            ],
            [
             0.5555555555555556,
             "#d8576b"
            ],
            [
             0.6666666666666666,
             "#ed7953"
            ],
            [
             0.7777777777777778,
             "#fb9f3a"
            ],
            [
             0.8888888888888888,
             "#fdca26"
            ],
            [
             1,
             "#f0f921"
            ]
           ]
          },
          "colorway": [
           "#636efa",
           "#EF553B",
           "#00cc96",
           "#ab63fa",
           "#FFA15A",
           "#19d3f3",
           "#FF6692",
           "#B6E880",
           "#FF97FF",
           "#FECB52"
          ],
          "font": {
           "color": "#2a3f5f"
          },
          "geo": {
           "bgcolor": "white",
           "lakecolor": "white",
           "landcolor": "white",
           "showlakes": true,
           "showland": true,
           "subunitcolor": "#C8D4E3"
          },
          "hoverlabel": {
           "align": "left"
          },
          "hovermode": "closest",
          "mapbox": {
           "style": "light"
          },
          "paper_bgcolor": "white",
          "plot_bgcolor": "white",
          "polar": {
           "angularaxis": {
            "gridcolor": "#EBF0F8",
            "linecolor": "#EBF0F8",
            "ticks": ""
           },
           "bgcolor": "white",
           "radialaxis": {
            "gridcolor": "#EBF0F8",
            "linecolor": "#EBF0F8",
            "ticks": ""
           }
          },
          "scene": {
           "xaxis": {
            "backgroundcolor": "white",
            "gridcolor": "#DFE8F3",
            "gridwidth": 2,
            "linecolor": "#EBF0F8",
            "showbackground": true,
            "ticks": "",
            "zerolinecolor": "#EBF0F8"
           },
           "yaxis": {
            "backgroundcolor": "white",
            "gridcolor": "#DFE8F3",
            "gridwidth": 2,
            "linecolor": "#EBF0F8",
            "showbackground": true,
            "ticks": "",
            "zerolinecolor": "#EBF0F8"
           },
           "zaxis": {
            "backgroundcolor": "white",
            "gridcolor": "#DFE8F3",
            "gridwidth": 2,
            "linecolor": "#EBF0F8",
            "showbackground": true,
            "ticks": "",
            "zerolinecolor": "#EBF0F8"
           }
          },
          "shapedefaults": {
           "line": {
            "color": "#2a3f5f"
           }
          },
          "ternary": {
           "aaxis": {
            "gridcolor": "#DFE8F3",
            "linecolor": "#A2B1C6",
            "ticks": ""
           },
           "baxis": {
            "gridcolor": "#DFE8F3",
            "linecolor": "#A2B1C6",
            "ticks": ""
           },
           "bgcolor": "white",
           "caxis": {
            "gridcolor": "#DFE8F3",
            "linecolor": "#A2B1C6",
            "ticks": ""
           }
          },
          "title": {
           "x": 0.05
          },
          "xaxis": {
           "automargin": true,
           "gridcolor": "#EBF0F8",
           "linecolor": "#EBF0F8",
           "ticks": "",
           "title": {
            "standoff": 15
           },
           "zerolinecolor": "#EBF0F8",
           "zerolinewidth": 2
          },
          "yaxis": {
           "automargin": true,
           "gridcolor": "#EBF0F8",
           "linecolor": "#EBF0F8",
           "ticks": "",
           "title": {
            "standoff": 15
           },
           "zerolinecolor": "#EBF0F8",
           "zerolinewidth": 2
          }
         }
        },
        "xaxis": {
         "anchor": "y",
         "domain": [
          0,
          0.94
         ],
         "showgrid": true,
         "title": {
          "text": "sample proportion"
         }
        },
        "yaxis": {
         "anchor": "x",
         "domain": [
          0,
          1
         ],
         "showgrid": true,
         "tickfont": {
          "color": "rgb(31, 119, 180)"
         },
         "title": {
          "font": {
           "color": "rgb(31, 119, 180)"
          },
          "text": "norm_cum_demeaned_cross_ret, norm_cum_demeaned_tx_ret"
         }
        },
        "yaxis2": {
         "anchor": "x",
         "overlaying": "y",
         "showgrid": false,
         "side": "right",
         "tickfont": {
          "color": "rgb(214, 39, 40)"
         },
         "title": {
          "font": {
           "color": "rgb(214, 39, 40)"
          },
          "text": "gap_days"
         }
        }
       }
      }
     },
     "metadata": {},
     "output_type": "display_data"
    }
   ],
   "source": [
    "put_df.sort_values([\"gap_days\", \"date\"], ignore_index = True, inplace = True)\n",
    "\n",
    "# cum cross ret\n",
    "mean = put_df[\"cross_ret\"].mean()\n",
    "put_df[\"demeaned_cross_ret\"] = put_df[\"cross_ret\"] - mean\n",
    "put_df[\"cum_demeaned_cross_ret\"] = put_df[\"demeaned_cross_ret\"].cumsum()\n",
    "\n",
    "# cum tx ret\n",
    "mean = put_df[\"tx_ret\"].mean()\n",
    "put_df[\"demeaned_tx_ret\"] = put_df[\"tx_ret\"] - mean\n",
    "put_df[\"cum_demeaned_tx_ret\"] = put_df[\"demeaned_tx_ret\"].cumsum()\n",
    "\n",
    "# normalize cum ret\n",
    "put_df[[\"norm_cum_demeaned_cross_ret\", \"norm_cum_demeaned_tx_ret\"]] = pd.concat([\n",
    "    put_df[\"cum_demeaned_cross_ret\"] / put_df[\"cum_demeaned_cross_ret\"].std(),\n",
    "    put_df[\"cum_demeaned_tx_ret\"] / put_df[\"cum_demeaned_tx_ret\"].std()\n",
    "], axis = 1)\n",
    "plot(put_df, [\"norm_cum_demeaned_cross_ret\", \"norm_cum_demeaned_tx_ret\"], ry = \"gap_days\")"
   ]
  },
  {
   "cell_type": "markdown",
   "id": "25d0c151",
   "metadata": {},
   "source": [
    "### call"
   ]
  },
  {
   "cell_type": "code",
   "execution_count": 3,
   "id": "6142f66d",
   "metadata": {},
   "outputs": [],
   "source": [
    "call_df = pd.DataFrame(index = op_atm_df.loc[op_atm_df[\"call_put\"] == \"call\", \"date\"].unique())\n",
    "\n",
    "call_df = call_df.merge(\n",
    "    opa_atm_df.loc[opa_atm_df[\"call_put\"] == \"call\", [\"date\", \"strike_price\", \"close\"]]\n",
    "              .rename(columns = {\"close\": \"prev_night_close\"}),\n",
    "    left_index = True,\n",
    "    right_on = \"date\",\n",
    "    how = \"left\"\n",
    ")\n",
    "call_df[\"date\"] = pd.to_datetime(call_df[\"date\"])\n",
    "call_df = call_df.merge(\n",
    "    op_df.loc[op_df[\"call_put\"] == \"call\", [\"date\", \"strike_price\", \"open\"]],\n",
    "    on = [\"date\", \"strike_price\"],\n",
    "    how = \"left\"\n",
    ")\n",
    "call_mask = (call_df[\"prev_night_close\"] > 0) & (call_df[\"open\"] > 0)\n",
    "call_df[\"cross_ret\"] = np.where(call_mask, (call_df[\"open\"] / call_df[\"prev_night_close\"]) - 1, np.nan)\n",
    "call_df[\"gap_days\"] = call_df[\"date\"].diff().dt.days\n",
    "\n",
    "# get tx ret\n",
    "merge_df = pd.merge(\n",
    "    tx_df[[\"Timestamp\", \"Open\"]], txa_df[[\"Timestamp\", \"Close\"]],\n",
    "    on = \"Timestamp\"\n",
    ")\n",
    "merge_df[\"tx_ret\"] = (merge_df[\"Open\"] / merge_df[\"Close\"]) - 1\n",
    "call_df[\"date\"], merge_df[\"Timestamp\"] = pd.to_datetime(call_df[\"date\"]), pd.to_datetime(merge_df[\"Timestamp\"])\n",
    "\n",
    "call_df = call_df.merge(\n",
    "    merge_df[[\"Timestamp\", \"tx_ret\"]].rename(columns = {\"Timestamp\": \"date\"}),\n",
    "    on = \"date\",\n",
    "    how = \"left\"\n",
    ")"
   ]
  },
  {
   "cell_type": "code",
   "execution_count": 4,
   "id": "0269c877",
   "metadata": {},
   "outputs": [
    {
     "data": {
      "application/vnd.plotly.v1+json": {
       "config": {
        "plotlyServerURL": "https://plot.ly"
       },
       "data": [
        {
         "line": {
          "color": "rgb(31, 119, 180)"
         },
         "mode": "lines",
         "name": "norm_cum_demeaned_cross_ret",
         "type": "scatter",
         "x": {
          "bdata": "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",
          "dtype": "f8"
         },
         "xaxis": "x",
         "y": {
          "bdata": "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",
          "dtype": "f8"
         },
         "yaxis": "y"
        },
        {
         "line": {
          "color": "rgb(44, 160, 44)"
         },
         "mode": "lines",
         "name": "norm_cum_demeaned_tx_ret",
         "type": "scatter",
         "x": {
          "bdata": "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",
          "dtype": "f8"
         },
         "xaxis": "x",
         "y": {
          "bdata": "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",
          "dtype": "f8"
         },
         "yaxis": "y"
        },
        {
         "line": {
          "color": "rgb(214, 39, 40)",
          "dash": "dash"
         },
         "mode": "lines",
         "name": "gap_days",
         "type": "scatter",
         "x": {
          "bdata": "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",
          "dtype": "f8"
         },
         "xaxis": "x",
         "y": {
          "bdata": "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",
          "dtype": "f8"
         },
         "yaxis": "y2"
        }
       ],
       "layout": {
        "annotations": [
         {
          "font": {
           "color": "gray",
           "size": 12
          },
          "showarrow": false,
          "text": "Sample size: 1395",
          "x": 0.99,
          "xanchor": "right",
          "xref": "paper",
          "y": 0.02,
          "yref": "paper"
         }
        ],
        "height": 500,
        "legend": {
         "x": 1.02,
         "xanchor": "left",
         "y": 0.5
        },
        "margin": {
         "b": 50,
         "l": 70,
         "r": 160,
         "t": 50
        },
        "template": {
         "data": {
          "bar": [
           {
            "error_x": {
             "color": "#2a3f5f"
            },
            "error_y": {
             "color": "#2a3f5f"
            },
            "marker": {
             "line": {
              "color": "white",
              "width": 0.5
             },
             "pattern": {
              "fillmode": "overlay",
              "size": 10,
              "solidity": 0.2
             }
            },
            "type": "bar"
           }
          ],
          "barpolar": [
           {
            "marker": {
             "line": {
              "color": "white",
              "width": 0.5
             },
             "pattern": {
              "fillmode": "overlay",
              "size": 10,
              "solidity": 0.2
             }
            },
            "type": "barpolar"
           }
          ],
          "carpet": [
           {
            "aaxis": {
             "endlinecolor": "#2a3f5f",
             "gridcolor": "#C8D4E3",
             "linecolor": "#C8D4E3",
             "minorgridcolor": "#C8D4E3",
             "startlinecolor": "#2a3f5f"
            },
            "baxis": {
             "endlinecolor": "#2a3f5f",
             "gridcolor": "#C8D4E3",
             "linecolor": "#C8D4E3",
             "minorgridcolor": "#C8D4E3",
             "startlinecolor": "#2a3f5f"
            },
            "type": "carpet"
           }
          ],
          "choropleth": [
           {
            "colorbar": {
             "outlinewidth": 0,
             "ticks": ""
            },
            "type": "choropleth"
           }
          ],
          "contour": [
           {
            "colorbar": {
             "outlinewidth": 0,
             "ticks": ""
            },
            "colorscale": [
             [
              0,
              "#0d0887"
             ],
             [
              0.1111111111111111,
              "#46039f"
             ],
             [
              0.2222222222222222,
              "#7201a8"
             ],
             [
              0.3333333333333333,
              "#9c179e"
             ],
             [
              0.4444444444444444,
              "#bd3786"
             ],
             [
              0.5555555555555556,
              "#d8576b"
             ],
             [
              0.6666666666666666,
              "#ed7953"
             ],
             [
              0.7777777777777778,
              "#fb9f3a"
             ],
             [
              0.8888888888888888,
              "#fdca26"
             ],
             [
              1,
              "#f0f921"
             ]
            ],
            "type": "contour"
           }
          ],
          "contourcarpet": [
           {
            "colorbar": {
             "outlinewidth": 0,
             "ticks": ""
            },
            "type": "contourcarpet"
           }
          ],
          "heatmap": [
           {
            "colorbar": {
             "outlinewidth": 0,
             "ticks": ""
            },
            "colorscale": [
             [
              0,
              "#0d0887"
             ],
             [
              0.1111111111111111,
              "#46039f"
             ],
             [
              0.2222222222222222,
              "#7201a8"
             ],
             [
              0.3333333333333333,
              "#9c179e"
             ],
             [
              0.4444444444444444,
              "#bd3786"
             ],
             [
              0.5555555555555556,
              "#d8576b"
             ],
             [
              0.6666666666666666,
              "#ed7953"
             ],
             [
              0.7777777777777778,
              "#fb9f3a"
             ],
             [
              0.8888888888888888,
              "#fdca26"
             ],
             [
              1,
              "#f0f921"
             ]
            ],
            "type": "heatmap"
           }
          ],
          "histogram": [
           {
            "marker": {
             "pattern": {
              "fillmode": "overlay",
              "size": 10,
              "solidity": 0.2
             }
            },
            "type": "histogram"
           }
          ],
          "histogram2d": [
           {
            "colorbar": {
             "outlinewidth": 0,
             "ticks": ""
            },
            "colorscale": [
             [
              0,
              "#0d0887"
             ],
             [
              0.1111111111111111,
              "#46039f"
             ],
             [
              0.2222222222222222,
              "#7201a8"
             ],
             [
              0.3333333333333333,
              "#9c179e"
             ],
             [
              0.4444444444444444,
              "#bd3786"
             ],
             [
              0.5555555555555556,
              "#d8576b"
             ],
             [
              0.6666666666666666,
              "#ed7953"
             ],
             [
              0.7777777777777778,
              "#fb9f3a"
             ],
             [
              0.8888888888888888,
              "#fdca26"
             ],
             [
              1,
              "#f0f921"
             ]
            ],
            "type": "histogram2d"
           }
          ],
          "histogram2dcontour": [
           {
            "colorbar": {
             "outlinewidth": 0,
             "ticks": ""
            },
            "colorscale": [
             [
              0,
              "#0d0887"
             ],
             [
              0.1111111111111111,
              "#46039f"
             ],
             [
              0.2222222222222222,
              "#7201a8"
             ],
             [
              0.3333333333333333,
              "#9c179e"
             ],
             [
              0.4444444444444444,
              "#bd3786"
             ],
             [
              0.5555555555555556,
              "#d8576b"
             ],
             [
              0.6666666666666666,
              "#ed7953"
             ],
             [
              0.7777777777777778,
              "#fb9f3a"
             ],
             [
              0.8888888888888888,
              "#fdca26"
             ],
             [
              1,
              "#f0f921"
             ]
            ],
            "type": "histogram2dcontour"
           }
          ],
          "mesh3d": [
           {
            "colorbar": {
             "outlinewidth": 0,
             "ticks": ""
            },
            "type": "mesh3d"
           }
          ],
          "parcoords": [
           {
            "line": {
             "colorbar": {
              "outlinewidth": 0,
              "ticks": ""
             }
            },
            "type": "parcoords"
           }
          ],
          "pie": [
           {
            "automargin": true,
            "type": "pie"
           }
          ],
          "scatter": [
           {
            "fillpattern": {
             "fillmode": "overlay",
             "size": 10,
             "solidity": 0.2
            },
            "type": "scatter"
           }
          ],
          "scatter3d": [
           {
            "line": {
             "colorbar": {
              "outlinewidth": 0,
              "ticks": ""
             }
            },
            "marker": {
             "colorbar": {
              "outlinewidth": 0,
              "ticks": ""
             }
            },
            "type": "scatter3d"
           }
          ],
          "scattercarpet": [
           {
            "marker": {
             "colorbar": {
              "outlinewidth": 0,
              "ticks": ""
             }
            },
            "type": "scattercarpet"
           }
          ],
          "scattergeo": [
           {
            "marker": {
             "colorbar": {
              "outlinewidth": 0,
              "ticks": ""
             }
            },
            "type": "scattergeo"
           }
          ],
          "scattergl": [
           {
            "marker": {
             "colorbar": {
              "outlinewidth": 0,
              "ticks": ""
             }
            },
            "type": "scattergl"
           }
          ],
          "scattermap": [
           {
            "marker": {
             "colorbar": {
              "outlinewidth": 0,
              "ticks": ""
             }
            },
            "type": "scattermap"
           }
          ],
          "scattermapbox": [
           {
            "marker": {
             "colorbar": {
              "outlinewidth": 0,
              "ticks": ""
             }
            },
            "type": "scattermapbox"
           }
          ],
          "scatterpolar": [
           {
            "marker": {
             "colorbar": {
              "outlinewidth": 0,
              "ticks": ""
             }
            },
            "type": "scatterpolar"
           }
          ],
          "scatterpolargl": [
           {
            "marker": {
             "colorbar": {
              "outlinewidth": 0,
              "ticks": ""
             }
            },
            "type": "scatterpolargl"
           }
          ],
          "scatterternary": [
           {
            "marker": {
             "colorbar": {
              "outlinewidth": 0,
              "ticks": ""
             }
            },
            "type": "scatterternary"
           }
          ],
          "surface": [
           {
            "colorbar": {
             "outlinewidth": 0,
             "ticks": ""
            },
            "colorscale": [
             [
              0,
              "#0d0887"
             ],
             [
              0.1111111111111111,
              "#46039f"
             ],
             [
              0.2222222222222222,
              "#7201a8"
             ],
             [
              0.3333333333333333,
              "#9c179e"
             ],
             [
              0.4444444444444444,
              "#bd3786"
             ],
             [
              0.5555555555555556,
              "#d8576b"
             ],
             [
              0.6666666666666666,
              "#ed7953"
             ],
             [
              0.7777777777777778,
              "#fb9f3a"
             ],
             [
              0.8888888888888888,
              "#fdca26"
             ],
             [
              1,
              "#f0f921"
             ]
            ],
            "type": "surface"
           }
          ],
          "table": [
           {
            "cells": {
             "fill": {
              "color": "#EBF0F8"
             },
             "line": {
              "color": "white"
             }
            },
            "header": {
             "fill": {
              "color": "#C8D4E3"
             },
             "line": {
              "color": "white"
             }
            },
            "type": "table"
           }
          ]
         },
         "layout": {
          "annotationdefaults": {
           "arrowcolor": "#2a3f5f",
           "arrowhead": 0,
           "arrowwidth": 1
          },
          "autotypenumbers": "strict",
          "coloraxis": {
           "colorbar": {
            "outlinewidth": 0,
            "ticks": ""
           }
          },
          "colorscale": {
           "diverging": [
            [
             0,
             "#8e0152"
            ],
            [
             0.1,
             "#c51b7d"
            ],
            [
             0.2,
             "#de77ae"
            ],
            [
             0.3,
             "#f1b6da"
            ],
            [
             0.4,
             "#fde0ef"
            ],
            [
             0.5,
             "#f7f7f7"
            ],
            [
             0.6,
             "#e6f5d0"
            ],
            [
             0.7,
             "#b8e186"
            ],
            [
             0.8,
             "#7fbc41"
            ],
            [
             0.9,
             "#4d9221"
            ],
            [
             1,
             "#276419"
            ]
           ],
           "sequential": [
            [
             0,
             "#0d0887"
            ],
            [
             0.1111111111111111,
             "#46039f"
            ],
            [
             0.2222222222222222,
             "#7201a8"
            ],
            [
             0.3333333333333333,
             "#9c179e"
            ],
            [
             0.4444444444444444,
             "#bd3786"
            ],
            [
             0.5555555555555556,
             "#d8576b"
            ],
            [
             0.6666666666666666,
             "#ed7953"
            ],
            [
             0.7777777777777778,
             "#fb9f3a"
            ],
            [
             0.8888888888888888,
             "#fdca26"
            ],
            [
             1,
             "#f0f921"
            ]
           ],
           "sequentialminus": [
            [
             0,
             "#0d0887"
            ],
            [
             0.1111111111111111,
             "#46039f"
            ],
            [
             0.2222222222222222,
             "#7201a8"
            ],
            [
             0.3333333333333333,
             "#9c179e"
            ],
            [
             0.4444444444444444,
             "#bd3786"
            ],
            [
             0.5555555555555556,
             "#d8576b"
            ],
            [
             0.6666666666666666,
             "#ed7953"
            ],
            [
             0.7777777777777778,
             "#fb9f3a"
            ],
            [
             0.8888888888888888,
             "#fdca26"
            ],
            [
             1,
             "#f0f921"
            ]
           ]
          },
          "colorway": [
           "#636efa",
           "#EF553B",
           "#00cc96",
           "#ab63fa",
           "#FFA15A",
           "#19d3f3",
           "#FF6692",
           "#B6E880",
           "#FF97FF",
           "#FECB52"
          ],
          "font": {
           "color": "#2a3f5f"
          },
          "geo": {
           "bgcolor": "white",
           "lakecolor": "white",
           "landcolor": "white",
           "showlakes": true,
           "showland": true,
           "subunitcolor": "#C8D4E3"
          },
          "hoverlabel": {
           "align": "left"
          },
          "hovermode": "closest",
          "mapbox": {
           "style": "light"
          },
          "paper_bgcolor": "white",
          "plot_bgcolor": "white",
          "polar": {
           "angularaxis": {
            "gridcolor": "#EBF0F8",
            "linecolor": "#EBF0F8",
            "ticks": ""
           },
           "bgcolor": "white",
           "radialaxis": {
            "gridcolor": "#EBF0F8",
            "linecolor": "#EBF0F8",
            "ticks": ""
           }
          },
          "scene": {
           "xaxis": {
            "backgroundcolor": "white",
            "gridcolor": "#DFE8F3",
            "gridwidth": 2,
            "linecolor": "#EBF0F8",
            "showbackground": true,
            "ticks": "",
            "zerolinecolor": "#EBF0F8"
           },
           "yaxis": {
            "backgroundcolor": "white",
            "gridcolor": "#DFE8F3",
            "gridwidth": 2,
            "linecolor": "#EBF0F8",
            "showbackground": true,
            "ticks": "",
            "zerolinecolor": "#EBF0F8"
           },
           "zaxis": {
            "backgroundcolor": "white",
            "gridcolor": "#DFE8F3",
            "gridwidth": 2,
            "linecolor": "#EBF0F8",
            "showbackground": true,
            "ticks": "",
            "zerolinecolor": "#EBF0F8"
           }
          },
          "shapedefaults": {
           "line": {
            "color": "#2a3f5f"
           }
          },
          "ternary": {
           "aaxis": {
            "gridcolor": "#DFE8F3",
            "linecolor": "#A2B1C6",
            "ticks": ""
           },
           "baxis": {
            "gridcolor": "#DFE8F3",
            "linecolor": "#A2B1C6",
            "ticks": ""
           },
           "bgcolor": "white",
           "caxis": {
            "gridcolor": "#DFE8F3",
            "linecolor": "#A2B1C6",
            "ticks": ""
           }
          },
          "title": {
           "x": 0.05
          },
          "xaxis": {
           "automargin": true,
           "gridcolor": "#EBF0F8",
           "linecolor": "#EBF0F8",
           "ticks": "",
           "title": {
            "standoff": 15
           },
           "zerolinecolor": "#EBF0F8",
           "zerolinewidth": 2
          },
          "yaxis": {
           "automargin": true,
           "gridcolor": "#EBF0F8",
           "linecolor": "#EBF0F8",
           "ticks": "",
           "title": {
            "standoff": 15
           },
           "zerolinecolor": "#EBF0F8",
           "zerolinewidth": 2
          }
         }
        },
        "xaxis": {
         "anchor": "y",
         "domain": [
          0,
          0.94
         ],
         "showgrid": true,
         "title": {
          "text": "sample proportion"
         }
        },
        "yaxis": {
         "anchor": "x",
         "domain": [
          0,
          1
         ],
         "showgrid": true,
         "tickfont": {
          "color": "rgb(31, 119, 180)"
         },
         "title": {
          "font": {
           "color": "rgb(31, 119, 180)"
          },
          "text": "norm_cum_demeaned_cross_ret, norm_cum_demeaned_tx_ret"
         }
        },
        "yaxis2": {
         "anchor": "x",
         "overlaying": "y",
         "showgrid": false,
         "side": "right",
         "tickfont": {
          "color": "rgb(214, 39, 40)"
         },
         "title": {
          "font": {
           "color": "rgb(214, 39, 40)"
          },
          "text": "gap_days"
         }
        }
       }
      }
     },
     "metadata": {},
     "output_type": "display_data"
    }
   ],
   "source": [
    "call_df.sort_values([\"gap_days\", \"date\"], ignore_index = True, inplace = True)\n",
    "\n",
    "# cum cross ret\n",
    "mean = call_df[\"cross_ret\"].mean()\n",
    "call_df[\"demeaned_cross_ret\"] = call_df[\"cross_ret\"] - mean\n",
    "call_df[\"cum_demeaned_cross_ret\"] = call_df[\"demeaned_cross_ret\"].cumsum()\n",
    "\n",
    "# cum tx ret\n",
    "mean = call_df[\"tx_ret\"].mean()\n",
    "call_df[\"demeaned_tx_ret\"] = call_df[\"tx_ret\"] - mean\n",
    "call_df[\"cum_demeaned_tx_ret\"] = call_df[\"demeaned_tx_ret\"].cumsum()\n",
    "\n",
    "# normalize\n",
    "call_df[[\"norm_cum_demeaned_cross_ret\", \"norm_cum_demeaned_tx_ret\"]] = pd.concat([\n",
    "    call_df[\"cum_demeaned_cross_ret\"] / call_df[\"cum_demeaned_cross_ret\"].std(),\n",
    "    call_df[\"cum_demeaned_tx_ret\"] / call_df[\"cum_demeaned_tx_ret\"].std()\n",
    "], axis = 1)\n",
    "plot(call_df, [\"norm_cum_demeaned_cross_ret\", \"norm_cum_demeaned_tx_ret\"], ry = \"gap_days\")"
   ]
  },
  {
   "cell_type": "markdown",
   "id": "d1cb4b9d",
   "metadata": {},
   "source": [
    "## 夜盤 open - 日盤 open"
   ]
  },
  {
   "cell_type": "markdown",
   "id": "e2af08a0",
   "metadata": {},
   "source": [
    "### put"
   ]
  },
  {
   "cell_type": "code",
   "execution_count": 21,
   "id": "c2ee0895",
   "metadata": {},
   "outputs": [],
   "source": [
    "put_open_df = pd.DataFrame(index = op_atm_df.loc[op_atm_df[\"call_put\"] == \"put\", \"date\"].unique())\n",
    "\n",
    "# get cross ret\n",
    "put_open_df = put_open_df.merge(\n",
    "    opa_atm_df.loc[opa_atm_df[\"call_put\"] == \"put\", [\"date\", \"strike_price\", \"open\"]]\n",
    "              .rename(columns = {\"open\": \"prev_night_open\"}),\n",
    "    left_index = True,\n",
    "    right_on = \"date\",\n",
    "    how = \"left\"\n",
    ")\n",
    "\n",
    "put_open_df[\"date\"] = pd.to_datetime(put_open_df[\"date\"])\n",
    "position_open = (\n",
    "    op_df.loc[(op_df[\"call_put\"] == \"put\") & (op_df[\"trading_session\"] == \"position\"),\n",
    "              [\"date\", \"strike_price\", \"open\"]]\n",
    "        .drop_duplicates([\"date\", \"strike_price\"])\n",
    "        .rename(columns = {\"open\": \"day_open\"})\n",
    ")\n",
    "put_open_df = put_open_df.merge(position_open, on = [\"date\", \"strike_price\"], how = \"left\")\n",
    "mask = (put_open_df[\"prev_night_open\"] > 0) & (put_open_df[\"day_open\"] > 0)\n",
    "put_open_df[\"cross_ret\"] = np.where(mask, (put_open_df[\"day_open\"] / put_open_df[\"prev_night_open\"]) - 1, np.nan)\n",
    "\n",
    "# get date delta\n",
    "put_open_df[\"gap_days\"] = put_open_df[\"date\"].diff().dt.days\n",
    "\n",
    "# get tx ret\n",
    "merge_df = pd.merge(\n",
    "    tx_df[[\"Timestamp\", \"Open\"]].rename(columns = {\"Open\": \"position_open\"}), txa_df[[\"Timestamp\", \"Open\"]].rename(columns = {\"Open\": \"after_open\"}),\n",
    "    on = \"Timestamp\"\n",
    ")\n",
    "merge_df[\"tx_ret\"] = (merge_df[\"position_open\"] / merge_df[\"after_open\"]) - 1\n",
    "put_open_df[\"date\"], merge_df[\"Timestamp\"] = pd.to_datetime(put_open_df[\"date\"]), pd.to_datetime(merge_df[\"Timestamp\"])\n",
    "put_open_df = put_open_df.merge(\n",
    "    merge_df[[\"Timestamp\", \"tx_ret\"]].rename(columns = {\"Timestamp\": \"date\"}),\n",
    "    on = \"date\",\n",
    "    how = \"left\"\n",
    ")"
   ]
  },
  {
   "cell_type": "code",
   "execution_count": null,
   "id": "306f6538",
   "metadata": {},
   "outputs": [
    {
     "data": {
      "application/vnd.plotly.v1+json": {
       "config": {
        "plotlyServerURL": "https://plot.ly"
       },
       "data": [
        {
         "line": {
          "color": "rgb(31, 119, 180)"
         },
         "mode": "lines",
         "name": "norm_cum_demeaned_cross_ret",
         "type": "scatter",
         "x": {
          "bdata": "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",
          "dtype": "f8"
         },
         "xaxis": "x",
         "y": {
          "bdata": "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",
          "dtype": "f8"
         },
         "yaxis": "y"
        },
        {
         "line": {
          "color": "rgb(44, 160, 44)"
         },
         "mode": "lines",
         "name": "norm_cum_demeaned_tx_ret",
         "type": "scatter",
         "x": {
          "bdata": "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",
          "dtype": "f8"
         },
         "xaxis": "x",
         "y": {
          "bdata": "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",
          "dtype": "f8"
         },
         "yaxis": "y"
        },
        {
         "line": {
          "color": "rgb(214, 39, 40)",
          "dash": "dash"
         },
         "mode": "lines",
         "name": "gap_days",
         "type": "scatter",
         "x": {
          "bdata": "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",
          "dtype": "f8"
         },
         "xaxis": "x",
         "y": {
          "bdata": "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",
          "dtype": "f8"
         },
         "yaxis": "y2"
        }
       ],
       "layout": {
        "annotations": [
         {
          "font": {
           "color": "gray",
           "size": 12
          },
          "showarrow": false,
          "text": "Sample size: 1395",
          "x": 0.99,
          "xanchor": "right",
          "xref": "paper",
          "y": 0.02,
          "yref": "paper"
         }
        ],
        "height": 500,
        "legend": {
         "x": 1.02,
         "xanchor": "left",
         "y": 0.5
        },
        "margin": {
         "b": 50,
         "l": 70,
         "r": 160,
         "t": 50
        },
        "template": {
         "data": {
          "bar": [
           {
            "error_x": {
             "color": "#2a3f5f"
            },
            "error_y": {
             "color": "#2a3f5f"
            },
            "marker": {
             "line": {
              "color": "white",
              "width": 0.5
             },
             "pattern": {
              "fillmode": "overlay",
              "size": 10,
              "solidity": 0.2
             }
            },
            "type": "bar"
           }
          ],
          "barpolar": [
           {
            "marker": {
             "line": {
              "color": "white",
              "width": 0.5
             },
             "pattern": {
              "fillmode": "overlay",
              "size": 10,
              "solidity": 0.2
             }
            },
            "type": "barpolar"
           }
          ],
          "carpet": [
           {
            "aaxis": {
             "endlinecolor": "#2a3f5f",
             "gridcolor": "#C8D4E3",
             "linecolor": "#C8D4E3",
             "minorgridcolor": "#C8D4E3",
             "startlinecolor": "#2a3f5f"
            },
            "baxis": {
             "endlinecolor": "#2a3f5f",
             "gridcolor": "#C8D4E3",
             "linecolor": "#C8D4E3",
             "minorgridcolor": "#C8D4E3",
             "startlinecolor": "#2a3f5f"
            },
            "type": "carpet"
           }
          ],
          "choropleth": [
           {
            "colorbar": {
             "outlinewidth": 0,
             "ticks": ""
            },
            "type": "choropleth"
           }
          ],
          "contour": [
           {
            "colorbar": {
             "outlinewidth": 0,
             "ticks": ""
            },
            "colorscale": [
             [
              0,
              "#0d0887"
             ],
             [
              0.1111111111111111,
              "#46039f"
             ],
             [
              0.2222222222222222,
              "#7201a8"
             ],
             [
              0.3333333333333333,
              "#9c179e"
             ],
             [
              0.4444444444444444,
              "#bd3786"
             ],
             [
              0.5555555555555556,
              "#d8576b"
             ],
             [
              0.6666666666666666,
              "#ed7953"
             ],
             [
              0.7777777777777778,
              "#fb9f3a"
             ],
             [
              0.8888888888888888,
              "#fdca26"
             ],
             [
              1,
              "#f0f921"
             ]
            ],
            "type": "contour"
           }
          ],
          "contourcarpet": [
           {
            "colorbar": {
             "outlinewidth": 0,
             "ticks": ""
            },
            "type": "contourcarpet"
           }
          ],
          "heatmap": [
           {
            "colorbar": {
             "outlinewidth": 0,
             "ticks": ""
            },
            "colorscale": [
             [
              0,
              "#0d0887"
             ],
             [
              0.1111111111111111,
              "#46039f"
             ],
             [
              0.2222222222222222,
              "#7201a8"
             ],
             [
              0.3333333333333333,
              "#9c179e"
             ],
             [
              0.4444444444444444,
              "#bd3786"
             ],
             [
              0.5555555555555556,
              "#d8576b"
             ],
             [
              0.6666666666666666,
              "#ed7953"
             ],
             [
              0.7777777777777778,
              "#fb9f3a"
             ],
             [
              0.8888888888888888,
              "#fdca26"
             ],
             [
              1,
              "#f0f921"
             ]
            ],
            "type": "heatmap"
           }
          ],
          "histogram": [
           {
            "marker": {
             "pattern": {
              "fillmode": "overlay",
              "size": 10,
              "solidity": 0.2
             }
            },
            "type": "histogram"
           }
          ],
          "histogram2d": [
           {
            "colorbar": {
             "outlinewidth": 0,
             "ticks": ""
            },
            "colorscale": [
             [
              0,
              "#0d0887"
             ],
             [
              0.1111111111111111,
              "#46039f"
             ],
             [
              0.2222222222222222,
              "#7201a8"
             ],
             [
              0.3333333333333333,
              "#9c179e"
             ],
             [
              0.4444444444444444,
              "#bd3786"
             ],
             [
              0.5555555555555556,
              "#d8576b"
             ],
             [
              0.6666666666666666,
              "#ed7953"
             ],
             [
              0.7777777777777778,
              "#fb9f3a"
             ],
             [
              0.8888888888888888,
              "#fdca26"
             ],
             [
              1,
              "#f0f921"
             ]
            ],
            "type": "histogram2d"
           }
          ],
          "histogram2dcontour": [
           {
            "colorbar": {
             "outlinewidth": 0,
             "ticks": ""
            },
            "colorscale": [
             [
              0,
              "#0d0887"
             ],
             [
              0.1111111111111111,
              "#46039f"
             ],
             [
              0.2222222222222222,
              "#7201a8"
             ],
             [
              0.3333333333333333,
              "#9c179e"
             ],
             [
              0.4444444444444444,
              "#bd3786"
             ],
             [
              0.5555555555555556,
              "#d8576b"
             ],
             [
              0.6666666666666666,
              "#ed7953"
             ],
             [
              0.7777777777777778,
              "#fb9f3a"
             ],
             [
              0.8888888888888888,
              "#fdca26"
             ],
             [
              1,
              "#f0f921"
             ]
            ],
            "type": "histogram2dcontour"
           }
          ],
          "mesh3d": [
           {
            "colorbar": {
             "outlinewidth": 0,
             "ticks": ""
            },
            "type": "mesh3d"
           }
          ],
          "parcoords": [
           {
            "line": {
             "colorbar": {
              "outlinewidth": 0,
              "ticks": ""
             }
            },
            "type": "parcoords"
           }
          ],
          "pie": [
           {
            "automargin": true,
            "type": "pie"
           }
          ],
          "scatter": [
           {
            "fillpattern": {
             "fillmode": "overlay",
             "size": 10,
             "solidity": 0.2
            },
            "type": "scatter"
           }
          ],
          "scatter3d": [
           {
            "line": {
             "colorbar": {
              "outlinewidth": 0,
              "ticks": ""
             }
            },
            "marker": {
             "colorbar": {
              "outlinewidth": 0,
              "ticks": ""
             }
            },
            "type": "scatter3d"
           }
          ],
          "scattercarpet": [
           {
            "marker": {
             "colorbar": {
              "outlinewidth": 0,
              "ticks": ""
             }
            },
            "type": "scattercarpet"
           }
          ],
          "scattergeo": [
           {
            "marker": {
             "colorbar": {
              "outlinewidth": 0,
              "ticks": ""
             }
            },
            "type": "scattergeo"
           }
          ],
          "scattergl": [
           {
            "marker": {
             "colorbar": {
              "outlinewidth": 0,
              "ticks": ""
             }
            },
            "type": "scattergl"
           }
          ],
          "scattermap": [
           {
            "marker": {
             "colorbar": {
              "outlinewidth": 0,
              "ticks": ""
             }
            },
            "type": "scattermap"
           }
          ],
          "scattermapbox": [
           {
            "marker": {
             "colorbar": {
              "outlinewidth": 0,
              "ticks": ""
             }
            },
            "type": "scattermapbox"
           }
          ],
          "scatterpolar": [
           {
            "marker": {
             "colorbar": {
              "outlinewidth": 0,
              "ticks": ""
             }
            },
            "type": "scatterpolar"
           }
          ],
          "scatterpolargl": [
           {
            "marker": {
             "colorbar": {
              "outlinewidth": 0,
              "ticks": ""
             }
            },
            "type": "scatterpolargl"
           }
          ],
          "scatterternary": [
           {
            "marker": {
             "colorbar": {
              "outlinewidth": 0,
              "ticks": ""
             }
            },
            "type": "scatterternary"
           }
          ],
          "surface": [
           {
            "colorbar": {
             "outlinewidth": 0,
             "ticks": ""
            },
            "colorscale": [
             [
              0,
              "#0d0887"
             ],
             [
              0.1111111111111111,
              "#46039f"
             ],
             [
              0.2222222222222222,
              "#7201a8"
             ],
             [
              0.3333333333333333,
              "#9c179e"
             ],
             [
              0.4444444444444444,
              "#bd3786"
             ],
             [
              0.5555555555555556,
              "#d8576b"
             ],
             [
              0.6666666666666666,
              "#ed7953"
             ],
             [
              0.7777777777777778,
              "#fb9f3a"
             ],
             [
              0.8888888888888888,
              "#fdca26"
             ],
             [
              1,
              "#f0f921"
             ]
            ],
            "type": "surface"
           }
          ],
          "table": [
           {
            "cells": {
             "fill": {
              "color": "#EBF0F8"
             },
             "line": {
              "color": "white"
             }
            },
            "header": {
             "fill": {
              "color": "#C8D4E3"
             },
             "line": {
              "color": "white"
             }
            },
            "type": "table"
           }
          ]
         },
         "layout": {
          "annotationdefaults": {
           "arrowcolor": "#2a3f5f",
           "arrowhead": 0,
           "arrowwidth": 1
          },
          "autotypenumbers": "strict",
          "coloraxis": {
           "colorbar": {
            "outlinewidth": 0,
            "ticks": ""
           }
          },
          "colorscale": {
           "diverging": [
            [
             0,
             "#8e0152"
            ],
            [
             0.1,
             "#c51b7d"
            ],
            [
             0.2,
             "#de77ae"
            ],
            [
             0.3,
             "#f1b6da"
            ],
            [
             0.4,
             "#fde0ef"
            ],
            [
             0.5,
             "#f7f7f7"
            ],
            [
             0.6,
             "#e6f5d0"
            ],
            [
             0.7,
             "#b8e186"
            ],
            [
             0.8,
             "#7fbc41"
            ],
            [
             0.9,
             "#4d9221"
            ],
            [
             1,
             "#276419"
            ]
           ],
           "sequential": [
            [
             0,
             "#0d0887"
            ],
            [
             0.1111111111111111,
             "#46039f"
            ],
            [
             0.2222222222222222,
             "#7201a8"
            ],
            [
             0.3333333333333333,
             "#9c179e"
            ],
            [
             0.4444444444444444,
             "#bd3786"
            ],
            [
             0.5555555555555556,
             "#d8576b"
            ],
            [
             0.6666666666666666,
             "#ed7953"
            ],
            [
             0.7777777777777778,
             "#fb9f3a"
            ],
            [
             0.8888888888888888,
             "#fdca26"
            ],
            [
             1,
             "#f0f921"
            ]
           ],
           "sequentialminus": [
            [
             0,
             "#0d0887"
            ],
            [
             0.1111111111111111,
             "#46039f"
            ],
            [
             0.2222222222222222,
             "#7201a8"
            ],
            [
             0.3333333333333333,
             "#9c179e"
            ],
            [
             0.4444444444444444,
             "#bd3786"
            ],
            [
             0.5555555555555556,
             "#d8576b"
            ],
            [
             0.6666666666666666,
             "#ed7953"
            ],
            [
             0.7777777777777778,
             "#fb9f3a"
            ],
            [
             0.8888888888888888,
             "#fdca26"
            ],
            [
             1,
             "#f0f921"
            ]
           ]
          },
          "colorway": [
           "#636efa",
           "#EF553B",
           "#00cc96",
           "#ab63fa",
           "#FFA15A",
           "#19d3f3",
           "#FF6692",
           "#B6E880",
           "#FF97FF",
           "#FECB52"
          ],
          "font": {
           "color": "#2a3f5f"
          },
          "geo": {
           "bgcolor": "white",
           "lakecolor": "white",
           "landcolor": "white",
           "showlakes": true,
           "showland": true,
           "subunitcolor": "#C8D4E3"
          },
          "hoverlabel": {
           "align": "left"
          },
          "hovermode": "closest",
          "mapbox": {
           "style": "light"
          },
          "paper_bgcolor": "white",
          "plot_bgcolor": "white",
          "polar": {
           "angularaxis": {
            "gridcolor": "#EBF0F8",
            "linecolor": "#EBF0F8",
            "ticks": ""
           },
           "bgcolor": "white",
           "radialaxis": {
            "gridcolor": "#EBF0F8",
            "linecolor": "#EBF0F8",
            "ticks": ""
           }
          },
          "scene": {
           "xaxis": {
            "backgroundcolor": "white",
            "gridcolor": "#DFE8F3",
            "gridwidth": 2,
            "linecolor": "#EBF0F8",
            "showbackground": true,
            "ticks": "",
            "zerolinecolor": "#EBF0F8"
           },
           "yaxis": {
            "backgroundcolor": "white",
            "gridcolor": "#DFE8F3",
            "gridwidth": 2,
            "linecolor": "#EBF0F8",
            "showbackground": true,
            "ticks": "",
            "zerolinecolor": "#EBF0F8"
           },
           "zaxis": {
            "backgroundcolor": "white",
            "gridcolor": "#DFE8F3",
            "gridwidth": 2,
            "linecolor": "#EBF0F8",
            "showbackground": true,
            "ticks": "",
            "zerolinecolor": "#EBF0F8"
           }
          },
          "shapedefaults": {
           "line": {
            "color": "#2a3f5f"
           }
          },
          "ternary": {
           "aaxis": {
            "gridcolor": "#DFE8F3",
            "linecolor": "#A2B1C6",
            "ticks": ""
           },
           "baxis": {
            "gridcolor": "#DFE8F3",
            "linecolor": "#A2B1C6",
            "ticks": ""
           },
           "bgcolor": "white",
           "caxis": {
            "gridcolor": "#DFE8F3",
            "linecolor": "#A2B1C6",
            "ticks": ""
           }
          },
          "title": {
           "x": 0.05
          },
          "xaxis": {
           "automargin": true,
           "gridcolor": "#EBF0F8",
           "linecolor": "#EBF0F8",
           "ticks": "",
           "title": {
            "standoff": 15
           },
           "zerolinecolor": "#EBF0F8",
           "zerolinewidth": 2
          },
          "yaxis": {
           "automargin": true,
           "gridcolor": "#EBF0F8",
           "linecolor": "#EBF0F8",
           "ticks": "",
           "title": {
            "standoff": 15
           },
           "zerolinecolor": "#EBF0F8",
           "zerolinewidth": 2
          }
         }
        },
        "xaxis": {
         "anchor": "y",
         "domain": [
          0,
          0.94
         ],
         "showgrid": true,
         "title": {
          "text": "sample proportion"
         }
        },
        "yaxis": {
         "anchor": "x",
         "domain": [
          0,
          1
         ],
         "showgrid": true,
         "tickfont": {
          "color": "rgb(31, 119, 180)"
         },
         "title": {
          "font": {
           "color": "rgb(31, 119, 180)"
          },
          "text": "norm_cum_demeaned_cross_ret, norm_cum_demeaned_tx_ret"
         }
        },
        "yaxis2": {
         "anchor": "x",
         "overlaying": "y",
         "showgrid": false,
         "side": "right",
         "tickfont": {
          "color": "rgb(214, 39, 40)"
         },
         "title": {
          "font": {
           "color": "rgb(214, 39, 40)"
          },
          "text": "gap_days"
         }
        }
       }
      }
     },
     "metadata": {},
     "output_type": "display_data"
    }
   ],
   "source": [
    "put_open_df.sort_values([\"gap_days\", \"date\"], ignore_index = True, inplace = True)\n",
    "\n",
    "# cum cross_ret ret\n",
    "mean = put_open_df[\"cross_ret\"].mean()\n",
    "put_open_df[\"demeaned_cross_ret\"] = put_open_df[\"cross_ret\"] - mean\n",
    "put_open_df[\"cum_demeaned_cross_ret\"] = put_open_df[\"demeaned_cross_ret\"].cumsum()\n",
    "\n",
    "# cum tx ret\n",
    "mean = put_open_df[\"tx_ret\"].mean()\n",
    "put_open_df[\"demeaned_tx_ret\"] = put_open_df[\"tx_ret\"] - mean\n",
    "put_open_df[\"cum_demeaned_tx_ret\"] = put_open_df[\"demeaned_tx_ret\"].cumsum()\n",
    "\n",
    "# normalize\n",
    "put_open_df[[\"norm_cum_demeaned_cross_ret\", \"norm_cum_demeaned_tx_ret\"]] = pd.concat([\n",
    "    put_open_df[\"cum_demeaned_cross_ret\"] / put_open_df[\"cum_demeaned_cross_ret\"].std(),\n",
    "    put_open_df[\"cum_demeaned_tx_ret\"] / put_open_df[\"cum_demeaned_tx_ret\"].std()\n",
    "], axis = 1)\n",
    "\n",
    "plot(put_open_df, [\"norm_cum_demeaned_cross_ret\", \"norm_cum_demeaned_tx_ret\"], ry = \"gap_days\", point_ry = )"
   ]
  },
  {
   "cell_type": "markdown",
   "id": "358ac041",
   "metadata": {},
   "source": [
    "### call"
   ]
  },
  {
   "cell_type": "code",
   "execution_count": 250,
   "id": "f694c2a7",
   "metadata": {},
   "outputs": [
    {
     "data": {
      "text/html": [
       "<div>\n",
       "<style scoped>\n",
       "    .dataframe tbody tr th:only-of-type {\n",
       "        vertical-align: middle;\n",
       "    }\n",
       "\n",
       "    .dataframe tbody tr th {\n",
       "        vertical-align: top;\n",
       "    }\n",
       "\n",
       "    .dataframe thead th {\n",
       "        text-align: right;\n",
       "    }\n",
       "</style>\n",
       "<table border=\"1\" class=\"dataframe\">\n",
       "  <thead>\n",
       "    <tr style=\"text-align: right;\">\n",
       "      <th></th>\n",
       "      <th>date</th>\n",
       "      <th>strike_price</th>\n",
       "      <th>prev_night_open</th>\n",
       "      <th>day_open</th>\n",
       "      <th>open_to_open_ret</th>\n",
       "      <th>gap_days</th>\n",
       "    </tr>\n",
       "  </thead>\n",
       "  <tbody>\n",
       "    <tr>\n",
       "      <th>0</th>\n",
       "      <td>2020-01-02</td>\n",
       "      <td>12000.0</td>\n",
       "      <td>26.0</td>\n",
       "      <td>45.0</td>\n",
       "      <td>0.730769</td>\n",
       "      <td>NaN</td>\n",
       "    </tr>\n",
       "    <tr>\n",
       "      <th>1</th>\n",
       "      <td>2020-01-03</td>\n",
       "      <td>12150.0</td>\n",
       "      <td>42.0</td>\n",
       "      <td>78.0</td>\n",
       "      <td>0.857143</td>\n",
       "      <td>1.0</td>\n",
       "    </tr>\n",
       "    <tr>\n",
       "      <th>2</th>\n",
       "      <td>2020-01-06</td>\n",
       "      <td>12050.0</td>\n",
       "      <td>84.0</td>\n",
       "      <td>46.5</td>\n",
       "      <td>-0.446429</td>\n",
       "      <td>3.0</td>\n",
       "    </tr>\n",
       "    <tr>\n",
       "      <th>3</th>\n",
       "      <td>2020-01-07</td>\n",
       "      <td>12000.0</td>\n",
       "      <td>21.0</td>\n",
       "      <td>33.0</td>\n",
       "      <td>0.571429</td>\n",
       "      <td>1.0</td>\n",
       "    </tr>\n",
       "    <tr>\n",
       "      <th>4</th>\n",
       "      <td>2020-01-08</td>\n",
       "      <td>11900.0</td>\n",
       "      <td>17.5</td>\n",
       "      <td>2.9</td>\n",
       "      <td>-0.834286</td>\n",
       "      <td>1.0</td>\n",
       "    </tr>\n",
       "    <tr>\n",
       "      <th>...</th>\n",
       "      <td>...</td>\n",
       "      <td>...</td>\n",
       "      <td>...</td>\n",
       "      <td>...</td>\n",
       "      <td>...</td>\n",
       "      <td>...</td>\n",
       "    </tr>\n",
       "    <tr>\n",
       "      <th>1390</th>\n",
       "      <td>2025-09-19</td>\n",
       "      <td>25850.0</td>\n",
       "      <td>114.0</td>\n",
       "      <td>141.0</td>\n",
       "      <td>0.236842</td>\n",
       "      <td>1.0</td>\n",
       "    </tr>\n",
       "    <tr>\n",
       "      <th>1391</th>\n",
       "      <td>2025-09-22</td>\n",
       "      <td>25750.0</td>\n",
       "      <td>116.0</td>\n",
       "      <td>128.0</td>\n",
       "      <td>0.103448</td>\n",
       "      <td>3.0</td>\n",
       "    </tr>\n",
       "    <tr>\n",
       "      <th>1392</th>\n",
       "      <td>2025-09-23</td>\n",
       "      <td>26050.0</td>\n",
       "      <td>34.5</td>\n",
       "      <td>87.0</td>\n",
       "      <td>1.521739</td>\n",
       "      <td>1.0</td>\n",
       "    </tr>\n",
       "    <tr>\n",
       "      <th>1393</th>\n",
       "      <td>2025-09-24</td>\n",
       "      <td>26400.0</td>\n",
       "      <td>28.0</td>\n",
       "      <td>48.0</td>\n",
       "      <td>0.714286</td>\n",
       "      <td>1.0</td>\n",
       "    </tr>\n",
       "    <tr>\n",
       "      <th>1394</th>\n",
       "      <td>2025-09-25</td>\n",
       "      <td>26200.0</td>\n",
       "      <td>240.0</td>\n",
       "      <td>199.0</td>\n",
       "      <td>-0.170833</td>\n",
       "      <td>1.0</td>\n",
       "    </tr>\n",
       "  </tbody>\n",
       "</table>\n",
       "<p>1395 rows × 6 columns</p>\n",
       "</div>"
      ],
      "text/plain": [
       "           date  strike_price  prev_night_open  day_open  open_to_open_ret  \\\n",
       "0    2020-01-02       12000.0             26.0      45.0          0.730769   \n",
       "1    2020-01-03       12150.0             42.0      78.0          0.857143   \n",
       "2    2020-01-06       12050.0             84.0      46.5         -0.446429   \n",
       "3    2020-01-07       12000.0             21.0      33.0          0.571429   \n",
       "4    2020-01-08       11900.0             17.5       2.9         -0.834286   \n",
       "...         ...           ...              ...       ...               ...   \n",
       "1390 2025-09-19       25850.0            114.0     141.0          0.236842   \n",
       "1391 2025-09-22       25750.0            116.0     128.0          0.103448   \n",
       "1392 2025-09-23       26050.0             34.5      87.0          1.521739   \n",
       "1393 2025-09-24       26400.0             28.0      48.0          0.714286   \n",
       "1394 2025-09-25       26200.0            240.0     199.0         -0.170833   \n",
       "\n",
       "      gap_days  \n",
       "0          NaN  \n",
       "1          1.0  \n",
       "2          3.0  \n",
       "3          1.0  \n",
       "4          1.0  \n",
       "...        ...  \n",
       "1390       1.0  \n",
       "1391       3.0  \n",
       "1392       1.0  \n",
       "1393       1.0  \n",
       "1394       1.0  \n",
       "\n",
       "[1395 rows x 6 columns]"
      ]
     },
     "execution_count": 250,
     "metadata": {},
     "output_type": "execute_result"
    }
   ],
   "source": [
    "call_open_df = pd.DataFrame(index = op_atm_df[\"date\"].unique())\n",
    "\n",
    "call_open_df = call_open_df.merge(\n",
    "    opa_atm_df.loc[opa_atm_df[\"call_put\"] == \"call\", [\"date\", \"strike_price\", \"open\"]]\n",
    "               .rename(columns = {\"open\": \"prev_night_open\"}),\n",
    "    left_index = True,\n",
    "    right_on = \"date\",\n",
    "    how = \"left\"\n",
    ")\n",
    "call_open_df[\"date\"] = pd.to_datetime(call_open_df[\"date\"])\n",
    "call_open_df = call_open_df.merge(\n",
    "    op_df.loc[op_df[\"call_put\"] == \"call\", [\"date\", \"strike_price\", \"open\"]]\n",
    "          .rename(columns = {\"open\": \"day_open\"}),\n",
    "    on = [\"date\", \"strike_price\"],\n",
    "    how = \"left\"\n",
    ")\n",
    "call_open_mask = (call_open_df[\"prev_night_open\"] > 0) & (call_open_df[\"day_open\"] > 0)\n",
    "call_open_df[\"open_to_open_ret\"] = np.where(\n",
    "    call_open_mask,\n",
    "    (call_open_df[\"day_open\"] / call_open_df[\"prev_night_open\"]) - 1,\n",
    "    np.nan\n",
    ")\n",
    "call_open_df[\"gap_days\"] = call_open_df[\"date\"].diff().dt.days\n",
    "call_open_df"
   ]
  },
  {
   "cell_type": "code",
   "execution_count": 241,
   "id": "24a9ceba",
   "metadata": {},
   "outputs": [
    {
     "data": {
      "application/vnd.plotly.v1+json": {
       "config": {
        "plotlyServerURL": "https://plot.ly"
       },
       "data": [
        {
         "line": {
          "color": "rgb(31, 119, 180)"
         },
         "mode": "lines",
         "name": "cum_demeaned_open_to_open_ret",
         "type": "scatter",
         "x": {
          "bdata": "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",
          "dtype": "f8"
         },
         "xaxis": "x",
         "y": {
          "bdata": "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",
          "dtype": "f8"
         },
         "yaxis": "y"
        },
        {
         "line": {
          "color": "rgb(214, 39, 40)",
          "dash": "dash"
         },
         "mode": "lines",
         "name": "gap_days",
         "type": "scatter",
         "x": {
          "bdata": "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",
          "dtype": "f8"
         },
         "xaxis": "x",
         "y": {
          "bdata": "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",
          "dtype": "f8"
         },
         "yaxis": "y2"
        }
       ],
       "layout": {
        "annotations": [
         {
          "font": {
           "color": "gray",
           "size": 12
          },
          "showarrow": false,
          "text": "Sample size: 1395",
          "x": 0.99,
          "xanchor": "right",
          "xref": "paper",
          "y": 0.02,
          "yref": "paper"
         }
        ],
        "height": 500,
        "legend": {
         "x": 1.02,
         "xanchor": "left",
         "y": 0.5
        },
        "margin": {
         "b": 50,
         "l": 70,
         "r": 160,
         "t": 50
        },
        "template": {
         "data": {
          "bar": [
           {
            "error_x": {
             "color": "#2a3f5f"
            },
            "error_y": {
             "color": "#2a3f5f"
            },
            "marker": {
             "line": {
              "color": "white",
              "width": 0.5
             },
             "pattern": {
              "fillmode": "overlay",
              "size": 10,
              "solidity": 0.2
             }
            },
            "type": "bar"
           }
          ],
          "barpolar": [
           {
            "marker": {
             "line": {
              "color": "white",
              "width": 0.5
             },
             "pattern": {
              "fillmode": "overlay",
              "size": 10,
              "solidity": 0.2
             }
            },
            "type": "barpolar"
           }
          ],
          "carpet": [
           {
            "aaxis": {
             "endlinecolor": "#2a3f5f",
             "gridcolor": "#C8D4E3",
             "linecolor": "#C8D4E3",
             "minorgridcolor": "#C8D4E3",
             "startlinecolor": "#2a3f5f"
            },
            "baxis": {
             "endlinecolor": "#2a3f5f",
             "gridcolor": "#C8D4E3",
             "linecolor": "#C8D4E3",
             "minorgridcolor": "#C8D4E3",
             "startlinecolor": "#2a3f5f"
            },
            "type": "carpet"
           }
          ],
          "choropleth": [
           {
            "colorbar": {
             "outlinewidth": 0,
             "ticks": ""
            },
            "type": "choropleth"
           }
          ],
          "contour": [
           {
            "colorbar": {
             "outlinewidth": 0,
             "ticks": ""
            },
            "colorscale": [
             [
              0,
              "#0d0887"
             ],
             [
              0.1111111111111111,
              "#46039f"
             ],
             [
              0.2222222222222222,
              "#7201a8"
             ],
             [
              0.3333333333333333,
              "#9c179e"
             ],
             [
              0.4444444444444444,
              "#bd3786"
             ],
             [
              0.5555555555555556,
              "#d8576b"
             ],
             [
              0.6666666666666666,
              "#ed7953"
             ],
             [
              0.7777777777777778,
              "#fb9f3a"
             ],
             [
              0.8888888888888888,
              "#fdca26"
             ],
             [
              1,
              "#f0f921"
             ]
            ],
            "type": "contour"
           }
          ],
          "contourcarpet": [
           {
            "colorbar": {
             "outlinewidth": 0,
             "ticks": ""
            },
            "type": "contourcarpet"
           }
          ],
          "heatmap": [
           {
            "colorbar": {
             "outlinewidth": 0,
             "ticks": ""
            },
            "colorscale": [
             [
              0,
              "#0d0887"
             ],
             [
              0.1111111111111111,
              "#46039f"
             ],
             [
              0.2222222222222222,
              "#7201a8"
             ],
             [
              0.3333333333333333,
              "#9c179e"
             ],
             [
              0.4444444444444444,
              "#bd3786"
             ],
             [
              0.5555555555555556,
              "#d8576b"
             ],
             [
              0.6666666666666666,
              "#ed7953"
             ],
             [
              0.7777777777777778,
              "#fb9f3a"
             ],
             [
              0.8888888888888888,
              "#fdca26"
             ],
             [
              1,
              "#f0f921"
             ]
            ],
            "type": "heatmap"
           }
          ],
          "histogram": [
           {
            "marker": {
             "pattern": {
              "fillmode": "overlay",
              "size": 10,
              "solidity": 0.2
             }
            },
            "type": "histogram"
           }
          ],
          "histogram2d": [
           {
            "colorbar": {
             "outlinewidth": 0,
             "ticks": ""
            },
            "colorscale": [
             [
              0,
              "#0d0887"
             ],
             [
              0.1111111111111111,
              "#46039f"
             ],
             [
              0.2222222222222222,
              "#7201a8"
             ],
             [
              0.3333333333333333,
              "#9c179e"
             ],
             [
              0.4444444444444444,
              "#bd3786"
             ],
             [
              0.5555555555555556,
              "#d8576b"
             ],
             [
              0.6666666666666666,
              "#ed7953"
             ],
             [
              0.7777777777777778,
              "#fb9f3a"
             ],
             [
              0.8888888888888888,
              "#fdca26"
             ],
             [
              1,
              "#f0f921"
             ]
            ],
            "type": "histogram2d"
           }
          ],
          "histogram2dcontour": [
           {
            "colorbar": {
             "outlinewidth": 0,
             "ticks": ""
            },
            "colorscale": [
             [
              0,
              "#0d0887"
             ],
             [
              0.1111111111111111,
              "#46039f"
             ],
             [
              0.2222222222222222,
              "#7201a8"
             ],
             [
              0.3333333333333333,
              "#9c179e"
             ],
             [
              0.4444444444444444,
              "#bd3786"
             ],
             [
              0.5555555555555556,
              "#d8576b"
             ],
             [
              0.6666666666666666,
              "#ed7953"
             ],
             [
              0.7777777777777778,
              "#fb9f3a"
             ],
             [
              0.8888888888888888,
              "#fdca26"
             ],
             [
              1,
              "#f0f921"
             ]
            ],
            "type": "histogram2dcontour"
           }
          ],
          "mesh3d": [
           {
            "colorbar": {
             "outlinewidth": 0,
             "ticks": ""
            },
            "type": "mesh3d"
           }
          ],
          "parcoords": [
           {
            "line": {
             "colorbar": {
              "outlinewidth": 0,
              "ticks": ""
             }
            },
            "type": "parcoords"
           }
          ],
          "pie": [
           {
            "automargin": true,
            "type": "pie"
           }
          ],
          "scatter": [
           {
            "fillpattern": {
             "fillmode": "overlay",
             "size": 10,
             "solidity": 0.2
            },
            "type": "scatter"
           }
          ],
          "scatter3d": [
           {
            "line": {
             "colorbar": {
              "outlinewidth": 0,
              "ticks": ""
             }
            },
            "marker": {
             "colorbar": {
              "outlinewidth": 0,
              "ticks": ""
             }
            },
            "type": "scatter3d"
           }
          ],
          "scattercarpet": [
           {
            "marker": {
             "colorbar": {
              "outlinewidth": 0,
              "ticks": ""
             }
            },
            "type": "scattercarpet"
           }
          ],
          "scattergeo": [
           {
            "marker": {
             "colorbar": {
              "outlinewidth": 0,
              "ticks": ""
             }
            },
            "type": "scattergeo"
           }
          ],
          "scattergl": [
           {
            "marker": {
             "colorbar": {
              "outlinewidth": 0,
              "ticks": ""
             }
            },
            "type": "scattergl"
           }
          ],
          "scattermap": [
           {
            "marker": {
             "colorbar": {
              "outlinewidth": 0,
              "ticks": ""
             }
            },
            "type": "scattermap"
           }
          ],
          "scattermapbox": [
           {
            "marker": {
             "colorbar": {
              "outlinewidth": 0,
              "ticks": ""
             }
            },
            "type": "scattermapbox"
           }
          ],
          "scatterpolar": [
           {
            "marker": {
             "colorbar": {
              "outlinewidth": 0,
              "ticks": ""
             }
            },
            "type": "scatterpolar"
           }
          ],
          "scatterpolargl": [
           {
            "marker": {
             "colorbar": {
              "outlinewidth": 0,
              "ticks": ""
             }
            },
            "type": "scatterpolargl"
           }
          ],
          "scatterternary": [
           {
            "marker": {
             "colorbar": {
              "outlinewidth": 0,
              "ticks": ""
             }
            },
            "type": "scatterternary"
           }
          ],
          "surface": [
           {
            "colorbar": {
             "outlinewidth": 0,
             "ticks": ""
            },
            "colorscale": [
             [
              0,
              "#0d0887"
             ],
             [
              0.1111111111111111,
              "#46039f"
             ],
             [
              0.2222222222222222,
              "#7201a8"
             ],
             [
              0.3333333333333333,
              "#9c179e"
             ],
             [
              0.4444444444444444,
              "#bd3786"
             ],
             [
              0.5555555555555556,
              "#d8576b"
             ],
             [
              0.6666666666666666,
              "#ed7953"
             ],
             [
              0.7777777777777778,
              "#fb9f3a"
             ],
             [
              0.8888888888888888,
              "#fdca26"
             ],
             [
              1,
              "#f0f921"
             ]
            ],
            "type": "surface"
           }
          ],
          "table": [
           {
            "cells": {
             "fill": {
              "color": "#EBF0F8"
             },
             "line": {
              "color": "white"
             }
            },
            "header": {
             "fill": {
              "color": "#C8D4E3"
             },
             "line": {
              "color": "white"
             }
            },
            "type": "table"
           }
          ]
         },
         "layout": {
          "annotationdefaults": {
           "arrowcolor": "#2a3f5f",
           "arrowhead": 0,
           "arrowwidth": 1
          },
          "autotypenumbers": "strict",
          "coloraxis": {
           "colorbar": {
            "outlinewidth": 0,
            "ticks": ""
           }
          },
          "colorscale": {
           "diverging": [
            [
             0,
             "#8e0152"
            ],
            [
             0.1,
             "#c51b7d"
            ],
            [
             0.2,
             "#de77ae"
            ],
            [
             0.3,
             "#f1b6da"
            ],
            [
             0.4,
             "#fde0ef"
            ],
            [
             0.5,
             "#f7f7f7"
            ],
            [
             0.6,
             "#e6f5d0"
            ],
            [
             0.7,
             "#b8e186"
            ],
            [
             0.8,
             "#7fbc41"
            ],
            [
             0.9,
             "#4d9221"
            ],
            [
             1,
             "#276419"
            ]
           ],
           "sequential": [
            [
             0,
             "#0d0887"
            ],
            [
             0.1111111111111111,
             "#46039f"
            ],
            [
             0.2222222222222222,
             "#7201a8"
            ],
            [
             0.3333333333333333,
             "#9c179e"
            ],
            [
             0.4444444444444444,
             "#bd3786"
            ],
            [
             0.5555555555555556,
             "#d8576b"
            ],
            [
             0.6666666666666666,
             "#ed7953"
            ],
            [
             0.7777777777777778,
             "#fb9f3a"
            ],
            [
             0.8888888888888888,
             "#fdca26"
            ],
            [
             1,
             "#f0f921"
            ]
           ],
           "sequentialminus": [
            [
             0,
             "#0d0887"
            ],
            [
             0.1111111111111111,
             "#46039f"
            ],
            [
             0.2222222222222222,
             "#7201a8"
            ],
            [
             0.3333333333333333,
             "#9c179e"
            ],
            [
             0.4444444444444444,
             "#bd3786"
            ],
            [
             0.5555555555555556,
             "#d8576b"
            ],
            [
             0.6666666666666666,
             "#ed7953"
            ],
            [
             0.7777777777777778,
             "#fb9f3a"
            ],
            [
             0.8888888888888888,
             "#fdca26"
            ],
            [
             1,
             "#f0f921"
            ]
           ]
          },
          "colorway": [
           "#636efa",
           "#EF553B",
           "#00cc96",
           "#ab63fa",
           "#FFA15A",
           "#19d3f3",
           "#FF6692",
           "#B6E880",
           "#FF97FF",
           "#FECB52"
          ],
          "font": {
           "color": "#2a3f5f"
          },
          "geo": {
           "bgcolor": "white",
           "lakecolor": "white",
           "landcolor": "white",
           "showlakes": true,
           "showland": true,
           "subunitcolor": "#C8D4E3"
          },
          "hoverlabel": {
           "align": "left"
          },
          "hovermode": "closest",
          "mapbox": {
           "style": "light"
          },
          "paper_bgcolor": "white",
          "plot_bgcolor": "white",
          "polar": {
           "angularaxis": {
            "gridcolor": "#EBF0F8",
            "linecolor": "#EBF0F8",
            "ticks": ""
           },
           "bgcolor": "white",
           "radialaxis": {
            "gridcolor": "#EBF0F8",
            "linecolor": "#EBF0F8",
            "ticks": ""
           }
          },
          "scene": {
           "xaxis": {
            "backgroundcolor": "white",
            "gridcolor": "#DFE8F3",
            "gridwidth": 2,
            "linecolor": "#EBF0F8",
            "showbackground": true,
            "ticks": "",
            "zerolinecolor": "#EBF0F8"
           },
           "yaxis": {
            "backgroundcolor": "white",
            "gridcolor": "#DFE8F3",
            "gridwidth": 2,
            "linecolor": "#EBF0F8",
            "showbackground": true,
            "ticks": "",
            "zerolinecolor": "#EBF0F8"
           },
           "zaxis": {
            "backgroundcolor": "white",
            "gridcolor": "#DFE8F3",
            "gridwidth": 2,
            "linecolor": "#EBF0F8",
            "showbackground": true,
            "ticks": "",
            "zerolinecolor": "#EBF0F8"
           }
          },
          "shapedefaults": {
           "line": {
            "color": "#2a3f5f"
           }
          },
          "ternary": {
           "aaxis": {
            "gridcolor": "#DFE8F3",
            "linecolor": "#A2B1C6",
            "ticks": ""
           },
           "baxis": {
            "gridcolor": "#DFE8F3",
            "linecolor": "#A2B1C6",
            "ticks": ""
           },
           "bgcolor": "white",
           "caxis": {
            "gridcolor": "#DFE8F3",
            "linecolor": "#A2B1C6",
            "ticks": ""
           }
          },
          "title": {
           "x": 0.05
          },
          "xaxis": {
           "automargin": true,
           "gridcolor": "#EBF0F8",
           "linecolor": "#EBF0F8",
           "ticks": "",
           "title": {
            "standoff": 15
           },
           "zerolinecolor": "#EBF0F8",
           "zerolinewidth": 2
          },
          "yaxis": {
           "automargin": true,
           "gridcolor": "#EBF0F8",
           "linecolor": "#EBF0F8",
           "ticks": "",
           "title": {
            "standoff": 15
           },
           "zerolinecolor": "#EBF0F8",
           "zerolinewidth": 2
          }
         }
        },
        "xaxis": {
         "anchor": "y",
         "domain": [
          0,
          0.94
         ],
         "showgrid": true,
         "title": {
          "text": "sample proportion"
         }
        },
        "yaxis": {
         "anchor": "x",
         "domain": [
          0,
          1
         ],
         "showgrid": true,
         "tickfont": {
          "color": "rgb(31, 119, 180)"
         },
         "title": {
          "font": {
           "color": "rgb(31, 119, 180)"
          },
          "text": "cum_demeaned_open_to_open_ret"
         }
        },
        "yaxis2": {
         "anchor": "x",
         "overlaying": "y",
         "showgrid": false,
         "side": "right",
         "tickfont": {
          "color": "rgb(214, 39, 40)"
         },
         "title": {
          "font": {
           "color": "rgb(214, 39, 40)"
          },
          "text": "gap_days"
         }
        }
       }
      }
     },
     "metadata": {},
     "output_type": "display_data"
    }
   ],
   "source": [
    "call_open_df.sort_values(\"gap_days\", ignore_index = True, inplace = True)\n",
    "mean = call_open_df[\"open_to_open_ret\"].mean()\n",
    "call_open_df[\"demeaned_open_to_open_ret\"] = call_open_df[\"open_to_open_ret\"] - mean\n",
    "call_open_df[\"cum_demeaned_open_to_open_ret\"] = call_open_df[\"demeaned_open_to_open_ret\"].cumsum()\n",
    "plot(call_open_df, \"cum_demeaned_open_to_open_ret\", ry = \"gap_days\")"
   ]
  },
  {
   "cell_type": "markdown",
   "id": "e9cf3b4f",
   "metadata": {},
   "source": [
    "## 日盤 open - 日盤 close"
   ]
  },
  {
   "cell_type": "markdown",
   "id": "c3f8696f",
   "metadata": {},
   "source": [
    "### put"
   ]
  },
  {
   "cell_type": "code",
   "execution_count": null,
   "id": "31728a71",
   "metadata": {},
   "outputs": [
    {
     "data": {
      "text/html": [
       "<div>\n",
       "<style scoped>\n",
       "    .dataframe tbody tr th:only-of-type {\n",
       "        vertical-align: middle;\n",
       "    }\n",
       "\n",
       "    .dataframe tbody tr th {\n",
       "        vertical-align: top;\n",
       "    }\n",
       "\n",
       "    .dataframe thead th {\n",
       "        text-align: right;\n",
       "    }\n",
       "</style>\n",
       "<table border=\"1\" class=\"dataframe\">\n",
       "  <thead>\n",
       "    <tr style=\"text-align: right;\">\n",
       "      <th></th>\n",
       "      <th>date</th>\n",
       "      <th>option_id</th>\n",
       "      <th>contract_date</th>\n",
       "      <th>strike_price</th>\n",
       "      <th>call_put</th>\n",
       "      <th>open</th>\n",
       "      <th>max</th>\n",
       "      <th>min</th>\n",
       "      <th>close</th>\n",
       "      <th>volume</th>\n",
       "      <th>settlement_price</th>\n",
       "      <th>open_interest</th>\n",
       "      <th>trading_session</th>\n",
       "      <th>date_gap_days</th>\n",
       "      <th>daily_ret</th>\n",
       "    </tr>\n",
       "  </thead>\n",
       "  <tbody>\n",
       "    <tr>\n",
       "      <th>0</th>\n",
       "      <td>2020-01-02</td>\n",
       "      <td>TXO</td>\n",
       "      <td>202001W1</td>\n",
       "      <td>12100.0</td>\n",
       "      <td>put</td>\n",
       "      <td>63.0</td>\n",
       "      <td>70.0</td>\n",
       "      <td>0.1</td>\n",
       "      <td>0.1</td>\n",
       "      <td>112084</td>\n",
       "      <td>0.0</td>\n",
       "      <td>38913</td>\n",
       "      <td>position</td>\n",
       "      <td>1.0</td>\n",
       "      <td>-0.998413</td>\n",
       "    </tr>\n",
       "    <tr>\n",
       "      <th>1</th>\n",
       "      <td>2020-01-03</td>\n",
       "      <td>TXO</td>\n",
       "      <td>202001W2</td>\n",
       "      <td>12100.0</td>\n",
       "      <td>put</td>\n",
       "      <td>25.0</td>\n",
       "      <td>116.0</td>\n",
       "      <td>21.0</td>\n",
       "      <td>56.0</td>\n",
       "      <td>57213</td>\n",
       "      <td>56.0</td>\n",
       "      <td>9210</td>\n",
       "      <td>position</td>\n",
       "      <td>3.0</td>\n",
       "      <td>1.240000</td>\n",
       "    </tr>\n",
       "    <tr>\n",
       "      <th>2</th>\n",
       "      <td>2020-01-06</td>\n",
       "      <td>TXO</td>\n",
       "      <td>202001W2</td>\n",
       "      <td>11950.0</td>\n",
       "      <td>put</td>\n",
       "      <td>27.5</td>\n",
       "      <td>42.0</td>\n",
       "      <td>18.0</td>\n",
       "      <td>40.5</td>\n",
       "      <td>48310</td>\n",
       "      <td>40.5</td>\n",
       "      <td>18548</td>\n",
       "      <td>position</td>\n",
       "      <td>1.0</td>\n",
       "      <td>0.472727</td>\n",
       "    </tr>\n",
       "    <tr>\n",
       "      <th>3</th>\n",
       "      <td>2020-01-07</td>\n",
       "      <td>TXO</td>\n",
       "      <td>202001W2</td>\n",
       "      <td>11850.0</td>\n",
       "      <td>put</td>\n",
       "      <td>4.2</td>\n",
       "      <td>49.5</td>\n",
       "      <td>3.3</td>\n",
       "      <td>18.5</td>\n",
       "      <td>81273</td>\n",
       "      <td>18.5</td>\n",
       "      <td>17796</td>\n",
       "      <td>position</td>\n",
       "      <td>1.0</td>\n",
       "      <td>3.404762</td>\n",
       "    </tr>\n",
       "    <tr>\n",
       "      <th>4</th>\n",
       "      <td>2020-01-08</td>\n",
       "      <td>TXO</td>\n",
       "      <td>202001W2</td>\n",
       "      <td>11800.0</td>\n",
       "      <td>put</td>\n",
       "      <td>61.0</td>\n",
       "      <td>111.0</td>\n",
       "      <td>0.1</td>\n",
       "      <td>0.1</td>\n",
       "      <td>100648</td>\n",
       "      <td>0.0</td>\n",
       "      <td>29030</td>\n",
       "      <td>position</td>\n",
       "      <td>1.0</td>\n",
       "      <td>-0.998361</td>\n",
       "    </tr>\n",
       "    <tr>\n",
       "      <th>...</th>\n",
       "      <td>...</td>\n",
       "      <td>...</td>\n",
       "      <td>...</td>\n",
       "      <td>...</td>\n",
       "      <td>...</td>\n",
       "      <td>...</td>\n",
       "      <td>...</td>\n",
       "      <td>...</td>\n",
       "      <td>...</td>\n",
       "      <td>...</td>\n",
       "      <td>...</td>\n",
       "      <td>...</td>\n",
       "      <td>...</td>\n",
       "      <td>...</td>\n",
       "      <td>...</td>\n",
       "    </tr>\n",
       "    <tr>\n",
       "      <th>1390</th>\n",
       "      <td>2025-09-19</td>\n",
       "      <td>TXO</td>\n",
       "      <td>202509W4</td>\n",
       "      <td>25650.0</td>\n",
       "      <td>put</td>\n",
       "      <td>108.0</td>\n",
       "      <td>176.0</td>\n",
       "      <td>104.0</td>\n",
       "      <td>165.0</td>\n",
       "      <td>3404</td>\n",
       "      <td>165.0</td>\n",
       "      <td>892</td>\n",
       "      <td>position</td>\n",
       "      <td>3.0</td>\n",
       "      <td>0.527778</td>\n",
       "    </tr>\n",
       "    <tr>\n",
       "      <th>1391</th>\n",
       "      <td>2025-09-22</td>\n",
       "      <td>TXO</td>\n",
       "      <td>202509W4</td>\n",
       "      <td>25900.0</td>\n",
       "      <td>put</td>\n",
       "      <td>210.0</td>\n",
       "      <td>265.0</td>\n",
       "      <td>118.0</td>\n",
       "      <td>129.0</td>\n",
       "      <td>4096</td>\n",
       "      <td>129.0</td>\n",
       "      <td>939</td>\n",
       "      <td>position</td>\n",
       "      <td>1.0</td>\n",
       "      <td>-0.385714</td>\n",
       "    </tr>\n",
       "    <tr>\n",
       "      <th>1392</th>\n",
       "      <td>2025-09-23</td>\n",
       "      <td>TXO</td>\n",
       "      <td>202509W4</td>\n",
       "      <td>26250.0</td>\n",
       "      <td>put</td>\n",
       "      <td>242.0</td>\n",
       "      <td>255.0</td>\n",
       "      <td>77.0</td>\n",
       "      <td>84.0</td>\n",
       "      <td>6505</td>\n",
       "      <td>84.0</td>\n",
       "      <td>863</td>\n",
       "      <td>position</td>\n",
       "      <td>1.0</td>\n",
       "      <td>-0.652893</td>\n",
       "    </tr>\n",
       "    <tr>\n",
       "      <th>1393</th>\n",
       "      <td>2025-09-24</td>\n",
       "      <td>TXO</td>\n",
       "      <td>202509W4</td>\n",
       "      <td>26250.0</td>\n",
       "      <td>put</td>\n",
       "      <td>26.5</td>\n",
       "      <td>203.0</td>\n",
       "      <td>1.0</td>\n",
       "      <td>103.0</td>\n",
       "      <td>32735</td>\n",
       "      <td>0.0</td>\n",
       "      <td>1897</td>\n",
       "      <td>position</td>\n",
       "      <td>1.0</td>\n",
       "      <td>2.886792</td>\n",
       "    </tr>\n",
       "    <tr>\n",
       "      <th>1394</th>\n",
       "      <td>2025-09-25</td>\n",
       "      <td>TXO</td>\n",
       "      <td>202510W1</td>\n",
       "      <td>26100.0</td>\n",
       "      <td>put</td>\n",
       "      <td>179.0</td>\n",
       "      <td>218.0</td>\n",
       "      <td>138.0</td>\n",
       "      <td>206.0</td>\n",
       "      <td>1521</td>\n",
       "      <td>206.0</td>\n",
       "      <td>742</td>\n",
       "      <td>position</td>\n",
       "      <td>NaN</td>\n",
       "      <td>0.150838</td>\n",
       "    </tr>\n",
       "  </tbody>\n",
       "</table>\n",
       "<p>1395 rows × 15 columns</p>\n",
       "</div>"
      ],
      "text/plain": [
       "           date option_id contract_date  strike_price call_put   open    max  \\\n",
       "0    2020-01-02       TXO      202001W1       12100.0      put   63.0   70.0   \n",
       "1    2020-01-03       TXO      202001W2       12100.0      put   25.0  116.0   \n",
       "2    2020-01-06       TXO      202001W2       11950.0      put   27.5   42.0   \n",
       "3    2020-01-07       TXO      202001W2       11850.0      put    4.2   49.5   \n",
       "4    2020-01-08       TXO      202001W2       11800.0      put   61.0  111.0   \n",
       "...         ...       ...           ...           ...      ...    ...    ...   \n",
       "1390 2025-09-19       TXO      202509W4       25650.0      put  108.0  176.0   \n",
       "1391 2025-09-22       TXO      202509W4       25900.0      put  210.0  265.0   \n",
       "1392 2025-09-23       TXO      202509W4       26250.0      put  242.0  255.0   \n",
       "1393 2025-09-24       TXO      202509W4       26250.0      put   26.5  203.0   \n",
       "1394 2025-09-25       TXO      202510W1       26100.0      put  179.0  218.0   \n",
       "\n",
       "        min  close  volume  settlement_price  open_interest trading_session  \\\n",
       "0       0.1    0.1  112084               0.0          38913        position   \n",
       "1      21.0   56.0   57213              56.0           9210        position   \n",
       "2      18.0   40.5   48310              40.5          18548        position   \n",
       "3       3.3   18.5   81273              18.5          17796        position   \n",
       "4       0.1    0.1  100648               0.0          29030        position   \n",
       "...     ...    ...     ...               ...            ...             ...   \n",
       "1390  104.0  165.0    3404             165.0            892        position   \n",
       "1391  118.0  129.0    4096             129.0            939        position   \n",
       "1392   77.0   84.0    6505              84.0            863        position   \n",
       "1393    1.0  103.0   32735               0.0           1897        position   \n",
       "1394  138.0  206.0    1521             206.0            742        position   \n",
       "\n",
       "      date_gap_days  daily_ret  \n",
       "0               1.0  -0.998413  \n",
       "1               3.0   1.240000  \n",
       "2               1.0   0.472727  \n",
       "3               1.0   3.404762  \n",
       "4               1.0  -0.998361  \n",
       "...             ...        ...  \n",
       "1390            3.0   0.527778  \n",
       "1391            1.0  -0.385714  \n",
       "1392            1.0  -0.652893  \n",
       "1393            1.0   2.886792  \n",
       "1394            NaN   0.150838  \n",
       "\n",
       "[1395 rows x 15 columns]"
      ]
     },
     "execution_count": 30,
     "metadata": {},
     "output_type": "execute_result"
    }
   ],
   "source": [
    "\"\"\"get date gap days\"\"\"\n",
    "op_atm_put_df = op_atm_df.loc[op_atm_df[\"call_put\"] == \"put\"].copy().reset_index(drop = True)\n",
    "\n",
    "# 計算價平 put 資料的日期間隔（單位：天）\n",
    "op_atm_put_df[\"date\"] = pd.to_datetime(op_atm_put_df[\"date\"])\n",
    "op_atm_put_df.sort_values(\"date\", inplace = True)\n",
    "op_atm_put_df[\"gap_days\"] = op_atm_put_df[\"date\"].diff().dt.days\n",
    "op_atm_put_df[\"gap_days\"] = op_atm_put_df[\"gap_days\"].shift(-1)\n",
    "op_atm_put_df[\"daily_ret\"] = (op_atm_put_df[\"close\"] / op_atm_put_df[\"open\"]) - 1\n",
    "op_atm_put_df"
   ]
  },
  {
   "cell_type": "code",
   "execution_count": null,
   "id": "fc7d3e64",
   "metadata": {},
   "outputs": [
    {
     "data": {
      "application/vnd.plotly.v1+json": {
       "config": {
        "plotlyServerURL": "https://plot.ly"
       },
       "data": [
        {
         "line": {
          "color": "rgb(31, 119, 180)"
         },
         "mode": "lines",
         "name": "cum_demeaned_daily_ret",
         "type": "scatter",
         "x": {
          "bdata": "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",
          "dtype": "f8"
         },
         "xaxis": "x",
         "y": {
          "bdata": "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",
          "dtype": "f8"
         },
         "yaxis": "y"
        },
        {
         "line": {
          "color": "rgb(214, 39, 40)",
          "dash": "dash"
         },
         "mode": "lines",
         "name": "date_gap_days",
         "type": "scatter",
         "x": {
          "bdata": "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",
          "dtype": "f8"
         },
         "xaxis": "x",
         "y": {
          "bdata": "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",
          "dtype": "f8"
         },
         "yaxis": "y2"
        }
       ],
       "layout": {
        "annotations": [
         {
          "font": {
           "color": "gray",
           "size": 12
          },
          "showarrow": false,
          "text": "Sample size: 1395",
          "x": 0.99,
          "xanchor": "right",
          "xref": "paper",
          "y": 0.02,
          "yref": "paper"
         }
        ],
        "height": 500,
        "legend": {
         "x": 1.02,
         "xanchor": "left",
         "y": 0.5
        },
        "margin": {
         "b": 50,
         "l": 70,
         "r": 160,
         "t": 50
        },
        "template": {
         "data": {
          "bar": [
           {
            "error_x": {
             "color": "#2a3f5f"
            },
            "error_y": {
             "color": "#2a3f5f"
            },
            "marker": {
             "line": {
              "color": "white",
              "width": 0.5
             },
             "pattern": {
              "fillmode": "overlay",
              "size": 10,
              "solidity": 0.2
             }
            },
            "type": "bar"
           }
          ],
          "barpolar": [
           {
            "marker": {
             "line": {
              "color": "white",
              "width": 0.5
             },
             "pattern": {
              "fillmode": "overlay",
              "size": 10,
              "solidity": 0.2
             }
            },
            "type": "barpolar"
           }
          ],
          "carpet": [
           {
            "aaxis": {
             "endlinecolor": "#2a3f5f",
             "gridcolor": "#C8D4E3",
             "linecolor": "#C8D4E3",
             "minorgridcolor": "#C8D4E3",
             "startlinecolor": "#2a3f5f"
            },
            "baxis": {
             "endlinecolor": "#2a3f5f",
             "gridcolor": "#C8D4E3",
             "linecolor": "#C8D4E3",
             "minorgridcolor": "#C8D4E3",
             "startlinecolor": "#2a3f5f"
            },
            "type": "carpet"
           }
          ],
          "choropleth": [
           {
            "colorbar": {
             "outlinewidth": 0,
             "ticks": ""
            },
            "type": "choropleth"
           }
          ],
          "contour": [
           {
            "colorbar": {
             "outlinewidth": 0,
             "ticks": ""
            },
            "colorscale": [
             [
              0,
              "#0d0887"
             ],
             [
              0.1111111111111111,
              "#46039f"
             ],
             [
              0.2222222222222222,
              "#7201a8"
             ],
             [
              0.3333333333333333,
              "#9c179e"
             ],
             [
              0.4444444444444444,
              "#bd3786"
             ],
             [
              0.5555555555555556,
              "#d8576b"
             ],
             [
              0.6666666666666666,
              "#ed7953"
             ],
             [
              0.7777777777777778,
              "#fb9f3a"
             ],
             [
              0.8888888888888888,
              "#fdca26"
             ],
             [
              1,
              "#f0f921"
             ]
            ],
            "type": "contour"
           }
          ],
          "contourcarpet": [
           {
            "colorbar": {
             "outlinewidth": 0,
             "ticks": ""
            },
            "type": "contourcarpet"
           }
          ],
          "heatmap": [
           {
            "colorbar": {
             "outlinewidth": 0,
             "ticks": ""
            },
            "colorscale": [
             [
              0,
              "#0d0887"
             ],
             [
              0.1111111111111111,
              "#46039f"
             ],
             [
              0.2222222222222222,
              "#7201a8"
             ],
             [
              0.3333333333333333,
              "#9c179e"
             ],
             [
              0.4444444444444444,
              "#bd3786"
             ],
             [
              0.5555555555555556,
              "#d8576b"
             ],
             [
              0.6666666666666666,
              "#ed7953"
             ],
             [
              0.7777777777777778,
              "#fb9f3a"
             ],
             [
              0.8888888888888888,
              "#fdca26"
             ],
             [
              1,
              "#f0f921"
             ]
            ],
            "type": "heatmap"
           }
          ],
          "histogram": [
           {
            "marker": {
             "pattern": {
              "fillmode": "overlay",
              "size": 10,
              "solidity": 0.2
             }
            },
            "type": "histogram"
           }
          ],
          "histogram2d": [
           {
            "colorbar": {
             "outlinewidth": 0,
             "ticks": ""
            },
            "colorscale": [
             [
              0,
              "#0d0887"
             ],
             [
              0.1111111111111111,
              "#46039f"
             ],
             [
              0.2222222222222222,
              "#7201a8"
             ],
             [
              0.3333333333333333,
              "#9c179e"
             ],
             [
              0.4444444444444444,
              "#bd3786"
             ],
             [
              0.5555555555555556,
              "#d8576b"
             ],
             [
              0.6666666666666666,
              "#ed7953"
             ],
             [
              0.7777777777777778,
              "#fb9f3a"
             ],
             [
              0.8888888888888888,
              "#fdca26"
             ],
             [
              1,
              "#f0f921"
             ]
            ],
            "type": "histogram2d"
           }
          ],
          "histogram2dcontour": [
           {
            "colorbar": {
             "outlinewidth": 0,
             "ticks": ""
            },
            "colorscale": [
             [
              0,
              "#0d0887"
             ],
             [
              0.1111111111111111,
              "#46039f"
             ],
             [
              0.2222222222222222,
              "#7201a8"
             ],
             [
              0.3333333333333333,
              "#9c179e"
             ],
             [
              0.4444444444444444,
              "#bd3786"
             ],
             [
              0.5555555555555556,
              "#d8576b"
             ],
             [
              0.6666666666666666,
              "#ed7953"
             ],
             [
              0.7777777777777778,
              "#fb9f3a"
             ],
             [
              0.8888888888888888,
              "#fdca26"
             ],
             [
              1,
              "#f0f921"
             ]
            ],
            "type": "histogram2dcontour"
           }
          ],
          "mesh3d": [
           {
            "colorbar": {
             "outlinewidth": 0,
             "ticks": ""
            },
            "type": "mesh3d"
           }
          ],
          "parcoords": [
           {
            "line": {
             "colorbar": {
              "outlinewidth": 0,
              "ticks": ""
             }
            },
            "type": "parcoords"
           }
          ],
          "pie": [
           {
            "automargin": true,
            "type": "pie"
           }
          ],
          "scatter": [
           {
            "fillpattern": {
             "fillmode": "overlay",
             "size": 10,
             "solidity": 0.2
            },
            "type": "scatter"
           }
          ],
          "scatter3d": [
           {
            "line": {
             "colorbar": {
              "outlinewidth": 0,
              "ticks": ""
             }
            },
            "marker": {
             "colorbar": {
              "outlinewidth": 0,
              "ticks": ""
             }
            },
            "type": "scatter3d"
           }
          ],
          "scattercarpet": [
           {
            "marker": {
             "colorbar": {
              "outlinewidth": 0,
              "ticks": ""
             }
            },
            "type": "scattercarpet"
           }
          ],
          "scattergeo": [
           {
            "marker": {
             "colorbar": {
              "outlinewidth": 0,
              "ticks": ""
             }
            },
            "type": "scattergeo"
           }
          ],
          "scattergl": [
           {
            "marker": {
             "colorbar": {
              "outlinewidth": 0,
              "ticks": ""
             }
            },
            "type": "scattergl"
           }
          ],
          "scattermap": [
           {
            "marker": {
             "colorbar": {
              "outlinewidth": 0,
              "ticks": ""
             }
            },
            "type": "scattermap"
           }
          ],
          "scattermapbox": [
           {
            "marker": {
             "colorbar": {
              "outlinewidth": 0,
              "ticks": ""
             }
            },
            "type": "scattermapbox"
           }
          ],
          "scatterpolar": [
           {
            "marker": {
             "colorbar": {
              "outlinewidth": 0,
              "ticks": ""
             }
            },
            "type": "scatterpolar"
           }
          ],
          "scatterpolargl": [
           {
            "marker": {
             "colorbar": {
              "outlinewidth": 0,
              "ticks": ""
             }
            },
            "type": "scatterpolargl"
           }
          ],
          "scatterternary": [
           {
            "marker": {
             "colorbar": {
              "outlinewidth": 0,
              "ticks": ""
             }
            },
            "type": "scatterternary"
           }
          ],
          "surface": [
           {
            "colorbar": {
             "outlinewidth": 0,
             "ticks": ""
            },
            "colorscale": [
             [
              0,
              "#0d0887"
             ],
             [
              0.1111111111111111,
              "#46039f"
             ],
             [
              0.2222222222222222,
              "#7201a8"
             ],
             [
              0.3333333333333333,
              "#9c179e"
             ],
             [
              0.4444444444444444,
              "#bd3786"
             ],
             [
              0.5555555555555556,
              "#d8576b"
             ],
             [
              0.6666666666666666,
              "#ed7953"
             ],
             [
              0.7777777777777778,
              "#fb9f3a"
             ],
             [
              0.8888888888888888,
              "#fdca26"
             ],
             [
              1,
              "#f0f921"
             ]
            ],
            "type": "surface"
           }
          ],
          "table": [
           {
            "cells": {
             "fill": {
              "color": "#EBF0F8"
             },
             "line": {
              "color": "white"
             }
            },
            "header": {
             "fill": {
              "color": "#C8D4E3"
             },
             "line": {
              "color": "white"
             }
            },
            "type": "table"
           }
          ]
         },
         "layout": {
          "annotationdefaults": {
           "arrowcolor": "#2a3f5f",
           "arrowhead": 0,
           "arrowwidth": 1
          },
          "autotypenumbers": "strict",
          "coloraxis": {
           "colorbar": {
            "outlinewidth": 0,
            "ticks": ""
           }
          },
          "colorscale": {
           "diverging": [
            [
             0,
             "#8e0152"
            ],
            [
             0.1,
             "#c51b7d"
            ],
            [
             0.2,
             "#de77ae"
            ],
            [
             0.3,
             "#f1b6da"
            ],
            [
             0.4,
             "#fde0ef"
            ],
            [
             0.5,
             "#f7f7f7"
            ],
            [
             0.6,
             "#e6f5d0"
            ],
            [
             0.7,
             "#b8e186"
            ],
            [
             0.8,
             "#7fbc41"
            ],
            [
             0.9,
             "#4d9221"
            ],
            [
             1,
             "#276419"
            ]
           ],
           "sequential": [
            [
             0,
             "#0d0887"
            ],
            [
             0.1111111111111111,
             "#46039f"
            ],
            [
             0.2222222222222222,
             "#7201a8"
            ],
            [
             0.3333333333333333,
             "#9c179e"
            ],
            [
             0.4444444444444444,
             "#bd3786"
            ],
            [
             0.5555555555555556,
             "#d8576b"
            ],
            [
             0.6666666666666666,
             "#ed7953"
            ],
            [
             0.7777777777777778,
             "#fb9f3a"
            ],
            [
             0.8888888888888888,
             "#fdca26"
            ],
            [
             1,
             "#f0f921"
            ]
           ],
           "sequentialminus": [
            [
             0,
             "#0d0887"
            ],
            [
             0.1111111111111111,
             "#46039f"
            ],
            [
             0.2222222222222222,
             "#7201a8"
            ],
            [
             0.3333333333333333,
             "#9c179e"
            ],
            [
             0.4444444444444444,
             "#bd3786"
            ],
            [
             0.5555555555555556,
             "#d8576b"
            ],
            [
             0.6666666666666666,
             "#ed7953"
            ],
            [
             0.7777777777777778,
             "#fb9f3a"
            ],
            [
             0.8888888888888888,
             "#fdca26"
            ],
            [
             1,
             "#f0f921"
            ]
           ]
          },
          "colorway": [
           "#636efa",
           "#EF553B",
           "#00cc96",
           "#ab63fa",
           "#FFA15A",
           "#19d3f3",
           "#FF6692",
           "#B6E880",
           "#FF97FF",
           "#FECB52"
          ],
          "font": {
           "color": "#2a3f5f"
          },
          "geo": {
           "bgcolor": "white",
           "lakecolor": "white",
           "landcolor": "white",
           "showlakes": true,
           "showland": true,
           "subunitcolor": "#C8D4E3"
          },
          "hoverlabel": {
           "align": "left"
          },
          "hovermode": "closest",
          "mapbox": {
           "style": "light"
          },
          "paper_bgcolor": "white",
          "plot_bgcolor": "white",
          "polar": {
           "angularaxis": {
            "gridcolor": "#EBF0F8",
            "linecolor": "#EBF0F8",
            "ticks": ""
           },
           "bgcolor": "white",
           "radialaxis": {
            "gridcolor": "#EBF0F8",
            "linecolor": "#EBF0F8",
            "ticks": ""
           }
          },
          "scene": {
           "xaxis": {
            "backgroundcolor": "white",
            "gridcolor": "#DFE8F3",
            "gridwidth": 2,
            "linecolor": "#EBF0F8",
            "showbackground": true,
            "ticks": "",
            "zerolinecolor": "#EBF0F8"
           },
           "yaxis": {
            "backgroundcolor": "white",
            "gridcolor": "#DFE8F3",
            "gridwidth": 2,
            "linecolor": "#EBF0F8",
            "showbackground": true,
            "ticks": "",
            "zerolinecolor": "#EBF0F8"
           },
           "zaxis": {
            "backgroundcolor": "white",
            "gridcolor": "#DFE8F3",
            "gridwidth": 2,
            "linecolor": "#EBF0F8",
            "showbackground": true,
            "ticks": "",
            "zerolinecolor": "#EBF0F8"
           }
          },
          "shapedefaults": {
           "line": {
            "color": "#2a3f5f"
           }
          },
          "ternary": {
           "aaxis": {
            "gridcolor": "#DFE8F3",
            "linecolor": "#A2B1C6",
            "ticks": ""
           },
           "baxis": {
            "gridcolor": "#DFE8F3",
            "linecolor": "#A2B1C6",
            "ticks": ""
           },
           "bgcolor": "white",
           "caxis": {
            "gridcolor": "#DFE8F3",
            "linecolor": "#A2B1C6",
            "ticks": ""
           }
          },
          "title": {
           "x": 0.05
          },
          "xaxis": {
           "automargin": true,
           "gridcolor": "#EBF0F8",
           "linecolor": "#EBF0F8",
           "ticks": "",
           "title": {
            "standoff": 15
           },
           "zerolinecolor": "#EBF0F8",
           "zerolinewidth": 2
          },
          "yaxis": {
           "automargin": true,
           "gridcolor": "#EBF0F8",
           "linecolor": "#EBF0F8",
           "ticks": "",
           "title": {
            "standoff": 15
           },
           "zerolinecolor": "#EBF0F8",
           "zerolinewidth": 2
          }
         }
        },
        "xaxis": {
         "anchor": "y",
         "domain": [
          0,
          0.94
         ],
         "showgrid": true,
         "title": {
          "text": "sample proportion"
         }
        },
        "yaxis": {
         "anchor": "x",
         "domain": [
          0,
          1
         ],
         "showgrid": true,
         "tickfont": {
          "color": "rgb(31, 119, 180)"
         },
         "title": {
          "font": {
           "color": "rgb(31, 119, 180)"
          },
          "text": "cum_demeaned_daily_ret"
         }
        },
        "yaxis2": {
         "anchor": "x",
         "overlaying": "y",
         "showgrid": false,
         "side": "right",
         "tickfont": {
          "color": "rgb(214, 39, 40)"
         },
         "title": {
          "font": {
           "color": "rgb(214, 39, 40)"
          },
          "text": "date_gap_days"
         }
        }
       }
      }
     },
     "metadata": {},
     "output_type": "display_data"
    }
   ],
   "source": [
    "op_atm_put_df.sort_values(\"gap_days\", ignore_index = True, inplace = True)\n",
    "mean = op_atm_put_df[\"daily_ret\"].mean()\n",
    "op_atm_put_df[\"demeaned_daily_ret\"] = op_atm_put_df[\"daily_ret\"] - mean\n",
    "op_atm_put_df[\"cum_demeaned_daily_ret\"] = op_atm_put_df[\"demeaned_daily_ret\"].cumsum()\n",
    "plot(op_atm_put_df, \"cum_demeaned_daily_ret\", \"index\", \"gap_days\")"
   ]
  },
  {
   "cell_type": "markdown",
   "id": "862f64d0",
   "metadata": {},
   "source": [
    "### call"
   ]
  },
  {
   "cell_type": "code",
   "execution_count": null,
   "id": "275bd35c",
   "metadata": {},
   "outputs": [
    {
     "data": {
      "text/html": [
       "<div>\n",
       "<style scoped>\n",
       "    .dataframe tbody tr th:only-of-type {\n",
       "        vertical-align: middle;\n",
       "    }\n",
       "\n",
       "    .dataframe tbody tr th {\n",
       "        vertical-align: top;\n",
       "    }\n",
       "\n",
       "    .dataframe thead th {\n",
       "        text-align: right;\n",
       "    }\n",
       "</style>\n",
       "<table border=\"1\" class=\"dataframe\">\n",
       "  <thead>\n",
       "    <tr style=\"text-align: right;\">\n",
       "      <th></th>\n",
       "      <th>date</th>\n",
       "      <th>option_id</th>\n",
       "      <th>contract_date</th>\n",
       "      <th>strike_price</th>\n",
       "      <th>call_put</th>\n",
       "      <th>open</th>\n",
       "      <th>max</th>\n",
       "      <th>min</th>\n",
       "      <th>close</th>\n",
       "      <th>volume</th>\n",
       "      <th>settlement_price</th>\n",
       "      <th>open_interest</th>\n",
       "      <th>trading_session</th>\n",
       "      <th>date_gap_days</th>\n",
       "      <th>daily_ret</th>\n",
       "    </tr>\n",
       "  </thead>\n",
       "  <tbody>\n",
       "    <tr>\n",
       "      <th>0</th>\n",
       "      <td>2020-01-02</td>\n",
       "      <td>TXO</td>\n",
       "      <td>202001W1</td>\n",
       "      <td>12100.0</td>\n",
       "      <td>call</td>\n",
       "      <td>5.7</td>\n",
       "      <td>21.0</td>\n",
       "      <td>1.2</td>\n",
       "      <td>2.0</td>\n",
       "      <td>134030</td>\n",
       "      <td>0.0</td>\n",
       "      <td>16210</td>\n",
       "      <td>position</td>\n",
       "      <td>1.0</td>\n",
       "      <td>-0.649123</td>\n",
       "    </tr>\n",
       "    <tr>\n",
       "      <th>1</th>\n",
       "      <td>2020-01-03</td>\n",
       "      <td>TXO</td>\n",
       "      <td>202001W2</td>\n",
       "      <td>12100.0</td>\n",
       "      <td>call</td>\n",
       "      <td>109.0</td>\n",
       "      <td>122.0</td>\n",
       "      <td>31.5</td>\n",
       "      <td>52.0</td>\n",
       "      <td>52247</td>\n",
       "      <td>52.0</td>\n",
       "      <td>8766</td>\n",
       "      <td>position</td>\n",
       "      <td>3.0</td>\n",
       "      <td>-0.522936</td>\n",
       "    </tr>\n",
       "    <tr>\n",
       "      <th>2</th>\n",
       "      <td>2020-01-06</td>\n",
       "      <td>TXO</td>\n",
       "      <td>202001W2</td>\n",
       "      <td>11950.0</td>\n",
       "      <td>call</td>\n",
       "      <td>119.0</td>\n",
       "      <td>119.0</td>\n",
       "      <td>47.0</td>\n",
       "      <td>47.5</td>\n",
       "      <td>16541</td>\n",
       "      <td>48.5</td>\n",
       "      <td>4983</td>\n",
       "      <td>position</td>\n",
       "      <td>1.0</td>\n",
       "      <td>-0.600840</td>\n",
       "    </tr>\n",
       "    <tr>\n",
       "      <th>3</th>\n",
       "      <td>2020-01-07</td>\n",
       "      <td>TXO</td>\n",
       "      <td>202001W2</td>\n",
       "      <td>11850.0</td>\n",
       "      <td>call</td>\n",
       "      <td>150.0</td>\n",
       "      <td>165.0</td>\n",
       "      <td>28.0</td>\n",
       "      <td>46.0</td>\n",
       "      <td>55996</td>\n",
       "      <td>46.0</td>\n",
       "      <td>8700</td>\n",
       "      <td>position</td>\n",
       "      <td>1.0</td>\n",
       "      <td>-0.693333</td>\n",
       "    </tr>\n",
       "    <tr>\n",
       "      <th>4</th>\n",
       "      <td>2020-01-08</td>\n",
       "      <td>TXO</td>\n",
       "      <td>202001W2</td>\n",
       "      <td>11800.0</td>\n",
       "      <td>call</td>\n",
       "      <td>15.0</td>\n",
       "      <td>98.0</td>\n",
       "      <td>12.0</td>\n",
       "      <td>39.5</td>\n",
       "      <td>121111</td>\n",
       "      <td>0.0</td>\n",
       "      <td>3741</td>\n",
       "      <td>position</td>\n",
       "      <td>1.0</td>\n",
       "      <td>1.633333</td>\n",
       "    </tr>\n",
       "    <tr>\n",
       "      <th>...</th>\n",
       "      <td>...</td>\n",
       "      <td>...</td>\n",
       "      <td>...</td>\n",
       "      <td>...</td>\n",
       "      <td>...</td>\n",
       "      <td>...</td>\n",
       "      <td>...</td>\n",
       "      <td>...</td>\n",
       "      <td>...</td>\n",
       "      <td>...</td>\n",
       "      <td>...</td>\n",
       "      <td>...</td>\n",
       "      <td>...</td>\n",
       "      <td>...</td>\n",
       "      <td>...</td>\n",
       "    </tr>\n",
       "    <tr>\n",
       "      <th>1390</th>\n",
       "      <td>2025-09-19</td>\n",
       "      <td>TXO</td>\n",
       "      <td>202509W4</td>\n",
       "      <td>25650.0</td>\n",
       "      <td>call</td>\n",
       "      <td>276.0</td>\n",
       "      <td>276.0</td>\n",
       "      <td>158.0</td>\n",
       "      <td>167.0</td>\n",
       "      <td>1440</td>\n",
       "      <td>167.0</td>\n",
       "      <td>539</td>\n",
       "      <td>position</td>\n",
       "      <td>3.0</td>\n",
       "      <td>-0.394928</td>\n",
       "    </tr>\n",
       "    <tr>\n",
       "      <th>1391</th>\n",
       "      <td>2025-09-22</td>\n",
       "      <td>TXO</td>\n",
       "      <td>202509W4</td>\n",
       "      <td>25900.0</td>\n",
       "      <td>call</td>\n",
       "      <td>63.0</td>\n",
       "      <td>128.0</td>\n",
       "      <td>40.0</td>\n",
       "      <td>99.0</td>\n",
       "      <td>18975</td>\n",
       "      <td>99.0</td>\n",
       "      <td>3500</td>\n",
       "      <td>position</td>\n",
       "      <td>1.0</td>\n",
       "      <td>0.571429</td>\n",
       "    </tr>\n",
       "    <tr>\n",
       "      <th>1392</th>\n",
       "      <td>2025-09-23</td>\n",
       "      <td>TXO</td>\n",
       "      <td>202509W4</td>\n",
       "      <td>26250.0</td>\n",
       "      <td>call</td>\n",
       "      <td>25.0</td>\n",
       "      <td>136.0</td>\n",
       "      <td>17.5</td>\n",
       "      <td>86.0</td>\n",
       "      <td>21424</td>\n",
       "      <td>86.0</td>\n",
       "      <td>2751</td>\n",
       "      <td>position</td>\n",
       "      <td>1.0</td>\n",
       "      <td>2.440000</td>\n",
       "    </tr>\n",
       "    <tr>\n",
       "      <th>1393</th>\n",
       "      <td>2025-09-24</td>\n",
       "      <td>TXO</td>\n",
       "      <td>202509W4</td>\n",
       "      <td>26250.0</td>\n",
       "      <td>call</td>\n",
       "      <td>136.0</td>\n",
       "      <td>143.0</td>\n",
       "      <td>0.1</td>\n",
       "      <td>0.2</td>\n",
       "      <td>42946</td>\n",
       "      <td>0.0</td>\n",
       "      <td>6890</td>\n",
       "      <td>position</td>\n",
       "      <td>1.0</td>\n",
       "      <td>-0.998529</td>\n",
       "    </tr>\n",
       "    <tr>\n",
       "      <th>1394</th>\n",
       "      <td>2025-09-25</td>\n",
       "      <td>TXO</td>\n",
       "      <td>202510W1</td>\n",
       "      <td>26100.0</td>\n",
       "      <td>call</td>\n",
       "      <td>260.0</td>\n",
       "      <td>304.0</td>\n",
       "      <td>184.0</td>\n",
       "      <td>184.0</td>\n",
       "      <td>701</td>\n",
       "      <td>184.0</td>\n",
       "      <td>359</td>\n",
       "      <td>position</td>\n",
       "      <td>NaN</td>\n",
       "      <td>-0.292308</td>\n",
       "    </tr>\n",
       "  </tbody>\n",
       "</table>\n",
       "<p>1395 rows × 15 columns</p>\n",
       "</div>"
      ],
      "text/plain": [
       "           date option_id contract_date  strike_price call_put   open    max  \\\n",
       "0    2020-01-02       TXO      202001W1       12100.0     call    5.7   21.0   \n",
       "1    2020-01-03       TXO      202001W2       12100.0     call  109.0  122.0   \n",
       "2    2020-01-06       TXO      202001W2       11950.0     call  119.0  119.0   \n",
       "3    2020-01-07       TXO      202001W2       11850.0     call  150.0  165.0   \n",
       "4    2020-01-08       TXO      202001W2       11800.0     call   15.0   98.0   \n",
       "...         ...       ...           ...           ...      ...    ...    ...   \n",
       "1390 2025-09-19       TXO      202509W4       25650.0     call  276.0  276.0   \n",
       "1391 2025-09-22       TXO      202509W4       25900.0     call   63.0  128.0   \n",
       "1392 2025-09-23       TXO      202509W4       26250.0     call   25.0  136.0   \n",
       "1393 2025-09-24       TXO      202509W4       26250.0     call  136.0  143.0   \n",
       "1394 2025-09-25       TXO      202510W1       26100.0     call  260.0  304.0   \n",
       "\n",
       "        min  close  volume  settlement_price  open_interest trading_session  \\\n",
       "0       1.2    2.0  134030               0.0          16210        position   \n",
       "1      31.5   52.0   52247              52.0           8766        position   \n",
       "2      47.0   47.5   16541              48.5           4983        position   \n",
       "3      28.0   46.0   55996              46.0           8700        position   \n",
       "4      12.0   39.5  121111               0.0           3741        position   \n",
       "...     ...    ...     ...               ...            ...             ...   \n",
       "1390  158.0  167.0    1440             167.0            539        position   \n",
       "1391   40.0   99.0   18975              99.0           3500        position   \n",
       "1392   17.5   86.0   21424              86.0           2751        position   \n",
       "1393    0.1    0.2   42946               0.0           6890        position   \n",
       "1394  184.0  184.0     701             184.0            359        position   \n",
       "\n",
       "      date_gap_days  daily_ret  \n",
       "0               1.0  -0.649123  \n",
       "1               3.0  -0.522936  \n",
       "2               1.0  -0.600840  \n",
       "3               1.0  -0.693333  \n",
       "4               1.0   1.633333  \n",
       "...             ...        ...  \n",
       "1390            3.0  -0.394928  \n",
       "1391            1.0   0.571429  \n",
       "1392            1.0   2.440000  \n",
       "1393            1.0  -0.998529  \n",
       "1394            NaN  -0.292308  \n",
       "\n",
       "[1395 rows x 15 columns]"
      ]
     },
     "execution_count": 34,
     "metadata": {},
     "output_type": "execute_result"
    }
   ],
   "source": [
    "\"\"\"get date gap days\"\"\"\n",
    "op_atm_call_df = op_atm_df.loc[op_atm_df[\"call_put\"] == \"call\"].copy().reset_index(drop = True)\n",
    "\n",
    "# 計算價平 put 資料的日期間隔（單位：天）\n",
    "op_atm_call_df[\"date\"] = pd.to_datetime(op_atm_call_df[\"date\"])\n",
    "op_atm_call_df.sort_values(\"date\", inplace = True)\n",
    "op_atm_call_df[\"gap_days\"] = op_atm_call_df[\"date\"].diff().dt.days\n",
    "op_atm_call_df[\"gap_days\"] = op_atm_call_df[\"gap_days\"].shift(-1)\n",
    "op_atm_call_df[\"daily_ret\"] = (op_atm_call_df[\"close\"] / op_atm_call_df[\"open\"]) - 1\n",
    "op_atm_call_df"
   ]
  },
  {
   "cell_type": "code",
   "execution_count": null,
   "id": "d5a3754c",
   "metadata": {},
   "outputs": [
    {
     "data": {
      "application/vnd.plotly.v1+json": {
       "config": {
        "plotlyServerURL": "https://plot.ly"
       },
       "data": [
        {
         "line": {
          "color": "rgb(31, 119, 180)"
         },
         "mode": "lines",
         "name": "cum_demeaned_daily_ret",
         "type": "scatter",
         "x": {
          "bdata": "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",
          "dtype": "f8"
         },
         "xaxis": "x",
         "y": {
          "bdata": "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",
          "dtype": "f8"
         },
         "yaxis": "y"
        },
        {
         "line": {
          "color": "rgb(214, 39, 40)",
          "dash": "dash"
         },
         "mode": "lines",
         "name": "date_gap_days",
         "type": "scatter",
         "x": {
          "bdata": "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",
          "dtype": "f8"
         },
         "xaxis": "x",
         "y": {
          "bdata": "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",
          "dtype": "f8"
         },
         "yaxis": "y2"
        }
       ],
       "layout": {
        "annotations": [
         {
          "font": {
           "color": "gray",
           "size": 12
          },
          "showarrow": false,
          "text": "Sample size: 1395",
          "x": 0.99,
          "xanchor": "right",
          "xref": "paper",
          "y": 0.02,
          "yref": "paper"
         }
        ],
        "height": 500,
        "legend": {
         "x": 1.02,
         "xanchor": "left",
         "y": 0.5
        },
        "margin": {
         "b": 50,
         "l": 70,
         "r": 160,
         "t": 50
        },
        "template": {
         "data": {
          "bar": [
           {
            "error_x": {
             "color": "#2a3f5f"
            },
            "error_y": {
             "color": "#2a3f5f"
            },
            "marker": {
             "line": {
              "color": "white",
              "width": 0.5
             },
             "pattern": {
              "fillmode": "overlay",
              "size": 10,
              "solidity": 0.2
             }
            },
            "type": "bar"
           }
          ],
          "barpolar": [
           {
            "marker": {
             "line": {
              "color": "white",
              "width": 0.5
             },
             "pattern": {
              "fillmode": "overlay",
              "size": 10,
              "solidity": 0.2
             }
            },
            "type": "barpolar"
           }
          ],
          "carpet": [
           {
            "aaxis": {
             "endlinecolor": "#2a3f5f",
             "gridcolor": "#C8D4E3",
             "linecolor": "#C8D4E3",
             "minorgridcolor": "#C8D4E3",
             "startlinecolor": "#2a3f5f"
            },
            "baxis": {
             "endlinecolor": "#2a3f5f",
             "gridcolor": "#C8D4E3",
             "linecolor": "#C8D4E3",
             "minorgridcolor": "#C8D4E3",
             "startlinecolor": "#2a3f5f"
            },
            "type": "carpet"
           }
          ],
          "choropleth": [
           {
            "colorbar": {
             "outlinewidth": 0,
             "ticks": ""
            },
            "type": "choropleth"
           }
          ],
          "contour": [
           {
            "colorbar": {
             "outlinewidth": 0,
             "ticks": ""
            },
            "colorscale": [
             [
              0,
              "#0d0887"
             ],
             [
              0.1111111111111111,
              "#46039f"
             ],
             [
              0.2222222222222222,
              "#7201a8"
             ],
             [
              0.3333333333333333,
              "#9c179e"
             ],
             [
              0.4444444444444444,
              "#bd3786"
             ],
             [
              0.5555555555555556,
              "#d8576b"
             ],
             [
              0.6666666666666666,
              "#ed7953"
             ],
             [
              0.7777777777777778,
              "#fb9f3a"
             ],
             [
              0.8888888888888888,
              "#fdca26"
             ],
             [
              1,
              "#f0f921"
             ]
            ],
            "type": "contour"
           }
          ],
          "contourcarpet": [
           {
            "colorbar": {
             "outlinewidth": 0,
             "ticks": ""
            },
            "type": "contourcarpet"
           }
          ],
          "heatmap": [
           {
            "colorbar": {
             "outlinewidth": 0,
             "ticks": ""
            },
            "colorscale": [
             [
              0,
              "#0d0887"
             ],
             [
              0.1111111111111111,
              "#46039f"
             ],
             [
              0.2222222222222222,
              "#7201a8"
             ],
             [
              0.3333333333333333,
              "#9c179e"
             ],
             [
              0.4444444444444444,
              "#bd3786"
             ],
             [
              0.5555555555555556,
              "#d8576b"
             ],
             [
              0.6666666666666666,
              "#ed7953"
             ],
             [
              0.7777777777777778,
              "#fb9f3a"
             ],
             [
              0.8888888888888888,
              "#fdca26"
             ],
             [
              1,
              "#f0f921"
             ]
            ],
            "type": "heatmap"
           }
          ],
          "histogram": [
           {
            "marker": {
             "pattern": {
              "fillmode": "overlay",
              "size": 10,
              "solidity": 0.2
             }
            },
            "type": "histogram"
           }
          ],
          "histogram2d": [
           {
            "colorbar": {
             "outlinewidth": 0,
             "ticks": ""
            },
            "colorscale": [
             [
              0,
              "#0d0887"
             ],
             [
              0.1111111111111111,
              "#46039f"
             ],
             [
              0.2222222222222222,
              "#7201a8"
             ],
             [
              0.3333333333333333,
              "#9c179e"
             ],
             [
              0.4444444444444444,
              "#bd3786"
             ],
             [
              0.5555555555555556,
              "#d8576b"
             ],
             [
              0.6666666666666666,
              "#ed7953"
             ],
             [
              0.7777777777777778,
              "#fb9f3a"
             ],
             [
              0.8888888888888888,
              "#fdca26"
             ],
             [
              1,
              "#f0f921"
             ]
            ],
            "type": "histogram2d"
           }
          ],
          "histogram2dcontour": [
           {
            "colorbar": {
             "outlinewidth": 0,
             "ticks": ""
            },
            "colorscale": [
             [
              0,
              "#0d0887"
             ],
             [
              0.1111111111111111,
              "#46039f"
             ],
             [
              0.2222222222222222,
              "#7201a8"
             ],
             [
              0.3333333333333333,
              "#9c179e"
             ],
             [
              0.4444444444444444,
              "#bd3786"
             ],
             [
              0.5555555555555556,
              "#d8576b"
             ],
             [
              0.6666666666666666,
              "#ed7953"
             ],
             [
              0.7777777777777778,
              "#fb9f3a"
             ],
             [
              0.8888888888888888,
              "#fdca26"
             ],
             [
              1,
              "#f0f921"
             ]
            ],
            "type": "histogram2dcontour"
           }
          ],
          "mesh3d": [
           {
            "colorbar": {
             "outlinewidth": 0,
             "ticks": ""
            },
            "type": "mesh3d"
           }
          ],
          "parcoords": [
           {
            "line": {
             "colorbar": {
              "outlinewidth": 0,
              "ticks": ""
             }
            },
            "type": "parcoords"
           }
          ],
          "pie": [
           {
            "automargin": true,
            "type": "pie"
           }
          ],
          "scatter": [
           {
            "fillpattern": {
             "fillmode": "overlay",
             "size": 10,
             "solidity": 0.2
            },
            "type": "scatter"
           }
          ],
          "scatter3d": [
           {
            "line": {
             "colorbar": {
              "outlinewidth": 0,
              "ticks": ""
             }
            },
            "marker": {
             "colorbar": {
              "outlinewidth": 0,
              "ticks": ""
             }
            },
            "type": "scatter3d"
           }
          ],
          "scattercarpet": [
           {
            "marker": {
             "colorbar": {
              "outlinewidth": 0,
              "ticks": ""
             }
            },
            "type": "scattercarpet"
           }
          ],
          "scattergeo": [
           {
            "marker": {
             "colorbar": {
              "outlinewidth": 0,
              "ticks": ""
             }
            },
            "type": "scattergeo"
           }
          ],
          "scattergl": [
           {
            "marker": {
             "colorbar": {
              "outlinewidth": 0,
              "ticks": ""
             }
            },
            "type": "scattergl"
           }
          ],
          "scattermap": [
           {
            "marker": {
             "colorbar": {
              "outlinewidth": 0,
              "ticks": ""
             }
            },
            "type": "scattermap"
           }
          ],
          "scattermapbox": [
           {
            "marker": {
             "colorbar": {
              "outlinewidth": 0,
              "ticks": ""
             }
            },
            "type": "scattermapbox"
           }
          ],
          "scatterpolar": [
           {
            "marker": {
             "colorbar": {
              "outlinewidth": 0,
              "ticks": ""
             }
            },
            "type": "scatterpolar"
           }
          ],
          "scatterpolargl": [
           {
            "marker": {
             "colorbar": {
              "outlinewidth": 0,
              "ticks": ""
             }
            },
            "type": "scatterpolargl"
           }
          ],
          "scatterternary": [
           {
            "marker": {
             "colorbar": {
              "outlinewidth": 0,
              "ticks": ""
             }
            },
            "type": "scatterternary"
           }
          ],
          "surface": [
           {
            "colorbar": {
             "outlinewidth": 0,
             "ticks": ""
            },
            "colorscale": [
             [
              0,
              "#0d0887"
             ],
             [
              0.1111111111111111,
              "#46039f"
             ],
             [
              0.2222222222222222,
              "#7201a8"
             ],
             [
              0.3333333333333333,
              "#9c179e"
             ],
             [
              0.4444444444444444,
              "#bd3786"
             ],
             [
              0.5555555555555556,
              "#d8576b"
             ],
             [
              0.6666666666666666,
              "#ed7953"
             ],
             [
              0.7777777777777778,
              "#fb9f3a"
             ],
             [
              0.8888888888888888,
              "#fdca26"
             ],
             [
              1,
              "#f0f921"
             ]
            ],
            "type": "surface"
           }
          ],
          "table": [
           {
            "cells": {
             "fill": {
              "color": "#EBF0F8"
             },
             "line": {
              "color": "white"
             }
            },
            "header": {
             "fill": {
              "color": "#C8D4E3"
             },
             "line": {
              "color": "white"
             }
            },
            "type": "table"
           }
          ]
         },
         "layout": {
          "annotationdefaults": {
           "arrowcolor": "#2a3f5f",
           "arrowhead": 0,
           "arrowwidth": 1
          },
          "autotypenumbers": "strict",
          "coloraxis": {
           "colorbar": {
            "outlinewidth": 0,
            "ticks": ""
           }
          },
          "colorscale": {
           "diverging": [
            [
             0,
             "#8e0152"
            ],
            [
             0.1,
             "#c51b7d"
            ],
            [
             0.2,
             "#de77ae"
            ],
            [
             0.3,
             "#f1b6da"
            ],
            [
             0.4,
             "#fde0ef"
            ],
            [
             0.5,
             "#f7f7f7"
            ],
            [
             0.6,
             "#e6f5d0"
            ],
            [
             0.7,
             "#b8e186"
            ],
            [
             0.8,
             "#7fbc41"
            ],
            [
             0.9,
             "#4d9221"
            ],
            [
             1,
             "#276419"
            ]
           ],
           "sequential": [
            [
             0,
             "#0d0887"
            ],
            [
             0.1111111111111111,
             "#46039f"
            ],
            [
             0.2222222222222222,
             "#7201a8"
            ],
            [
             0.3333333333333333,
             "#9c179e"
            ],
            [
             0.4444444444444444,
             "#bd3786"
            ],
            [
             0.5555555555555556,
             "#d8576b"
            ],
            [
             0.6666666666666666,
             "#ed7953"
            ],
            [
             0.7777777777777778,
             "#fb9f3a"
            ],
            [
             0.8888888888888888,
             "#fdca26"
            ],
            [
             1,
             "#f0f921"
            ]
           ],
           "sequentialminus": [
            [
             0,
             "#0d0887"
            ],
            [
             0.1111111111111111,
             "#46039f"
            ],
            [
             0.2222222222222222,
             "#7201a8"
            ],
            [
             0.3333333333333333,
             "#9c179e"
            ],
            [
             0.4444444444444444,
             "#bd3786"
            ],
            [
             0.5555555555555556,
             "#d8576b"
            ],
            [
             0.6666666666666666,
             "#ed7953"
            ],
            [
             0.7777777777777778,
             "#fb9f3a"
            ],
            [
             0.8888888888888888,
             "#fdca26"
            ],
            [
             1,
             "#f0f921"
            ]
           ]
          },
          "colorway": [
           "#636efa",
           "#EF553B",
           "#00cc96",
           "#ab63fa",
           "#FFA15A",
           "#19d3f3",
           "#FF6692",
           "#B6E880",
           "#FF97FF",
           "#FECB52"
          ],
          "font": {
           "color": "#2a3f5f"
          },
          "geo": {
           "bgcolor": "white",
           "lakecolor": "white",
           "landcolor": "white",
           "showlakes": true,
           "showland": true,
           "subunitcolor": "#C8D4E3"
          },
          "hoverlabel": {
           "align": "left"
          },
          "hovermode": "closest",
          "mapbox": {
           "style": "light"
          },
          "paper_bgcolor": "white",
          "plot_bgcolor": "white",
          "polar": {
           "angularaxis": {
            "gridcolor": "#EBF0F8",
            "linecolor": "#EBF0F8",
            "ticks": ""
           },
           "bgcolor": "white",
           "radialaxis": {
            "gridcolor": "#EBF0F8",
            "linecolor": "#EBF0F8",
            "ticks": ""
           }
          },
          "scene": {
           "xaxis": {
            "backgroundcolor": "white",
            "gridcolor": "#DFE8F3",
            "gridwidth": 2,
            "linecolor": "#EBF0F8",
            "showbackground": true,
            "ticks": "",
            "zerolinecolor": "#EBF0F8"
           },
           "yaxis": {
            "backgroundcolor": "white",
            "gridcolor": "#DFE8F3",
            "gridwidth": 2,
            "linecolor": "#EBF0F8",
            "showbackground": true,
            "ticks": "",
            "zerolinecolor": "#EBF0F8"
           },
           "zaxis": {
            "backgroundcolor": "white",
            "gridcolor": "#DFE8F3",
            "gridwidth": 2,
            "linecolor": "#EBF0F8",
            "showbackground": true,
            "ticks": "",
            "zerolinecolor": "#EBF0F8"
           }
          },
          "shapedefaults": {
           "line": {
            "color": "#2a3f5f"
           }
          },
          "ternary": {
           "aaxis": {
            "gridcolor": "#DFE8F3",
            "linecolor": "#A2B1C6",
            "ticks": ""
           },
           "baxis": {
            "gridcolor": "#DFE8F3",
            "linecolor": "#A2B1C6",
            "ticks": ""
           },
           "bgcolor": "white",
           "caxis": {
            "gridcolor": "#DFE8F3",
            "linecolor": "#A2B1C6",
            "ticks": ""
           }
          },
          "title": {
           "x": 0.05
          },
          "xaxis": {
           "automargin": true,
           "gridcolor": "#EBF0F8",
           "linecolor": "#EBF0F8",
           "ticks": "",
           "title": {
            "standoff": 15
           },
           "zerolinecolor": "#EBF0F8",
           "zerolinewidth": 2
          },
          "yaxis": {
           "automargin": true,
           "gridcolor": "#EBF0F8",
           "linecolor": "#EBF0F8",
           "ticks": "",
           "title": {
            "standoff": 15
           },
           "zerolinecolor": "#EBF0F8",
           "zerolinewidth": 2
          }
         }
        },
        "xaxis": {
         "anchor": "y",
         "domain": [
          0,
          0.94
         ],
         "showgrid": true,
         "title": {
          "text": "sample proportion"
         }
        },
        "yaxis": {
         "anchor": "x",
         "domain": [
          0,
          1
         ],
         "showgrid": true,
         "tickfont": {
          "color": "rgb(31, 119, 180)"
         },
         "title": {
          "font": {
           "color": "rgb(31, 119, 180)"
          },
          "text": "cum_demeaned_daily_ret"
         }
        },
        "yaxis2": {
         "anchor": "x",
         "overlaying": "y",
         "showgrid": false,
         "side": "right",
         "tickfont": {
          "color": "rgb(214, 39, 40)"
         },
         "title": {
          "font": {
           "color": "rgb(214, 39, 40)"
          },
          "text": "date_gap_days"
         }
        }
       }
      }
     },
     "metadata": {},
     "output_type": "display_data"
    }
   ],
   "source": [
    "op_atm_call_df.sort_values(\"gap_days\", ignore_index = True, inplace = True)\n",
    "mean = op_atm_call_df[\"daily_ret\"].mean()\n",
    "op_atm_call_df[\"demeaned_daily_ret\"] = op_atm_call_df[\"daily_ret\"] - mean\n",
    "op_atm_call_df[\"cum_demeaned_daily_ret\"] = op_atm_call_df[\"demeaned_daily_ret\"].cumsum()\n",
    "plot(op_atm_call_df, \"cum_demeaned_daily_ret\", \"index\", \"date_gap_days\")"
   ]
  },
  {
   "cell_type": "markdown",
   "id": "49a33075",
   "metadata": {},
   "source": [
    "### compare to index"
   ]
  },
  {
   "cell_type": "markdown",
   "id": "d60f5723",
   "metadata": {},
   "source": [
    "#### non normalize"
   ]
  },
  {
   "cell_type": "code",
   "execution_count": 38,
   "id": "6c5df621",
   "metadata": {},
   "outputs": [
    {
     "data": {
      "application/vnd.plotly.v1+json": {
       "config": {
        "plotlyServerURL": "https://plot.ly"
       },
       "data": [
        {
         "mode": "lines",
         "name": "cum_tw_ret",
         "type": "scatter",
         "x": {
          "bdata": "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",
          "dtype": "i2"
         },
         "y": {
          "bdata": "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",
          "dtype": "f8"
         }
        },
        {
         "mode": "lines",
         "name": "cum_put_ret",
         "type": "scatter",
         "x": {
          "bdata": "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",
          "dtype": "i2"
         },
         "y": {
          "bdata": "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",
          "dtype": "f8"
         }
        },
        {
         "mode": "lines",
         "name": "cum_call_ret",
         "type": "scatter",
         "x": {
          "bdata": "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",
          "dtype": "i2"
         },
         "y": {
          "bdata": "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",
          "dtype": "f8"
         }
        }
       ],
       "layout": {
        "template": {
         "data": {
          "bar": [
           {
            "error_x": {
             "color": "#2a3f5f"
            },
            "error_y": {
             "color": "#2a3f5f"
            },
            "marker": {
             "line": {
              "color": "white",
              "width": 0.5
             },
             "pattern": {
              "fillmode": "overlay",
              "size": 10,
              "solidity": 0.2
             }
            },
            "type": "bar"
           }
          ],
          "barpolar": [
           {
            "marker": {
             "line": {
              "color": "white",
              "width": 0.5
             },
             "pattern": {
              "fillmode": "overlay",
              "size": 10,
              "solidity": 0.2
             }
            },
            "type": "barpolar"
           }
          ],
          "carpet": [
           {
            "aaxis": {
             "endlinecolor": "#2a3f5f",
             "gridcolor": "#C8D4E3",
             "linecolor": "#C8D4E3",
             "minorgridcolor": "#C8D4E3",
             "startlinecolor": "#2a3f5f"
            },
            "baxis": {
             "endlinecolor": "#2a3f5f",
             "gridcolor": "#C8D4E3",
             "linecolor": "#C8D4E3",
             "minorgridcolor": "#C8D4E3",
             "startlinecolor": "#2a3f5f"
            },
            "type": "carpet"
           }
          ],
          "choropleth": [
           {
            "colorbar": {
             "outlinewidth": 0,
             "ticks": ""
            },
            "type": "choropleth"
           }
          ],
          "contour": [
           {
            "colorbar": {
             "outlinewidth": 0,
             "ticks": ""
            },
            "colorscale": [
             [
              0,
              "#0d0887"
             ],
             [
              0.1111111111111111,
              "#46039f"
             ],
             [
              0.2222222222222222,
              "#7201a8"
             ],
             [
              0.3333333333333333,
              "#9c179e"
             ],
             [
              0.4444444444444444,
              "#bd3786"
             ],
             [
              0.5555555555555556,
              "#d8576b"
             ],
             [
              0.6666666666666666,
              "#ed7953"
             ],
             [
              0.7777777777777778,
              "#fb9f3a"
             ],
             [
              0.8888888888888888,
              "#fdca26"
             ],
             [
              1,
              "#f0f921"
             ]
            ],
            "type": "contour"
           }
          ],
          "contourcarpet": [
           {
            "colorbar": {
             "outlinewidth": 0,
             "ticks": ""
            },
            "type": "contourcarpet"
           }
          ],
          "heatmap": [
           {
            "colorbar": {
             "outlinewidth": 0,
             "ticks": ""
            },
            "colorscale": [
             [
              0,
              "#0d0887"
             ],
             [
              0.1111111111111111,
              "#46039f"
             ],
             [
              0.2222222222222222,
              "#7201a8"
             ],
             [
              0.3333333333333333,
              "#9c179e"
             ],
             [
              0.4444444444444444,
              "#bd3786"
             ],
             [
              0.5555555555555556,
              "#d8576b"
             ],
             [
              0.6666666666666666,
              "#ed7953"
             ],
             [
              0.7777777777777778,
              "#fb9f3a"
             ],
             [
              0.8888888888888888,
              "#fdca26"
             ],
             [
              1,
              "#f0f921"
             ]
            ],
            "type": "heatmap"
           }
          ],
          "histogram": [
           {
            "marker": {
             "pattern": {
              "fillmode": "overlay",
              "size": 10,
              "solidity": 0.2
             }
            },
            "type": "histogram"
           }
          ],
          "histogram2d": [
           {
            "colorbar": {
             "outlinewidth": 0,
             "ticks": ""
            },
            "colorscale": [
             [
              0,
              "#0d0887"
             ],
             [
              0.1111111111111111,
              "#46039f"
             ],
             [
              0.2222222222222222,
              "#7201a8"
             ],
             [
              0.3333333333333333,
              "#9c179e"
             ],
             [
              0.4444444444444444,
              "#bd3786"
             ],
             [
              0.5555555555555556,
              "#d8576b"
             ],
             [
              0.6666666666666666,
              "#ed7953"
             ],
             [
              0.7777777777777778,
              "#fb9f3a"
             ],
             [
              0.8888888888888888,
              "#fdca26"
             ],
             [
              1,
              "#f0f921"
             ]
            ],
            "type": "histogram2d"
           }
          ],
          "histogram2dcontour": [
           {
            "colorbar": {
             "outlinewidth": 0,
             "ticks": ""
            },
            "colorscale": [
             [
              0,
              "#0d0887"
             ],
             [
              0.1111111111111111,
              "#46039f"
             ],
             [
              0.2222222222222222,
              "#7201a8"
             ],
             [
              0.3333333333333333,
              "#9c179e"
             ],
             [
              0.4444444444444444,
              "#bd3786"
             ],
             [
              0.5555555555555556,
              "#d8576b"
             ],
             [
              0.6666666666666666,
              "#ed7953"
             ],
             [
              0.7777777777777778,
              "#fb9f3a"
             ],
             [
              0.8888888888888888,
              "#fdca26"
             ],
             [
              1,
              "#f0f921"
             ]
            ],
            "type": "histogram2dcontour"
           }
          ],
          "mesh3d": [
           {
            "colorbar": {
             "outlinewidth": 0,
             "ticks": ""
            },
            "type": "mesh3d"
           }
          ],
          "parcoords": [
           {
            "line": {
             "colorbar": {
              "outlinewidth": 0,
              "ticks": ""
             }
            },
            "type": "parcoords"
           }
          ],
          "pie": [
           {
            "automargin": true,
            "type": "pie"
           }
          ],
          "scatter": [
           {
            "fillpattern": {
             "fillmode": "overlay",
             "size": 10,
             "solidity": 0.2
            },
            "type": "scatter"
           }
          ],
          "scatter3d": [
           {
            "line": {
             "colorbar": {
              "outlinewidth": 0,
              "ticks": ""
             }
            },
            "marker": {
             "colorbar": {
              "outlinewidth": 0,
              "ticks": ""
             }
            },
            "type": "scatter3d"
           }
          ],
          "scattercarpet": [
           {
            "marker": {
             "colorbar": {
              "outlinewidth": 0,
              "ticks": ""
             }
            },
            "type": "scattercarpet"
           }
          ],
          "scattergeo": [
           {
            "marker": {
             "colorbar": {
              "outlinewidth": 0,
              "ticks": ""
             }
            },
            "type": "scattergeo"
           }
          ],
          "scattergl": [
           {
            "marker": {
             "colorbar": {
              "outlinewidth": 0,
              "ticks": ""
             }
            },
            "type": "scattergl"
           }
          ],
          "scattermap": [
           {
            "marker": {
             "colorbar": {
              "outlinewidth": 0,
              "ticks": ""
             }
            },
            "type": "scattermap"
           }
          ],
          "scattermapbox": [
           {
            "marker": {
             "colorbar": {
              "outlinewidth": 0,
              "ticks": ""
             }
            },
            "type": "scattermapbox"
           }
          ],
          "scatterpolar": [
           {
            "marker": {
             "colorbar": {
              "outlinewidth": 0,
              "ticks": ""
             }
            },
            "type": "scatterpolar"
           }
          ],
          "scatterpolargl": [
           {
            "marker": {
             "colorbar": {
              "outlinewidth": 0,
              "ticks": ""
             }
            },
            "type": "scatterpolargl"
           }
          ],
          "scatterternary": [
           {
            "marker": {
             "colorbar": {
              "outlinewidth": 0,
              "ticks": ""
             }
            },
            "type": "scatterternary"
           }
          ],
          "surface": [
           {
            "colorbar": {
             "outlinewidth": 0,
             "ticks": ""
            },
            "colorscale": [
             [
              0,
              "#0d0887"
             ],
             [
              0.1111111111111111,
              "#46039f"
             ],
             [
              0.2222222222222222,
              "#7201a8"
             ],
             [
              0.3333333333333333,
              "#9c179e"
             ],
             [
              0.4444444444444444,
              "#bd3786"
             ],
             [
              0.5555555555555556,
              "#d8576b"
             ],
             [
              0.6666666666666666,
              "#ed7953"
             ],
             [
              0.7777777777777778,
              "#fb9f3a"
             ],
             [
              0.8888888888888888,
              "#fdca26"
             ],
             [
              1,
              "#f0f921"
             ]
            ],
            "type": "surface"
           }
          ],
          "table": [
           {
            "cells": {
             "fill": {
              "color": "#EBF0F8"
             },
             "line": {
              "color": "white"
             }
            },
            "header": {
             "fill": {
              "color": "#C8D4E3"
             },
             "line": {
              "color": "white"
             }
            },
            "type": "table"
           }
          ]
         },
         "layout": {
          "annotationdefaults": {
           "arrowcolor": "#2a3f5f",
           "arrowhead": 0,
           "arrowwidth": 1
          },
          "autotypenumbers": "strict",
          "coloraxis": {
           "colorbar": {
            "outlinewidth": 0,
            "ticks": ""
           }
          },
          "colorscale": {
           "diverging": [
            [
             0,
             "#8e0152"
            ],
            [
             0.1,
             "#c51b7d"
            ],
            [
             0.2,
             "#de77ae"
            ],
            [
             0.3,
             "#f1b6da"
            ],
            [
             0.4,
             "#fde0ef"
            ],
            [
             0.5,
             "#f7f7f7"
            ],
            [
             0.6,
             "#e6f5d0"
            ],
            [
             0.7,
             "#b8e186"
            ],
            [
             0.8,
             "#7fbc41"
            ],
            [
             0.9,
             "#4d9221"
            ],
            [
             1,
             "#276419"
            ]
           ],
           "sequential": [
            [
             0,
             "#0d0887"
            ],
            [
             0.1111111111111111,
             "#46039f"
            ],
            [
             0.2222222222222222,
             "#7201a8"
            ],
            [
             0.3333333333333333,
             "#9c179e"
            ],
            [
             0.4444444444444444,
             "#bd3786"
            ],
            [
             0.5555555555555556,
             "#d8576b"
            ],
            [
             0.6666666666666666,
             "#ed7953"
            ],
            [
             0.7777777777777778,
             "#fb9f3a"
            ],
            [
             0.8888888888888888,
             "#fdca26"
            ],
            [
             1,
             "#f0f921"
            ]
           ],
           "sequentialminus": [
            [
             0,
             "#0d0887"
            ],
            [
             0.1111111111111111,
             "#46039f"
            ],
            [
             0.2222222222222222,
             "#7201a8"
            ],
            [
             0.3333333333333333,
             "#9c179e"
            ],
            [
             0.4444444444444444,
             "#bd3786"
            ],
            [
             0.5555555555555556,
             "#d8576b"
            ],
            [
             0.6666666666666666,
             "#ed7953"
            ],
            [
             0.7777777777777778,
             "#fb9f3a"
            ],
            [
             0.8888888888888888,
             "#fdca26"
            ],
            [
             1,
             "#f0f921"
            ]
           ]
          },
          "colorway": [
           "#636efa",
           "#EF553B",
           "#00cc96",
           "#ab63fa",
           "#FFA15A",
           "#19d3f3",
           "#FF6692",
           "#B6E880",
           "#FF97FF",
           "#FECB52"
          ],
          "font": {
           "color": "#2a3f5f"
          },
          "geo": {
           "bgcolor": "white",
           "lakecolor": "white",
           "landcolor": "white",
           "showlakes": true,
           "showland": true,
           "subunitcolor": "#C8D4E3"
          },
          "hoverlabel": {
           "align": "left"
          },
          "hovermode": "closest",
          "mapbox": {
           "style": "light"
          },
          "paper_bgcolor": "white",
          "plot_bgcolor": "white",
          "polar": {
           "angularaxis": {
            "gridcolor": "#EBF0F8",
            "linecolor": "#EBF0F8",
            "ticks": ""
           },
           "bgcolor": "white",
           "radialaxis": {
            "gridcolor": "#EBF0F8",
            "linecolor": "#EBF0F8",
            "ticks": ""
           }
          },
          "scene": {
           "xaxis": {
            "backgroundcolor": "white",
            "gridcolor": "#DFE8F3",
            "gridwidth": 2,
            "linecolor": "#EBF0F8",
            "showbackground": true,
            "ticks": "",
            "zerolinecolor": "#EBF0F8"
           },
           "yaxis": {
            "backgroundcolor": "white",
            "gridcolor": "#DFE8F3",
            "gridwidth": 2,
            "linecolor": "#EBF0F8",
            "showbackground": true,
            "ticks": "",
            "zerolinecolor": "#EBF0F8"
           },
           "zaxis": {
            "backgroundcolor": "white",
            "gridcolor": "#DFE8F3",
            "gridwidth": 2,
            "linecolor": "#EBF0F8",
            "showbackground": true,
            "ticks": "",
            "zerolinecolor": "#EBF0F8"
           }
          },
          "shapedefaults": {
           "line": {
            "color": "#2a3f5f"
           }
          },
          "ternary": {
           "aaxis": {
            "gridcolor": "#DFE8F3",
            "linecolor": "#A2B1C6",
            "ticks": ""
           },
           "baxis": {
            "gridcolor": "#DFE8F3",
            "linecolor": "#A2B1C6",
            "ticks": ""
           },
           "bgcolor": "white",
           "caxis": {
            "gridcolor": "#DFE8F3",
            "linecolor": "#A2B1C6",
            "ticks": ""
           }
          },
          "title": {
           "x": 0.05
          },
          "xaxis": {
           "automargin": true,
           "gridcolor": "#EBF0F8",
           "linecolor": "#EBF0F8",
           "ticks": "",
           "title": {
            "standoff": 15
           },
           "zerolinecolor": "#EBF0F8",
           "zerolinewidth": 2
          },
          "yaxis": {
           "automargin": true,
           "gridcolor": "#EBF0F8",
           "linecolor": "#EBF0F8",
           "ticks": "",
           "title": {
            "standoff": 15
           },
           "zerolinecolor": "#EBF0F8",
           "zerolinewidth": 2
          }
         }
        },
        "title": {
         "text": "cum_tw_ret, cum_put_ret, cum_call_ret"
        },
        "xaxis": {
         "title": {
          "text": "Index"
         }
        },
        "yaxis": {
         "title": {
          "text": "Value"
         }
        }
       }
      }
     },
     "metadata": {},
     "output_type": "display_data"
    }
   ],
   "source": [
    "tw_df = twii_df.copy()\n",
    "\n",
    "tw_df[\"daily_ret\"] = (tw_df[\"close\"] / tw_df[\"open\"]) - 1\n",
    "tw_df[\"demeaned_daily_ret\"] = tw_df[\"daily_ret\"] - tw_df[\"daily_ret\"].mean()\n",
    "\n",
    "op_atm_put_df.set_index(\"date\", inplace = True)\n",
    "op_atm_call_df.set_index(\"date\", inplace = True)\n",
    "op_atm_put_df.index, op_atm_call_df.index, tw_df.index = pd.to_datetime(op_atm_put_df.index), pd.to_datetime(op_atm_call_df.index), pd.to_datetime(tw_df.index)\n",
    "\n",
    "tw_df = tw_df.reindex(op_atm_put_df.index)\n",
    "tw_df[\"cum_demeaned_daily_ret\"] = tw_df[\"demeaned_daily_ret\"].cumsum()\n",
    "\n",
    "op_atm_put_df.reset_index(inplace = True)\n",
    "op_atm_call_df.reset_index(inplace = True)\n",
    "tw_df.reset_index(inplace = True)\n",
    "\n",
    "ret_df = pd.DataFrame({\n",
    "    \"cum_tw_ret\": tw_df[\"cum_demeaned_daily_ret\"],\n",
    "    \"cum_put_ret\": op_atm_put_df[\"cum_demeaned_daily_ret\"],\n",
    "    \"cum_call_ret\": op_atm_call_df[\"cum_demeaned_daily_ret\"]\n",
    "})\n",
    "plot_df_columns(ret_df, [\"cum_tw_ret\", \"cum_put_ret\", \"cum_call_ret\"])\n"
   ]
  },
  {
   "cell_type": "markdown",
   "id": "d78a53b0",
   "metadata": {},
   "source": [
    "#### normalize"
   ]
  },
  {
   "cell_type": "code",
   "execution_count": 42,
   "id": "3a988a2f",
   "metadata": {},
   "outputs": [
    {
     "data": {
      "application/vnd.plotly.v1+json": {
       "config": {
        "plotlyServerURL": "https://plot.ly"
       },
       "data": [
        {
         "mode": "lines",
         "name": "cum_tw_ret",
         "type": "scatter",
         "x": {
          "bdata": "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",
          "dtype": "i2"
         },
         "y": {
          "bdata": "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",
          "dtype": "f8"
         }
        },
        {
         "mode": "lines",
         "name": "cum_put_ret",
         "type": "scatter",
         "x": {
          "bdata": "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",
          "dtype": "i2"
         },
         "y": {
          "bdata": "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",
          "dtype": "f8"
         }
        },
        {
         "mode": "lines",
         "name": "cum_call_ret",
         "type": "scatter",
         "x": {
          "bdata": "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",
          "dtype": "i2"
         },
         "y": {
          "bdata": "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",
          "dtype": "f8"
         }
        }
       ],
       "layout": {
        "template": {
         "data": {
          "bar": [
           {
            "error_x": {
             "color": "#2a3f5f"
            },
            "error_y": {
             "color": "#2a3f5f"
            },
            "marker": {
             "line": {
              "color": "white",
              "width": 0.5
             },
             "pattern": {
              "fillmode": "overlay",
              "size": 10,
              "solidity": 0.2
             }
            },
            "type": "bar"
           }
          ],
          "barpolar": [
           {
            "marker": {
             "line": {
              "color": "white",
              "width": 0.5
             },
             "pattern": {
              "fillmode": "overlay",
              "size": 10,
              "solidity": 0.2
             }
            },
            "type": "barpolar"
           }
          ],
          "carpet": [
           {
            "aaxis": {
             "endlinecolor": "#2a3f5f",
             "gridcolor": "#C8D4E3",
             "linecolor": "#C8D4E3",
             "minorgridcolor": "#C8D4E3",
             "startlinecolor": "#2a3f5f"
            },
            "baxis": {
             "endlinecolor": "#2a3f5f",
             "gridcolor": "#C8D4E3",
             "linecolor": "#C8D4E3",
             "minorgridcolor": "#C8D4E3",
             "startlinecolor": "#2a3f5f"
            },
            "type": "carpet"
           }
          ],
          "choropleth": [
           {
            "colorbar": {
             "outlinewidth": 0,
             "ticks": ""
            },
            "type": "choropleth"
           }
          ],
          "contour": [
           {
            "colorbar": {
             "outlinewidth": 0,
             "ticks": ""
            },
            "colorscale": [
             [
              0,
              "#0d0887"
             ],
             [
              0.1111111111111111,
              "#46039f"
             ],
             [
              0.2222222222222222,
              "#7201a8"
             ],
             [
              0.3333333333333333,
              "#9c179e"
             ],
             [
              0.4444444444444444,
              "#bd3786"
             ],
             [
              0.5555555555555556,
              "#d8576b"
             ],
             [
              0.6666666666666666,
              "#ed7953"
             ],
             [
              0.7777777777777778,
              "#fb9f3a"
             ],
             [
              0.8888888888888888,
              "#fdca26"
             ],
             [
              1,
              "#f0f921"
             ]
            ],
            "type": "contour"
           }
          ],
          "contourcarpet": [
           {
            "colorbar": {
             "outlinewidth": 0,
             "ticks": ""
            },
            "type": "contourcarpet"
           }
          ],
          "heatmap": [
           {
            "colorbar": {
             "outlinewidth": 0,
             "ticks": ""
            },
            "colorscale": [
             [
              0,
              "#0d0887"
             ],
             [
              0.1111111111111111,
              "#46039f"
             ],
             [
              0.2222222222222222,
              "#7201a8"
             ],
             [
              0.3333333333333333,
              "#9c179e"
             ],
             [
              0.4444444444444444,
              "#bd3786"
             ],
             [
              0.5555555555555556,
              "#d8576b"
             ],
             [
              0.6666666666666666,
              "#ed7953"
             ],
             [
              0.7777777777777778,
              "#fb9f3a"
             ],
             [
              0.8888888888888888,
              "#fdca26"
             ],
             [
              1,
              "#f0f921"
             ]
            ],
            "type": "heatmap"
           }
          ],
          "histogram": [
           {
            "marker": {
             "pattern": {
              "fillmode": "overlay",
              "size": 10,
              "solidity": 0.2
             }
            },
            "type": "histogram"
           }
          ],
          "histogram2d": [
           {
            "colorbar": {
             "outlinewidth": 0,
             "ticks": ""
            },
            "colorscale": [
             [
              0,
              "#0d0887"
             ],
             [
              0.1111111111111111,
              "#46039f"
             ],
             [
              0.2222222222222222,
              "#7201a8"
             ],
             [
              0.3333333333333333,
              "#9c179e"
             ],
             [
              0.4444444444444444,
              "#bd3786"
             ],
             [
              0.5555555555555556,
              "#d8576b"
             ],
             [
              0.6666666666666666,
              "#ed7953"
             ],
             [
              0.7777777777777778,
              "#fb9f3a"
             ],
             [
              0.8888888888888888,
              "#fdca26"
             ],
             [
              1,
              "#f0f921"
             ]
            ],
            "type": "histogram2d"
           }
          ],
          "histogram2dcontour": [
           {
            "colorbar": {
             "outlinewidth": 0,
             "ticks": ""
            },
            "colorscale": [
             [
              0,
              "#0d0887"
             ],
             [
              0.1111111111111111,
              "#46039f"
             ],
             [
              0.2222222222222222,
              "#7201a8"
             ],
             [
              0.3333333333333333,
              "#9c179e"
             ],
             [
              0.4444444444444444,
              "#bd3786"
             ],
             [
              0.5555555555555556,
              "#d8576b"
             ],
             [
              0.6666666666666666,
              "#ed7953"
             ],
             [
              0.7777777777777778,
              "#fb9f3a"
             ],
             [
              0.8888888888888888,
              "#fdca26"
             ],
             [
              1,
              "#f0f921"
             ]
            ],
            "type": "histogram2dcontour"
           }
          ],
          "mesh3d": [
           {
            "colorbar": {
             "outlinewidth": 0,
             "ticks": ""
            },
            "type": "mesh3d"
           }
          ],
          "parcoords": [
           {
            "line": {
             "colorbar": {
              "outlinewidth": 0,
              "ticks": ""
             }
            },
            "type": "parcoords"
           }
          ],
          "pie": [
           {
            "automargin": true,
            "type": "pie"
           }
          ],
          "scatter": [
           {
            "fillpattern": {
             "fillmode": "overlay",
             "size": 10,
             "solidity": 0.2
            },
            "type": "scatter"
           }
          ],
          "scatter3d": [
           {
            "line": {
             "colorbar": {
              "outlinewidth": 0,
              "ticks": ""
             }
            },
            "marker": {
             "colorbar": {
              "outlinewidth": 0,
              "ticks": ""
             }
            },
            "type": "scatter3d"
           }
          ],
          "scattercarpet": [
           {
            "marker": {
             "colorbar": {
              "outlinewidth": 0,
              "ticks": ""
             }
            },
            "type": "scattercarpet"
           }
          ],
          "scattergeo": [
           {
            "marker": {
             "colorbar": {
              "outlinewidth": 0,
              "ticks": ""
             }
            },
            "type": "scattergeo"
           }
          ],
          "scattergl": [
           {
            "marker": {
             "colorbar": {
              "outlinewidth": 0,
              "ticks": ""
             }
            },
            "type": "scattergl"
           }
          ],
          "scattermap": [
           {
            "marker": {
             "colorbar": {
              "outlinewidth": 0,
              "ticks": ""
             }
            },
            "type": "scattermap"
           }
          ],
          "scattermapbox": [
           {
            "marker": {
             "colorbar": {
              "outlinewidth": 0,
              "ticks": ""
             }
            },
            "type": "scattermapbox"
           }
          ],
          "scatterpolar": [
           {
            "marker": {
             "colorbar": {
              "outlinewidth": 0,
              "ticks": ""
             }
            },
            "type": "scatterpolar"
           }
          ],
          "scatterpolargl": [
           {
            "marker": {
             "colorbar": {
              "outlinewidth": 0,
              "ticks": ""
             }
            },
            "type": "scatterpolargl"
           }
          ],
          "scatterternary": [
           {
            "marker": {
             "colorbar": {
              "outlinewidth": 0,
              "ticks": ""
             }
            },
            "type": "scatterternary"
           }
          ],
          "surface": [
           {
            "colorbar": {
             "outlinewidth": 0,
             "ticks": ""
            },
            "colorscale": [
             [
              0,
              "#0d0887"
             ],
             [
              0.1111111111111111,
              "#46039f"
             ],
             [
              0.2222222222222222,
              "#7201a8"
             ],
             [
              0.3333333333333333,
              "#9c179e"
             ],
             [
              0.4444444444444444,
              "#bd3786"
             ],
             [
              0.5555555555555556,
              "#d8576b"
             ],
             [
              0.6666666666666666,
              "#ed7953"
             ],
             [
              0.7777777777777778,
              "#fb9f3a"
             ],
             [
              0.8888888888888888,
              "#fdca26"
             ],
             [
              1,
              "#f0f921"
             ]
            ],
            "type": "surface"
           }
          ],
          "table": [
           {
            "cells": {
             "fill": {
              "color": "#EBF0F8"
             },
             "line": {
              "color": "white"
             }
            },
            "header": {
             "fill": {
              "color": "#C8D4E3"
             },
             "line": {
              "color": "white"
             }
            },
            "type": "table"
           }
          ]
         },
         "layout": {
          "annotationdefaults": {
           "arrowcolor": "#2a3f5f",
           "arrowhead": 0,
           "arrowwidth": 1
          },
          "autotypenumbers": "strict",
          "coloraxis": {
           "colorbar": {
            "outlinewidth": 0,
            "ticks": ""
           }
          },
          "colorscale": {
           "diverging": [
            [
             0,
             "#8e0152"
            ],
            [
             0.1,
             "#c51b7d"
            ],
            [
             0.2,
             "#de77ae"
            ],
            [
             0.3,
             "#f1b6da"
            ],
            [
             0.4,
             "#fde0ef"
            ],
            [
             0.5,
             "#f7f7f7"
            ],
            [
             0.6,
             "#e6f5d0"
            ],
            [
             0.7,
             "#b8e186"
            ],
            [
             0.8,
             "#7fbc41"
            ],
            [
             0.9,
             "#4d9221"
            ],
            [
             1,
             "#276419"
            ]
           ],
           "sequential": [
            [
             0,
             "#0d0887"
            ],
            [
             0.1111111111111111,
             "#46039f"
            ],
            [
             0.2222222222222222,
             "#7201a8"
            ],
            [
             0.3333333333333333,
             "#9c179e"
            ],
            [
             0.4444444444444444,
             "#bd3786"
            ],
            [
             0.5555555555555556,
             "#d8576b"
            ],
            [
             0.6666666666666666,
             "#ed7953"
            ],
            [
             0.7777777777777778,
             "#fb9f3a"
            ],
            [
             0.8888888888888888,
             "#fdca26"
            ],
            [
             1,
             "#f0f921"
            ]
           ],
           "sequentialminus": [
            [
             0,
             "#0d0887"
            ],
            [
             0.1111111111111111,
             "#46039f"
            ],
            [
             0.2222222222222222,
             "#7201a8"
            ],
            [
             0.3333333333333333,
             "#9c179e"
            ],
            [
             0.4444444444444444,
             "#bd3786"
            ],
            [
             0.5555555555555556,
             "#d8576b"
            ],
            [
             0.6666666666666666,
             "#ed7953"
            ],
            [
             0.7777777777777778,
             "#fb9f3a"
            ],
            [
             0.8888888888888888,
             "#fdca26"
            ],
            [
             1,
             "#f0f921"
            ]
           ]
          },
          "colorway": [
           "#636efa",
           "#EF553B",
           "#00cc96",
           "#ab63fa",
           "#FFA15A",
           "#19d3f3",
           "#FF6692",
           "#B6E880",
           "#FF97FF",
           "#FECB52"
          ],
          "font": {
           "color": "#2a3f5f"
          },
          "geo": {
           "bgcolor": "white",
           "lakecolor": "white",
           "landcolor": "white",
           "showlakes": true,
           "showland": true,
           "subunitcolor": "#C8D4E3"
          },
          "hoverlabel": {
           "align": "left"
          },
          "hovermode": "closest",
          "mapbox": {
           "style": "light"
          },
          "paper_bgcolor": "white",
          "plot_bgcolor": "white",
          "polar": {
           "angularaxis": {
            "gridcolor": "#EBF0F8",
            "linecolor": "#EBF0F8",
            "ticks": ""
           },
           "bgcolor": "white",
           "radialaxis": {
            "gridcolor": "#EBF0F8",
            "linecolor": "#EBF0F8",
            "ticks": ""
           }
          },
          "scene": {
           "xaxis": {
            "backgroundcolor": "white",
            "gridcolor": "#DFE8F3",
            "gridwidth": 2,
            "linecolor": "#EBF0F8",
            "showbackground": true,
            "ticks": "",
            "zerolinecolor": "#EBF0F8"
           },
           "yaxis": {
            "backgroundcolor": "white",
            "gridcolor": "#DFE8F3",
            "gridwidth": 2,
            "linecolor": "#EBF0F8",
            "showbackground": true,
            "ticks": "",
            "zerolinecolor": "#EBF0F8"
           },
           "zaxis": {
            "backgroundcolor": "white",
            "gridcolor": "#DFE8F3",
            "gridwidth": 2,
            "linecolor": "#EBF0F8",
            "showbackground": true,
            "ticks": "",
            "zerolinecolor": "#EBF0F8"
           }
          },
          "shapedefaults": {
           "line": {
            "color": "#2a3f5f"
           }
          },
          "ternary": {
           "aaxis": {
            "gridcolor": "#DFE8F3",
            "linecolor": "#A2B1C6",
            "ticks": ""
           },
           "baxis": {
            "gridcolor": "#DFE8F3",
            "linecolor": "#A2B1C6",
            "ticks": ""
           },
           "bgcolor": "white",
           "caxis": {
            "gridcolor": "#DFE8F3",
            "linecolor": "#A2B1C6",
            "ticks": ""
           }
          },
          "title": {
           "x": 0.05
          },
          "xaxis": {
           "automargin": true,
           "gridcolor": "#EBF0F8",
           "linecolor": "#EBF0F8",
           "ticks": "",
           "title": {
            "standoff": 15
           },
           "zerolinecolor": "#EBF0F8",
           "zerolinewidth": 2
          },
          "yaxis": {
           "automargin": true,
           "gridcolor": "#EBF0F8",
           "linecolor": "#EBF0F8",
           "ticks": "",
           "title": {
            "standoff": 15
           },
           "zerolinecolor": "#EBF0F8",
           "zerolinewidth": 2
          }
         }
        },
        "title": {
         "text": "cum_tw_ret, cum_put_ret, cum_call_ret"
        },
        "xaxis": {
         "title": {
          "text": "Index"
         }
        },
        "yaxis": {
         "title": {
          "text": "Value"
         }
        }
       }
      }
     },
     "metadata": {},
     "output_type": "display_data"
    }
   ],
   "source": [
    "ret_df_norm = ret_df / ret_df.std()\n",
    "plot_df_columns(ret_df_norm, [\"cum_tw_ret\", \"cum_put_ret\", \"cum_call_ret\"])"
   ]
  },
  {
   "cell_type": "markdown",
   "id": "67a69266",
   "metadata": {},
   "source": [
    "## 夜盤 open - 夜盤 close"
   ]
  },
  {
   "cell_type": "markdown",
   "id": "70075d76",
   "metadata": {},
   "source": [
    "### put"
   ]
  },
  {
   "cell_type": "code",
   "execution_count": 242,
   "id": "1e1f980d",
   "metadata": {},
   "outputs": [
    {
     "data": {
      "text/html": [
       "<div>\n",
       "<style scoped>\n",
       "    .dataframe tbody tr th:only-of-type {\n",
       "        vertical-align: middle;\n",
       "    }\n",
       "\n",
       "    .dataframe tbody tr th {\n",
       "        vertical-align: top;\n",
       "    }\n",
       "\n",
       "    .dataframe thead th {\n",
       "        text-align: right;\n",
       "    }\n",
       "</style>\n",
       "<table border=\"1\" class=\"dataframe\">\n",
       "  <thead>\n",
       "    <tr style=\"text-align: right;\">\n",
       "      <th></th>\n",
       "      <th>date</th>\n",
       "      <th>strike_price</th>\n",
       "      <th>open</th>\n",
       "      <th>close</th>\n",
       "      <th>open_to_close_ret</th>\n",
       "      <th>gap_days</th>\n",
       "    </tr>\n",
       "  </thead>\n",
       "  <tbody>\n",
       "    <tr>\n",
       "      <th>0</th>\n",
       "      <td>2020-01-02</td>\n",
       "      <td>12000.0</td>\n",
       "      <td>27.5</td>\n",
       "      <td>10.0</td>\n",
       "      <td>-0.636364</td>\n",
       "      <td>NaN</td>\n",
       "    </tr>\n",
       "    <tr>\n",
       "      <th>1</th>\n",
       "      <td>2020-01-03</td>\n",
       "      <td>12150.0</td>\n",
       "      <td>85.0</td>\n",
       "      <td>47.0</td>\n",
       "      <td>-0.447059</td>\n",
       "      <td>1.0</td>\n",
       "    </tr>\n",
       "    <tr>\n",
       "      <th>2</th>\n",
       "      <td>2020-01-06</td>\n",
       "      <td>12050.0</td>\n",
       "      <td>34.0</td>\n",
       "      <td>50.0</td>\n",
       "      <td>0.470588</td>\n",
       "      <td>3.0</td>\n",
       "    </tr>\n",
       "    <tr>\n",
       "      <th>3</th>\n",
       "      <td>2020-01-07</td>\n",
       "      <td>12000.0</td>\n",
       "      <td>72.0</td>\n",
       "      <td>39.0</td>\n",
       "      <td>-0.458333</td>\n",
       "      <td>1.0</td>\n",
       "    </tr>\n",
       "    <tr>\n",
       "      <th>4</th>\n",
       "      <td>2020-01-08</td>\n",
       "      <td>11900.0</td>\n",
       "      <td>45.5</td>\n",
       "      <td>18.5</td>\n",
       "      <td>-0.593407</td>\n",
       "      <td>1.0</td>\n",
       "    </tr>\n",
       "    <tr>\n",
       "      <th>...</th>\n",
       "      <td>...</td>\n",
       "      <td>...</td>\n",
       "      <td>...</td>\n",
       "      <td>...</td>\n",
       "      <td>...</td>\n",
       "      <td>...</td>\n",
       "    </tr>\n",
       "    <tr>\n",
       "      <th>1396</th>\n",
       "      <td>2025-09-19</td>\n",
       "      <td>25850.0</td>\n",
       "      <td>230.0</td>\n",
       "      <td>191.0</td>\n",
       "      <td>-0.169565</td>\n",
       "      <td>1.0</td>\n",
       "    </tr>\n",
       "    <tr>\n",
       "      <th>1397</th>\n",
       "      <td>2025-09-22</td>\n",
       "      <td>25750.0</td>\n",
       "      <td>205.0</td>\n",
       "      <td>155.0</td>\n",
       "      <td>-0.243902</td>\n",
       "      <td>3.0</td>\n",
       "    </tr>\n",
       "    <tr>\n",
       "      <th>1398</th>\n",
       "      <td>2025-09-23</td>\n",
       "      <td>26050.0</td>\n",
       "      <td>242.0</td>\n",
       "      <td>91.0</td>\n",
       "      <td>-0.623967</td>\n",
       "      <td>1.0</td>\n",
       "    </tr>\n",
       "    <tr>\n",
       "      <th>1399</th>\n",
       "      <td>2025-09-24</td>\n",
       "      <td>26400.0</td>\n",
       "      <td>187.0</td>\n",
       "      <td>65.0</td>\n",
       "      <td>-0.652406</td>\n",
       "      <td>1.0</td>\n",
       "    </tr>\n",
       "    <tr>\n",
       "      <th>1400</th>\n",
       "      <td>2025-09-25</td>\n",
       "      <td>26200.0</td>\n",
       "      <td>215.0</td>\n",
       "      <td>209.0</td>\n",
       "      <td>-0.027907</td>\n",
       "      <td>1.0</td>\n",
       "    </tr>\n",
       "  </tbody>\n",
       "</table>\n",
       "<p>1401 rows × 6 columns</p>\n",
       "</div>"
      ],
      "text/plain": [
       "           date  strike_price   open  close  open_to_close_ret  gap_days\n",
       "0    2020-01-02       12000.0   27.5   10.0          -0.636364       NaN\n",
       "1    2020-01-03       12150.0   85.0   47.0          -0.447059       1.0\n",
       "2    2020-01-06       12050.0   34.0   50.0           0.470588       3.0\n",
       "3    2020-01-07       12000.0   72.0   39.0          -0.458333       1.0\n",
       "4    2020-01-08       11900.0   45.5   18.5          -0.593407       1.0\n",
       "...         ...           ...    ...    ...                ...       ...\n",
       "1396 2025-09-19       25850.0  230.0  191.0          -0.169565       1.0\n",
       "1397 2025-09-22       25750.0  205.0  155.0          -0.243902       3.0\n",
       "1398 2025-09-23       26050.0  242.0   91.0          -0.623967       1.0\n",
       "1399 2025-09-24       26400.0  187.0   65.0          -0.652406       1.0\n",
       "1400 2025-09-25       26200.0  215.0  209.0          -0.027907       1.0\n",
       "\n",
       "[1401 rows x 6 columns]"
      ]
     },
     "execution_count": 242,
     "metadata": {},
     "output_type": "execute_result"
    }
   ],
   "source": [
    "night_put_df = (\n",
    "    opa_atm_df.loc[opa_atm_df[\"call_put\"] == \"put\", [\"date\", \"strike_price\", \"open\", \"close\"]]\n",
    "    .copy()\n",
    ")\n",
    "night_put_df[\"date\"] = pd.to_datetime(night_put_df[\"date\"])\n",
    "night_put_df.sort_values(\"date\", inplace = True)\n",
    "put_mask = (night_put_df[\"open\"] > 0) & (night_put_df[\"close\"] > 0)\n",
    "night_put_df[\"open_to_close_ret\"] = np.where(\n",
    "    put_mask,\n",
    "    (night_put_df[\"close\"] / night_put_df[\"open\"]) - 1,\n",
    "    np.nan\n",
    ")\n",
    "night_put_df[\"gap_days\"] = night_put_df[\"date\"].diff().dt.days\n",
    "night_put_df.reset_index(drop = True, inplace = True)\n",
    "night_put_df"
   ]
  },
  {
   "cell_type": "code",
   "execution_count": 247,
   "id": "8901e361",
   "metadata": {},
   "outputs": [
    {
     "data": {
      "application/vnd.plotly.v1+json": {
       "config": {
        "plotlyServerURL": "https://plot.ly"
       },
       "data": [
        {
         "line": {
          "color": "rgb(31, 119, 180)"
         },
         "mode": "lines",
         "name": "cum_demeaned_open_to_close_ret",
         "type": "scatter",
         "x": {
          "bdata": "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",
          "dtype": "f8"
         },
         "xaxis": "x",
         "y": {
          "bdata": "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",
          "dtype": "f8"
         },
         "yaxis": "y"
        },
        {
         "line": {
          "color": "rgb(214, 39, 40)",
          "dash": "dash"
         },
         "mode": "lines",
         "name": "gap_days",
         "type": "scatter",
         "x": {
          "bdata": "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",
          "dtype": "f8"
         },
         "xaxis": "x",
         "y": {
          "bdata": "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",
          "dtype": "f8"
         },
         "yaxis": "y2"
        }
       ],
       "layout": {
        "annotations": [
         {
          "font": {
           "color": "gray",
           "size": 12
          },
          "showarrow": false,
          "text": "Sample size: 1401",
          "x": 0.99,
          "xanchor": "right",
          "xref": "paper",
          "y": 0.02,
          "yref": "paper"
         }
        ],
        "height": 500,
        "legend": {
         "x": 1.02,
         "xanchor": "left",
         "y": 0.5
        },
        "margin": {
         "b": 50,
         "l": 70,
         "r": 160,
         "t": 50
        },
        "template": {
         "data": {
          "bar": [
           {
            "error_x": {
             "color": "#2a3f5f"
            },
            "error_y": {
             "color": "#2a3f5f"
            },
            "marker": {
             "line": {
              "color": "white",
              "width": 0.5
             },
             "pattern": {
              "fillmode": "overlay",
              "size": 10,
              "solidity": 0.2
             }
            },
            "type": "bar"
           }
          ],
          "barpolar": [
           {
            "marker": {
             "line": {
              "color": "white",
              "width": 0.5
             },
             "pattern": {
              "fillmode": "overlay",
              "size": 10,
              "solidity": 0.2
             }
            },
            "type": "barpolar"
           }
          ],
          "carpet": [
           {
            "aaxis": {
             "endlinecolor": "#2a3f5f",
             "gridcolor": "#C8D4E3",
             "linecolor": "#C8D4E3",
             "minorgridcolor": "#C8D4E3",
             "startlinecolor": "#2a3f5f"
            },
            "baxis": {
             "endlinecolor": "#2a3f5f",
             "gridcolor": "#C8D4E3",
             "linecolor": "#C8D4E3",
             "minorgridcolor": "#C8D4E3",
             "startlinecolor": "#2a3f5f"
            },
            "type": "carpet"
           }
          ],
          "choropleth": [
           {
            "colorbar": {
             "outlinewidth": 0,
             "ticks": ""
            },
            "type": "choropleth"
           }
          ],
          "contour": [
           {
            "colorbar": {
             "outlinewidth": 0,
             "ticks": ""
            },
            "colorscale": [
             [
              0,
              "#0d0887"
             ],
             [
              0.1111111111111111,
              "#46039f"
             ],
             [
              0.2222222222222222,
              "#7201a8"
             ],
             [
              0.3333333333333333,
              "#9c179e"
             ],
             [
              0.4444444444444444,
              "#bd3786"
             ],
             [
              0.5555555555555556,
              "#d8576b"
             ],
             [
              0.6666666666666666,
              "#ed7953"
             ],
             [
              0.7777777777777778,
              "#fb9f3a"
             ],
             [
              0.8888888888888888,
              "#fdca26"
             ],
             [
              1,
              "#f0f921"
             ]
            ],
            "type": "contour"
           }
          ],
          "contourcarpet": [
           {
            "colorbar": {
             "outlinewidth": 0,
             "ticks": ""
            },
            "type": "contourcarpet"
           }
          ],
          "heatmap": [
           {
            "colorbar": {
             "outlinewidth": 0,
             "ticks": ""
            },
            "colorscale": [
             [
              0,
              "#0d0887"
             ],
             [
              0.1111111111111111,
              "#46039f"
             ],
             [
              0.2222222222222222,
              "#7201a8"
             ],
             [
              0.3333333333333333,
              "#9c179e"
             ],
             [
              0.4444444444444444,
              "#bd3786"
             ],
             [
              0.5555555555555556,
              "#d8576b"
             ],
             [
              0.6666666666666666,
              "#ed7953"
             ],
             [
              0.7777777777777778,
              "#fb9f3a"
             ],
             [
              0.8888888888888888,
              "#fdca26"
             ],
             [
              1,
              "#f0f921"
             ]
            ],
            "type": "heatmap"
           }
          ],
          "histogram": [
           {
            "marker": {
             "pattern": {
              "fillmode": "overlay",
              "size": 10,
              "solidity": 0.2
             }
            },
            "type": "histogram"
           }
          ],
          "histogram2d": [
           {
            "colorbar": {
             "outlinewidth": 0,
             "ticks": ""
            },
            "colorscale": [
             [
              0,
              "#0d0887"
             ],
             [
              0.1111111111111111,
              "#46039f"
             ],
             [
              0.2222222222222222,
              "#7201a8"
             ],
             [
              0.3333333333333333,
              "#9c179e"
             ],
             [
              0.4444444444444444,
              "#bd3786"
             ],
             [
              0.5555555555555556,
              "#d8576b"
             ],
             [
              0.6666666666666666,
              "#ed7953"
             ],
             [
              0.7777777777777778,
              "#fb9f3a"
             ],
             [
              0.8888888888888888,
              "#fdca26"
             ],
             [
              1,
              "#f0f921"
             ]
            ],
            "type": "histogram2d"
           }
          ],
          "histogram2dcontour": [
           {
            "colorbar": {
             "outlinewidth": 0,
             "ticks": ""
            },
            "colorscale": [
             [
              0,
              "#0d0887"
             ],
             [
              0.1111111111111111,
              "#46039f"
             ],
             [
              0.2222222222222222,
              "#7201a8"
             ],
             [
              0.3333333333333333,
              "#9c179e"
             ],
             [
              0.4444444444444444,
              "#bd3786"
             ],
             [
              0.5555555555555556,
              "#d8576b"
             ],
             [
              0.6666666666666666,
              "#ed7953"
             ],
             [
              0.7777777777777778,
              "#fb9f3a"
             ],
             [
              0.8888888888888888,
              "#fdca26"
             ],
             [
              1,
              "#f0f921"
             ]
            ],
            "type": "histogram2dcontour"
           }
          ],
          "mesh3d": [
           {
            "colorbar": {
             "outlinewidth": 0,
             "ticks": ""
            },
            "type": "mesh3d"
           }
          ],
          "parcoords": [
           {
            "line": {
             "colorbar": {
              "outlinewidth": 0,
              "ticks": ""
             }
            },
            "type": "parcoords"
           }
          ],
          "pie": [
           {
            "automargin": true,
            "type": "pie"
           }
          ],
          "scatter": [
           {
            "fillpattern": {
             "fillmode": "overlay",
             "size": 10,
             "solidity": 0.2
            },
            "type": "scatter"
           }
          ],
          "scatter3d": [
           {
            "line": {
             "colorbar": {
              "outlinewidth": 0,
              "ticks": ""
             }
            },
            "marker": {
             "colorbar": {
              "outlinewidth": 0,
              "ticks": ""
             }
            },
            "type": "scatter3d"
           }
          ],
          "scattercarpet": [
           {
            "marker": {
             "colorbar": {
              "outlinewidth": 0,
              "ticks": ""
             }
            },
            "type": "scattercarpet"
           }
          ],
          "scattergeo": [
           {
            "marker": {
             "colorbar": {
              "outlinewidth": 0,
              "ticks": ""
             }
            },
            "type": "scattergeo"
           }
          ],
          "scattergl": [
           {
            "marker": {
             "colorbar": {
              "outlinewidth": 0,
              "ticks": ""
             }
            },
            "type": "scattergl"
           }
          ],
          "scattermap": [
           {
            "marker": {
             "colorbar": {
              "outlinewidth": 0,
              "ticks": ""
             }
            },
            "type": "scattermap"
           }
          ],
          "scattermapbox": [
           {
            "marker": {
             "colorbar": {
              "outlinewidth": 0,
              "ticks": ""
             }
            },
            "type": "scattermapbox"
           }
          ],
          "scatterpolar": [
           {
            "marker": {
             "colorbar": {
              "outlinewidth": 0,
              "ticks": ""
             }
            },
            "type": "scatterpolar"
           }
          ],
          "scatterpolargl": [
           {
            "marker": {
             "colorbar": {
              "outlinewidth": 0,
              "ticks": ""
             }
            },
            "type": "scatterpolargl"
           }
          ],
          "scatterternary": [
           {
            "marker": {
             "colorbar": {
              "outlinewidth": 0,
              "ticks": ""
             }
            },
            "type": "scatterternary"
           }
          ],
          "surface": [
           {
            "colorbar": {
             "outlinewidth": 0,
             "ticks": ""
            },
            "colorscale": [
             [
              0,
              "#0d0887"
             ],
             [
              0.1111111111111111,
              "#46039f"
             ],
             [
              0.2222222222222222,
              "#7201a8"
             ],
             [
              0.3333333333333333,
              "#9c179e"
             ],
             [
              0.4444444444444444,
              "#bd3786"
             ],
             [
              0.5555555555555556,
              "#d8576b"
             ],
             [
              0.6666666666666666,
              "#ed7953"
             ],
             [
              0.7777777777777778,
              "#fb9f3a"
             ],
             [
              0.8888888888888888,
              "#fdca26"
             ],
             [
              1,
              "#f0f921"
             ]
            ],
            "type": "surface"
           }
          ],
          "table": [
           {
            "cells": {
             "fill": {
              "color": "#EBF0F8"
             },
             "line": {
              "color": "white"
             }
            },
            "header": {
             "fill": {
              "color": "#C8D4E3"
             },
             "line": {
              "color": "white"
             }
            },
            "type": "table"
           }
          ]
         },
         "layout": {
          "annotationdefaults": {
           "arrowcolor": "#2a3f5f",
           "arrowhead": 0,
           "arrowwidth": 1
          },
          "autotypenumbers": "strict",
          "coloraxis": {
           "colorbar": {
            "outlinewidth": 0,
            "ticks": ""
           }
          },
          "colorscale": {
           "diverging": [
            [
             0,
             "#8e0152"
            ],
            [
             0.1,
             "#c51b7d"
            ],
            [
             0.2,
             "#de77ae"
            ],
            [
             0.3,
             "#f1b6da"
            ],
            [
             0.4,
             "#fde0ef"
            ],
            [
             0.5,
             "#f7f7f7"
            ],
            [
             0.6,
             "#e6f5d0"
            ],
            [
             0.7,
             "#b8e186"
            ],
            [
             0.8,
             "#7fbc41"
            ],
            [
             0.9,
             "#4d9221"
            ],
            [
             1,
             "#276419"
            ]
           ],
           "sequential": [
            [
             0,
             "#0d0887"
            ],
            [
             0.1111111111111111,
             "#46039f"
            ],
            [
             0.2222222222222222,
             "#7201a8"
            ],
            [
             0.3333333333333333,
             "#9c179e"
            ],
            [
             0.4444444444444444,
             "#bd3786"
            ],
            [
             0.5555555555555556,
             "#d8576b"
            ],
            [
             0.6666666666666666,
             "#ed7953"
            ],
            [
             0.7777777777777778,
             "#fb9f3a"
            ],
            [
             0.8888888888888888,
             "#fdca26"
            ],
            [
             1,
             "#f0f921"
            ]
           ],
           "sequentialminus": [
            [
             0,
             "#0d0887"
            ],
            [
             0.1111111111111111,
             "#46039f"
            ],
            [
             0.2222222222222222,
             "#7201a8"
            ],
            [
             0.3333333333333333,
             "#9c179e"
            ],
            [
             0.4444444444444444,
             "#bd3786"
            ],
            [
             0.5555555555555556,
             "#d8576b"
            ],
            [
             0.6666666666666666,
             "#ed7953"
            ],
            [
             0.7777777777777778,
             "#fb9f3a"
            ],
            [
             0.8888888888888888,
             "#fdca26"
            ],
            [
             1,
             "#f0f921"
            ]
           ]
          },
          "colorway": [
           "#636efa",
           "#EF553B",
           "#00cc96",
           "#ab63fa",
           "#FFA15A",
           "#19d3f3",
           "#FF6692",
           "#B6E880",
           "#FF97FF",
           "#FECB52"
          ],
          "font": {
           "color": "#2a3f5f"
          },
          "geo": {
           "bgcolor": "white",
           "lakecolor": "white",
           "landcolor": "white",
           "showlakes": true,
           "showland": true,
           "subunitcolor": "#C8D4E3"
          },
          "hoverlabel": {
           "align": "left"
          },
          "hovermode": "closest",
          "mapbox": {
           "style": "light"
          },
          "paper_bgcolor": "white",
          "plot_bgcolor": "white",
          "polar": {
           "angularaxis": {
            "gridcolor": "#EBF0F8",
            "linecolor": "#EBF0F8",
            "ticks": ""
           },
           "bgcolor": "white",
           "radialaxis": {
            "gridcolor": "#EBF0F8",
            "linecolor": "#EBF0F8",
            "ticks": ""
           }
          },
          "scene": {
           "xaxis": {
            "backgroundcolor": "white",
            "gridcolor": "#DFE8F3",
            "gridwidth": 2,
            "linecolor": "#EBF0F8",
            "showbackground": true,
            "ticks": "",
            "zerolinecolor": "#EBF0F8"
           },
           "yaxis": {
            "backgroundcolor": "white",
            "gridcolor": "#DFE8F3",
            "gridwidth": 2,
            "linecolor": "#EBF0F8",
            "showbackground": true,
            "ticks": "",
            "zerolinecolor": "#EBF0F8"
           },
           "zaxis": {
            "backgroundcolor": "white",
            "gridcolor": "#DFE8F3",
            "gridwidth": 2,
            "linecolor": "#EBF0F8",
            "showbackground": true,
            "ticks": "",
            "zerolinecolor": "#EBF0F8"
           }
          },
          "shapedefaults": {
           "line": {
            "color": "#2a3f5f"
           }
          },
          "ternary": {
           "aaxis": {
            "gridcolor": "#DFE8F3",
            "linecolor": "#A2B1C6",
            "ticks": ""
           },
           "baxis": {
            "gridcolor": "#DFE8F3",
            "linecolor": "#A2B1C6",
            "ticks": ""
           },
           "bgcolor": "white",
           "caxis": {
            "gridcolor": "#DFE8F3",
            "linecolor": "#A2B1C6",
            "ticks": ""
           }
          },
          "title": {
           "x": 0.05
          },
          "xaxis": {
           "automargin": true,
           "gridcolor": "#EBF0F8",
           "linecolor": "#EBF0F8",
           "ticks": "",
           "title": {
            "standoff": 15
           },
           "zerolinecolor": "#EBF0F8",
           "zerolinewidth": 2
          },
          "yaxis": {
           "automargin": true,
           "gridcolor": "#EBF0F8",
           "linecolor": "#EBF0F8",
           "ticks": "",
           "title": {
            "standoff": 15
           },
           "zerolinecolor": "#EBF0F8",
           "zerolinewidth": 2
          }
         }
        },
        "xaxis": {
         "anchor": "y",
         "domain": [
          0,
          0.94
         ],
         "showgrid": true,
         "title": {
          "text": "sample proportion"
         }
        },
        "yaxis": {
         "anchor": "x",
         "domain": [
          0,
          1
         ],
         "showgrid": true,
         "tickfont": {
          "color": "rgb(31, 119, 180)"
         },
         "title": {
          "font": {
           "color": "rgb(31, 119, 180)"
          },
          "text": "cum_demeaned_open_to_close_ret"
         }
        },
        "yaxis2": {
         "anchor": "x",
         "overlaying": "y",
         "showgrid": false,
         "side": "right",
         "tickfont": {
          "color": "rgb(214, 39, 40)"
         },
         "title": {
          "font": {
           "color": "rgb(214, 39, 40)"
          },
          "text": "gap_days"
         }
        }
       }
      }
     },
     "metadata": {},
     "output_type": "display_data"
    }
   ],
   "source": [
    "night_put_df.sort_values(\"gap_days\", ignore_index = True, inplace = True)\n",
    "mean = night_put_df[\"open_to_close_ret\"].mean()\n",
    "night_put_df[\"demeaned_open_to_close_ret\"] = night_put_df[\"open_to_close_ret\"] - mean\n",
    "night_put_df[\"cum_demeaned_open_to_close_ret\"] = night_put_df[\"demeaned_open_to_close_ret\"].cumsum()\n",
    "plot(night_put_df, \"cum_demeaned_open_to_close_ret\", ry = \"gap_days\")"
   ]
  },
  {
   "cell_type": "markdown",
   "id": "5f687bfa",
   "metadata": {},
   "source": [
    "### call"
   ]
  },
  {
   "cell_type": "code",
   "execution_count": 244,
   "id": "a85947ef",
   "metadata": {},
   "outputs": [
    {
     "data": {
      "text/html": [
       "<div>\n",
       "<style scoped>\n",
       "    .dataframe tbody tr th:only-of-type {\n",
       "        vertical-align: middle;\n",
       "    }\n",
       "\n",
       "    .dataframe tbody tr th {\n",
       "        vertical-align: top;\n",
       "    }\n",
       "\n",
       "    .dataframe thead th {\n",
       "        text-align: right;\n",
       "    }\n",
       "</style>\n",
       "<table border=\"1\" class=\"dataframe\">\n",
       "  <thead>\n",
       "    <tr style=\"text-align: right;\">\n",
       "      <th></th>\n",
       "      <th>date</th>\n",
       "      <th>strike_price</th>\n",
       "      <th>open</th>\n",
       "      <th>close</th>\n",
       "      <th>open_to_close_ret</th>\n",
       "      <th>gap_days</th>\n",
       "    </tr>\n",
       "  </thead>\n",
       "  <tbody>\n",
       "    <tr>\n",
       "      <th>0</th>\n",
       "      <td>2020-01-02</td>\n",
       "      <td>12000.0</td>\n",
       "      <td>26.0</td>\n",
       "      <td>30.0</td>\n",
       "      <td>0.153846</td>\n",
       "      <td>NaN</td>\n",
       "    </tr>\n",
       "    <tr>\n",
       "      <th>1</th>\n",
       "      <td>2020-01-03</td>\n",
       "      <td>12150.0</td>\n",
       "      <td>42.0</td>\n",
       "      <td>73.0</td>\n",
       "      <td>0.738095</td>\n",
       "      <td>1.0</td>\n",
       "    </tr>\n",
       "    <tr>\n",
       "      <th>2</th>\n",
       "      <td>2020-01-06</td>\n",
       "      <td>12050.0</td>\n",
       "      <td>84.0</td>\n",
       "      <td>64.0</td>\n",
       "      <td>-0.238095</td>\n",
       "      <td>3.0</td>\n",
       "    </tr>\n",
       "    <tr>\n",
       "      <th>3</th>\n",
       "      <td>2020-01-07</td>\n",
       "      <td>12000.0</td>\n",
       "      <td>21.0</td>\n",
       "      <td>27.0</td>\n",
       "      <td>0.285714</td>\n",
       "      <td>1.0</td>\n",
       "    </tr>\n",
       "    <tr>\n",
       "      <th>4</th>\n",
       "      <td>2020-01-08</td>\n",
       "      <td>11900.0</td>\n",
       "      <td>17.5</td>\n",
       "      <td>28.0</td>\n",
       "      <td>0.600000</td>\n",
       "      <td>1.0</td>\n",
       "    </tr>\n",
       "    <tr>\n",
       "      <th>...</th>\n",
       "      <td>...</td>\n",
       "      <td>...</td>\n",
       "      <td>...</td>\n",
       "      <td>...</td>\n",
       "      <td>...</td>\n",
       "      <td>...</td>\n",
       "    </tr>\n",
       "    <tr>\n",
       "      <th>1396</th>\n",
       "      <td>2025-09-19</td>\n",
       "      <td>25850.0</td>\n",
       "      <td>114.0</td>\n",
       "      <td>173.0</td>\n",
       "      <td>0.517544</td>\n",
       "      <td>1.0</td>\n",
       "    </tr>\n",
       "    <tr>\n",
       "      <th>1397</th>\n",
       "      <td>2025-09-22</td>\n",
       "      <td>25750.0</td>\n",
       "      <td>116.0</td>\n",
       "      <td>122.0</td>\n",
       "      <td>0.051724</td>\n",
       "      <td>3.0</td>\n",
       "    </tr>\n",
       "    <tr>\n",
       "      <th>1398</th>\n",
       "      <td>2025-09-23</td>\n",
       "      <td>26050.0</td>\n",
       "      <td>34.5</td>\n",
       "      <td>92.0</td>\n",
       "      <td>1.666667</td>\n",
       "      <td>1.0</td>\n",
       "    </tr>\n",
       "    <tr>\n",
       "      <th>1399</th>\n",
       "      <td>2025-09-24</td>\n",
       "      <td>26400.0</td>\n",
       "      <td>28.0</td>\n",
       "      <td>63.0</td>\n",
       "      <td>1.250000</td>\n",
       "      <td>1.0</td>\n",
       "    </tr>\n",
       "    <tr>\n",
       "      <th>1400</th>\n",
       "      <td>2025-09-25</td>\n",
       "      <td>26200.0</td>\n",
       "      <td>240.0</td>\n",
       "      <td>200.0</td>\n",
       "      <td>-0.166667</td>\n",
       "      <td>1.0</td>\n",
       "    </tr>\n",
       "  </tbody>\n",
       "</table>\n",
       "<p>1401 rows × 6 columns</p>\n",
       "</div>"
      ],
      "text/plain": [
       "           date  strike_price   open  close  open_to_close_ret  gap_days\n",
       "0    2020-01-02       12000.0   26.0   30.0           0.153846       NaN\n",
       "1    2020-01-03       12150.0   42.0   73.0           0.738095       1.0\n",
       "2    2020-01-06       12050.0   84.0   64.0          -0.238095       3.0\n",
       "3    2020-01-07       12000.0   21.0   27.0           0.285714       1.0\n",
       "4    2020-01-08       11900.0   17.5   28.0           0.600000       1.0\n",
       "...         ...           ...    ...    ...                ...       ...\n",
       "1396 2025-09-19       25850.0  114.0  173.0           0.517544       1.0\n",
       "1397 2025-09-22       25750.0  116.0  122.0           0.051724       3.0\n",
       "1398 2025-09-23       26050.0   34.5   92.0           1.666667       1.0\n",
       "1399 2025-09-24       26400.0   28.0   63.0           1.250000       1.0\n",
       "1400 2025-09-25       26200.0  240.0  200.0          -0.166667       1.0\n",
       "\n",
       "[1401 rows x 6 columns]"
      ]
     },
     "execution_count": 244,
     "metadata": {},
     "output_type": "execute_result"
    }
   ],
   "source": [
    "night_call_df = (\n",
    "    opa_atm_df.loc[opa_atm_df[\"call_put\"] == \"call\", [\"date\", \"strike_price\", \"open\", \"close\"]]\n",
    "    .copy()\n",
    ")\n",
    "night_call_df[\"date\"] = pd.to_datetime(night_call_df[\"date\"])\n",
    "night_call_df.sort_values(\"date\", inplace = True)\n",
    "call_mask = (night_call_df[\"open\"] > 0) & (night_call_df[\"close\"] > 0)\n",
    "night_call_df[\"open_to_close_ret\"] = np.where(\n",
    "    call_mask,\n",
    "    (night_call_df[\"close\"] / night_call_df[\"open\"]) - 1,\n",
    "    np.nan\n",
    ")\n",
    "night_call_df[\"gap_days\"] = night_call_df[\"date\"].diff().dt.days\n",
    "night_call_df.reset_index(drop = True, inplace = True)\n",
    "night_call_df"
   ]
  },
  {
   "cell_type": "code",
   "execution_count": 248,
   "id": "df67b907",
   "metadata": {},
   "outputs": [
    {
     "data": {
      "application/vnd.plotly.v1+json": {
       "config": {
        "plotlyServerURL": "https://plot.ly"
       },
       "data": [
        {
         "line": {
          "color": "rgb(31, 119, 180)"
         },
         "mode": "lines",
         "name": "cum_demeaned_open_to_close_ret",
         "type": "scatter",
         "x": {
          "bdata": "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",
          "dtype": "f8"
         },
         "xaxis": "x",
         "y": {
          "bdata": "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",
          "dtype": "f8"
         },
         "yaxis": "y"
        },
        {
         "line": {
          "color": "rgb(214, 39, 40)",
          "dash": "dash"
         },
         "mode": "lines",
         "name": "gap_days",
         "type": "scatter",
         "x": {
          "bdata": "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",
          "dtype": "f8"
         },
         "xaxis": "x",
         "y": {
          "bdata": "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",
          "dtype": "f8"
         },
         "yaxis": "y2"
        }
       ],
       "layout": {
        "annotations": [
         {
          "font": {
           "color": "gray",
           "size": 12
          },
          "showarrow": false,
          "text": "Sample size: 1401",
          "x": 0.99,
          "xanchor": "right",
          "xref": "paper",
          "y": 0.02,
          "yref": "paper"
         }
        ],
        "height": 500,
        "legend": {
         "x": 1.02,
         "xanchor": "left",
         "y": 0.5
        },
        "margin": {
         "b": 50,
         "l": 70,
         "r": 160,
         "t": 50
        },
        "template": {
         "data": {
          "bar": [
           {
            "error_x": {
             "color": "#2a3f5f"
            },
            "error_y": {
             "color": "#2a3f5f"
            },
            "marker": {
             "line": {
              "color": "white",
              "width": 0.5
             },
             "pattern": {
              "fillmode": "overlay",
              "size": 10,
              "solidity": 0.2
             }
            },
            "type": "bar"
           }
          ],
          "barpolar": [
           {
            "marker": {
             "line": {
              "color": "white",
              "width": 0.5
             },
             "pattern": {
              "fillmode": "overlay",
              "size": 10,
              "solidity": 0.2
             }
            },
            "type": "barpolar"
           }
          ],
          "carpet": [
           {
            "aaxis": {
             "endlinecolor": "#2a3f5f",
             "gridcolor": "#C8D4E3",
             "linecolor": "#C8D4E3",
             "minorgridcolor": "#C8D4E3",
             "startlinecolor": "#2a3f5f"
            },
            "baxis": {
             "endlinecolor": "#2a3f5f",
             "gridcolor": "#C8D4E3",
             "linecolor": "#C8D4E3",
             "minorgridcolor": "#C8D4E3",
             "startlinecolor": "#2a3f5f"
            },
            "type": "carpet"
           }
          ],
          "choropleth": [
           {
            "colorbar": {
             "outlinewidth": 0,
             "ticks": ""
            },
            "type": "choropleth"
           }
          ],
          "contour": [
           {
            "colorbar": {
             "outlinewidth": 0,
             "ticks": ""
            },
            "colorscale": [
             [
              0,
              "#0d0887"
             ],
             [
              0.1111111111111111,
              "#46039f"
             ],
             [
              0.2222222222222222,
              "#7201a8"
             ],
             [
              0.3333333333333333,
              "#9c179e"
             ],
             [
              0.4444444444444444,
              "#bd3786"
             ],
             [
              0.5555555555555556,
              "#d8576b"
             ],
             [
              0.6666666666666666,
              "#ed7953"
             ],
             [
              0.7777777777777778,
              "#fb9f3a"
             ],
             [
              0.8888888888888888,
              "#fdca26"
             ],
             [
              1,
              "#f0f921"
             ]
            ],
            "type": "contour"
           }
          ],
          "contourcarpet": [
           {
            "colorbar": {
             "outlinewidth": 0,
             "ticks": ""
            },
            "type": "contourcarpet"
           }
          ],
          "heatmap": [
           {
            "colorbar": {
             "outlinewidth": 0,
             "ticks": ""
            },
            "colorscale": [
             [
              0,
              "#0d0887"
             ],
             [
              0.1111111111111111,
              "#46039f"
             ],
             [
              0.2222222222222222,
              "#7201a8"
             ],
             [
              0.3333333333333333,
              "#9c179e"
             ],
             [
              0.4444444444444444,
              "#bd3786"
             ],
             [
              0.5555555555555556,
              "#d8576b"
             ],
             [
              0.6666666666666666,
              "#ed7953"
             ],
             [
              0.7777777777777778,
              "#fb9f3a"
             ],
             [
              0.8888888888888888,
              "#fdca26"
             ],
             [
              1,
              "#f0f921"
             ]
            ],
            "type": "heatmap"
           }
          ],
          "histogram": [
           {
            "marker": {
             "pattern": {
              "fillmode": "overlay",
              "size": 10,
              "solidity": 0.2
             }
            },
            "type": "histogram"
           }
          ],
          "histogram2d": [
           {
            "colorbar": {
             "outlinewidth": 0,
             "ticks": ""
            },
            "colorscale": [
             [
              0,
              "#0d0887"
             ],
             [
              0.1111111111111111,
              "#46039f"
             ],
             [
              0.2222222222222222,
              "#7201a8"
             ],
             [
              0.3333333333333333,
              "#9c179e"
             ],
             [
              0.4444444444444444,
              "#bd3786"
             ],
             [
              0.5555555555555556,
              "#d8576b"
             ],
             [
              0.6666666666666666,
              "#ed7953"
             ],
             [
              0.7777777777777778,
              "#fb9f3a"
             ],
             [
              0.8888888888888888,
              "#fdca26"
             ],
             [
              1,
              "#f0f921"
             ]
            ],
            "type": "histogram2d"
           }
          ],
          "histogram2dcontour": [
           {
            "colorbar": {
             "outlinewidth": 0,
             "ticks": ""
            },
            "colorscale": [
             [
              0,
              "#0d0887"
             ],
             [
              0.1111111111111111,
              "#46039f"
             ],
             [
              0.2222222222222222,
              "#7201a8"
             ],
             [
              0.3333333333333333,
              "#9c179e"
             ],
             [
              0.4444444444444444,
              "#bd3786"
             ],
             [
              0.5555555555555556,
              "#d8576b"
             ],
             [
              0.6666666666666666,
              "#ed7953"
             ],
             [
              0.7777777777777778,
              "#fb9f3a"
             ],
             [
              0.8888888888888888,
              "#fdca26"
             ],
             [
              1,
              "#f0f921"
             ]
            ],
            "type": "histogram2dcontour"
           }
          ],
          "mesh3d": [
           {
            "colorbar": {
             "outlinewidth": 0,
             "ticks": ""
            },
            "type": "mesh3d"
           }
          ],
          "parcoords": [
           {
            "line": {
             "colorbar": {
              "outlinewidth": 0,
              "ticks": ""
             }
            },
            "type": "parcoords"
           }
          ],
          "pie": [
           {
            "automargin": true,
            "type": "pie"
           }
          ],
          "scatter": [
           {
            "fillpattern": {
             "fillmode": "overlay",
             "size": 10,
             "solidity": 0.2
            },
            "type": "scatter"
           }
          ],
          "scatter3d": [
           {
            "line": {
             "colorbar": {
              "outlinewidth": 0,
              "ticks": ""
             }
            },
            "marker": {
             "colorbar": {
              "outlinewidth": 0,
              "ticks": ""
             }
            },
            "type": "scatter3d"
           }
          ],
          "scattercarpet": [
           {
            "marker": {
             "colorbar": {
              "outlinewidth": 0,
              "ticks": ""
             }
            },
            "type": "scattercarpet"
           }
          ],
          "scattergeo": [
           {
            "marker": {
             "colorbar": {
              "outlinewidth": 0,
              "ticks": ""
             }
            },
            "type": "scattergeo"
           }
          ],
          "scattergl": [
           {
            "marker": {
             "colorbar": {
              "outlinewidth": 0,
              "ticks": ""
             }
            },
            "type": "scattergl"
           }
          ],
          "scattermap": [
           {
            "marker": {
             "colorbar": {
              "outlinewidth": 0,
              "ticks": ""
             }
            },
            "type": "scattermap"
           }
          ],
          "scattermapbox": [
           {
            "marker": {
             "colorbar": {
              "outlinewidth": 0,
              "ticks": ""
             }
            },
            "type": "scattermapbox"
           }
          ],
          "scatterpolar": [
           {
            "marker": {
             "colorbar": {
              "outlinewidth": 0,
              "ticks": ""
             }
            },
            "type": "scatterpolar"
           }
          ],
          "scatterpolargl": [
           {
            "marker": {
             "colorbar": {
              "outlinewidth": 0,
              "ticks": ""
             }
            },
            "type": "scatterpolargl"
           }
          ],
          "scatterternary": [
           {
            "marker": {
             "colorbar": {
              "outlinewidth": 0,
              "ticks": ""
             }
            },
            "type": "scatterternary"
           }
          ],
          "surface": [
           {
            "colorbar": {
             "outlinewidth": 0,
             "ticks": ""
            },
            "colorscale": [
             [
              0,
              "#0d0887"
             ],
             [
              0.1111111111111111,
              "#46039f"
             ],
             [
              0.2222222222222222,
              "#7201a8"
             ],
             [
              0.3333333333333333,
              "#9c179e"
             ],
             [
              0.4444444444444444,
              "#bd3786"
             ],
             [
              0.5555555555555556,
              "#d8576b"
             ],
             [
              0.6666666666666666,
              "#ed7953"
             ],
             [
              0.7777777777777778,
              "#fb9f3a"
             ],
             [
              0.8888888888888888,
              "#fdca26"
             ],
             [
              1,
              "#f0f921"
             ]
            ],
            "type": "surface"
           }
          ],
          "table": [
           {
            "cells": {
             "fill": {
              "color": "#EBF0F8"
             },
             "line": {
              "color": "white"
             }
            },
            "header": {
             "fill": {
              "color": "#C8D4E3"
             },
             "line": {
              "color": "white"
             }
            },
            "type": "table"
           }
          ]
         },
         "layout": {
          "annotationdefaults": {
           "arrowcolor": "#2a3f5f",
           "arrowhead": 0,
           "arrowwidth": 1
          },
          "autotypenumbers": "strict",
          "coloraxis": {
           "colorbar": {
            "outlinewidth": 0,
            "ticks": ""
           }
          },
          "colorscale": {
           "diverging": [
            [
             0,
             "#8e0152"
            ],
            [
             0.1,
             "#c51b7d"
            ],
            [
             0.2,
             "#de77ae"
            ],
            [
             0.3,
             "#f1b6da"
            ],
            [
             0.4,
             "#fde0ef"
            ],
            [
             0.5,
             "#f7f7f7"
            ],
            [
             0.6,
             "#e6f5d0"
            ],
            [
             0.7,
             "#b8e186"
            ],
            [
             0.8,
             "#7fbc41"
            ],
            [
             0.9,
             "#4d9221"
            ],
            [
             1,
             "#276419"
            ]
           ],
           "sequential": [
            [
             0,
             "#0d0887"
            ],
            [
             0.1111111111111111,
             "#46039f"
            ],
            [
             0.2222222222222222,
             "#7201a8"
            ],
            [
             0.3333333333333333,
             "#9c179e"
            ],
            [
             0.4444444444444444,
             "#bd3786"
            ],
            [
             0.5555555555555556,
             "#d8576b"
            ],
            [
             0.6666666666666666,
             "#ed7953"
            ],
            [
             0.7777777777777778,
             "#fb9f3a"
            ],
            [
             0.8888888888888888,
             "#fdca26"
            ],
            [
             1,
             "#f0f921"
            ]
           ],
           "sequentialminus": [
            [
             0,
             "#0d0887"
            ],
            [
             0.1111111111111111,
             "#46039f"
            ],
            [
             0.2222222222222222,
             "#7201a8"
            ],
            [
             0.3333333333333333,
             "#9c179e"
            ],
            [
             0.4444444444444444,
             "#bd3786"
            ],
            [
             0.5555555555555556,
             "#d8576b"
            ],
            [
             0.6666666666666666,
             "#ed7953"
            ],
            [
             0.7777777777777778,
             "#fb9f3a"
            ],
            [
             0.8888888888888888,
             "#fdca26"
            ],
            [
             1,
             "#f0f921"
            ]
           ]
          },
          "colorway": [
           "#636efa",
           "#EF553B",
           "#00cc96",
           "#ab63fa",
           "#FFA15A",
           "#19d3f3",
           "#FF6692",
           "#B6E880",
           "#FF97FF",
           "#FECB52"
          ],
          "font": {
           "color": "#2a3f5f"
          },
          "geo": {
           "bgcolor": "white",
           "lakecolor": "white",
           "landcolor": "white",
           "showlakes": true,
           "showland": true,
           "subunitcolor": "#C8D4E3"
          },
          "hoverlabel": {
           "align": "left"
          },
          "hovermode": "closest",
          "mapbox": {
           "style": "light"
          },
          "paper_bgcolor": "white",
          "plot_bgcolor": "white",
          "polar": {
           "angularaxis": {
            "gridcolor": "#EBF0F8",
            "linecolor": "#EBF0F8",
            "ticks": ""
           },
           "bgcolor": "white",
           "radialaxis": {
            "gridcolor": "#EBF0F8",
            "linecolor": "#EBF0F8",
            "ticks": ""
           }
          },
          "scene": {
           "xaxis": {
            "backgroundcolor": "white",
            "gridcolor": "#DFE8F3",
            "gridwidth": 2,
            "linecolor": "#EBF0F8",
            "showbackground": true,
            "ticks": "",
            "zerolinecolor": "#EBF0F8"
           },
           "yaxis": {
            "backgroundcolor": "white",
            "gridcolor": "#DFE8F3",
            "gridwidth": 2,
            "linecolor": "#EBF0F8",
            "showbackground": true,
            "ticks": "",
            "zerolinecolor": "#EBF0F8"
           },
           "zaxis": {
            "backgroundcolor": "white",
            "gridcolor": "#DFE8F3",
            "gridwidth": 2,
            "linecolor": "#EBF0F8",
            "showbackground": true,
            "ticks": "",
            "zerolinecolor": "#EBF0F8"
           }
          },
          "shapedefaults": {
           "line": {
            "color": "#2a3f5f"
           }
          },
          "ternary": {
           "aaxis": {
            "gridcolor": "#DFE8F3",
            "linecolor": "#A2B1C6",
            "ticks": ""
           },
           "baxis": {
            "gridcolor": "#DFE8F3",
            "linecolor": "#A2B1C6",
            "ticks": ""
           },
           "bgcolor": "white",
           "caxis": {
            "gridcolor": "#DFE8F3",
            "linecolor": "#A2B1C6",
            "ticks": ""
           }
          },
          "title": {
           "x": 0.05
          },
          "xaxis": {
           "automargin": true,
           "gridcolor": "#EBF0F8",
           "linecolor": "#EBF0F8",
           "ticks": "",
           "title": {
            "standoff": 15
           },
           "zerolinecolor": "#EBF0F8",
           "zerolinewidth": 2
          },
          "yaxis": {
           "automargin": true,
           "gridcolor": "#EBF0F8",
           "linecolor": "#EBF0F8",
           "ticks": "",
           "title": {
            "standoff": 15
           },
           "zerolinecolor": "#EBF0F8",
           "zerolinewidth": 2
          }
         }
        },
        "xaxis": {
         "anchor": "y",
         "domain": [
          0,
          0.94
         ],
         "showgrid": true,
         "title": {
          "text": "sample proportion"
         }
        },
        "yaxis": {
         "anchor": "x",
         "domain": [
          0,
          1
         ],
         "showgrid": true,
         "tickfont": {
          "color": "rgb(31, 119, 180)"
         },
         "title": {
          "font": {
           "color": "rgb(31, 119, 180)"
          },
          "text": "cum_demeaned_open_to_close_ret"
         }
        },
        "yaxis2": {
         "anchor": "x",
         "overlaying": "y",
         "showgrid": false,
         "side": "right",
         "tickfont": {
          "color": "rgb(214, 39, 40)"
         },
         "title": {
          "font": {
           "color": "rgb(214, 39, 40)"
          },
          "text": "gap_days"
         }
        }
       }
      }
     },
     "metadata": {},
     "output_type": "display_data"
    }
   ],
   "source": [
    "night_call_df.sort_values(\"gap_days\", ignore_index = True, inplace = True)\n",
    "mean = night_call_df[\"open_to_close_ret\"].mean()\n",
    "night_call_df[\"demeaned_open_to_close_ret\"] = night_call_df[\"open_to_close_ret\"] - mean\n",
    "night_call_df[\"cum_demeaned_open_to_close_ret\"] = night_call_df[\"demeaned_open_to_close_ret\"].cumsum()\n",
    "plot(night_call_df, \"cum_demeaned_open_to_close_ret\", ry = \"gap_days\")"
   ]
  }
 ],
 "metadata": {
  "kernelspec": {
   "display_name": "OP_mac",
   "language": "python",
   "name": "python3"
  },
  "language_info": {
   "codemirror_mode": {
    "name": "ipython",
    "version": 3
   },
   "file_extension": ".py",
   "mimetype": "text/x-python",
   "name": "python",
   "nbconvert_exporter": "python",
   "pygments_lexer": "ipython3",
   "version": "3.13.5"
  }
 },
 "nbformat": 4,
 "nbformat_minor": 5
}
