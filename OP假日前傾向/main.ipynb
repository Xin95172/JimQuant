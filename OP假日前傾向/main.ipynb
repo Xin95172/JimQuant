{
 "cells": [
  {
   "cell_type": "code",
   "execution_count": 149,
   "id": "4ffd9d80",
   "metadata": {},
   "outputs": [
    {
     "name": "stdout",
     "output_type": "stream",
     "text": [
      "The autoreload extension is already loaded. To reload it, use:\n",
      "  %reload_ext autoreload\n"
     ]
    }
   ],
   "source": [
    "import sys\n",
    "import pandas as pd\n",
    "import numpy as np\n",
    "from typing import Any\n",
    "from scipy.stats import linregress, ttest_1samp\n",
    "\n",
    "%load_ext autoreload\n",
    "%autoreload 2\n",
    "# sys.path.append(\"D:/Github/note/module\")                        # for windows\n",
    "sys.path.append(\"/Users/xinc./Documents/GitHub/note/module\")    # for mac\n",
    "from get_info_FinMind import GetInfoFinMind\n",
    "FinMind_fetcher = GetInfoFinMind()\n",
    "from plot_func import plot, plot_scatter, plot_df_columns, plot_pdf, plot_dropped_positions, plot_sequence\n",
    "from performance_func import summarize_performance, mean_ttest\n",
    "\n",
    "start_date = pd.to_datetime(\"2020-01-01\", format = \"%Y-%m-%d\")\n",
    "end_date = pd.to_datetime(\"2025-09-25\", format = \"%Y-%m-%d\")"
   ]
  },
  {
   "cell_type": "markdown",
   "id": "01ca4cb4",
   "metadata": {},
   "source": [
    "# download data"
   ]
  },
  {
   "cell_type": "code",
   "execution_count": 157,
   "id": "f2daa0cb",
   "metadata": {},
   "outputs": [
    {
     "name": "stderr",
     "output_type": "stream",
     "text": [
      "\u001b[32m2025-10-21 11:10:47.150\u001b[0m | \u001b[1mINFO    \u001b[0m | \u001b[36mFinMind.data.finmind_api\u001b[0m:\u001b[36mget_data\u001b[0m:\u001b[36m158\u001b[0m - \u001b[1mdownload Dataset.TaiwanOptionDaily, data_id: TXO\u001b[0m\n",
      "\u001b[32m2025-10-21 11:12:26.065\u001b[0m | \u001b[1mINFO    \u001b[0m | \u001b[36mFinMind.data.finmind_api\u001b[0m:\u001b[36mget_data\u001b[0m:\u001b[36m158\u001b[0m - \u001b[1mdownload Dataset.TaiwanFuturesDaily, data_id: TX\u001b[0m\n",
      "/Users/xinc./Documents/GitHub/note/module/get_info_FinMind.py:267: FutureWarning:\n",
      "\n",
      "DataFrameGroupBy.apply operated on the grouping columns. This behavior is deprecated, and in a future version of pandas the grouping columns will be excluded from the operation. Either pass `include_groups=False` to exclude the groupings or explicitly select the grouping columns after groupby to silence this warning.\n",
      "\n",
      "\u001b[32m2025-10-21 11:12:28.603\u001b[0m | \u001b[1mINFO    \u001b[0m | \u001b[36mFinMind.data.finmind_api\u001b[0m:\u001b[36mget_data\u001b[0m:\u001b[36m158\u001b[0m - \u001b[1mdownload Dataset.TaiwanFuturesDaily, data_id: TX\u001b[0m\n",
      "/Users/xinc./Documents/GitHub/note/module/get_info_FinMind.py:267: FutureWarning:\n",
      "\n",
      "DataFrameGroupBy.apply operated on the grouping columns. This behavior is deprecated, and in a future version of pandas the grouping columns will be excluded from the operation. Either pass `include_groups=False` to exclude the groupings or explicitly select the grouping columns after groupby to silence this warning.\n",
      "\n"
     ]
    }
   ],
   "source": [
    "# TXO\n",
    "op_df = FinMind_fetcher.get_option_daily(\"TXO\", start_date, end_date, trading_session = \"all\")\n",
    "op_df.reset_index(drop = True, inplace = True)\n",
    "op_df_position = op_df[op_df[\"trading_session\"] == \"position\"].copy()\n",
    "\n",
    "# TXOa\n",
    "op_df_after = op_df[op_df[\"trading_session\"] == \"after_market\"].copy()\n",
    "op_df_position.to_pickle(\"../data/TXO.pkl\")\n",
    "op_df_after.to_pickle(\"../data/TXO_after.pkl\")\n",
    "\n",
    "# TX\n",
    "tx_df = FinMind_fetcher.init_df(\"TX\", start_date, end_date)\n",
    "tx_df = FinMind_fetcher.get_future_price()\n",
    "tx_df.to_csv(\"../data/TX.csv\")\n",
    "\n",
    "# TXa\n",
    "txa_df = FinMind_fetcher.init_df(\"TX\", start_date, end_date)\n",
    "txa_df = FinMind_fetcher.get_future_price(trading_session = \"after_market\")\n",
    "txa_df.to_csv(\"../data/TX_after.csv\")"
   ]
  },
  {
   "cell_type": "markdown",
   "id": "b71ad1e5",
   "metadata": {},
   "source": [
    "# read"
   ]
  },
  {
   "cell_type": "code",
   "execution_count": 162,
   "id": "b308ebed",
   "metadata": {},
   "outputs": [],
   "source": [
    "\"\"\"read tx, txo\"\"\"\n",
    "tx_df = pd.read_csv(\"../data/TX.csv\")\n",
    "txa_df = pd.read_csv(\"../data/TX_after.csv\")\n",
    "op_df = pd.read_pickle(\"../data/TXO.pkl\")\n",
    "opa_df = pd.read_pickle(\"../data/TXO_after.pkl\")\n",
    "twii_df = pd.read_pickle(\"../data/twii.pkl\")\n",
    "twii_df.index = pd.to_datetime(twii_df.index)\n",
    "twii_df = twii_df.loc[start_date: end_date]\n",
    "\n",
    "\n",
    "\"\"\"extract at the money data by TX\"\"\"\n",
    "tx_ref = (\n",
    "    tx_df.reset_index()[[\"Timestamp\", \"Close\"]]\n",
    "    .rename(columns = {\"Timestamp\": \"date\", \"Close\": \"tx_close\"})\n",
    ")\n",
    "tx_close_map = tx_ref.set_index(\"date\")[\"tx_close\"]\n",
    "op_atm_df = op_df.copy()\n",
    "op_atm_df[\"tx_close\"] = op_atm_df[\"date\"].map(tx_close_map)\n",
    "op_atm_df = op_atm_df[op_atm_df[\"tx_close\"].notna()].copy()\n",
    "op_atm_df[\"moneyness_gap\"] = (op_atm_df[\"strike_price\"] - op_atm_df[\"tx_close\"]).abs()\n",
    "op_atm_df = (\n",
    "    op_atm_df.sort_values([\"date\", \"call_put\", \"moneyness_gap\", \"volume\", \"open_interest\"],\n",
    "                         ascending = [True, True, True, False, False])\n",
    "    .groupby([\"date\", \"call_put\"], as_index = False)\n",
    "    .head(1)\n",
    "    .reset_index(drop = True)\n",
    ")\n",
    "op_df[\"date\"] = pd.to_datetime(op_df[\"date\"])\n",
    "op_atm_df.drop(columns = [\"tx_close\", \"moneyness_gap\"], inplace = True)\n",
    "\n",
    "\n",
    "\"\"\"extract at the money data by TXa\"\"\"\n",
    "tx_ref = (\n",
    "    txa_df.reset_index()[[\"Timestamp\", \"Close\"]]\n",
    "    .rename(columns = {\"Timestamp\": \"date\", \"Close\": \"txa_close\"})\n",
    ")\n",
    "txa_close_map = tx_ref.set_index(\"date\")[\"txa_close\"]\n",
    "opa_atm_df = opa_df.copy()\n",
    "opa_atm_df[\"txa_close\"] = opa_atm_df[\"date\"].map(txa_close_map)\n",
    "opa_atm_df = opa_atm_df[opa_atm_df[\"txa_close\"].notna()].copy()\n",
    "opa_atm_df[\"moneyness_gap\"] = (opa_atm_df[\"strike_price\"] - opa_atm_df[\"txa_close\"]).abs()\n",
    "opa_atm_df = (\n",
    "    opa_atm_df.sort_values([\"date\", \"call_put\", \"moneyness_gap\", \"volume\", \"open_interest\"],\n",
    "                        ascending = [True, True, True, False, False])\n",
    "    .groupby([\"date\", \"call_put\"], as_index = False)\n",
    "    .head(1)\n",
    "    .reset_index(drop = True)\n",
    ")\n",
    "opa_df[\"date\"] = pd.to_datetime(opa_df[\"date\"])\n",
    "opa_atm_df.drop(columns = [\"txa_close\", \"moneyness_gap\"], inplace = True)"
   ]
  },
  {
   "cell_type": "markdown",
   "id": "15d3eb94",
   "metadata": {},
   "source": [
    "# check the phenomenon of the daily ret before holiday"
   ]
  },
  {
   "cell_type": "markdown",
   "id": "356ef727",
   "metadata": {},
   "source": [
    "## is the phenomenon exsist? if is, how strong of it?"
   ]
  },
  {
   "cell_type": "markdown",
   "id": "c3f8696f",
   "metadata": {},
   "source": [
    "### put"
   ]
  },
  {
   "cell_type": "code",
   "execution_count": null,
   "id": "31728a71",
   "metadata": {},
   "outputs": [
    {
     "data": {
      "text/html": [
       "<div>\n",
       "<style scoped>\n",
       "    .dataframe tbody tr th:only-of-type {\n",
       "        vertical-align: middle;\n",
       "    }\n",
       "\n",
       "    .dataframe tbody tr th {\n",
       "        vertical-align: top;\n",
       "    }\n",
       "\n",
       "    .dataframe thead th {\n",
       "        text-align: right;\n",
       "    }\n",
       "</style>\n",
       "<table border=\"1\" class=\"dataframe\">\n",
       "  <thead>\n",
       "    <tr style=\"text-align: right;\">\n",
       "      <th></th>\n",
       "      <th>date</th>\n",
       "      <th>option_id</th>\n",
       "      <th>contract_date</th>\n",
       "      <th>strike_price</th>\n",
       "      <th>call_put</th>\n",
       "      <th>open</th>\n",
       "      <th>max</th>\n",
       "      <th>min</th>\n",
       "      <th>close</th>\n",
       "      <th>volume</th>\n",
       "      <th>settlement_price</th>\n",
       "      <th>open_interest</th>\n",
       "      <th>trading_session</th>\n",
       "      <th>date_gap_days</th>\n",
       "      <th>daily_ret</th>\n",
       "    </tr>\n",
       "  </thead>\n",
       "  <tbody>\n",
       "    <tr>\n",
       "      <th>0</th>\n",
       "      <td>2020-01-02</td>\n",
       "      <td>TXO</td>\n",
       "      <td>202001W1</td>\n",
       "      <td>12100.0</td>\n",
       "      <td>put</td>\n",
       "      <td>63.0</td>\n",
       "      <td>70.0</td>\n",
       "      <td>0.1</td>\n",
       "      <td>0.1</td>\n",
       "      <td>112084</td>\n",
       "      <td>0.0</td>\n",
       "      <td>38913</td>\n",
       "      <td>position</td>\n",
       "      <td>1.0</td>\n",
       "      <td>-0.998413</td>\n",
       "    </tr>\n",
       "    <tr>\n",
       "      <th>1</th>\n",
       "      <td>2020-01-03</td>\n",
       "      <td>TXO</td>\n",
       "      <td>202001W2</td>\n",
       "      <td>12100.0</td>\n",
       "      <td>put</td>\n",
       "      <td>25.0</td>\n",
       "      <td>116.0</td>\n",
       "      <td>21.0</td>\n",
       "      <td>56.0</td>\n",
       "      <td>57213</td>\n",
       "      <td>56.0</td>\n",
       "      <td>9210</td>\n",
       "      <td>position</td>\n",
       "      <td>3.0</td>\n",
       "      <td>1.240000</td>\n",
       "    </tr>\n",
       "    <tr>\n",
       "      <th>2</th>\n",
       "      <td>2020-01-06</td>\n",
       "      <td>TXO</td>\n",
       "      <td>202001W2</td>\n",
       "      <td>11950.0</td>\n",
       "      <td>put</td>\n",
       "      <td>27.5</td>\n",
       "      <td>42.0</td>\n",
       "      <td>18.0</td>\n",
       "      <td>40.5</td>\n",
       "      <td>48310</td>\n",
       "      <td>40.5</td>\n",
       "      <td>18548</td>\n",
       "      <td>position</td>\n",
       "      <td>1.0</td>\n",
       "      <td>0.472727</td>\n",
       "    </tr>\n",
       "    <tr>\n",
       "      <th>3</th>\n",
       "      <td>2020-01-07</td>\n",
       "      <td>TXO</td>\n",
       "      <td>202001W2</td>\n",
       "      <td>11850.0</td>\n",
       "      <td>put</td>\n",
       "      <td>4.2</td>\n",
       "      <td>49.5</td>\n",
       "      <td>3.3</td>\n",
       "      <td>18.5</td>\n",
       "      <td>81273</td>\n",
       "      <td>18.5</td>\n",
       "      <td>17796</td>\n",
       "      <td>position</td>\n",
       "      <td>1.0</td>\n",
       "      <td>3.404762</td>\n",
       "    </tr>\n",
       "    <tr>\n",
       "      <th>4</th>\n",
       "      <td>2020-01-08</td>\n",
       "      <td>TXO</td>\n",
       "      <td>202001W2</td>\n",
       "      <td>11800.0</td>\n",
       "      <td>put</td>\n",
       "      <td>61.0</td>\n",
       "      <td>111.0</td>\n",
       "      <td>0.1</td>\n",
       "      <td>0.1</td>\n",
       "      <td>100648</td>\n",
       "      <td>0.0</td>\n",
       "      <td>29030</td>\n",
       "      <td>position</td>\n",
       "      <td>1.0</td>\n",
       "      <td>-0.998361</td>\n",
       "    </tr>\n",
       "    <tr>\n",
       "      <th>...</th>\n",
       "      <td>...</td>\n",
       "      <td>...</td>\n",
       "      <td>...</td>\n",
       "      <td>...</td>\n",
       "      <td>...</td>\n",
       "      <td>...</td>\n",
       "      <td>...</td>\n",
       "      <td>...</td>\n",
       "      <td>...</td>\n",
       "      <td>...</td>\n",
       "      <td>...</td>\n",
       "      <td>...</td>\n",
       "      <td>...</td>\n",
       "      <td>...</td>\n",
       "      <td>...</td>\n",
       "    </tr>\n",
       "    <tr>\n",
       "      <th>1390</th>\n",
       "      <td>2025-09-19</td>\n",
       "      <td>TXO</td>\n",
       "      <td>202509W4</td>\n",
       "      <td>25650.0</td>\n",
       "      <td>put</td>\n",
       "      <td>108.0</td>\n",
       "      <td>176.0</td>\n",
       "      <td>104.0</td>\n",
       "      <td>165.0</td>\n",
       "      <td>3404</td>\n",
       "      <td>165.0</td>\n",
       "      <td>892</td>\n",
       "      <td>position</td>\n",
       "      <td>3.0</td>\n",
       "      <td>0.527778</td>\n",
       "    </tr>\n",
       "    <tr>\n",
       "      <th>1391</th>\n",
       "      <td>2025-09-22</td>\n",
       "      <td>TXO</td>\n",
       "      <td>202509W4</td>\n",
       "      <td>25900.0</td>\n",
       "      <td>put</td>\n",
       "      <td>210.0</td>\n",
       "      <td>265.0</td>\n",
       "      <td>118.0</td>\n",
       "      <td>129.0</td>\n",
       "      <td>4096</td>\n",
       "      <td>129.0</td>\n",
       "      <td>939</td>\n",
       "      <td>position</td>\n",
       "      <td>1.0</td>\n",
       "      <td>-0.385714</td>\n",
       "    </tr>\n",
       "    <tr>\n",
       "      <th>1392</th>\n",
       "      <td>2025-09-23</td>\n",
       "      <td>TXO</td>\n",
       "      <td>202509W4</td>\n",
       "      <td>26250.0</td>\n",
       "      <td>put</td>\n",
       "      <td>242.0</td>\n",
       "      <td>255.0</td>\n",
       "      <td>77.0</td>\n",
       "      <td>84.0</td>\n",
       "      <td>6505</td>\n",
       "      <td>84.0</td>\n",
       "      <td>863</td>\n",
       "      <td>position</td>\n",
       "      <td>1.0</td>\n",
       "      <td>-0.652893</td>\n",
       "    </tr>\n",
       "    <tr>\n",
       "      <th>1393</th>\n",
       "      <td>2025-09-24</td>\n",
       "      <td>TXO</td>\n",
       "      <td>202509W4</td>\n",
       "      <td>26250.0</td>\n",
       "      <td>put</td>\n",
       "      <td>26.5</td>\n",
       "      <td>203.0</td>\n",
       "      <td>1.0</td>\n",
       "      <td>103.0</td>\n",
       "      <td>32735</td>\n",
       "      <td>0.0</td>\n",
       "      <td>1897</td>\n",
       "      <td>position</td>\n",
       "      <td>1.0</td>\n",
       "      <td>2.886792</td>\n",
       "    </tr>\n",
       "    <tr>\n",
       "      <th>1394</th>\n",
       "      <td>2025-09-25</td>\n",
       "      <td>TXO</td>\n",
       "      <td>202510W1</td>\n",
       "      <td>26100.0</td>\n",
       "      <td>put</td>\n",
       "      <td>179.0</td>\n",
       "      <td>218.0</td>\n",
       "      <td>138.0</td>\n",
       "      <td>206.0</td>\n",
       "      <td>1521</td>\n",
       "      <td>206.0</td>\n",
       "      <td>742</td>\n",
       "      <td>position</td>\n",
       "      <td>NaN</td>\n",
       "      <td>0.150838</td>\n",
       "    </tr>\n",
       "  </tbody>\n",
       "</table>\n",
       "<p>1395 rows × 15 columns</p>\n",
       "</div>"
      ],
      "text/plain": [
       "           date option_id contract_date  strike_price call_put   open    max  \\\n",
       "0    2020-01-02       TXO      202001W1       12100.0      put   63.0   70.0   \n",
       "1    2020-01-03       TXO      202001W2       12100.0      put   25.0  116.0   \n",
       "2    2020-01-06       TXO      202001W2       11950.0      put   27.5   42.0   \n",
       "3    2020-01-07       TXO      202001W2       11850.0      put    4.2   49.5   \n",
       "4    2020-01-08       TXO      202001W2       11800.0      put   61.0  111.0   \n",
       "...         ...       ...           ...           ...      ...    ...    ...   \n",
       "1390 2025-09-19       TXO      202509W4       25650.0      put  108.0  176.0   \n",
       "1391 2025-09-22       TXO      202509W4       25900.0      put  210.0  265.0   \n",
       "1392 2025-09-23       TXO      202509W4       26250.0      put  242.0  255.0   \n",
       "1393 2025-09-24       TXO      202509W4       26250.0      put   26.5  203.0   \n",
       "1394 2025-09-25       TXO      202510W1       26100.0      put  179.0  218.0   \n",
       "\n",
       "        min  close  volume  settlement_price  open_interest trading_session  \\\n",
       "0       0.1    0.1  112084               0.0          38913        position   \n",
       "1      21.0   56.0   57213              56.0           9210        position   \n",
       "2      18.0   40.5   48310              40.5          18548        position   \n",
       "3       3.3   18.5   81273              18.5          17796        position   \n",
       "4       0.1    0.1  100648               0.0          29030        position   \n",
       "...     ...    ...     ...               ...            ...             ...   \n",
       "1390  104.0  165.0    3404             165.0            892        position   \n",
       "1391  118.0  129.0    4096             129.0            939        position   \n",
       "1392   77.0   84.0    6505              84.0            863        position   \n",
       "1393    1.0  103.0   32735               0.0           1897        position   \n",
       "1394  138.0  206.0    1521             206.0            742        position   \n",
       "\n",
       "      date_gap_days  daily_ret  \n",
       "0               1.0  -0.998413  \n",
       "1               3.0   1.240000  \n",
       "2               1.0   0.472727  \n",
       "3               1.0   3.404762  \n",
       "4               1.0  -0.998361  \n",
       "...             ...        ...  \n",
       "1390            3.0   0.527778  \n",
       "1391            1.0  -0.385714  \n",
       "1392            1.0  -0.652893  \n",
       "1393            1.0   2.886792  \n",
       "1394            NaN   0.150838  \n",
       "\n",
       "[1395 rows x 15 columns]"
      ]
     },
     "execution_count": 30,
     "metadata": {},
     "output_type": "execute_result"
    }
   ],
   "source": [
    "\"\"\"get date gap days\"\"\"\n",
    "op_atm_put_df = op_atm_df.loc[op_atm_df[\"call_put\"] == \"put\"].copy().reset_index(drop = True)\n",
    "\n",
    "# 計算價平 put 資料的日期間隔（單位：天）\n",
    "op_atm_put_df[\"date\"] = pd.to_datetime(op_atm_put_df[\"date\"])\n",
    "op_atm_put_df.sort_values(\"date\", inplace = True)\n",
    "op_atm_put_df[\"gap_days\"] = op_atm_put_df[\"date\"].diff().dt.days\n",
    "op_atm_put_df[\"gap_days\"] = op_atm_put_df[\"gap_days\"].shift(-1)\n",
    "op_atm_put_df[\"daily_ret\"] = (op_atm_put_df[\"close\"] / op_atm_put_df[\"open\"]) - 1\n",
    "op_atm_put_df"
   ]
  },
  {
   "cell_type": "code",
   "execution_count": null,
   "id": "fc7d3e64",
   "metadata": {},
   "outputs": [
    {
     "data": {
      "application/vnd.plotly.v1+json": {
       "config": {
        "plotlyServerURL": "https://plot.ly"
       },
       "data": [
        {
         "line": {
          "color": "rgb(31, 119, 180)"
         },
         "mode": "lines",
         "name": "cum_demeaned_daily_ret",
         "type": "scatter",
         "x": {
          "bdata": "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",
          "dtype": "f8"
         },
         "xaxis": "x",
         "y": {
          "bdata": "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",
          "dtype": "f8"
         },
         "yaxis": "y"
        },
        {
         "line": {
          "color": "rgb(214, 39, 40)",
          "dash": "dash"
         },
         "mode": "lines",
         "name": "date_gap_days",
         "type": "scatter",
         "x": {
          "bdata": "AAAAAAAAAAAowirNVn1HPyjCKs1WfVc/nhHgGQGeYT8owirNVn1nP7JydYCsXG0/nhHgGQGecT/jaYXzq410PyjCKs1WfXc/bRrQpgFtej+ycnWArFx9P3xlDa0rJoA/nhHgGQGegT/BvbKG1hWDP+NphfOrjYQ/BhZYYIEFhj8owirNVn2HP0tu/Tks9Yg/bRrQpgFtij+QxqIT1+SLP7JydYCsXI0/1R5I7YHUjj98ZQ2tKyaQP427dmMW4pA/nhHgGQGekT+vZ0nQ61mSP8G9sobWFZM/0hMcPcHRkz/jaYXzq42UP/S/7qmWSZU/BhZYYIEFlj8XbMEWbMGWPyjCKs1WfZc/ORiUg0E5mD9Lbv05LPWYP1zEZvAWsZk/bRrQpgFtmj9+cDld7CibP5DGohPX5Js/oRwMysGgnD+ycnWArFydP8PI3jaXGJ4/1R5I7YHUnj/mdLGjbJCfP3xlDa0rJqA/hBBCCCGEoD+Nu3ZjFuKgP5Vmq74LQKE/nhHgGQGeoT+nvBR19vuhP69nSdDrWaI/uBJ+K+G3oj/BvbKG1hWjP8lo5+HLc6M/0hMcPcHRoz/avlCYti+kP+NphfOrjaQ/7BS6TqHrpD/0v+6plkmlP/1qIwWMp6U/BhZYYIEFpj8OwYy7dmOmPxdswRZswaY/Hxf2cWEfpz8owirNVn2nPzFtXyhM26c/ORiUg0E5qD9Cw8jeNpeoP0tu/Tks9ag/UxkylSFTqT9cxGbwFrGpP2Rvm0sMD6o/bRrQpgFtqj92xQQC98qqP35wOV3sKKs/hxtuuOGGqz+QxqIT1+SrP5hx127MQqw/oRwMysGgrD+px0Alt/6sP7JydYCsXK0/ux2q26G6rT/DyN42lxiuP8xzE5KMdq4/1R5I7YHUrj/dyXxIdzKvP+Z0saNskK8/7h/m/mHurz98ZQ2tKyawPwC7p1omVbA/hBBCCCGEsD8IZty1G7OwP427dmMW4rA/ERERERERsT+VZqu+C0CxPxq8RWwGb7E/nhHgGQGesT8iZ3rH+8yxP6e8FHX2+7E/KxKvIvEqsj+vZ0nQ61myPzS9433miLI/uBJ+K+G3sj88aBjZ2+ayP8G9sobWFbM/RRNNNNFEsz/JaOfhy3OzP02+gY/GorM/0hMcPcHRsz9WabbquwC0P9q+UJi2L7Q/XxTrRbFetD/jaYXzq420P2e/H6GmvLQ/7BS6TqHrtD9walT8mxq1P/S/7qmWSbU/eRWJV5F4tT/9aiMFjKe1P4HAvbKG1rU/BhZYYIEFtj+Ka/INfDS2Pw7BjLt2Y7Y/khYnaXGStj8XbMEWbMG2P5vBW8Rm8LY/Hxf2cWEftz+kbJAfXE63PyjCKs1Wfbc/rBfFelGstz8xbV8oTNu3P7XC+dVGCrg/ORiUg0E5uD++bS4xPGi4P0LDyN42l7g/xhhjjDHGuD9Lbv05LPW4P8/Dl+cmJLk/UxkylSFTuT/XbsxCHIK5P1zEZvAWsbk/4BkBnhHguT9kb5tLDA+6P+nENfkGPro/bRrQpgFtuj/xb2pU/Ju6P3bFBAL3yro/+hqfr/H5uj9+cDld7Ci7PwPG0wrnV7s/hxtuuOGGuz8LcQhm3LW7P5DGohPX5Ls/FBw9wdETvD+YcdduzEK8PxzHcRzHcbw/oRwMysGgvD8lcqZ3vM+8P6nHQCW3/rw/Lh3b0rEtvT+ycnWArFy9PzbIDy6ni70/ux2q26G6vT8/c0SJnOm9P8PI3jaXGL4/SB555JFHvj/McxOSjHa+P1DJrT+Hpb4/1R5I7YHUvj9ZdOKafAO/P93JfEh3Mr8/YR8X9nFhvz/mdLGjbJC/P2rKS1Fnv78/7h/m/mHuvz+5OkBWrg7AP3xlDa0rJsA/PpDaA6k9wD8Au6daJlXAP8LldLGjbMA/hBBCCCGEwD9GOw9fnpvAPwhm3LUbs8A/y5CpDJnKwD+Nu3ZjFuLAP0/mQ7qT+cA/ERERERERwT/TO95njijBP5Vmq74LQME/WJF4FYlXwT8avEVsBm/BP9zmEsODhsE/nhHgGQGewT9gPK1wfrXBPyJnesf7zME/5JFHHnnkwT+nvBR19vvBP2nn4ctzE8I/KxKvIvEqwj/tPHx5bkLCP69nSdDrWcI/cZIWJ2lxwj80veN95ojCP/bnsNRjoMI/uBJ+K+G3wj96PUuCXs/CPzxoGNnb5sI//pLlL1n+wj/BvbKG1hXDP4Pof91TLcM/RRNNNNFEwz8HPhqLTlzDP8lo5+HLc8M/i5O0OEmLwz9NvoGPxqLDPxDpTuZDusM/0hMcPcHRwz+UPumTPunDP1Zptuq7AMQ/GJSDQTkYxD/avlCYti/EP53pHe8zR8Q/XxTrRbFexD8hP7icLnbEP+NphfOrjcQ/pZRSSimlxD9nvx+hprzEPynq7Pcj1MQ/7BS6TqHrxD+uP4elHgPFP3BqVPybGsU/MpUhUxkyxT/0v+6plknFP7bquwAUYcU/eRWJV5F4xT87QFauDpDFP/1qIwWMp8U/v5XwWwm/xT+BwL2yhtbFP0PrigkE7sU/BhZYYIEFxj/IQCW3/hzGP4pr8g18NMY/TJa/ZPlLxj8OwYy7dmPGP9DrWRL0esY/khYnaXGSxj9VQfS/7qnGPxdswRZswcY/2ZaObenYxj+bwVvEZvDGP13sKBvkB8c/Hxf2cWEfxz/iQcPI3jbHP6RskB9cTsc/Zpdddtllxz8owirNVn3HP+rs9yPUlMc/rBfFelGsxz9uQpLRzsPHPzFtXyhM28c/85csf8nyxz+1wvnVRgrIP3ftxizEIcg/ORiUg0E5yD/7QmHavlDIP75tLjE8aMg/gJj7h7l/yD9Cw8jeNpfIPwTulTW0rsg/xhhjjDHGyD+IQzDjrt3IP0tu/Tks9cg/DZnKkKkMyT/Pw5fnJiTJP5HuZD6kO8k/UxkylSFTyT8VRP/rnmrJP9duzEIcgsk/mpmZmZmZyT9cxGbwFrHJPx7vM0eUyMk/4BkBnhHgyT+iRM70jvfJP2Rvm0sMD8o/J5poookmyj/pxDX5Bj7KP6vvAlCEVco/bRrQpgFtyj8vRZ39foTKP/FvalT8m8o/s5o3q3mzyj92xQQC98rKPzjw0Vh04so/+hqfr/H5yj+8RWwGbxHLP35wOV3sKMs/QJsGtGlAyz8DxtMK51fLP8XwoGFkb8s/hxtuuOGGyz9JRjsPX57LPwtxCGbctcs/zZvVvFnNyz+QxqIT1+TLP1Lxb2pU/Ms/FBw9wdETzD/WRgoYTyvMP5hx127MQsw/WpykxUlazD8cx3Ecx3HMP9/xPnNEicw/oRwMysGgzD9jR9kgP7jMPyVypne8z8w/55xzzjnnzD+px0Alt/7MP2zyDXw0Fs0/Lh3b0rEtzT/wR6gpL0XNP7JydYCsXM0/dJ1C1yl0zT82yA8up4vNP/jy3IQko80/ux2q26G6zT99SHcyH9LNPz9zRImc6c0/AZ4R4BkBzj/DyN42lxjOP4Xzq40UMM4/SB555JFHzj8KSUY7D1/OP8xzE5KMds4/jp7g6AmOzj9Qya0/h6XOPxL0epYEvc4/1R5I7YHUzj+XSRVE/+vOP1l04pp8A88/G5+v8fkazz/dyXxIdzLPP5/0SZ/0Sc8/YR8X9nFhzz8kSuRM73jPP+Z0saNskM8/qJ9++umnzz9qyktRZ7/PPyz1GKjk1s8/7h/m/mHuzz9Ypdmq7wLQP7k6QFauDtA/GtCmAW0a0D98ZQ2tKybQP936c1jqMdA/PpDaA6k90D+fJUGvZ0nQPwC7p1omVdA/YVAOBuVg0D/C5XSxo2zQPyN721xieNA/hBBCCCGE0D/lpaiz34/QP0Y7D1+em9A/p9B1Cl2n0D8IZty1G7PQP2r7QmHavtA/y5CpDJnK0D8sJhC4V9bQP427dmMW4tA/7lDdDtXt0D9P5kO6k/nQP7B7qmVSBdE/ERERERER0T9ypne8zxzRP9M73meOKNE/NNFEE0000T+VZqu+C0DRP/b7EWrKS9E/WJF4FYlX0T+5Jt/AR2PRPxq8RWwGb9E/e1GsF8V60T/c5hLDg4bRPz18eW5CktE/nhHgGQGe0T//pkbFv6nRP2A8rXB+tdE/wdETHD3B0T8iZ3rH+8zRP4P84HK62NE/5JFHHnnk0T9GJ67JN/DRP6e8FHX2+9E/CFJ7ILUH0j9p5+HLcxPSP8p8SHcyH9I/KxKvIvEq0j+MpxXOrzbSP+08fHluQtI/TtLiJC1O0j+vZ0nQ61nSPxD9r3uqZdI/cZIWJ2lx0j/SJ33SJ33SPzS9433miNI/lVJKKaWU0j/257DUY6DSP1d9F4AirNI/uBJ+K+G30j8ZqOTWn8PSP3o9S4Jez9I/29KxLR3b0j88aBjZ2+bSP539foSa8tI//pLlL1n+0j9fKEzbFwrTP8G9sobWFdM/IlMZMpUh0z+D6H/dUy3TP+R95ogSOdM/RRNNNNFE0z+mqLPfj1DTPwc+GotOXNM/aNOANg1o0z/JaOfhy3PTPyr+TY2Kf9M/i5O0OEmL0z/sKBvkB5fTP02+gY/GotM/r1PoOoWu0z8Q6U7mQ7rTP3F+tZECxtM/0hMcPcHR0z8zqYLof93TP5Q+6ZM+6dM/9dNPP/300z9WabbquwDUP7f+HJZ6DNQ/GJSDQTkY1D95Kers9yPUP9q+UJi2L9Q/O1S3Q3U71D+d6R3vM0fUP/5+hJryUtQ/XxTrRbFe1D/AqVHxb2rUPyE/uJwudtQ/gtQeSO2B1D/jaYXzq43UP0T/655qmdQ/pZRSSiml1D8GKrn157DUP2e/H6GmvNQ/yFSGTGXI1D8p6uz3I9TUP4t/U6Pi39Q/7BS6TqHr1D9NqiD6X/fUP64/h6UeA9U/D9XtUN0O1T9walT8mxrVP9H/uqdaJtU/MpUhUxky1T+TKoj+1z3VP/S/7qmWSdU/VVVVVVVV1T+26rsAFGHVPxeAIqzSbNU/eRWJV5F41T/aqu8CUITVPztAVq4OkNU/nNW8Wc2b1T/9aiMFjKfVP14AirBKs9U/v5XwWwm/1T8gK1cHyMrVP4HAvbKG1tU/4lUkXkXi1T9D64oJBO7VP6SA8bTC+dU/BhZYYIEF1j9nq74LQBHWP8hAJbf+HNY/KdaLYr0o1j+Ka/INfDTWP+sAWbk6QNY/TJa/ZPlL1j+tKyYQuFfWPw7BjLt2Y9Y/b1bzZjVv1j/Q61kS9HrWPzGBwL2yhtY/khYnaXGS1j/0q40UMJ7WP1VB9L/uqdY/ttZaa6211j8XbMEWbMHWP3gBKMIqzdY/2ZaObenY1j86LPUYqOTWP5vBW8Rm8NY//FbCbyX81j9d7Cgb5AfXP76Bj8aiE9c/Hxf2cWEf1z+ArFwdICvXP+JBw8jeNtc/Q9cpdJ1C1z+kbJAfXE7XPwUC98oaWtc/Zpdddtll1z/HLMQhmHHXPyjCKs1Wfdc/iVeReBWJ1z/q7Pcj1JTXP0uCXs+SoNc/rBfFelGs1z8NrSsmELjXP25CktHOw9c/0Nf4fI3P1z8xbV8oTNvXP5ICxtMK59c/85csf8ny1z9ULZMqiP7XP7XC+dVGCtg/FlhggQUW2D937cYsxCHYP9iCLdiCLdg/ORiUg0E52D+arfouAEXYP/tCYdq+UNg/XNjHhX1c2D++bS4xPGjYPx8Dldz6c9g/gJj7h7l/2D/hLWIzeIvYP0LDyN42l9g/o1gvivWi2D8E7pU1tK7YP2WD/OByutg/xhhjjDHG2D8nrsk38NHYP4hDMOOu3dg/6diWjm3p2D9Lbv05LPXYP6wDZOXqANk/DZnKkKkM2T9uLjE8aBjZP8/Dl+cmJNk/MFn+kuUv2T+R7mQ+pDvZP/KDy+liR9k/UxkylSFT2T+0rphA4F7ZPxVE/+ueatk/dtlll1122T/XbsxCHILZPzkEM+7ajdk/mpmZmZmZ2T/7LgBFWKXZP1zEZvAWsdk/vVnNm9W82T8e7zNHlMjZP3+EmvJS1Nk/4BkBnhHg2T9Br2dJ0OvZP6JEzvSO99k/A9o0oE0D2j9kb5tLDA/aP8UEAvfKGto/J5poookm2j+IL89NSDLaP+nENfkGPto/SlqcpMVJ2j+r7wJQhFXaPwyFaftCYdo/bRrQpgFt2j/OrzZSwHjaPy9Fnf1+hNo/kNoDqT2Q2j/xb2pU/JvaP1IF0f+6p9o/s5o3q3mz2j8VMJ5WOL/aP3bFBAL3yto/11prrbXW2j848NFYdOLaP5mFOAQz7to/+hqfr/H52j9bsAVbsAXbP7xFbAZvEds/HdvSsS0d2z9+cDld7CjbP98FoAirNNs/QJsGtGlA2z+hMG1fKEzbPwPG0wrnV9s/ZFs6tqVj2z/F8KBhZG/bPyaGBw0je9s/hxtuuOGG2z/osNRjoJLbP0lGOw9fnts/qtuhuh2q2z8LcQhm3LXbP2wGbxGbwds/zZvVvFnN2z8uMTxoGNnbP5DGohPX5Ns/8VsJv5Xw2z9S8W9qVPzbP7OG1hUTCNw/FBw9wdET3D91saNskB/cP9ZGChhPK9w/N9xwww033D+YcdduzELcP/kGPhqLTtw/WpykxUla3D+7MQtxCGbcPxzHcRzHcdw/flzYx4V93D/f8T5zRIncP0CHpR4Dldw/oRwMysGg3D8CsnJ1gKzcP2NH2SA/uNw/xNw/zP3D3D8lcqZ3vM/cP4YHDSN729w/55xzzjnn3D9IMtp5+PLcP6nHQCW3/tw/Cl2n0HUK3T9s8g18NBbdP82HdCfzId0/Lh3b0rEt3T+PskF+cDndP/BHqCkvRd0/Ud0O1e1Q3T+ycnWArFzdPxMI3CtraN0/dJ1C1yl03T/VMqmC6H/dPzbIDy6ni90/l1122WWX3T/48tyEJKPdP1qIQzDjrt0/ux2q26G63T8csxCHYMbdP31IdzIf0t0/3t3d3d3d3T8/c0SJnOndP6AIqzRb9d0/AZ4R4BkB3j9iM3iL2AzeP8PI3jaXGN4/JF5F4lUk3j+F86uNFDDeP+aIEjnTO94/SB555JFH3j+ps9+PUFPePwpJRjsPX94/a96s5s1q3j/McxOSjHbePy0Jej1Lgt4/jp7g6AmO3j/vM0eUyJneP1DJrT+Hpd4/sV4U60Wx3j8S9HqWBL3eP3OJ4UHDyN4/1R5I7YHU3j82tK6YQODeP5dJFUT/694/+N5777333j9ZdOKafAPfP7oJSUY7D98/G5+v8fka3z98NBaduCbfP93JfEh3Mt8/Pl/j8zU+3z+f9Emf9EnfPwCKsEqzVd8/YR8X9nFh3z/DtH2hMG3fPyRK5EzveN8/hd9K+K2E3z/mdLGjbJDfP0cKGE8rnN8/qJ9++umn3z8JNeWlqLPfP2rKS1Fnv98/y1+y/CXL3z8s9Rio5NbfP42Kf1Oj4t8/7h/m/mHu3z9PtUyqIPrfP1il2arvAuA/CfCMAM8I4D+5OkBWrg7gP2qF86uNFOA/GtCmAW0a4D/LGlpXTCDgP3xlDa0rJuA/LLDAAgss4D/d+nNY6jHgP41FJ67JN+A/PpDaA6k94D/u2o1ZiEPgP58lQa9nSeA/T3D0BEdP4D8Au6daJlXgP7AFW7AFW+A/YVAOBuVg4D8Rm8FbxGbgP8LldLGjbOA/czAoB4Ny4D8je9tcYnjgP9TFjrJBfuA/hBBCCCGE4D81W/VdAIrgP+WlqLPfj+A/lvBbCb+V4D9GOw9fnpvgP/eFwrR9oeA/p9B1Cl2n4D9YGylgPK3gPwhm3LUbs+A/ubCPC/u44D9q+0Jh2r7gPxpG9ra5xOA/y5CpDJnK4D9721xieNDgPywmELhX1uA/3HDDDTfc4D+Nu3ZjFuLgPz0GKrn15+A/7lDdDtXt4D+em5BktPPgP0/mQ7qT+eA//zD3D3P/4D+we6plUgXhP2HGXbsxC+E/ERERERER4T/CW8Rm8BbhP3Kmd7zPHOE/I/EqEq8i4T/TO95njijhP4SGkb1tLuE/NNFEE0004T/lG/hoLDrhP5Vmq74LQOE/RrFeFOtF4T/2+xFqykvhP6dGxb+pUeE/WJF4FYlX4T8I3CtraF3hP7km38BHY+E/aXGSFidp4T8avEVsBm/hP8oG+cHldOE/e1GsF8V64T8rnF9tpIDhP9zmEsODhuE/jDHGGGOM4T89fHluQpLhP+3GLMQhmOE/nhHgGQGe4T9PXJNv4KPhP/+mRsW/qeE/sPH5Gp+v4T9gPK1wfrXhPxGHYMZdu+E/wdETHD3B4T9yHMdxHMfhPyJnesf7zOE/07EtHdvS4T+D/OByutjhPzRHlMiZ3uE/5JFHHnnk4T+V3PpzWOrhP0Ynrsk38OE/9nFhHxf24T+nvBR19vvhP1cHyMrVAeI/CFJ7ILUH4j+4nC52lA3iP2nn4ctzE+I/GTKVIVMZ4j/KfEh3Mh/iP3rH+8wRJeI/KxKvIvEq4j/bXGJ40DDiP4ynFc6vNuI/PfLII4884j/tPHx5bkLiP56HL89NSOI/TtLiJC1O4j//HJZ6DFTiP69nSdDrWeI/YLL8Jctf4j8Q/a97qmXiP8FHY9GJa+I/cZIWJ2lx4j8i3cl8SHfiP9InfdInfeI/g3IwKAeD4j80veN95ojiP+QHl9PFjuI/lVJKKaWU4j9Fnf1+hJriP/bnsNRjoOI/pjJkKkOm4j9XfReAIqziPwfIytUBsuI/uBJ+K+G34j9oXTGBwL3iPxmo5Nafw+I/yfKXLH/J4j96PUuCXs/iPyuI/tc91eI/29KxLR3b4j+MHWWD/ODiPzxoGNnb5uI/7bLLLrvs4j+d/X6EmvLiP05IMtp5+OI//pLlL1n+4j+v3ZiFOATjP18oTNsXCuM/EHP/MPcP4z/BvbKG1hXjP3EIZty1G+M/IlMZMpUh4z/SncyHdCfjP4Pof91TLeM/MzMzMzMz4z/kfeaIEjnjP5TImd7xPuM/RRNNNNFE4z/1XQCKsErjP6aos9+PUOM/VvNmNW9W4z8HPhqLTlzjP7iIzeAtYuM/aNOANg1o4z8ZHjSM7G3jP8lo5+HLc+M/erOaN6t54z8q/k2Nin/jP9tIAeNpheM/i5O0OEmL4z883meOKJHjP+woG+QHl+M/nXPOOeec4z9NvoGPxqLjP/4INeWlqOM/r1PoOoWu4z9fnpuQZLTjPxDpTuZDuuM/wDMCPCPA4z9xfrWRAsbjPyHJaOfhy+M/0hMcPcHR4z+CXs+SoNfjPzOpguh/3eM/4/M1Pl/j4z+UPumTPunjP0SJnOkd7+M/9dNPP/304z+mHgOV3PrjP1Zptuq7AOQ/B7RpQJsG5D+3/hyWegzkP2hJ0OtZEuQ/GJSDQTkY5D/J3jaXGB7kP3kp6uz3I+Q/KnSdQtcp5D/avlCYti/kP4sJBO6VNeQ/O1S3Q3U75D/snmqZVEHkP53pHe8zR+Q/TTTRRBNN5D/+foSa8lLkP67JN/DRWOQ/XxTrRbFe5D8PX56bkGTkP8CpUfFvauQ/cPQER09w5D8hP7icLnbkP9GJa/INfOQ/gtQeSO2B5D8yH9KdzIfkP+NphfOrjeQ/lLQ4SYuT5D9E/+ueapnkP/VJn/RJn+Q/pZRSSiml5D9W3wWgCKvkPwYqufXnsOQ/t3RsS8e25D9nvx+hprzkPxgK0/aFwuQ/yFSGTGXI5D95nzmiRM7kPynq7Pcj1OQ/2jSgTQPa5D+Lf1Oj4t/kPzvKBvnB5eQ/7BS6TqHr5D+cX22kgPHkP02qIPpf9+Q//fTTTz/95D+uP4elHgPlP16KOvv9COU/D9XtUN0O5T+/H6GmvBTlP3BqVPybGuU/ILUHUnsg5T/R/7qnWiblP4JKbv05LOU/MpUhUxky5T/j39So+DflP5MqiP7XPeU/RHU7VLdD5T/0v+6plknlP6UKov91T+U/VVVVVVVV5T8GoAirNFvlP7bquwAUYeU/ZzVvVvNm5T8XgCKs0mzlP8jK1QGycuU/eRWJV5F45T8pYDytcH7lP9qq7wJQhOU/ivWiWC+K5T87QFauDpDlP+uKCQTuleU/nNW8Wc2b5T9MIHCvrKHlP/1qIwWMp+U/rbXWWmut5T9eAIqwSrPlPw5LPQYqueU/v5XwWwm/5T9w4KOx6MTlPyArVwfIyuU/0XUKXafQ5T+BwL2yhtblPzILcQhm3OU/4lUkXkXi5T+ToNezJOjlP0PrigkE7uU/9DU+X+Pz5T+kgPG0wvnlP1XLpAqi/+U/BhZYYIEF5j+2YAu2YAvmP2ervgtAEeY/F/ZxYR8X5j/IQCW3/hzmP3iL2AzeIuY/KdaLYr0o5j/ZID+4nC7mP4pr8g18NOY/OralY1s65j/rAFm5OkDmP5tLDA8aRuY/TJa/ZPlL5j/94HK62FHmP60rJhC4V+Y/XnbZZZdd5j8OwYy7dmPmP78LQBFWaeY/b1bzZjVv5j8goaa8FHXmP9DrWRL0euY/gTYNaNOA5j8xgcC9sobmP+LLcxOSjOY/khYnaXGS5j9DYdq+UJjmP/SrjRQwnuY/pPZAag+k5j9VQfS/7qnmPwWMpxXOr+Y/ttZaa6215j9mIQ7BjLvmPxdswRZsweY/x7Z0bEvH5j94ASjCKs3mPyhM2xcK0+Y/2ZaObenY5j+J4UHDyN7mPzos9Rio5OY/63aobofq5j+bwVvEZvDmP0wMDxpG9uY//FbCbyX85j+toXXFBALnP13sKBvkB+c/DjfccMMN5z++gY/GohPnP2/MQhyCGec/Hxf2cWEf5z/QYanHQCXnP4CsXB0gK+c/MfcPc/8w5z/iQcPI3jbnP5KMdh6+POc/Q9cpdJ1C5z/zId3JfEjnP6RskB9cTuc/VLdDdTtU5z8FAvfKGlrnP7VMqiD6X+c/Zpdddtll5z8W4hDMuGvnP8csxCGYcec/d3d3d3d35z8owirNVn3nP9kM3iI2g+c/iVeReBWJ5z86okTO9I7nP+rs9yPUlOc/mzerebOa5z9Lgl7PkqDnP/zMESVypuc/rBfFelGs5z9dYnjQMLLnPw2tKyYQuOc/vvfee++95z9uQpLRzsPnPx+NRSeuyec/0Nf4fI3P5z+AIqzSbNXnPzFtXyhM2+c/4bcSfivh5z+SAsbTCufnP0JNeSnq7Oc/85csf8ny5z+j4t/UqPjnP1QtkyqI/uc/BHhGgGcE6D+1wvnVRgroP2UNrSsmEOg/FlhggQUW6D/HohPX5BvoP3ftxizEIeg/KDh6gqMn6D/Ygi3Ygi3oP4nN4C1iM+g/ORiUg0E56D/qYkfZID/oP5qt+i4AReg/S/ithN9K6D/7QmHavlDoP6yNFDCeVug/XNjHhX1c6D8NI3vbXGLoP75tLjE8aOg/brjhhhtu6D8fA5Xc+nPoP89NSDLaeeg/gJj7h7l/6D8w467dmIXoP+EtYjN4i+g/kXgViVeR6D9Cw8jeNpfoP/INfDQWneg/o1gvivWi6D9To+Lf1KjoPwTulTW0rug/tThJi5O06D9lg/zgcrroPxbOrzZSwOg/xhhjjDHG6D93YxbiEMzoPyeuyTfw0eg/2Ph8jc/X6D+IQzDjrt3oPzmO4ziO4+g/6diWjm3p6D+aI0rkTO/oP0tu/Tks9eg/+7iwjwv76D+sA2Tl6gDpP1xOFzvKBuk/DZnKkKkM6T+9433miBLpP24uMTxoGOk/HnnkkUce6T/Pw5fnJiTpP38OSz0GKuk/MFn+kuUv6T/go7HoxDXpP5HuZD6kO+k/QjkYlINB6T/yg8vpYkfpP6POfj9CTek/UxkylSFT6T8EZOXqAFnpP7SumEDgXuk/ZflLlr9k6T8VRP/rnmrpP8aOskF+cOk/dtlll1126T8nJBntPHzpP9duzEIcguk/iLl/mPuH6T85BDPu2o3pP+lO5kO6k+k/mpmZmZmZ6T9K5EzveJ/pP/suAEVYpek/q3mzmjer6T9cxGbwFrHpPwwPGkb2tuk/vVnNm9W86T9tpIDxtMLpPx7vM0eUyOk/zjnnnHPO6T9/hJryUtTpPzDPTUgy2uk/4BkBnhHg6T+RZLTz8OXpP0GvZ0nQ6+k/8vkan6/x6T+iRM70jvfpP1OPgUpu/ek/A9o0oE0D6j+0JOj1LAnqP2Rvm0sMD+o/FbpOoesU6j/FBAL3yhrqP3ZPtUyqIOo/J5poookm6j/X5Bv4aCzqP4gvz01IMuo/OHqCoyc46j/pxDX5Bj7qP5kP6U7mQ+o/SlqcpMVJ6j/6pE/6pE/qP6vvAlCEVeo/Wzq2pWNb6j8MhWn7QmHqP7zPHFEiZ+o/bRrQpgFt6j8eZYP84HLqP86vNlLAeOo/f/rpp59+6j8vRZ39foTqP+CPUFNeiuo/kNoDqT2Q6j9BJbf+HJbqP/FvalT8m+o/orodqtuh6j9SBdH/uqfqPwNQhFWareo/s5o3q3mz6j9k5eoAWbnqPxUwnlY4v+o/xXpRrBfF6j92xQQC98rqPyYQuFfW0Oo/11prrbXW6j+HpR4DldzqPzjw0Vh04uo/6DqFrlPo6j+ZhTgEM+7qP0nQ61kS9Oo/+hqfr/H56j+qZVIF0f/qP1uwBVuwBes/DPu4sI8L6z+8RWwGbxHrP22QH1xOF+s/HdvSsS0d6z/OJYYHDSPrP35wOV3sKOs/L7vssssu6z/fBaAIqzTrP5BQU16KOus/QJsGtGlA6z/x5bkJSUbrP6EwbV8oTOs/UnsgtQdS6z8DxtMK51frP7MQh2DGXes/ZFs6tqVj6z8Upu0LhWnrP8XwoGFkb+s/dTtUt0N16z8mhgcNI3vrP9bQumICges/hxtuuOGG6z83ZiEOwYzrP+iw1GOgkus/mPuHuX+Y6z9JRjsPX57rP/qQ7mQ+pOs/qtuhuh2q6z9bJlUQ/a/rPwtxCGbctes/vLu7u7u76z9sBm8Rm8HrPx1RImd6x+s/zZvVvFnN6z9+5ogSOdPrPy4xPGgY2es/33vvvffe6z+QxqIT1+TrP0ARVmm26us/8VsJv5Xw6z+hprwUdfbrP1Lxb2pU/Os/AjwjwDMC7D+zhtYVEwjsP2PRiWvyDew/FBw9wdET7D/EZvAWsRnsP3Wxo2yQH+w/JfxWwm8l7D/WRgoYTyvsP4eRvW0uMew/N9xwww037D/oJiQZ7TzsP5hx127MQuw/SbyKxKtI7D/5Bj4ai07sP6pR8W9qVOw/WpykxUla7D8L51cbKWDsP7sxC3EIZuw/bHy+xudr7D8cx3Ecx3HsP80RJXKmd+w/flzYx4V97D8up4sdZYPsP9/xPnNEiew/jzzyyCOP7D9Ah6UeA5XsP/DRWHTimuw/oRwMysGg7D9RZ78foabsPwKycnWArOw/svwly1+y7D9jR9kgP7jsPxOSjHYevuw/xNw/zP3D7D91J/Mh3cnsPyVypne8z+w/1rxZzZvV7D+GBw0je9vsPzdSwHha4ew/55xzzjnn7D+Y5yYkGe3sP0gy2nn48uw/+XyNz9f47D+px0Alt/7sP1oS9HqWBO0/Cl2n0HUK7T+7p1omVRDtP2zyDXw0Fu0/HD3B0RMc7T/Nh3Qn8yHtP33SJ33SJ+0/Lh3b0rEt7T/eZ44okTPtP4+yQX5wOe0/P/30008/7T/wR6gpL0XtP6CSW38OS+0/Ud0O1e1Q7T8BKMIqzVbtP7JydYCsXO0/Y70o1oti7T8TCNwra2jtP8RSj4FKbu0/dJ1C1yl07T8l6PUsCXrtP9UyqYLof+0/hn1c2MeF7T82yA8up4vtP+cSw4OGke0/l1122WWX7T9IqCkvRZ3tP/jy3IQko+0/qT2Q2gOp7T9aiEMw467tPwrT9oXCtO0/ux2q26G67T9raF0xgcDtPxyzEIdgxu0/zP3D3D/M7T99SHcyH9LtPy2TKoj+1+0/3t3d3d3d7T+OKJEzvePtPz9zRImc6e0/77333nvv7T+gCKs0W/XtP1FTXoo6++0/AZ4R4BkB7j+y6MQ1+QbuP2IzeIvYDO4/E34r4bcS7j/DyN42lxjuP3QTkox2Hu4/JF5F4lUk7j/VqPg3NSruP4Xzq40UMO4/Nj5f4/M17j/miBI50zvuP5fTxY6yQe4/SB555JFH7j/4aCw6cU3uP6mz349QU+4/Wf6S5S9Z7j8KSUY7D1/uP7qT+ZDuZO4/a96s5s1q7j8bKWA8rXDuP8xzE5KMdu4/fL7G52t87j8tCXo9S4LuP91TLZMqiO4/jp7g6AmO7j8/6ZM+6ZPuP+8zR5TIme4/oH766aef7j9Qya0/h6XuPwEUYZVmq+4/sV4U60Wx7j9iqcdAJbfuPxL0epYEve4/wz4u7OPC7j9zieFBw8juPyTUlJeizu4/1R5I7YHU7j+FaftCYdruPza0rphA4O4/5v5h7h/m7j+XSRVE/+vuP0eUyJne8e4/+N5777337j+oKS9Fnf3uP1l04pp8A+8/Cb+V8FsJ7z+6CUlGOw/vP2pU/JsaFe8/G5+v8fka7z/M6WJH2SDvP3w0Fp24Ju8/LX/J8pcs7z/dyXxIdzLvP44UMJ5WOO8/Pl/j8zU+7z/vqZZJFUTvP5/0SZ/0Se8/UD/99NNP7z8AirBKs1XvP7HUY6CSW+8/YR8X9nFh7z8SaspLUWfvP8O0faEwbe8/c/8w9w9z7z8kSuRM73jvP9SUl6LOfu8/hd9K+K2E7z81Kv5NjYrvP+Z0saNskO8/lr9k+UuW7z9HChhPK5zvP/dUy6QKou8/qJ9++umn7z9Y6jFQya3vPwk15aWos+8/un+Y+4e57z9qyktRZ7/vPxsV/6ZGxe8/y1+y/CXL7z98qmVSBdHvPyz1GKjk1u8/3T/M/cPc7z+Nin9To+LvPz7VMqmC6O8/7h/m/mHu7z+faplUQfTvP0+1TKog+u8/",
          "dtype": "f8"
         },
         "xaxis": "x",
         "y": {
          "bdata": "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",
          "dtype": "f8"
         },
         "yaxis": "y2"
        }
       ],
       "layout": {
        "annotations": [
         {
          "font": {
           "color": "gray",
           "size": 12
          },
          "showarrow": false,
          "text": "Sample size: 1395",
          "x": 0.99,
          "xanchor": "right",
          "xref": "paper",
          "y": 0.02,
          "yref": "paper"
         }
        ],
        "height": 500,
        "legend": {
         "x": 1.02,
         "xanchor": "left",
         "y": 0.5
        },
        "margin": {
         "b": 50,
         "l": 70,
         "r": 160,
         "t": 50
        },
        "template": {
         "data": {
          "bar": [
           {
            "error_x": {
             "color": "#2a3f5f"
            },
            "error_y": {
             "color": "#2a3f5f"
            },
            "marker": {
             "line": {
              "color": "white",
              "width": 0.5
             },
             "pattern": {
              "fillmode": "overlay",
              "size": 10,
              "solidity": 0.2
             }
            },
            "type": "bar"
           }
          ],
          "barpolar": [
           {
            "marker": {
             "line": {
              "color": "white",
              "width": 0.5
             },
             "pattern": {
              "fillmode": "overlay",
              "size": 10,
              "solidity": 0.2
             }
            },
            "type": "barpolar"
           }
          ],
          "carpet": [
           {
            "aaxis": {
             "endlinecolor": "#2a3f5f",
             "gridcolor": "#C8D4E3",
             "linecolor": "#C8D4E3",
             "minorgridcolor": "#C8D4E3",
             "startlinecolor": "#2a3f5f"
            },
            "baxis": {
             "endlinecolor": "#2a3f5f",
             "gridcolor": "#C8D4E3",
             "linecolor": "#C8D4E3",
             "minorgridcolor": "#C8D4E3",
             "startlinecolor": "#2a3f5f"
            },
            "type": "carpet"
           }
          ],
          "choropleth": [
           {
            "colorbar": {
             "outlinewidth": 0,
             "ticks": ""
            },
            "type": "choropleth"
           }
          ],
          "contour": [
           {
            "colorbar": {
             "outlinewidth": 0,
             "ticks": ""
            },
            "colorscale": [
             [
              0,
              "#0d0887"
             ],
             [
              0.1111111111111111,
              "#46039f"
             ],
             [
              0.2222222222222222,
              "#7201a8"
             ],
             [
              0.3333333333333333,
              "#9c179e"
             ],
             [
              0.4444444444444444,
              "#bd3786"
             ],
             [
              0.5555555555555556,
              "#d8576b"
             ],
             [
              0.6666666666666666,
              "#ed7953"
             ],
             [
              0.7777777777777778,
              "#fb9f3a"
             ],
             [
              0.8888888888888888,
              "#fdca26"
             ],
             [
              1,
              "#f0f921"
             ]
            ],
            "type": "contour"
           }
          ],
          "contourcarpet": [
           {
            "colorbar": {
             "outlinewidth": 0,
             "ticks": ""
            },
            "type": "contourcarpet"
           }
          ],
          "heatmap": [
           {
            "colorbar": {
             "outlinewidth": 0,
             "ticks": ""
            },
            "colorscale": [
             [
              0,
              "#0d0887"
             ],
             [
              0.1111111111111111,
              "#46039f"
             ],
             [
              0.2222222222222222,
              "#7201a8"
             ],
             [
              0.3333333333333333,
              "#9c179e"
             ],
             [
              0.4444444444444444,
              "#bd3786"
             ],
             [
              0.5555555555555556,
              "#d8576b"
             ],
             [
              0.6666666666666666,
              "#ed7953"
             ],
             [
              0.7777777777777778,
              "#fb9f3a"
             ],
             [
              0.8888888888888888,
              "#fdca26"
             ],
             [
              1,
              "#f0f921"
             ]
            ],
            "type": "heatmap"
           }
          ],
          "histogram": [
           {
            "marker": {
             "pattern": {
              "fillmode": "overlay",
              "size": 10,
              "solidity": 0.2
             }
            },
            "type": "histogram"
           }
          ],
          "histogram2d": [
           {
            "colorbar": {
             "outlinewidth": 0,
             "ticks": ""
            },
            "colorscale": [
             [
              0,
              "#0d0887"
             ],
             [
              0.1111111111111111,
              "#46039f"
             ],
             [
              0.2222222222222222,
              "#7201a8"
             ],
             [
              0.3333333333333333,
              "#9c179e"
             ],
             [
              0.4444444444444444,
              "#bd3786"
             ],
             [
              0.5555555555555556,
              "#d8576b"
             ],
             [
              0.6666666666666666,
              "#ed7953"
             ],
             [
              0.7777777777777778,
              "#fb9f3a"
             ],
             [
              0.8888888888888888,
              "#fdca26"
             ],
             [
              1,
              "#f0f921"
             ]
            ],
            "type": "histogram2d"
           }
          ],
          "histogram2dcontour": [
           {
            "colorbar": {
             "outlinewidth": 0,
             "ticks": ""
            },
            "colorscale": [
             [
              0,
              "#0d0887"
             ],
             [
              0.1111111111111111,
              "#46039f"
             ],
             [
              0.2222222222222222,
              "#7201a8"
             ],
             [
              0.3333333333333333,
              "#9c179e"
             ],
             [
              0.4444444444444444,
              "#bd3786"
             ],
             [
              0.5555555555555556,
              "#d8576b"
             ],
             [
              0.6666666666666666,
              "#ed7953"
             ],
             [
              0.7777777777777778,
              "#fb9f3a"
             ],
             [
              0.8888888888888888,
              "#fdca26"
             ],
             [
              1,
              "#f0f921"
             ]
            ],
            "type": "histogram2dcontour"
           }
          ],
          "mesh3d": [
           {
            "colorbar": {
             "outlinewidth": 0,
             "ticks": ""
            },
            "type": "mesh3d"
           }
          ],
          "parcoords": [
           {
            "line": {
             "colorbar": {
              "outlinewidth": 0,
              "ticks": ""
             }
            },
            "type": "parcoords"
           }
          ],
          "pie": [
           {
            "automargin": true,
            "type": "pie"
           }
          ],
          "scatter": [
           {
            "fillpattern": {
             "fillmode": "overlay",
             "size": 10,
             "solidity": 0.2
            },
            "type": "scatter"
           }
          ],
          "scatter3d": [
           {
            "line": {
             "colorbar": {
              "outlinewidth": 0,
              "ticks": ""
             }
            },
            "marker": {
             "colorbar": {
              "outlinewidth": 0,
              "ticks": ""
             }
            },
            "type": "scatter3d"
           }
          ],
          "scattercarpet": [
           {
            "marker": {
             "colorbar": {
              "outlinewidth": 0,
              "ticks": ""
             }
            },
            "type": "scattercarpet"
           }
          ],
          "scattergeo": [
           {
            "marker": {
             "colorbar": {
              "outlinewidth": 0,
              "ticks": ""
             }
            },
            "type": "scattergeo"
           }
          ],
          "scattergl": [
           {
            "marker": {
             "colorbar": {
              "outlinewidth": 0,
              "ticks": ""
             }
            },
            "type": "scattergl"
           }
          ],
          "scattermap": [
           {
            "marker": {
             "colorbar": {
              "outlinewidth": 0,
              "ticks": ""
             }
            },
            "type": "scattermap"
           }
          ],
          "scattermapbox": [
           {
            "marker": {
             "colorbar": {
              "outlinewidth": 0,
              "ticks": ""
             }
            },
            "type": "scattermapbox"
           }
          ],
          "scatterpolar": [
           {
            "marker": {
             "colorbar": {
              "outlinewidth": 0,
              "ticks": ""
             }
            },
            "type": "scatterpolar"
           }
          ],
          "scatterpolargl": [
           {
            "marker": {
             "colorbar": {
              "outlinewidth": 0,
              "ticks": ""
             }
            },
            "type": "scatterpolargl"
           }
          ],
          "scatterternary": [
           {
            "marker": {
             "colorbar": {
              "outlinewidth": 0,
              "ticks": ""
             }
            },
            "type": "scatterternary"
           }
          ],
          "surface": [
           {
            "colorbar": {
             "outlinewidth": 0,
             "ticks": ""
            },
            "colorscale": [
             [
              0,
              "#0d0887"
             ],
             [
              0.1111111111111111,
              "#46039f"
             ],
             [
              0.2222222222222222,
              "#7201a8"
             ],
             [
              0.3333333333333333,
              "#9c179e"
             ],
             [
              0.4444444444444444,
              "#bd3786"
             ],
             [
              0.5555555555555556,
              "#d8576b"
             ],
             [
              0.6666666666666666,
              "#ed7953"
             ],
             [
              0.7777777777777778,
              "#fb9f3a"
             ],
             [
              0.8888888888888888,
              "#fdca26"
             ],
             [
              1,
              "#f0f921"
             ]
            ],
            "type": "surface"
           }
          ],
          "table": [
           {
            "cells": {
             "fill": {
              "color": "#EBF0F8"
             },
             "line": {
              "color": "white"
             }
            },
            "header": {
             "fill": {
              "color": "#C8D4E3"
             },
             "line": {
              "color": "white"
             }
            },
            "type": "table"
           }
          ]
         },
         "layout": {
          "annotationdefaults": {
           "arrowcolor": "#2a3f5f",
           "arrowhead": 0,
           "arrowwidth": 1
          },
          "autotypenumbers": "strict",
          "coloraxis": {
           "colorbar": {
            "outlinewidth": 0,
            "ticks": ""
           }
          },
          "colorscale": {
           "diverging": [
            [
             0,
             "#8e0152"
            ],
            [
             0.1,
             "#c51b7d"
            ],
            [
             0.2,
             "#de77ae"
            ],
            [
             0.3,
             "#f1b6da"
            ],
            [
             0.4,
             "#fde0ef"
            ],
            [
             0.5,
             "#f7f7f7"
            ],
            [
             0.6,
             "#e6f5d0"
            ],
            [
             0.7,
             "#b8e186"
            ],
            [
             0.8,
             "#7fbc41"
            ],
            [
             0.9,
             "#4d9221"
            ],
            [
             1,
             "#276419"
            ]
           ],
           "sequential": [
            [
             0,
             "#0d0887"
            ],
            [
             0.1111111111111111,
             "#46039f"
            ],
            [
             0.2222222222222222,
             "#7201a8"
            ],
            [
             0.3333333333333333,
             "#9c179e"
            ],
            [
             0.4444444444444444,
             "#bd3786"
            ],
            [
             0.5555555555555556,
             "#d8576b"
            ],
            [
             0.6666666666666666,
             "#ed7953"
            ],
            [
             0.7777777777777778,
             "#fb9f3a"
            ],
            [
             0.8888888888888888,
             "#fdca26"
            ],
            [
             1,
             "#f0f921"
            ]
           ],
           "sequentialminus": [
            [
             0,
             "#0d0887"
            ],
            [
             0.1111111111111111,
             "#46039f"
            ],
            [
             0.2222222222222222,
             "#7201a8"
            ],
            [
             0.3333333333333333,
             "#9c179e"
            ],
            [
             0.4444444444444444,
             "#bd3786"
            ],
            [
             0.5555555555555556,
             "#d8576b"
            ],
            [
             0.6666666666666666,
             "#ed7953"
            ],
            [
             0.7777777777777778,
             "#fb9f3a"
            ],
            [
             0.8888888888888888,
             "#fdca26"
            ],
            [
             1,
             "#f0f921"
            ]
           ]
          },
          "colorway": [
           "#636efa",
           "#EF553B",
           "#00cc96",
           "#ab63fa",
           "#FFA15A",
           "#19d3f3",
           "#FF6692",
           "#B6E880",
           "#FF97FF",
           "#FECB52"
          ],
          "font": {
           "color": "#2a3f5f"
          },
          "geo": {
           "bgcolor": "white",
           "lakecolor": "white",
           "landcolor": "white",
           "showlakes": true,
           "showland": true,
           "subunitcolor": "#C8D4E3"
          },
          "hoverlabel": {
           "align": "left"
          },
          "hovermode": "closest",
          "mapbox": {
           "style": "light"
          },
          "paper_bgcolor": "white",
          "plot_bgcolor": "white",
          "polar": {
           "angularaxis": {
            "gridcolor": "#EBF0F8",
            "linecolor": "#EBF0F8",
            "ticks": ""
           },
           "bgcolor": "white",
           "radialaxis": {
            "gridcolor": "#EBF0F8",
            "linecolor": "#EBF0F8",
            "ticks": ""
           }
          },
          "scene": {
           "xaxis": {
            "backgroundcolor": "white",
            "gridcolor": "#DFE8F3",
            "gridwidth": 2,
            "linecolor": "#EBF0F8",
            "showbackground": true,
            "ticks": "",
            "zerolinecolor": "#EBF0F8"
           },
           "yaxis": {
            "backgroundcolor": "white",
            "gridcolor": "#DFE8F3",
            "gridwidth": 2,
            "linecolor": "#EBF0F8",
            "showbackground": true,
            "ticks": "",
            "zerolinecolor": "#EBF0F8"
           },
           "zaxis": {
            "backgroundcolor": "white",
            "gridcolor": "#DFE8F3",
            "gridwidth": 2,
            "linecolor": "#EBF0F8",
            "showbackground": true,
            "ticks": "",
            "zerolinecolor": "#EBF0F8"
           }
          },
          "shapedefaults": {
           "line": {
            "color": "#2a3f5f"
           }
          },
          "ternary": {
           "aaxis": {
            "gridcolor": "#DFE8F3",
            "linecolor": "#A2B1C6",
            "ticks": ""
           },
           "baxis": {
            "gridcolor": "#DFE8F3",
            "linecolor": "#A2B1C6",
            "ticks": ""
           },
           "bgcolor": "white",
           "caxis": {
            "gridcolor": "#DFE8F3",
            "linecolor": "#A2B1C6",
            "ticks": ""
           }
          },
          "title": {
           "x": 0.05
          },
          "xaxis": {
           "automargin": true,
           "gridcolor": "#EBF0F8",
           "linecolor": "#EBF0F8",
           "ticks": "",
           "title": {
            "standoff": 15
           },
           "zerolinecolor": "#EBF0F8",
           "zerolinewidth": 2
          },
          "yaxis": {
           "automargin": true,
           "gridcolor": "#EBF0F8",
           "linecolor": "#EBF0F8",
           "ticks": "",
           "title": {
            "standoff": 15
           },
           "zerolinecolor": "#EBF0F8",
           "zerolinewidth": 2
          }
         }
        },
        "xaxis": {
         "anchor": "y",
         "domain": [
          0,
          0.94
         ],
         "showgrid": true,
         "title": {
          "text": "sample proportion"
         }
        },
        "yaxis": {
         "anchor": "x",
         "domain": [
          0,
          1
         ],
         "showgrid": true,
         "tickfont": {
          "color": "rgb(31, 119, 180)"
         },
         "title": {
          "font": {
           "color": "rgb(31, 119, 180)"
          },
          "text": "cum_demeaned_daily_ret"
         }
        },
        "yaxis2": {
         "anchor": "x",
         "overlaying": "y",
         "showgrid": false,
         "side": "right",
         "tickfont": {
          "color": "rgb(214, 39, 40)"
         },
         "title": {
          "font": {
           "color": "rgb(214, 39, 40)"
          },
          "text": "date_gap_days"
         }
        }
       }
      }
     },
     "metadata": {},
     "output_type": "display_data"
    }
   ],
   "source": [
    "op_atm_put_df.sort_values(\"gap_days\", ignore_index = True, inplace = True)\n",
    "mean = op_atm_put_df[\"daily_ret\"].mean()\n",
    "op_atm_put_df[\"demeaned_daily_ret\"] = op_atm_put_df[\"daily_ret\"] - mean\n",
    "op_atm_put_df[\"cum_demeaned_daily_ret\"] = op_atm_put_df[\"demeaned_daily_ret\"].cumsum()\n",
    "plot(op_atm_put_df, \"cum_demeaned_daily_ret\", \"index\", \"gap_days\")"
   ]
  },
  {
   "cell_type": "code",
   "execution_count": null,
   "id": "27a44960",
   "metadata": {},
   "outputs": [
    {
     "name": "stdout",
     "output_type": "stream",
     "text": [
      "Testing H0: mean = 0.000000 vs H1: mean != 0.000000\n",
      "n = 1096\n",
      "mean = -0.022063\n",
      "std = 1.252689\n",
      "std err = 0.037839\n",
      "t-stat = -0.5831\n",
      "p-value = 0.56\n",
      "confidence interval = (-0.096308, 0.052182)\n",
      "reject null @ alpha = 0.05: False\n",
      "\n"
     ]
    },
    {
     "data": {
      "application/vnd.plotly.v1+json": {
       "config": {
        "plotlyServerURL": "https://plot.ly"
       },
       "data": [
        {
         "line": {
          "color": "rgb(31, 119, 180)"
         },
         "mode": "lines",
         "name": "cum_demeaned_daily_ret",
         "type": "scatter",
         "x": {
          "bdata": "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",
          "dtype": "f8"
         },
         "xaxis": "x",
         "y": {
          "bdata": "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",
          "dtype": "f8"
         },
         "yaxis": "y"
        },
        {
         "line": {
          "color": "rgb(214, 39, 40)",
          "dash": "dash"
         },
         "mode": "lines",
         "name": "date_gap_days",
         "type": "scatter",
         "x": {
          "bdata": "AAAAAAAAAADakRfD3N5NP9qRF8Pc3l0/ZK1RkiVnZj/akRfD3N5tPyi77vlJq3I/ZK1RkiVndj+fn7QqASN6P9qRF8Pc3n0/C0K9LVzNgD8ou+75SauCP0Y0IMY3iYQ/ZK1RkiVnhj+BJoNeE0WIP5+ftCoBI4o/vRjm9u4AjD/akRfD3N6NP/gKSY/KvI8/C0K9LVzNkD+a/tUTU7yRPyi77vlJq5I/t3cH4ECakz9GNCDGN4mUP9XwOKwueJU/ZK1RkiVnlj/yaWp4HFaXP4Emg14TRZg/EOObRAo0mT+fn7QqASOaPy5czRD4EZs/vRjm9u4AnD9L1f7c5e+cP9qRF8Pc3p0/aU4wqdPNnj/4CkmPyryfP8PjsLrgVaA/C0K9LVzNoD9SoMmg10ShP5r+1RNTvKE/4Vzihs4zoj8ou+75SauiP3AZ+2zFIqM/t3cH4ECaoz//1RNTvBGkP0Y0IMY3iaQ/jZIsObMApT/V8DisLnilPxxPRR+q76U/ZK1RkiVnpj+rC14Fod6mP/JpangcVqc/Osh265fNpz+BJoNeE0WoP8mEj9GOvKg/EOObRAo0qT9YQai3haupP5+ftCoBI6o/5v3AnXyaqj8uXM0Q+BGrP3W62YNzias/vRjm9u4ArD8Ed/JpanisP0vV/tzl76w/kzMLUGFnrT/akRfD3N6tPyLwIzZYVq4/aU4wqdPNrj+wrDwcT0WvP/gKSY/KvK8/oLQqASMasD/D47C64FWwP+cSN3SekbA/C0K9LVzNsD8ucUPnGQmxP1KgyaDXRLE/ds9PWpWAsT+a/tUTU7yxP70tXM0Q+LE/4Vzihs4zsj8FjGhAjG+yPyi77vlJq7I/TOp0swfnsj9wGftsxSKzP5NIgSaDXrM/t3cH4ECasz/bpo2Z/tWzP//VE1O8EbQ/IgWaDHpNtD9GNCDGN4m0P2pjpn/1xLQ/jZIsObMAtT+xwbLycDy1P9XwOKwueLU/+R+/ZeyztT8cT0Ufqu+1P0B+y9hnK7Y/ZK1RkiVntj+H3NdL46K2P6sLXgWh3rY/zzrkvl4atz/yaWp4HFa3PxaZ8DHakbc/Osh265fNtz9e9/ykVQm4P4Emg14TRbg/pVUJGNGAuD/JhI/Rjry4P+yzFYtM+Lg/EOObRAo0uT80EiL+x2+5P1hBqLeFq7k/e3AucUPnuT+fn7QqASO6P8POOuS+Xro/5v3AnXyauj8KLUdXOta6Py5czRD4Ebs/UYtTyrVNuz91utmDc4m7P5npXz0xxbs/vRjm9u4AvD/gR2ywrDy8PwR38mlqeLw/KKZ4Iyi0vD9L1f7c5e+8P28EhZajK70/kzMLUGFnvT+2YpEJH6O9P9qRF8Pc3r0//sCdfJoavj8i8CM2WFa+P0Ufqu8Vkr4/aU4wqdPNvj+NfbZikQm/P7CsPBxPRb8/1NvC1QyBvz/4CkmPyry/Pxw6z0iI+L8/oLQqASMawD8xzO3dATjAP8PjsLrgVcA/Vftzl79zwD/nEjd0npHAP3kq+lB9r8A/C0K9LVzNwD+dWYAKO+vAPy5xQ+cZCcE/wIgGxPgmwT9SoMmg10TBP+S3jH22YsE/ds9PWpWAwT8I5xI3dJ7BP5r+1RNTvME/KxaZ8DHawT+9LVzNEPjBP09FH6rvFcI/4Vzihs4zwj9zdKVjrVHCPwWMaECMb8I/l6MrHWuNwj8ou+75SavCP7rSsdYoycI/TOp0swfnwj/eATiQ5gTDP3AZ+2zFIsM/AjG+SaRAwz+TSIEmg17DPyVgRANifMM/t3cH4ECawz9Jj8q8H7jDP9umjZn+1cM/bb5Qdt3zwz//1RNTvBHEP5Dt1i+bL8Q/IgWaDHpNxD+0HF3pWGvEP0Y0IMY3icQ/2EvjohanxD9qY6Z/9cTEP/x6aVzU4sQ/jZIsObMAxT8fqu8Vkh7FP7HBsvJwPMU/Q9l1z09axT/V8DisLnjFP2cI/IgNlsU/+R+/ZeyzxT+KN4JCy9HFPxxPRR+q78U/rmYI/IgNxj9AfsvYZyvGP9KVjrVGScY/ZK1RkiVnxj/1xBRvBIXGP4fc10vjosY/GfSaKMLAxj+rC14Fod7GPz0jIeJ//MY/zzrkvl4axz9hUqebPTjHP/JpangcVsc/hIEtVftzxz8WmfAx2pHHP6iwsw65r8c/Osh265fNxz/M3znIduvHP173/KRVCcg/7w7AgTQnyD+BJoNeE0XIPxM+RjvyYsg/pVUJGNGAyD83bcz0r57IP8mEj9GOvMg/W5xSrm3ayD/ssxWLTPjIP37L2GcrFsk/EOObRAo0yT+i+l4h6VHJPzQSIv7Hb8k/xinl2qaNyT9YQai3havJP+lYa5Rkyck/e3AucUPnyT8NiPFNIgXKP5+ftCoBI8o/Mbd3B+BAyj/Dzjrkvl7KP1Tm/cCdfMo/5v3AnXyayj94FYR6W7jKPwotR1c61so/nEQKNBn0yj8uXM0Q+BHLP8BzkO3WL8s/UYtTyrVNyz/johanlGvLP3W62YNzics/B9KcYFKnyz+Z6V89McXLPysBIxoQ48s/vRjm9u4AzD9OMKnTzR7MP+BHbLCsPMw/cl8vjYtazD8Ed/JpanjMP5aOtUZJlsw/KKZ4Iyi0zD+6vTsAB9LMP0vV/tzl78w/3ezBucQNzT9vBIWWoyvNPwEcSHOCSc0/kzMLUGFnzT8lS84sQIXNP7ZikQkfo80/SHpU5v3AzT/akRfD3N7NP2yp2p+7/M0//sCdfJoazj+Q2GBZeTjOPyLwIzZYVs4/swfnEjd0zj9FH6rvFZLOP9c2bcz0r84/aU4wqdPNzj/7ZfOFsuvOP419tmKRCc8/H5V5P3Anzz+wrDwcT0XPP0LE//gtY88/1NvC1QyBzz9m84Wy657PP/gKSY/KvM8/iiIMbKnazz8cOs9IiPjPP9coyZIzC9A/oLQqASMa0D9pQIxvEinQPzHM7d0BONA/+ldPTPFG0D/D47C64FXQP4xvEinQZNA/Vftzl79z0D8eh9UFr4LQP+cSN3SekdA/sJ6Y4o2g0D95KvpQfa/QP0K2W79svtA/C0K9LVzN0D/UzR6cS9zQP51ZgAo769A/ZuXheCr60D8ucUPnGQnRP/f8pFUJGNE/wIgGxPgm0T+JFGgy6DXRP1KgyaDXRNE/GywrD8dT0T/kt4x9tmLRP61D7uulcdE/ds9PWpWA0T8/W7HIhI/RPwjnEjd0ntE/0XJ0pWOt0T+a/tUTU7zRP2KKN4JCy9E/KxaZ8DHa0T/0ofpeIenRP70tXM0Q+NE/hrm9OwAH0j9PRR+q7xXSPxjRgBjfJNI/4Vzihs4z0j+q6EP1vULSP3N0pWOtUdI/PAAH0pxg0j8FjGhAjG/SP84Xyq57ftI/l6MrHWuN0j9fL42LWpzSPyi77vlJq9I/8UZQaDm60j+60rHWKMnSP4NeE0UY2NI/TOp0swfn0j8VdtYh9/XSP94BOJDmBNM/p42Z/tUT0z9wGftsxSLTPzmlXNu0MdM/AjG+SaRA0z/LvB+4k0/TP5NIgSaDXtM/XNTilHJt0z8lYEQDYnzTP+7rpXFRi9M/t3cH4ECa0z+AA2lOMKnTP0mPyrwfuNM/EhssKw/H0z/bpo2Z/tXTP6Qy7wfu5NM/bb5Qdt3z0z82SrLkzALUP//VE1O8EdQ/yGF1wasg1D+Q7dYvmy/UP1l5OJ6KPtQ/IgWaDHpN1D/rkPt6aVzUP7QcXelYa9Q/fai+V0h61D9GNCDGN4nUPw/AgTQnmNQ/2Evjohan1D+h10QRBrbUP2pjpn/1xNQ/M+8H7uTT1D/8emlc1OLUP8QGy8rD8dQ/jZIsObMA1T9WHo6nog/VPx+q7xWSHtU/6DVRhIEt1T+xwbLycDzVP3pNFGFgS9U/Q9l1z09a1T8MZdc9P2nVP9XwOKwueNU/nnyaGh6H1T9nCPyIDZbVPzCUXff8pNU/+R+/Zeyz1T/BqyDU28LVP4o3gkLL0dU/U8PjsLrg1T8cT0Ufqu/VP+Xapo2Z/tU/rmYI/IgN1j938mlqeBzWP0B+y9hnK9Y/CQotR1c61j/SlY61RknWP5sh8CM2WNY/ZK1RkiVn1j8tObMAFXbWP/XEFG8EhdY/vlB23fOT1j+H3NdL46LWP1BoObrSsdY/GfSaKMLA1j/if/yWsc/WP6sLXgWh3tY/dJe/c5Dt1j89IyHif/zWPwavglBvC9c/zzrkvl4a1z+YxkUtTinXP2FSp5s9ONc/Kt4ICi1H1z/yaWp4HFbXP7v1y+YLZdc/hIEtVftz1z9NDY/D6oLXPxaZ8DHakdc/3yRSoMmg1z+osLMOua/XP3E8FX2ovtc/Osh265fN1z8DVNhZh9zXP8zfOch269c/lWubNmb61z9e9/ykVQnYPyeDXhNFGNg/7w7AgTQn2D+4miHwIzbYP4Emg14TRdg/SrLkzAJU2D8TPkY78mLYP9zJp6nhcdg/pVUJGNGA2D9u4WqGwI/YPzdtzPSvntg/APktY5+t2D/JhI/RjrzYP5IQ8T9+y9g/W5xSrm3a2D8jKLQcXenYP+yzFYtM+Ng/tT93+TsH2T9+y9hnKxbZP0dXOtYaJdk/EOObRAo02T/Zbv2y+ULZP6L6XiHpUdk/a4bAj9hg2T80EiL+x2/ZP/2dg2y3ftk/xinl2qaN2T+PtUZJlpzZP1hBqLeFq9k/IM0JJnW62T/pWGuUZMnZP7LkzAJU2Nk/e3AucUPn2T9E/I/fMvbZPw2I8U0iBdo/1hNTvBEU2j+fn7QqASPaP2grFpnwMdo/Mbd3B+BA2j/6Qtl1z0/aP8POOuS+Xto/jFqcUq5t2j9U5v3AnXzaPx1yXy+Ni9o/5v3AnXya2j+viSIMbKnaP3gVhHpbuNo/QaHl6ErH2j8KLUdXOtbaP9O4qMUp5do/nEQKNBn02j9l0GuiCAPbPy5czRD4Eds/9+cuf+cg2z/Ac5Dt1i/bP4n/8VvGPts/UYtTyrVN2z8aF7U4pVzbP+OiFqeUa9s/rC54FYR62z91utmDc4nbPz5GO/JimNs/B9KcYFKn2z/QXf7OQbbbP5npXz0xxds/YnXBqyDU2z8rASMaEOPbP/SMhIj/8ds/vRjm9u4A3D+FpEdl3g/cP04wqdPNHtw/F7wKQr0t3D/gR2ywrDzcP6nTzR6cS9w/cl8vjYta3D8765D7emncPwR38mlqeNw/zQJU2FmH3D+WjrVGSZbcP18aF7U4pdw/KKZ4Iyi03D/xMdqRF8PcP7q9OwAH0tw/gkmdbvbg3D9L1f7c5e/cPxRhYEvV/tw/3ezBucQN3T+meCMotBzdP28EhZajK90/OJDmBJM63T8BHEhzgkndP8qnqeFxWN0/kzMLUGFn3T9cv2y+UHbdPyVLzixAhd0/7tYvmy+U3T+2YpEJH6PdP3/u8ncOst0/SHpU5v3A3T8RBrZU7c/dP9qRF8Pc3t0/ox15Mczt3T9sqdqfu/zdPzU1PA6rC94//sCdfJoa3j/HTP/qiSneP5DYYFl5ON4/WWTCx2hH3j8i8CM2WFbeP+t7haRHZd4/swfnEjd03j98k0iBJoPeP0Ufqu8Vkt4/DqsLXgWh3j/XNm3M9K/eP6DCzjrkvt4/aU4wqdPN3j8y2pEXw9zeP/tl84Wy694/xPFU9KH63j+NfbZikQnfP1YJGNGAGN8/H5V5P3An3z/nINutXzbfP7CsPBxPRd8/eTieij5U3z9CxP/4LWPfPwtQYWcdct8/1NvC1QyB3z+dZyRE/I/fP2bzhbLrnt8/L3/nINut3z/4CkmPyrzfP8GWqv25y98/iiIMbKna3z9Trm3amOnfPxw6z0iI+N8/8mKY27sD4D/XKMmSMwvgP7vu+UmrEuA/oLQqASMa4D+Eelu4miHgP2lAjG8SKeA/TQa9Joow4D8xzO3dATjgPxaSHpV5P+A/+ldPTPFG4D/fHYADaU7gP8PjsLrgVeA/qKnhcVhd4D+MbxIp0GTgP3E1Q+BHbOA/Vftzl79z4D86waRON3vgPx6H1QWvguA/A00GvSaK4D/nEjd0npHgP8vYZysWmeA/sJ6Y4o2g4D+UZMmZBajgP3kq+lB9r+A/XfAqCPW24D9Ctlu/bL7gPyZ8jHbkxeA/C0K9LVzN4D/vB+7k09TgP9TNHpxL3OA/uJNPU8Pj4D+dWYAKO+vgP4EfscGy8uA/ZuXheCr64D9KqxIwogHhPy5xQ+cZCeE/Ezd0npEQ4T/3/KRVCRjhP9zC1QyBH+E/wIgGxPgm4T+lTjd7cC7hP4kUaDLoNeE/btqY6V894T9SoMmg10ThPzdm+ldPTOE/GywrD8dT4T8A8lvGPlvhP+S3jH22YuE/yH29NC5q4T+tQ+7rpXHhP5EJH6MdeeE/ds9PWpWA4T9alYARDYjhPz9bsciEj+E/IyHif/yW4T8I5xI3dJ7hP+ysQ+7rpeE/0XJ0pWOt4T+1OKVc27ThP5r+1RNTvOE/fsQGy8rD4T9iijeCQsvhP0dQaDm60uE/KxaZ8DHa4T8Q3MmnqeHhP/Sh+l4h6eE/2WcrFpnw4T+9LVzNEPjhP6LzjISI/+E/hrm9OwAH4j9rf+7ydw7iP09FH6rvFeI/NAtQYWcd4j8Y0YAY3yTiP/yWsc9WLOI/4Vzihs4z4j/FIhM+RjviP6roQ/W9QuI/jq50rDVK4j9zdKVjrVHiP1c61holWeI/PAAH0pxg4j8gxjeJFGjiPwWMaECMb+I/6VGZ9wN34j/OF8que37iP7Ld+mXzheI/l6MrHWuN4j97aVzU4pTiP18vjYtanOI/RPW9QtKj4j8ou+75SaviPw2BH7HBsuI/8UZQaDm64j/WDIEfscHiP7rSsdYoyeI/n5jijaDQ4j+DXhNFGNjiP2gkRPyP3+I/TOp0swfn4j8xsKVqf+7iPxV21iH39eI/+TsH2W794j/eATiQ5gTjP8LHaEdeDOM/p42Z/tUT4z+LU8q1TRvjP3AZ+2zFIuM/VN8rJD0q4z85pVzbtDHjPx1rjZIsOeM/AjG+SaRA4z/m9u4AHEjjP8u8H7iTT+M/r4JQbwtX4z+TSIEmg17jP3gOst36ZeM/XNTilHJt4z9BmhNM6nTjPyVgRANifOM/CiZ1utmD4z/u66VxUYvjP9Ox1ijJkuM/t3cH4ECa4z+cPTiXuKHjP4ADaU4wqeM/ZcmZBaiw4z9Jj8q8H7jjPy5V+3OXv+M/EhssKw/H4z/24Fzihs7jP9umjZn+1eM/v2y+UHbd4z+kMu8H7uTjP4j4H79l7OM/bb5Qdt3z4z9RhIEtVfvjPzZKsuTMAuQ/GhDjm0QK5D//1RNTvBHkP+ObRAo0GeQ/yGF1wasg5D+sJ6Z4IyjkP5Dt1i+bL+Q/dbMH5xI35D9ZeTieij7kPz4/aVUCRuQ/IgWaDHpN5D8Hy8rD8VTkP+uQ+3ppXOQ/0FYsMuFj5D+0HF3pWGvkP5nijaDQcuQ/fai+V0h65D9ibu8OwIHkP0Y0IMY3ieQ/KvpQfa+Q5D8PwIE0J5jkP/OFsuuen+Q/2Evjohan5D+8ERRajq7kP6HXRBEGtuQ/hZ11yH295D9qY6Z/9cTkP04p1zZtzOQ/M+8H7uTT5D8XtTilXNvkP/x6aVzU4uQ/4ECaE0zq5D/EBsvKw/HkP6nM+4E7+eQ/jZIsObMA5T9yWF3wKgjlP1YejqeiD+U/O+S+XhoX5T8fqu8Vkh7lPwRwIM0JJuU/6DVRhIEt5T/N+4E7+TTlP7HBsvJwPOU/lofjqehD5T96TRRhYEvlP18TRRjYUuU/Q9l1z09a5T8nn6aGx2HlPwxl1z0/aeU/8CoI9bZw5T/V8DisLnjlP7m2aWOmf+U/nnyaGh6H5T+CQsvRlY7lP2cI/IgNluU/S84sQIWd5T8wlF33/KTlPxRajq50rOU/+R+/Zeyz5T/d5e8cZLvlP8GrINTbwuU/pnFRi1PK5T+KN4JCy9HlP2/9svlC2eU/U8PjsLrg5T84iRRoMujlPxxPRR+q7+U/ARV21iH35T/l2qaNmf7lP8qg10QRBuY/rmYI/IgN5j+TLDmzABXmP3fyaWp4HOY/W7iaIfAj5j9AfsvYZyvmPyRE/I/fMuY/CQotR1c65j/tz13+zkHmP9KVjrVGSeY/tlu/bL5Q5j+bIfAjNljmP3/nINutX+Y/ZK1RkiVn5j9Ic4JJnW7mPy05swAVduY/Ef/jt4x95j/1xBRvBIXmP9qKRSZ8jOY/vlB23fOT5j+jFqeUa5vmP4fc10vjouY/bKIIA1uq5j9QaDm60rHmPzUuanFKueY/GfSaKMLA5j/+ucvfOcjmP+J//Jaxz+Y/x0UtTinX5j+rC14Fod7mP5DRjrwY5uY/dJe/c5Dt5j9YXfAqCPXmPz0jIeJ//OY/IelRmfcD5z8Gr4JQbwvnP+p0swfnEuc/zzrkvl4a5z+zABV21iHnP5jGRS1OKec/fIx25MUw5z9hUqebPTjnP0UY2FK1P+c/Kt4ICi1H5z8OpDnBpE7nP/JpangcVuc/1y+bL5Rd5z+79cvmC2XnP6C7/J2DbOc/hIEtVftz5z9pR14Mc3vnP00Nj8Pqguc/MtO/emKK5z8WmfAx2pHnP/teIelRmec/3yRSoMmg5z/E6oJXQajnP6iwsw65r+c/jHbkxTC35z9xPBV9qL7nP1UCRjQgxuc/Osh265fN5z8ejqeiD9XnPwNU2FmH3Oc/5xkJEf/j5z/M3znIduvnP7Clan/u8uc/lWubNmb65z95Mczt3QHoP173/KRVCeg/Qr0tXM0Q6D8ng14TRRjoPwtJj8q8H+g/7w7AgTQn6D/U1PA4rC7oP7iaIfAjNug/nWBSp5s96D+BJoNeE0XoP2bssxWLTOg/SrLkzAJU6D8veBWEelvoPxM+RjvyYug/+AN38mlq6D/cyaep4XHoP8GP2GBZeeg/pVUJGNGA6D+JGzrPSIjoP27haobAj+g/UqebPTiX6D83bcz0r57oPxsz/asnpug/APktY5+t6D/kvl4aF7XoP8mEj9GOvOg/rUrAiAbE6D+SEPE/fsvoP3bWIff10ug/W5xSrm3a6D8/YoNl5eHoPyMotBxd6eg/CO7k09Tw6D/ssxWLTPjoP9F5RkLE/+g/tT93+TsH6T+aBaiwsw7pP37L2GcrFuk/Y5EJH6Md6T9HVzrWGiXpPywda42SLOk/EOObRAo06T/1qMz7gTvpP9lu/bL5Quk/vTQuanFK6T+i+l4h6VHpP4bAj9hgWek/a4bAj9hg6T9PTPFGUGjpPzQSIv7Hb+k/GNhStT936T/9nYNst37pP+FjtCMvhuk/xinl2qaN6T+q7xWSHpXpP4+1RkmWnOk/c3t3AA6k6T9YQai3havpPzwH2W79suk/IM0JJnW66T8Fkzrd7MHpP+lYa5Rkyek/zh6cS9zQ6T+y5MwCVNjpP5eq/bnL3+k/e3AucUPn6T9gNl8ou+7pP0T8j98y9uk/KcLAlqr96T8NiPFNIgXqP/JNIgWaDOo/1hNTvBEU6j+62YNziRvqP5+ftCoBI+o/g2Xl4Xgq6j9oKxaZ8DHqP0zxRlBoOeo/Mbd3B+BA6j8Vfai+V0jqP/pC2XXPT+o/3ggKLUdX6j/Dzjrkvl7qP6eUa5s2Zuo/jFqcUq5t6j9wIM0JJnXqP1Tm/cCdfOo/OawueBWE6j8dcl8vjYvqPwI4kOYEk+o/5v3AnXya6j/Lw/FU9KHqP6+JIgxsqeo/lE9Tw+Ow6j94FYR6W7jqP13btDHTv+o/QaHl6ErH6j8mZxagws7qPwotR1c61uo/7vJ3DrLd6j/TuKjFKeXqP7d+2Xyh7Oo/nEQKNBn06j+ACjvrkPvqP2XQa6IIA+s/SZacWYAK6z8uXM0Q+BHrPxIi/sdvGes/9+cuf+cg6z/brV82XyjrP8BzkO3WL+s/pDnBpE436z+J//Fbxj7rP23FIhM+Rus/UYtTyrVN6z82UYSBLVXrPxoXtTilXOs//9zl7xxk6z/johanlGvrP8hoR14Mc+s/rC54FYR66z+R9KjM+4HrP3W62YNzies/WoAKO+uQ6z8+RjvyYpjrPyMMbKnan+s/B9KcYFKn6z/rl80Xyq7rP9Bd/s5Btus/tCMvhrm96z+Z6V89McXrP32vkPSozOs/YnXBqyDU6z9GO/JimNvrPysBIxoQ4+s/D8dT0Yfq6z/0jISI//HrP9hStT93+es/vRjm9u4A7D+h3hauZgjsP4WkR2XeD+w/amp4HFYX7D9OMKnTzR7sPzP22YpFJuw/F7wKQr0t7D/8gTv5NDXsP+BHbLCsPOw/xQ2dZyRE7D+p080enEvsP46Z/tUTU+w/cl8vjYta7D9XJWBEA2LsPzvrkPt6aew/ILHBsvJw7D8Ed/JpanjsP+g8IyHif+w/zQJU2FmH7D+xyISP0Y7sP5aOtUZJluw/elTm/cCd7D9fGhe1OKXsP0PgR2ywrOw/KKZ4Iyi07D8MbKnan7vsP/Ex2pEXw+w/1fcKSY/K7D+6vTsAB9LsP56DbLd+2ew/gkmdbvbg7D9nD84lbujsP0vV/tzl7+w/MJsvlF337D8UYWBL1f7sP/kmkQJNBu0/3ezBucQN7T/CsvJwPBXtP6Z4Iyi0HO0/iz5U3ysk7T9vBIWWoyvtP1TKtU0bM+0/OJDmBJM67T8cVhe8CkLtPwEcSHOCSe0/5eF4KvpQ7T/Kp6nhcVjtP65t2pjpX+0/kzMLUGFn7T93+TsH2W7tP1y/bL5Qdu0/QIWddch97T8lS84sQIXtPwkR/+O3jO0/7tYvmy+U7T/SnGBSp5vtP7ZikQkfo+0/myjCwJaq7T9/7vJ3DrLtP2S0Iy+Gue0/SHpU5v3A7T8tQIWddcjtPxEGtlTtz+0/9svmC2XX7T/akRfD3N7tP79XSHpU5u0/ox15Mczt7T+I46noQ/XtP2yp2p+7/O0/UW8LVzME7j81NTwOqwvuPxn7bMUiE+4//sCdfJoa7j/ihs4zEiLuP8dM/+qJKe4/qxIwogEx7j+Q2GBZeTjuP3SekRDxP+4/WWTCx2hH7j89KvN+4E7uPyLwIzZYVu4/BrZU7c9d7j/re4WkR2XuP89Btlu/bO4/swfnEjd07j+YzRfKrnvuP3yTSIEmg+4/YVl5OJ6K7j9FH6rvFZLuPyrl2qaNme4/DqsLXgWh7j/zcDwVfajuP9c2bcz0r+4/vPydg2y37j+gws465L7uP4WI//Fbxu4/aU4wqdPN7j9NFGFgS9XuPzLakRfD3O4/FqDCzjrk7j/7ZfOFsuvuP98rJD0q8+4/xPFU9KH67j+ot4WrGQLvP419tmKRCe8/cUPnGQkR7z9WCRjRgBjvPzrPSIj4H+8/H5V5P3An7z8DW6r25y7vP+cg261fNu8/zOYLZdc97z+wrDwcT0XvP5VybdPGTO8/eTieij5U7z9e/s5BtlvvP0LE//gtY+8/J4owsKVq7z8LUGFnHXLvP/AVkh6Vee8/1NvC1QyB7z+5ofOMhIjvP51nJET8j+8/gi1V+3OX7z9m84Wy657vP0q5tmljpu8/L3/nINut7z8TRRjYUrXvP/gKSY/KvO8/3NB5RkLE7z/Blqr9ucvvP6Vc27Qx0+8/iiIMbKna7z9u6DwjIeLvP1OubdqY6e8/N3SekRDx7z8cOs9IiPjvPw==",
          "dtype": "f8"
         },
         "xaxis": "x",
         "y": {
          "bdata": "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",
          "dtype": "f8"
         },
         "yaxis": "y2"
        }
       ],
       "layout": {
        "annotations": [
         {
          "font": {
           "color": "gray",
           "size": 12
          },
          "showarrow": false,
          "text": "Sample size: 1097",
          "x": 0.99,
          "xanchor": "right",
          "xref": "paper",
          "y": 0.02,
          "yref": "paper"
         }
        ],
        "height": 500,
        "legend": {
         "x": 1.02,
         "xanchor": "left",
         "y": 0.5
        },
        "margin": {
         "b": 50,
         "l": 70,
         "r": 160,
         "t": 50
        },
        "template": {
         "data": {
          "bar": [
           {
            "error_x": {
             "color": "#2a3f5f"
            },
            "error_y": {
             "color": "#2a3f5f"
            },
            "marker": {
             "line": {
              "color": "white",
              "width": 0.5
             },
             "pattern": {
              "fillmode": "overlay",
              "size": 10,
              "solidity": 0.2
             }
            },
            "type": "bar"
           }
          ],
          "barpolar": [
           {
            "marker": {
             "line": {
              "color": "white",
              "width": 0.5
             },
             "pattern": {
              "fillmode": "overlay",
              "size": 10,
              "solidity": 0.2
             }
            },
            "type": "barpolar"
           }
          ],
          "carpet": [
           {
            "aaxis": {
             "endlinecolor": "#2a3f5f",
             "gridcolor": "#C8D4E3",
             "linecolor": "#C8D4E3",
             "minorgridcolor": "#C8D4E3",
             "startlinecolor": "#2a3f5f"
            },
            "baxis": {
             "endlinecolor": "#2a3f5f",
             "gridcolor": "#C8D4E3",
             "linecolor": "#C8D4E3",
             "minorgridcolor": "#C8D4E3",
             "startlinecolor": "#2a3f5f"
            },
            "type": "carpet"
           }
          ],
          "choropleth": [
           {
            "colorbar": {
             "outlinewidth": 0,
             "ticks": ""
            },
            "type": "choropleth"
           }
          ],
          "contour": [
           {
            "colorbar": {
             "outlinewidth": 0,
             "ticks": ""
            },
            "colorscale": [
             [
              0,
              "#0d0887"
             ],
             [
              0.1111111111111111,
              "#46039f"
             ],
             [
              0.2222222222222222,
              "#7201a8"
             ],
             [
              0.3333333333333333,
              "#9c179e"
             ],
             [
              0.4444444444444444,
              "#bd3786"
             ],
             [
              0.5555555555555556,
              "#d8576b"
             ],
             [
              0.6666666666666666,
              "#ed7953"
             ],
             [
              0.7777777777777778,
              "#fb9f3a"
             ],
             [
              0.8888888888888888,
              "#fdca26"
             ],
             [
              1,
              "#f0f921"
             ]
            ],
            "type": "contour"
           }
          ],
          "contourcarpet": [
           {
            "colorbar": {
             "outlinewidth": 0,
             "ticks": ""
            },
            "type": "contourcarpet"
           }
          ],
          "heatmap": [
           {
            "colorbar": {
             "outlinewidth": 0,
             "ticks": ""
            },
            "colorscale": [
             [
              0,
              "#0d0887"
             ],
             [
              0.1111111111111111,
              "#46039f"
             ],
             [
              0.2222222222222222,
              "#7201a8"
             ],
             [
              0.3333333333333333,
              "#9c179e"
             ],
             [
              0.4444444444444444,
              "#bd3786"
             ],
             [
              0.5555555555555556,
              "#d8576b"
             ],
             [
              0.6666666666666666,
              "#ed7953"
             ],
             [
              0.7777777777777778,
              "#fb9f3a"
             ],
             [
              0.8888888888888888,
              "#fdca26"
             ],
             [
              1,
              "#f0f921"
             ]
            ],
            "type": "heatmap"
           }
          ],
          "histogram": [
           {
            "marker": {
             "pattern": {
              "fillmode": "overlay",
              "size": 10,
              "solidity": 0.2
             }
            },
            "type": "histogram"
           }
          ],
          "histogram2d": [
           {
            "colorbar": {
             "outlinewidth": 0,
             "ticks": ""
            },
            "colorscale": [
             [
              0,
              "#0d0887"
             ],
             [
              0.1111111111111111,
              "#46039f"
             ],
             [
              0.2222222222222222,
              "#7201a8"
             ],
             [
              0.3333333333333333,
              "#9c179e"
             ],
             [
              0.4444444444444444,
              "#bd3786"
             ],
             [
              0.5555555555555556,
              "#d8576b"
             ],
             [
              0.6666666666666666,
              "#ed7953"
             ],
             [
              0.7777777777777778,
              "#fb9f3a"
             ],
             [
              0.8888888888888888,
              "#fdca26"
             ],
             [
              1,
              "#f0f921"
             ]
            ],
            "type": "histogram2d"
           }
          ],
          "histogram2dcontour": [
           {
            "colorbar": {
             "outlinewidth": 0,
             "ticks": ""
            },
            "colorscale": [
             [
              0,
              "#0d0887"
             ],
             [
              0.1111111111111111,
              "#46039f"
             ],
             [
              0.2222222222222222,
              "#7201a8"
             ],
             [
              0.3333333333333333,
              "#9c179e"
             ],
             [
              0.4444444444444444,
              "#bd3786"
             ],
             [
              0.5555555555555556,
              "#d8576b"
             ],
             [
              0.6666666666666666,
              "#ed7953"
             ],
             [
              0.7777777777777778,
              "#fb9f3a"
             ],
             [
              0.8888888888888888,
              "#fdca26"
             ],
             [
              1,
              "#f0f921"
             ]
            ],
            "type": "histogram2dcontour"
           }
          ],
          "mesh3d": [
           {
            "colorbar": {
             "outlinewidth": 0,
             "ticks": ""
            },
            "type": "mesh3d"
           }
          ],
          "parcoords": [
           {
            "line": {
             "colorbar": {
              "outlinewidth": 0,
              "ticks": ""
             }
            },
            "type": "parcoords"
           }
          ],
          "pie": [
           {
            "automargin": true,
            "type": "pie"
           }
          ],
          "scatter": [
           {
            "fillpattern": {
             "fillmode": "overlay",
             "size": 10,
             "solidity": 0.2
            },
            "type": "scatter"
           }
          ],
          "scatter3d": [
           {
            "line": {
             "colorbar": {
              "outlinewidth": 0,
              "ticks": ""
             }
            },
            "marker": {
             "colorbar": {
              "outlinewidth": 0,
              "ticks": ""
             }
            },
            "type": "scatter3d"
           }
          ],
          "scattercarpet": [
           {
            "marker": {
             "colorbar": {
              "outlinewidth": 0,
              "ticks": ""
             }
            },
            "type": "scattercarpet"
           }
          ],
          "scattergeo": [
           {
            "marker": {
             "colorbar": {
              "outlinewidth": 0,
              "ticks": ""
             }
            },
            "type": "scattergeo"
           }
          ],
          "scattergl": [
           {
            "marker": {
             "colorbar": {
              "outlinewidth": 0,
              "ticks": ""
             }
            },
            "type": "scattergl"
           }
          ],
          "scattermap": [
           {
            "marker": {
             "colorbar": {
              "outlinewidth": 0,
              "ticks": ""
             }
            },
            "type": "scattermap"
           }
          ],
          "scattermapbox": [
           {
            "marker": {
             "colorbar": {
              "outlinewidth": 0,
              "ticks": ""
             }
            },
            "type": "scattermapbox"
           }
          ],
          "scatterpolar": [
           {
            "marker": {
             "colorbar": {
              "outlinewidth": 0,
              "ticks": ""
             }
            },
            "type": "scatterpolar"
           }
          ],
          "scatterpolargl": [
           {
            "marker": {
             "colorbar": {
              "outlinewidth": 0,
              "ticks": ""
             }
            },
            "type": "scatterpolargl"
           }
          ],
          "scatterternary": [
           {
            "marker": {
             "colorbar": {
              "outlinewidth": 0,
              "ticks": ""
             }
            },
            "type": "scatterternary"
           }
          ],
          "surface": [
           {
            "colorbar": {
             "outlinewidth": 0,
             "ticks": ""
            },
            "colorscale": [
             [
              0,
              "#0d0887"
             ],
             [
              0.1111111111111111,
              "#46039f"
             ],
             [
              0.2222222222222222,
              "#7201a8"
             ],
             [
              0.3333333333333333,
              "#9c179e"
             ],
             [
              0.4444444444444444,
              "#bd3786"
             ],
             [
              0.5555555555555556,
              "#d8576b"
             ],
             [
              0.6666666666666666,
              "#ed7953"
             ],
             [
              0.7777777777777778,
              "#fb9f3a"
             ],
             [
              0.8888888888888888,
              "#fdca26"
             ],
             [
              1,
              "#f0f921"
             ]
            ],
            "type": "surface"
           }
          ],
          "table": [
           {
            "cells": {
             "fill": {
              "color": "#EBF0F8"
             },
             "line": {
              "color": "white"
             }
            },
            "header": {
             "fill": {
              "color": "#C8D4E3"
             },
             "line": {
              "color": "white"
             }
            },
            "type": "table"
           }
          ]
         },
         "layout": {
          "annotationdefaults": {
           "arrowcolor": "#2a3f5f",
           "arrowhead": 0,
           "arrowwidth": 1
          },
          "autotypenumbers": "strict",
          "coloraxis": {
           "colorbar": {
            "outlinewidth": 0,
            "ticks": ""
           }
          },
          "colorscale": {
           "diverging": [
            [
             0,
             "#8e0152"
            ],
            [
             0.1,
             "#c51b7d"
            ],
            [
             0.2,
             "#de77ae"
            ],
            [
             0.3,
             "#f1b6da"
            ],
            [
             0.4,
             "#fde0ef"
            ],
            [
             0.5,
             "#f7f7f7"
            ],
            [
             0.6,
             "#e6f5d0"
            ],
            [
             0.7,
             "#b8e186"
            ],
            [
             0.8,
             "#7fbc41"
            ],
            [
             0.9,
             "#4d9221"
            ],
            [
             1,
             "#276419"
            ]
           ],
           "sequential": [
            [
             0,
             "#0d0887"
            ],
            [
             0.1111111111111111,
             "#46039f"
            ],
            [
             0.2222222222222222,
             "#7201a8"
            ],
            [
             0.3333333333333333,
             "#9c179e"
            ],
            [
             0.4444444444444444,
             "#bd3786"
            ],
            [
             0.5555555555555556,
             "#d8576b"
            ],
            [
             0.6666666666666666,
             "#ed7953"
            ],
            [
             0.7777777777777778,
             "#fb9f3a"
            ],
            [
             0.8888888888888888,
             "#fdca26"
            ],
            [
             1,
             "#f0f921"
            ]
           ],
           "sequentialminus": [
            [
             0,
             "#0d0887"
            ],
            [
             0.1111111111111111,
             "#46039f"
            ],
            [
             0.2222222222222222,
             "#7201a8"
            ],
            [
             0.3333333333333333,
             "#9c179e"
            ],
            [
             0.4444444444444444,
             "#bd3786"
            ],
            [
             0.5555555555555556,
             "#d8576b"
            ],
            [
             0.6666666666666666,
             "#ed7953"
            ],
            [
             0.7777777777777778,
             "#fb9f3a"
            ],
            [
             0.8888888888888888,
             "#fdca26"
            ],
            [
             1,
             "#f0f921"
            ]
           ]
          },
          "colorway": [
           "#636efa",
           "#EF553B",
           "#00cc96",
           "#ab63fa",
           "#FFA15A",
           "#19d3f3",
           "#FF6692",
           "#B6E880",
           "#FF97FF",
           "#FECB52"
          ],
          "font": {
           "color": "#2a3f5f"
          },
          "geo": {
           "bgcolor": "white",
           "lakecolor": "white",
           "landcolor": "white",
           "showlakes": true,
           "showland": true,
           "subunitcolor": "#C8D4E3"
          },
          "hoverlabel": {
           "align": "left"
          },
          "hovermode": "closest",
          "mapbox": {
           "style": "light"
          },
          "paper_bgcolor": "white",
          "plot_bgcolor": "white",
          "polar": {
           "angularaxis": {
            "gridcolor": "#EBF0F8",
            "linecolor": "#EBF0F8",
            "ticks": ""
           },
           "bgcolor": "white",
           "radialaxis": {
            "gridcolor": "#EBF0F8",
            "linecolor": "#EBF0F8",
            "ticks": ""
           }
          },
          "scene": {
           "xaxis": {
            "backgroundcolor": "white",
            "gridcolor": "#DFE8F3",
            "gridwidth": 2,
            "linecolor": "#EBF0F8",
            "showbackground": true,
            "ticks": "",
            "zerolinecolor": "#EBF0F8"
           },
           "yaxis": {
            "backgroundcolor": "white",
            "gridcolor": "#DFE8F3",
            "gridwidth": 2,
            "linecolor": "#EBF0F8",
            "showbackground": true,
            "ticks": "",
            "zerolinecolor": "#EBF0F8"
           },
           "zaxis": {
            "backgroundcolor": "white",
            "gridcolor": "#DFE8F3",
            "gridwidth": 2,
            "linecolor": "#EBF0F8",
            "showbackground": true,
            "ticks": "",
            "zerolinecolor": "#EBF0F8"
           }
          },
          "shapedefaults": {
           "line": {
            "color": "#2a3f5f"
           }
          },
          "ternary": {
           "aaxis": {
            "gridcolor": "#DFE8F3",
            "linecolor": "#A2B1C6",
            "ticks": ""
           },
           "baxis": {
            "gridcolor": "#DFE8F3",
            "linecolor": "#A2B1C6",
            "ticks": ""
           },
           "bgcolor": "white",
           "caxis": {
            "gridcolor": "#DFE8F3",
            "linecolor": "#A2B1C6",
            "ticks": ""
           }
          },
          "title": {
           "x": 0.05
          },
          "xaxis": {
           "automargin": true,
           "gridcolor": "#EBF0F8",
           "linecolor": "#EBF0F8",
           "ticks": "",
           "title": {
            "standoff": 15
           },
           "zerolinecolor": "#EBF0F8",
           "zerolinewidth": 2
          },
          "yaxis": {
           "automargin": true,
           "gridcolor": "#EBF0F8",
           "linecolor": "#EBF0F8",
           "ticks": "",
           "title": {
            "standoff": 15
           },
           "zerolinecolor": "#EBF0F8",
           "zerolinewidth": 2
          }
         }
        },
        "xaxis": {
         "anchor": "y",
         "domain": [
          0,
          0.94
         ],
         "showgrid": true,
         "title": {
          "text": "sample proportion"
         }
        },
        "yaxis": {
         "anchor": "x",
         "domain": [
          0,
          1
         ],
         "showgrid": true,
         "tickfont": {
          "color": "rgb(31, 119, 180)"
         },
         "title": {
          "font": {
           "color": "rgb(31, 119, 180)"
          },
          "text": "cum_demeaned_daily_ret"
         }
        },
        "yaxis2": {
         "anchor": "x",
         "overlaying": "y",
         "showgrid": false,
         "side": "right",
         "tickfont": {
          "color": "rgb(214, 39, 40)"
         },
         "title": {
          "font": {
           "color": "rgb(214, 39, 40)"
          },
          "text": "date_gap_days"
         }
        }
       }
      }
     },
     "metadata": {},
     "output_type": "display_data"
    },
    {
     "name": "stdout",
     "output_type": "stream",
     "text": [
      "Testing H0: mean = 0.000000 vs H1: mean != 0.000000\n",
      "n = 297\n",
      "mean = 0.080782\n",
      "std = 0.608634\n",
      "std err = 0.035317\n",
      "t-stat = 2.2874\n",
      "p-value = 0.02288\n",
      "confidence interval = (0.011279, 0.150286)\n",
      "reject null @ alpha = 0.05: True\n",
      "\n"
     ]
    },
    {
     "data": {
      "application/vnd.plotly.v1+json": {
       "config": {
        "plotlyServerURL": "https://plot.ly"
       },
       "data": [
        {
         "line": {
          "color": "rgb(31, 119, 180)"
         },
         "mode": "lines",
         "name": "cum_demeaned_daily_ret",
         "type": "scatter",
         "x": {
          "bdata": "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",
          "dtype": "f8"
         },
         "xaxis": "x",
         "y": {
          "bdata": "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",
          "dtype": "f8"
         },
         "yaxis": "y"
        },
        {
         "line": {
          "color": "rgb(214, 39, 40)",
          "dash": "dash"
         },
         "mode": "lines",
         "name": "date_gap_days",
         "type": "scatter",
         "x": {
          "bdata": "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",
          "dtype": "f8"
         },
         "xaxis": "x",
         "y": {
          "bdata": "AAAAAAAACEAAAAAAAAAIQAAAAAAAAAhAAAAAAAAACEAAAAAAAAAIQAAAAAAAAAhAAAAAAAAACEAAAAAAAAAIQAAAAAAAAAhAAAAAAAAACEAAAAAAAAAIQAAAAAAAAAhAAAAAAAAACEAAAAAAAAAIQAAAAAAAAAhAAAAAAAAACEAAAAAAAAAIQAAAAAAAAAhAAAAAAAAACEAAAAAAAAAIQAAAAAAAAAhAAAAAAAAACEAAAAAAAAAIQAAAAAAAAAhAAAAAAAAACEAAAAAAAAAIQAAAAAAAAAhAAAAAAAAACEAAAAAAAAAIQAAAAAAAAAhAAAAAAAAACEAAAAAAAAAIQAAAAAAAAAhAAAAAAAAACEAAAAAAAAAIQAAAAAAAAAhAAAAAAAAACEAAAAAAAAAIQAAAAAAAAAhAAAAAAAAACEAAAAAAAAAIQAAAAAAAAAhAAAAAAAAACEAAAAAAAAAIQAAAAAAAAAhAAAAAAAAACEAAAAAAAAAIQAAAAAAAAAhAAAAAAAAACEAAAAAAAAAIQAAAAAAAAAhAAAAAAAAACEAAAAAAAAAIQAAAAAAAAAhAAAAAAAAACEAAAAAAAAAIQAAAAAAAAAhAAAAAAAAACEAAAAAAAAAIQAAAAAAAAAhAAAAAAAAACEAAAAAAAAAIQAAAAAAAAAhAAAAAAAAACEAAAAAAAAAIQAAAAAAAAAhAAAAAAAAACEAAAAAAAAAIQAAAAAAAAAhAAAAAAAAACEAAAAAAAAAIQAAAAAAAAAhAAAAAAAAACEAAAAAAAAAIQAAAAAAAAAhAAAAAAAAACEAAAAAAAAAIQAAAAAAAAAhAAAAAAAAACEAAAAAAAAAIQAAAAAAAAAhAAAAAAAAACEAAAAAAAAAIQAAAAAAAAAhAAAAAAAAACEAAAAAAAAAIQAAAAAAAAAhAAAAAAAAACEAAAAAAAAAIQAAAAAAAAAhAAAAAAAAACEAAAAAAAAAIQAAAAAAAAAhAAAAAAAAACEAAAAAAAAAIQAAAAAAAAAhAAAAAAAAACEAAAAAAAAAIQAAAAAAAAAhAAAAAAAAACEAAAAAAAAAIQAAAAAAAAAhAAAAAAAAACEAAAAAAAAAIQAAAAAAAAAhAAAAAAAAACEAAAAAAAAAIQAAAAAAAAAhAAAAAAAAACEAAAAAAAAAIQAAAAAAAAAhAAAAAAAAACEAAAAAAAAAIQAAAAAAAAAhAAAAAAAAACEAAAAAAAAAIQAAAAAAAAAhAAAAAAAAACEAAAAAAAAAIQAAAAAAAAAhAAAAAAAAACEAAAAAAAAAIQAAAAAAAAAhAAAAAAAAACEAAAAAAAAAIQAAAAAAAAAhAAAAAAAAACEAAAAAAAAAIQAAAAAAAAAhAAAAAAAAACEAAAAAAAAAIQAAAAAAAAAhAAAAAAAAACEAAAAAAAAAIQAAAAAAAAAhAAAAAAAAACEAAAAAAAAAIQAAAAAAAAAhAAAAAAAAACEAAAAAAAAAIQAAAAAAAAAhAAAAAAAAACEAAAAAAAAAIQAAAAAAAAAhAAAAAAAAACEAAAAAAAAAIQAAAAAAAAAhAAAAAAAAACEAAAAAAAAAIQAAAAAAAAAhAAAAAAAAACEAAAAAAAAAIQAAAAAAAAAhAAAAAAAAACEAAAAAAAAAIQAAAAAAAAAhAAAAAAAAACEAAAAAAAAAIQAAAAAAAAAhAAAAAAAAACEAAAAAAAAAIQAAAAAAAAAhAAAAAAAAACEAAAAAAAAAIQAAAAAAAAAhAAAAAAAAACEAAAAAAAAAIQAAAAAAAAAhAAAAAAAAACEAAAAAAAAAIQAAAAAAAAAhAAAAAAAAACEAAAAAAAAAIQAAAAAAAAAhAAAAAAAAACEAAAAAAAAAIQAAAAAAAAAhAAAAAAAAACEAAAAAAAAAIQAAAAAAAAAhAAAAAAAAACEAAAAAAAAAIQAAAAAAAAAhAAAAAAAAACEAAAAAAAAAIQAAAAAAAAAhAAAAAAAAACEAAAAAAAAAIQAAAAAAAAAhAAAAAAAAACEAAAAAAAAAIQAAAAAAAAAhAAAAAAAAACEAAAAAAAAAIQAAAAAAAAAhAAAAAAAAACEAAAAAAAAAIQAAAAAAAAAhAAAAAAAAACEAAAAAAAAAIQAAAAAAAAAhAAAAAAAAACEAAAAAAAAAIQAAAAAAAAAhAAAAAAAAACEAAAAAAAAAIQAAAAAAAAAhAAAAAAAAACEAAAAAAAAAIQAAAAAAAAAhAAAAAAAAACEAAAAAAAAAIQAAAAAAAAAhAAAAAAAAACEAAAAAAAAAIQAAAAAAAAAhAAAAAAAAACEAAAAAAAAAIQAAAAAAAAAhAAAAAAAAACEAAAAAAAAAIQAAAAAAAAAhAAAAAAAAACEAAAAAAAAAIQAAAAAAAAAhAAAAAAAAACEAAAAAAAAAIQAAAAAAAAAhAAAAAAAAACEAAAAAAAAAIQAAAAAAAAAhAAAAAAAAACEAAAAAAAAAIQAAAAAAAAAhAAAAAAAAACEAAAAAAAAAIQAAAAAAAAAhAAAAAAAAACEAAAAAAAAAIQAAAAAAAAAhAAAAAAAAACEAAAAAAAAAIQAAAAAAAAAhAAAAAAAAACEAAAAAAAAAIQAAAAAAAAAhAAAAAAAAACEAAAAAAAAAIQAAAAAAAAAhAAAAAAAAACEAAAAAAAAAIQAAAAAAAAAhAAAAAAAAACEAAAAAAAAAIQAAAAAAAAAhAAAAAAAAACEAAAAAAAAAIQAAAAAAAAAhAAAAAAAAAEEAAAAAAAAAQQAAAAAAAABBAAAAAAAAAEEAAAAAAAAAQQAAAAAAAABBAAAAAAAAAEEAAAAAAAAAQQAAAAAAAABBAAAAAAAAAEEAAAAAAAAAQQAAAAAAAABBAAAAAAAAAEEAAAAAAAAAQQAAAAAAAABBAAAAAAAAAEEAAAAAAAAAQQAAAAAAAABBAAAAAAAAAEEAAAAAAAAAQQAAAAAAAABBAAAAAAAAAFEAAAAAAAAAUQAAAAAAAABRAAAAAAAAAFEAAAAAAAAAUQAAAAAAAABRAAAAAAAAAFEAAAAAAAAAUQAAAAAAAABRAAAAAAAAAFEAAAAAAAAAUQAAAAAAAABhAAAAAAAAAJEAAAAAAAAAkQAAAAAAAAChAAAAAAAAAKEAAAAAAAAAoQAAAAAAAACpA",
          "dtype": "f8"
         },
         "yaxis": "y2"
        }
       ],
       "layout": {
        "annotations": [
         {
          "font": {
           "color": "gray",
           "size": 12
          },
          "showarrow": false,
          "text": "Sample size: 297",
          "x": 0.99,
          "xanchor": "right",
          "xref": "paper",
          "y": 0.02,
          "yref": "paper"
         }
        ],
        "height": 500,
        "legend": {
         "x": 1.02,
         "xanchor": "left",
         "y": 0.5
        },
        "margin": {
         "b": 50,
         "l": 70,
         "r": 160,
         "t": 50
        },
        "template": {
         "data": {
          "bar": [
           {
            "error_x": {
             "color": "#2a3f5f"
            },
            "error_y": {
             "color": "#2a3f5f"
            },
            "marker": {
             "line": {
              "color": "white",
              "width": 0.5
             },
             "pattern": {
              "fillmode": "overlay",
              "size": 10,
              "solidity": 0.2
             }
            },
            "type": "bar"
           }
          ],
          "barpolar": [
           {
            "marker": {
             "line": {
              "color": "white",
              "width": 0.5
             },
             "pattern": {
              "fillmode": "overlay",
              "size": 10,
              "solidity": 0.2
             }
            },
            "type": "barpolar"
           }
          ],
          "carpet": [
           {
            "aaxis": {
             "endlinecolor": "#2a3f5f",
             "gridcolor": "#C8D4E3",
             "linecolor": "#C8D4E3",
             "minorgridcolor": "#C8D4E3",
             "startlinecolor": "#2a3f5f"
            },
            "baxis": {
             "endlinecolor": "#2a3f5f",
             "gridcolor": "#C8D4E3",
             "linecolor": "#C8D4E3",
             "minorgridcolor": "#C8D4E3",
             "startlinecolor": "#2a3f5f"
            },
            "type": "carpet"
           }
          ],
          "choropleth": [
           {
            "colorbar": {
             "outlinewidth": 0,
             "ticks": ""
            },
            "type": "choropleth"
           }
          ],
          "contour": [
           {
            "colorbar": {
             "outlinewidth": 0,
             "ticks": ""
            },
            "colorscale": [
             [
              0,
              "#0d0887"
             ],
             [
              0.1111111111111111,
              "#46039f"
             ],
             [
              0.2222222222222222,
              "#7201a8"
             ],
             [
              0.3333333333333333,
              "#9c179e"
             ],
             [
              0.4444444444444444,
              "#bd3786"
             ],
             [
              0.5555555555555556,
              "#d8576b"
             ],
             [
              0.6666666666666666,
              "#ed7953"
             ],
             [
              0.7777777777777778,
              "#fb9f3a"
             ],
             [
              0.8888888888888888,
              "#fdca26"
             ],
             [
              1,
              "#f0f921"
             ]
            ],
            "type": "contour"
           }
          ],
          "contourcarpet": [
           {
            "colorbar": {
             "outlinewidth": 0,
             "ticks": ""
            },
            "type": "contourcarpet"
           }
          ],
          "heatmap": [
           {
            "colorbar": {
             "outlinewidth": 0,
             "ticks": ""
            },
            "colorscale": [
             [
              0,
              "#0d0887"
             ],
             [
              0.1111111111111111,
              "#46039f"
             ],
             [
              0.2222222222222222,
              "#7201a8"
             ],
             [
              0.3333333333333333,
              "#9c179e"
             ],
             [
              0.4444444444444444,
              "#bd3786"
             ],
             [
              0.5555555555555556,
              "#d8576b"
             ],
             [
              0.6666666666666666,
              "#ed7953"
             ],
             [
              0.7777777777777778,
              "#fb9f3a"
             ],
             [
              0.8888888888888888,
              "#fdca26"
             ],
             [
              1,
              "#f0f921"
             ]
            ],
            "type": "heatmap"
           }
          ],
          "histogram": [
           {
            "marker": {
             "pattern": {
              "fillmode": "overlay",
              "size": 10,
              "solidity": 0.2
             }
            },
            "type": "histogram"
           }
          ],
          "histogram2d": [
           {
            "colorbar": {
             "outlinewidth": 0,
             "ticks": ""
            },
            "colorscale": [
             [
              0,
              "#0d0887"
             ],
             [
              0.1111111111111111,
              "#46039f"
             ],
             [
              0.2222222222222222,
              "#7201a8"
             ],
             [
              0.3333333333333333,
              "#9c179e"
             ],
             [
              0.4444444444444444,
              "#bd3786"
             ],
             [
              0.5555555555555556,
              "#d8576b"
             ],
             [
              0.6666666666666666,
              "#ed7953"
             ],
             [
              0.7777777777777778,
              "#fb9f3a"
             ],
             [
              0.8888888888888888,
              "#fdca26"
             ],
             [
              1,
              "#f0f921"
             ]
            ],
            "type": "histogram2d"
           }
          ],
          "histogram2dcontour": [
           {
            "colorbar": {
             "outlinewidth": 0,
             "ticks": ""
            },
            "colorscale": [
             [
              0,
              "#0d0887"
             ],
             [
              0.1111111111111111,
              "#46039f"
             ],
             [
              0.2222222222222222,
              "#7201a8"
             ],
             [
              0.3333333333333333,
              "#9c179e"
             ],
             [
              0.4444444444444444,
              "#bd3786"
             ],
             [
              0.5555555555555556,
              "#d8576b"
             ],
             [
              0.6666666666666666,
              "#ed7953"
             ],
             [
              0.7777777777777778,
              "#fb9f3a"
             ],
             [
              0.8888888888888888,
              "#fdca26"
             ],
             [
              1,
              "#f0f921"
             ]
            ],
            "type": "histogram2dcontour"
           }
          ],
          "mesh3d": [
           {
            "colorbar": {
             "outlinewidth": 0,
             "ticks": ""
            },
            "type": "mesh3d"
           }
          ],
          "parcoords": [
           {
            "line": {
             "colorbar": {
              "outlinewidth": 0,
              "ticks": ""
             }
            },
            "type": "parcoords"
           }
          ],
          "pie": [
           {
            "automargin": true,
            "type": "pie"
           }
          ],
          "scatter": [
           {
            "fillpattern": {
             "fillmode": "overlay",
             "size": 10,
             "solidity": 0.2
            },
            "type": "scatter"
           }
          ],
          "scatter3d": [
           {
            "line": {
             "colorbar": {
              "outlinewidth": 0,
              "ticks": ""
             }
            },
            "marker": {
             "colorbar": {
              "outlinewidth": 0,
              "ticks": ""
             }
            },
            "type": "scatter3d"
           }
          ],
          "scattercarpet": [
           {
            "marker": {
             "colorbar": {
              "outlinewidth": 0,
              "ticks": ""
             }
            },
            "type": "scattercarpet"
           }
          ],
          "scattergeo": [
           {
            "marker": {
             "colorbar": {
              "outlinewidth": 0,
              "ticks": ""
             }
            },
            "type": "scattergeo"
           }
          ],
          "scattergl": [
           {
            "marker": {
             "colorbar": {
              "outlinewidth": 0,
              "ticks": ""
             }
            },
            "type": "scattergl"
           }
          ],
          "scattermap": [
           {
            "marker": {
             "colorbar": {
              "outlinewidth": 0,
              "ticks": ""
             }
            },
            "type": "scattermap"
           }
          ],
          "scattermapbox": [
           {
            "marker": {
             "colorbar": {
              "outlinewidth": 0,
              "ticks": ""
             }
            },
            "type": "scattermapbox"
           }
          ],
          "scatterpolar": [
           {
            "marker": {
             "colorbar": {
              "outlinewidth": 0,
              "ticks": ""
             }
            },
            "type": "scatterpolar"
           }
          ],
          "scatterpolargl": [
           {
            "marker": {
             "colorbar": {
              "outlinewidth": 0,
              "ticks": ""
             }
            },
            "type": "scatterpolargl"
           }
          ],
          "scatterternary": [
           {
            "marker": {
             "colorbar": {
              "outlinewidth": 0,
              "ticks": ""
             }
            },
            "type": "scatterternary"
           }
          ],
          "surface": [
           {
            "colorbar": {
             "outlinewidth": 0,
             "ticks": ""
            },
            "colorscale": [
             [
              0,
              "#0d0887"
             ],
             [
              0.1111111111111111,
              "#46039f"
             ],
             [
              0.2222222222222222,
              "#7201a8"
             ],
             [
              0.3333333333333333,
              "#9c179e"
             ],
             [
              0.4444444444444444,
              "#bd3786"
             ],
             [
              0.5555555555555556,
              "#d8576b"
             ],
             [
              0.6666666666666666,
              "#ed7953"
             ],
             [
              0.7777777777777778,
              "#fb9f3a"
             ],
             [
              0.8888888888888888,
              "#fdca26"
             ],
             [
              1,
              "#f0f921"
             ]
            ],
            "type": "surface"
           }
          ],
          "table": [
           {
            "cells": {
             "fill": {
              "color": "#EBF0F8"
             },
             "line": {
              "color": "white"
             }
            },
            "header": {
             "fill": {
              "color": "#C8D4E3"
             },
             "line": {
              "color": "white"
             }
            },
            "type": "table"
           }
          ]
         },
         "layout": {
          "annotationdefaults": {
           "arrowcolor": "#2a3f5f",
           "arrowhead": 0,
           "arrowwidth": 1
          },
          "autotypenumbers": "strict",
          "coloraxis": {
           "colorbar": {
            "outlinewidth": 0,
            "ticks": ""
           }
          },
          "colorscale": {
           "diverging": [
            [
             0,
             "#8e0152"
            ],
            [
             0.1,
             "#c51b7d"
            ],
            [
             0.2,
             "#de77ae"
            ],
            [
             0.3,
             "#f1b6da"
            ],
            [
             0.4,
             "#fde0ef"
            ],
            [
             0.5,
             "#f7f7f7"
            ],
            [
             0.6,
             "#e6f5d0"
            ],
            [
             0.7,
             "#b8e186"
            ],
            [
             0.8,
             "#7fbc41"
            ],
            [
             0.9,
             "#4d9221"
            ],
            [
             1,
             "#276419"
            ]
           ],
           "sequential": [
            [
             0,
             "#0d0887"
            ],
            [
             0.1111111111111111,
             "#46039f"
            ],
            [
             0.2222222222222222,
             "#7201a8"
            ],
            [
             0.3333333333333333,
             "#9c179e"
            ],
            [
             0.4444444444444444,
             "#bd3786"
            ],
            [
             0.5555555555555556,
             "#d8576b"
            ],
            [
             0.6666666666666666,
             "#ed7953"
            ],
            [
             0.7777777777777778,
             "#fb9f3a"
            ],
            [
             0.8888888888888888,
             "#fdca26"
            ],
            [
             1,
             "#f0f921"
            ]
           ],
           "sequentialminus": [
            [
             0,
             "#0d0887"
            ],
            [
             0.1111111111111111,
             "#46039f"
            ],
            [
             0.2222222222222222,
             "#7201a8"
            ],
            [
             0.3333333333333333,
             "#9c179e"
            ],
            [
             0.4444444444444444,
             "#bd3786"
            ],
            [
             0.5555555555555556,
             "#d8576b"
            ],
            [
             0.6666666666666666,
             "#ed7953"
            ],
            [
             0.7777777777777778,
             "#fb9f3a"
            ],
            [
             0.8888888888888888,
             "#fdca26"
            ],
            [
             1,
             "#f0f921"
            ]
           ]
          },
          "colorway": [
           "#636efa",
           "#EF553B",
           "#00cc96",
           "#ab63fa",
           "#FFA15A",
           "#19d3f3",
           "#FF6692",
           "#B6E880",
           "#FF97FF",
           "#FECB52"
          ],
          "font": {
           "color": "#2a3f5f"
          },
          "geo": {
           "bgcolor": "white",
           "lakecolor": "white",
           "landcolor": "white",
           "showlakes": true,
           "showland": true,
           "subunitcolor": "#C8D4E3"
          },
          "hoverlabel": {
           "align": "left"
          },
          "hovermode": "closest",
          "mapbox": {
           "style": "light"
          },
          "paper_bgcolor": "white",
          "plot_bgcolor": "white",
          "polar": {
           "angularaxis": {
            "gridcolor": "#EBF0F8",
            "linecolor": "#EBF0F8",
            "ticks": ""
           },
           "bgcolor": "white",
           "radialaxis": {
            "gridcolor": "#EBF0F8",
            "linecolor": "#EBF0F8",
            "ticks": ""
           }
          },
          "scene": {
           "xaxis": {
            "backgroundcolor": "white",
            "gridcolor": "#DFE8F3",
            "gridwidth": 2,
            "linecolor": "#EBF0F8",
            "showbackground": true,
            "ticks": "",
            "zerolinecolor": "#EBF0F8"
           },
           "yaxis": {
            "backgroundcolor": "white",
            "gridcolor": "#DFE8F3",
            "gridwidth": 2,
            "linecolor": "#EBF0F8",
            "showbackground": true,
            "ticks": "",
            "zerolinecolor": "#EBF0F8"
           },
           "zaxis": {
            "backgroundcolor": "white",
            "gridcolor": "#DFE8F3",
            "gridwidth": 2,
            "linecolor": "#EBF0F8",
            "showbackground": true,
            "ticks": "",
            "zerolinecolor": "#EBF0F8"
           }
          },
          "shapedefaults": {
           "line": {
            "color": "#2a3f5f"
           }
          },
          "ternary": {
           "aaxis": {
            "gridcolor": "#DFE8F3",
            "linecolor": "#A2B1C6",
            "ticks": ""
           },
           "baxis": {
            "gridcolor": "#DFE8F3",
            "linecolor": "#A2B1C6",
            "ticks": ""
           },
           "bgcolor": "white",
           "caxis": {
            "gridcolor": "#DFE8F3",
            "linecolor": "#A2B1C6",
            "ticks": ""
           }
          },
          "title": {
           "x": 0.05
          },
          "xaxis": {
           "automargin": true,
           "gridcolor": "#EBF0F8",
           "linecolor": "#EBF0F8",
           "ticks": "",
           "title": {
            "standoff": 15
           },
           "zerolinecolor": "#EBF0F8",
           "zerolinewidth": 2
          },
          "yaxis": {
           "automargin": true,
           "gridcolor": "#EBF0F8",
           "linecolor": "#EBF0F8",
           "ticks": "",
           "title": {
            "standoff": 15
           },
           "zerolinecolor": "#EBF0F8",
           "zerolinewidth": 2
          }
         }
        },
        "xaxis": {
         "anchor": "y",
         "domain": [
          0,
          0.94
         ],
         "showgrid": true,
         "title": {
          "text": "sample proportion"
         }
        },
        "yaxis": {
         "anchor": "x",
         "domain": [
          0,
          1
         ],
         "showgrid": true,
         "tickfont": {
          "color": "rgb(31, 119, 180)"
         },
         "title": {
          "font": {
           "color": "rgb(31, 119, 180)"
          },
          "text": "cum_demeaned_daily_ret"
         }
        },
        "yaxis2": {
         "anchor": "x",
         "overlaying": "y",
         "showgrid": false,
         "side": "right",
         "tickfont": {
          "color": "rgb(214, 39, 40)"
         },
         "title": {
          "font": {
           "color": "rgb(214, 39, 40)"
          },
          "text": "date_gap_days"
         }
        }
       }
      }
     },
     "metadata": {},
     "output_type": "display_data"
    }
   ],
   "source": [
    "\"\"\"split data\"\"\"\n",
    "\n",
    "all_sample_put_df = op_atm_put_df.copy()\n",
    "bm_put_df = op_atm_put_df[op_atm_put_df[\"gap_days\"] < 3].copy()\n",
    "target_put_df = op_atm_put_df[op_atm_put_df[\"gap_days\"] >= 3].copy()\n",
    "\n",
    "mean_ttest(bm_put_df, \"demeaned_daily_ret\")\n",
    "plot(bm_put_df, \"cum_demeaned_daily_ret\", \"index\", \"gap_days\")\n",
    "mean_ttest(target_put_df, \"demeaned_daily_ret\")\n",
    "plot(target_put_df, \"cum_demeaned_daily_ret\", \"index\", \"gap_days\")"
   ]
  },
  {
   "cell_type": "code",
   "execution_count": null,
   "id": "dcb638b1",
   "metadata": {},
   "outputs": [
    {
     "name": "stdout",
     "output_type": "stream",
     "text": [
      "Testing H0: mean = 0.000000 vs H1: mean != 0.000000\n",
      "n = 1096\n",
      "mean = -0.000000\n",
      "std = 1.252689\n",
      "std err = 0.037839\n",
      "t-stat = -0.0000\n",
      "p-value = 1\n",
      "confidence interval = (-0.074245, 0.074245)\n",
      "reject null @ alpha = 0.05: False\n",
      "\n"
     ]
    },
    {
     "data": {
      "application/vnd.plotly.v1+json": {
       "config": {
        "plotlyServerURL": "https://plot.ly"
       },
       "data": [
        {
         "line": {
          "color": "rgb(31, 119, 180)"
         },
         "mode": "lines",
         "name": "cum_demeaned_daily_ret",
         "type": "scatter",
         "x": {
          "bdata": "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",
          "dtype": "f8"
         },
         "xaxis": "x",
         "y": {
          "bdata": "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",
          "dtype": "f8"
         },
         "yaxis": "y"
        },
        {
         "line": {
          "color": "rgb(214, 39, 40)",
          "dash": "dash"
         },
         "mode": "lines",
         "name": "date_gap_days",
         "type": "scatter",
         "x": {
          "bdata": "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",
          "dtype": "f8"
         },
         "xaxis": "x",
         "y": {
          "bdata": "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",
          "dtype": "f8"
         },
         "yaxis": "y2"
        }
       ],
       "layout": {
        "annotations": [
         {
          "font": {
           "color": "gray",
           "size": 12
          },
          "showarrow": false,
          "text": "Sample size: 1097",
          "x": 0.99,
          "xanchor": "right",
          "xref": "paper",
          "y": 0.02,
          "yref": "paper"
         }
        ],
        "height": 500,
        "legend": {
         "x": 1.02,
         "xanchor": "left",
         "y": 0.5
        },
        "margin": {
         "b": 50,
         "l": 70,
         "r": 160,
         "t": 50
        },
        "template": {
         "data": {
          "bar": [
           {
            "error_x": {
             "color": "#2a3f5f"
            },
            "error_y": {
             "color": "#2a3f5f"
            },
            "marker": {
             "line": {
              "color": "white",
              "width": 0.5
             },
             "pattern": {
              "fillmode": "overlay",
              "size": 10,
              "solidity": 0.2
             }
            },
            "type": "bar"
           }
          ],
          "barpolar": [
           {
            "marker": {
             "line": {
              "color": "white",
              "width": 0.5
             },
             "pattern": {
              "fillmode": "overlay",
              "size": 10,
              "solidity": 0.2
             }
            },
            "type": "barpolar"
           }
          ],
          "carpet": [
           {
            "aaxis": {
             "endlinecolor": "#2a3f5f",
             "gridcolor": "#C8D4E3",
             "linecolor": "#C8D4E3",
             "minorgridcolor": "#C8D4E3",
             "startlinecolor": "#2a3f5f"
            },
            "baxis": {
             "endlinecolor": "#2a3f5f",
             "gridcolor": "#C8D4E3",
             "linecolor": "#C8D4E3",
             "minorgridcolor": "#C8D4E3",
             "startlinecolor": "#2a3f5f"
            },
            "type": "carpet"
           }
          ],
          "choropleth": [
           {
            "colorbar": {
             "outlinewidth": 0,
             "ticks": ""
            },
            "type": "choropleth"
           }
          ],
          "contour": [
           {
            "colorbar": {
             "outlinewidth": 0,
             "ticks": ""
            },
            "colorscale": [
             [
              0,
              "#0d0887"
             ],
             [
              0.1111111111111111,
              "#46039f"
             ],
             [
              0.2222222222222222,
              "#7201a8"
             ],
             [
              0.3333333333333333,
              "#9c179e"
             ],
             [
              0.4444444444444444,
              "#bd3786"
             ],
             [
              0.5555555555555556,
              "#d8576b"
             ],
             [
              0.6666666666666666,
              "#ed7953"
             ],
             [
              0.7777777777777778,
              "#fb9f3a"
             ],
             [
              0.8888888888888888,
              "#fdca26"
             ],
             [
              1,
              "#f0f921"
             ]
            ],
            "type": "contour"
           }
          ],
          "contourcarpet": [
           {
            "colorbar": {
             "outlinewidth": 0,
             "ticks": ""
            },
            "type": "contourcarpet"
           }
          ],
          "heatmap": [
           {
            "colorbar": {
             "outlinewidth": 0,
             "ticks": ""
            },
            "colorscale": [
             [
              0,
              "#0d0887"
             ],
             [
              0.1111111111111111,
              "#46039f"
             ],
             [
              0.2222222222222222,
              "#7201a8"
             ],
             [
              0.3333333333333333,
              "#9c179e"
             ],
             [
              0.4444444444444444,
              "#bd3786"
             ],
             [
              0.5555555555555556,
              "#d8576b"
             ],
             [
              0.6666666666666666,
              "#ed7953"
             ],
             [
              0.7777777777777778,
              "#fb9f3a"
             ],
             [
              0.8888888888888888,
              "#fdca26"
             ],
             [
              1,
              "#f0f921"
             ]
            ],
            "type": "heatmap"
           }
          ],
          "histogram": [
           {
            "marker": {
             "pattern": {
              "fillmode": "overlay",
              "size": 10,
              "solidity": 0.2
             }
            },
            "type": "histogram"
           }
          ],
          "histogram2d": [
           {
            "colorbar": {
             "outlinewidth": 0,
             "ticks": ""
            },
            "colorscale": [
             [
              0,
              "#0d0887"
             ],
             [
              0.1111111111111111,
              "#46039f"
             ],
             [
              0.2222222222222222,
              "#7201a8"
             ],
             [
              0.3333333333333333,
              "#9c179e"
             ],
             [
              0.4444444444444444,
              "#bd3786"
             ],
             [
              0.5555555555555556,
              "#d8576b"
             ],
             [
              0.6666666666666666,
              "#ed7953"
             ],
             [
              0.7777777777777778,
              "#fb9f3a"
             ],
             [
              0.8888888888888888,
              "#fdca26"
             ],
             [
              1,
              "#f0f921"
             ]
            ],
            "type": "histogram2d"
           }
          ],
          "histogram2dcontour": [
           {
            "colorbar": {
             "outlinewidth": 0,
             "ticks": ""
            },
            "colorscale": [
             [
              0,
              "#0d0887"
             ],
             [
              0.1111111111111111,
              "#46039f"
             ],
             [
              0.2222222222222222,
              "#7201a8"
             ],
             [
              0.3333333333333333,
              "#9c179e"
             ],
             [
              0.4444444444444444,
              "#bd3786"
             ],
             [
              0.5555555555555556,
              "#d8576b"
             ],
             [
              0.6666666666666666,
              "#ed7953"
             ],
             [
              0.7777777777777778,
              "#fb9f3a"
             ],
             [
              0.8888888888888888,
              "#fdca26"
             ],
             [
              1,
              "#f0f921"
             ]
            ],
            "type": "histogram2dcontour"
           }
          ],
          "mesh3d": [
           {
            "colorbar": {
             "outlinewidth": 0,
             "ticks": ""
            },
            "type": "mesh3d"
           }
          ],
          "parcoords": [
           {
            "line": {
             "colorbar": {
              "outlinewidth": 0,
              "ticks": ""
             }
            },
            "type": "parcoords"
           }
          ],
          "pie": [
           {
            "automargin": true,
            "type": "pie"
           }
          ],
          "scatter": [
           {
            "fillpattern": {
             "fillmode": "overlay",
             "size": 10,
             "solidity": 0.2
            },
            "type": "scatter"
           }
          ],
          "scatter3d": [
           {
            "line": {
             "colorbar": {
              "outlinewidth": 0,
              "ticks": ""
             }
            },
            "marker": {
             "colorbar": {
              "outlinewidth": 0,
              "ticks": ""
             }
            },
            "type": "scatter3d"
           }
          ],
          "scattercarpet": [
           {
            "marker": {
             "colorbar": {
              "outlinewidth": 0,
              "ticks": ""
             }
            },
            "type": "scattercarpet"
           }
          ],
          "scattergeo": [
           {
            "marker": {
             "colorbar": {
              "outlinewidth": 0,
              "ticks": ""
             }
            },
            "type": "scattergeo"
           }
          ],
          "scattergl": [
           {
            "marker": {
             "colorbar": {
              "outlinewidth": 0,
              "ticks": ""
             }
            },
            "type": "scattergl"
           }
          ],
          "scattermap": [
           {
            "marker": {
             "colorbar": {
              "outlinewidth": 0,
              "ticks": ""
             }
            },
            "type": "scattermap"
           }
          ],
          "scattermapbox": [
           {
            "marker": {
             "colorbar": {
              "outlinewidth": 0,
              "ticks": ""
             }
            },
            "type": "scattermapbox"
           }
          ],
          "scatterpolar": [
           {
            "marker": {
             "colorbar": {
              "outlinewidth": 0,
              "ticks": ""
             }
            },
            "type": "scatterpolar"
           }
          ],
          "scatterpolargl": [
           {
            "marker": {
             "colorbar": {
              "outlinewidth": 0,
              "ticks": ""
             }
            },
            "type": "scatterpolargl"
           }
          ],
          "scatterternary": [
           {
            "marker": {
             "colorbar": {
              "outlinewidth": 0,
              "ticks": ""
             }
            },
            "type": "scatterternary"
           }
          ],
          "surface": [
           {
            "colorbar": {
             "outlinewidth": 0,
             "ticks": ""
            },
            "colorscale": [
             [
              0,
              "#0d0887"
             ],
             [
              0.1111111111111111,
              "#46039f"
             ],
             [
              0.2222222222222222,
              "#7201a8"
             ],
             [
              0.3333333333333333,
              "#9c179e"
             ],
             [
              0.4444444444444444,
              "#bd3786"
             ],
             [
              0.5555555555555556,
              "#d8576b"
             ],
             [
              0.6666666666666666,
              "#ed7953"
             ],
             [
              0.7777777777777778,
              "#fb9f3a"
             ],
             [
              0.8888888888888888,
              "#fdca26"
             ],
             [
              1,
              "#f0f921"
             ]
            ],
            "type": "surface"
           }
          ],
          "table": [
           {
            "cells": {
             "fill": {
              "color": "#EBF0F8"
             },
             "line": {
              "color": "white"
             }
            },
            "header": {
             "fill": {
              "color": "#C8D4E3"
             },
             "line": {
              "color": "white"
             }
            },
            "type": "table"
           }
          ]
         },
         "layout": {
          "annotationdefaults": {
           "arrowcolor": "#2a3f5f",
           "arrowhead": 0,
           "arrowwidth": 1
          },
          "autotypenumbers": "strict",
          "coloraxis": {
           "colorbar": {
            "outlinewidth": 0,
            "ticks": ""
           }
          },
          "colorscale": {
           "diverging": [
            [
             0,
             "#8e0152"
            ],
            [
             0.1,
             "#c51b7d"
            ],
            [
             0.2,
             "#de77ae"
            ],
            [
             0.3,
             "#f1b6da"
            ],
            [
             0.4,
             "#fde0ef"
            ],
            [
             0.5,
             "#f7f7f7"
            ],
            [
             0.6,
             "#e6f5d0"
            ],
            [
             0.7,
             "#b8e186"
            ],
            [
             0.8,
             "#7fbc41"
            ],
            [
             0.9,
             "#4d9221"
            ],
            [
             1,
             "#276419"
            ]
           ],
           "sequential": [
            [
             0,
             "#0d0887"
            ],
            [
             0.1111111111111111,
             "#46039f"
            ],
            [
             0.2222222222222222,
             "#7201a8"
            ],
            [
             0.3333333333333333,
             "#9c179e"
            ],
            [
             0.4444444444444444,
             "#bd3786"
            ],
            [
             0.5555555555555556,
             "#d8576b"
            ],
            [
             0.6666666666666666,
             "#ed7953"
            ],
            [
             0.7777777777777778,
             "#fb9f3a"
            ],
            [
             0.8888888888888888,
             "#fdca26"
            ],
            [
             1,
             "#f0f921"
            ]
           ],
           "sequentialminus": [
            [
             0,
             "#0d0887"
            ],
            [
             0.1111111111111111,
             "#46039f"
            ],
            [
             0.2222222222222222,
             "#7201a8"
            ],
            [
             0.3333333333333333,
             "#9c179e"
            ],
            [
             0.4444444444444444,
             "#bd3786"
            ],
            [
             0.5555555555555556,
             "#d8576b"
            ],
            [
             0.6666666666666666,
             "#ed7953"
            ],
            [
             0.7777777777777778,
             "#fb9f3a"
            ],
            [
             0.8888888888888888,
             "#fdca26"
            ],
            [
             1,
             "#f0f921"
            ]
           ]
          },
          "colorway": [
           "#636efa",
           "#EF553B",
           "#00cc96",
           "#ab63fa",
           "#FFA15A",
           "#19d3f3",
           "#FF6692",
           "#B6E880",
           "#FF97FF",
           "#FECB52"
          ],
          "font": {
           "color": "#2a3f5f"
          },
          "geo": {
           "bgcolor": "white",
           "lakecolor": "white",
           "landcolor": "white",
           "showlakes": true,
           "showland": true,
           "subunitcolor": "#C8D4E3"
          },
          "hoverlabel": {
           "align": "left"
          },
          "hovermode": "closest",
          "mapbox": {
           "style": "light"
          },
          "paper_bgcolor": "white",
          "plot_bgcolor": "white",
          "polar": {
           "angularaxis": {
            "gridcolor": "#EBF0F8",
            "linecolor": "#EBF0F8",
            "ticks": ""
           },
           "bgcolor": "white",
           "radialaxis": {
            "gridcolor": "#EBF0F8",
            "linecolor": "#EBF0F8",
            "ticks": ""
           }
          },
          "scene": {
           "xaxis": {
            "backgroundcolor": "white",
            "gridcolor": "#DFE8F3",
            "gridwidth": 2,
            "linecolor": "#EBF0F8",
            "showbackground": true,
            "ticks": "",
            "zerolinecolor": "#EBF0F8"
           },
           "yaxis": {
            "backgroundcolor": "white",
            "gridcolor": "#DFE8F3",
            "gridwidth": 2,
            "linecolor": "#EBF0F8",
            "showbackground": true,
            "ticks": "",
            "zerolinecolor": "#EBF0F8"
           },
           "zaxis": {
            "backgroundcolor": "white",
            "gridcolor": "#DFE8F3",
            "gridwidth": 2,
            "linecolor": "#EBF0F8",
            "showbackground": true,
            "ticks": "",
            "zerolinecolor": "#EBF0F8"
           }
          },
          "shapedefaults": {
           "line": {
            "color": "#2a3f5f"
           }
          },
          "ternary": {
           "aaxis": {
            "gridcolor": "#DFE8F3",
            "linecolor": "#A2B1C6",
            "ticks": ""
           },
           "baxis": {
            "gridcolor": "#DFE8F3",
            "linecolor": "#A2B1C6",
            "ticks": ""
           },
           "bgcolor": "white",
           "caxis": {
            "gridcolor": "#DFE8F3",
            "linecolor": "#A2B1C6",
            "ticks": ""
           }
          },
          "title": {
           "x": 0.05
          },
          "xaxis": {
           "automargin": true,
           "gridcolor": "#EBF0F8",
           "linecolor": "#EBF0F8",
           "ticks": "",
           "title": {
            "standoff": 15
           },
           "zerolinecolor": "#EBF0F8",
           "zerolinewidth": 2
          },
          "yaxis": {
           "automargin": true,
           "gridcolor": "#EBF0F8",
           "linecolor": "#EBF0F8",
           "ticks": "",
           "title": {
            "standoff": 15
           },
           "zerolinecolor": "#EBF0F8",
           "zerolinewidth": 2
          }
         }
        },
        "xaxis": {
         "anchor": "y",
         "domain": [
          0,
          0.94
         ],
         "showgrid": true,
         "title": {
          "text": "sample proportion"
         }
        },
        "yaxis": {
         "anchor": "x",
         "domain": [
          0,
          1
         ],
         "showgrid": true,
         "tickfont": {
          "color": "rgb(31, 119, 180)"
         },
         "title": {
          "font": {
           "color": "rgb(31, 119, 180)"
          },
          "text": "cum_demeaned_daily_ret"
         }
        },
        "yaxis2": {
         "anchor": "x",
         "overlaying": "y",
         "showgrid": false,
         "side": "right",
         "tickfont": {
          "color": "rgb(214, 39, 40)"
         },
         "title": {
          "font": {
           "color": "rgb(214, 39, 40)"
          },
          "text": "date_gap_days"
         }
        }
       }
      }
     },
     "metadata": {},
     "output_type": "display_data"
    },
    {
     "name": "stdout",
     "output_type": "stream",
     "text": [
      "Testing H0: mean = 0.000000 vs H1: mean != 0.000000\n",
      "n = 297\n",
      "mean = 0.102845\n",
      "std = 0.608634\n",
      "std err = 0.035317\n",
      "t-stat = 2.9121\n",
      "p-value = 0.003863\n",
      "confidence interval = (0.033341, 0.172348)\n",
      "reject null @ alpha = 0.05: True\n",
      "\n"
     ]
    },
    {
     "data": {
      "application/vnd.plotly.v1+json": {
       "config": {
        "plotlyServerURL": "https://plot.ly"
       },
       "data": [
        {
         "line": {
          "color": "rgb(31, 119, 180)"
         },
         "mode": "lines",
         "name": "cum_demeaned_daily_ret",
         "type": "scatter",
         "x": {
          "bdata": "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",
          "dtype": "f8"
         },
         "xaxis": "x",
         "y": {
          "bdata": "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",
          "dtype": "f8"
         },
         "yaxis": "y"
        },
        {
         "line": {
          "color": "rgb(214, 39, 40)",
          "dash": "dash"
         },
         "mode": "lines",
         "name": "date_gap_days",
         "type": "scatter",
         "x": {
          "bdata": "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",
          "dtype": "f8"
         },
         "xaxis": "x",
         "y": {
          "bdata": "AAAAAAAACEAAAAAAAAAIQAAAAAAAAAhAAAAAAAAACEAAAAAAAAAIQAAAAAAAAAhAAAAAAAAACEAAAAAAAAAIQAAAAAAAAAhAAAAAAAAACEAAAAAAAAAIQAAAAAAAAAhAAAAAAAAACEAAAAAAAAAIQAAAAAAAAAhAAAAAAAAACEAAAAAAAAAIQAAAAAAAAAhAAAAAAAAACEAAAAAAAAAIQAAAAAAAAAhAAAAAAAAACEAAAAAAAAAIQAAAAAAAAAhAAAAAAAAACEAAAAAAAAAIQAAAAAAAAAhAAAAAAAAACEAAAAAAAAAIQAAAAAAAAAhAAAAAAAAACEAAAAAAAAAIQAAAAAAAAAhAAAAAAAAACEAAAAAAAAAIQAAAAAAAAAhAAAAAAAAACEAAAAAAAAAIQAAAAAAAAAhAAAAAAAAACEAAAAAAAAAIQAAAAAAAAAhAAAAAAAAACEAAAAAAAAAIQAAAAAAAAAhAAAAAAAAACEAAAAAAAAAIQAAAAAAAAAhAAAAAAAAACEAAAAAAAAAIQAAAAAAAAAhAAAAAAAAACEAAAAAAAAAIQAAAAAAAAAhAAAAAAAAACEAAAAAAAAAIQAAAAAAAAAhAAAAAAAAACEAAAAAAAAAIQAAAAAAAAAhAAAAAAAAACEAAAAAAAAAIQAAAAAAAAAhAAAAAAAAACEAAAAAAAAAIQAAAAAAAAAhAAAAAAAAACEAAAAAAAAAIQAAAAAAAAAhAAAAAAAAACEAAAAAAAAAIQAAAAAAAAAhAAAAAAAAACEAAAAAAAAAIQAAAAAAAAAhAAAAAAAAACEAAAAAAAAAIQAAAAAAAAAhAAAAAAAAACEAAAAAAAAAIQAAAAAAAAAhAAAAAAAAACEAAAAAAAAAIQAAAAAAAAAhAAAAAAAAACEAAAAAAAAAIQAAAAAAAAAhAAAAAAAAACEAAAAAAAAAIQAAAAAAAAAhAAAAAAAAACEAAAAAAAAAIQAAAAAAAAAhAAAAAAAAACEAAAAAAAAAIQAAAAAAAAAhAAAAAAAAACEAAAAAAAAAIQAAAAAAAAAhAAAAAAAAACEAAAAAAAAAIQAAAAAAAAAhAAAAAAAAACEAAAAAAAAAIQAAAAAAAAAhAAAAAAAAACEAAAAAAAAAIQAAAAAAAAAhAAAAAAAAACEAAAAAAAAAIQAAAAAAAAAhAAAAAAAAACEAAAAAAAAAIQAAAAAAAAAhAAAAAAAAACEAAAAAAAAAIQAAAAAAAAAhAAAAAAAAACEAAAAAAAAAIQAAAAAAAAAhAAAAAAAAACEAAAAAAAAAIQAAAAAAAAAhAAAAAAAAACEAAAAAAAAAIQAAAAAAAAAhAAAAAAAAACEAAAAAAAAAIQAAAAAAAAAhAAAAAAAAACEAAAAAAAAAIQAAAAAAAAAhAAAAAAAAACEAAAAAAAAAIQAAAAAAAAAhAAAAAAAAACEAAAAAAAAAIQAAAAAAAAAhAAAAAAAAACEAAAAAAAAAIQAAAAAAAAAhAAAAAAAAACEAAAAAAAAAIQAAAAAAAAAhAAAAAAAAACEAAAAAAAAAIQAAAAAAAAAhAAAAAAAAACEAAAAAAAAAIQAAAAAAAAAhAAAAAAAAACEAAAAAAAAAIQAAAAAAAAAhAAAAAAAAACEAAAAAAAAAIQAAAAAAAAAhAAAAAAAAACEAAAAAAAAAIQAAAAAAAAAhAAAAAAAAACEAAAAAAAAAIQAAAAAAAAAhAAAAAAAAACEAAAAAAAAAIQAAAAAAAAAhAAAAAAAAACEAAAAAAAAAIQAAAAAAAAAhAAAAAAAAACEAAAAAAAAAIQAAAAAAAAAhAAAAAAAAACEAAAAAAAAAIQAAAAAAAAAhAAAAAAAAACEAAAAAAAAAIQAAAAAAAAAhAAAAAAAAACEAAAAAAAAAIQAAAAAAAAAhAAAAAAAAACEAAAAAAAAAIQAAAAAAAAAhAAAAAAAAACEAAAAAAAAAIQAAAAAAAAAhAAAAAAAAACEAAAAAAAAAIQAAAAAAAAAhAAAAAAAAACEAAAAAAAAAIQAAAAAAAAAhAAAAAAAAACEAAAAAAAAAIQAAAAAAAAAhAAAAAAAAACEAAAAAAAAAIQAAAAAAAAAhAAAAAAAAACEAAAAAAAAAIQAAAAAAAAAhAAAAAAAAACEAAAAAAAAAIQAAAAAAAAAhAAAAAAAAACEAAAAAAAAAIQAAAAAAAAAhAAAAAAAAACEAAAAAAAAAIQAAAAAAAAAhAAAAAAAAACEAAAAAAAAAIQAAAAAAAAAhAAAAAAAAACEAAAAAAAAAIQAAAAAAAAAhAAAAAAAAACEAAAAAAAAAIQAAAAAAAAAhAAAAAAAAACEAAAAAAAAAIQAAAAAAAAAhAAAAAAAAACEAAAAAAAAAIQAAAAAAAAAhAAAAAAAAACEAAAAAAAAAIQAAAAAAAAAhAAAAAAAAACEAAAAAAAAAIQAAAAAAAAAhAAAAAAAAACEAAAAAAAAAIQAAAAAAAAAhAAAAAAAAACEAAAAAAAAAIQAAAAAAAAAhAAAAAAAAACEAAAAAAAAAIQAAAAAAAAAhAAAAAAAAACEAAAAAAAAAIQAAAAAAAAAhAAAAAAAAACEAAAAAAAAAIQAAAAAAAAAhAAAAAAAAACEAAAAAAAAAIQAAAAAAAAAhAAAAAAAAACEAAAAAAAAAIQAAAAAAAAAhAAAAAAAAACEAAAAAAAAAIQAAAAAAAAAhAAAAAAAAACEAAAAAAAAAIQAAAAAAAAAhAAAAAAAAAEEAAAAAAAAAQQAAAAAAAABBAAAAAAAAAEEAAAAAAAAAQQAAAAAAAABBAAAAAAAAAEEAAAAAAAAAQQAAAAAAAABBAAAAAAAAAEEAAAAAAAAAQQAAAAAAAABBAAAAAAAAAEEAAAAAAAAAQQAAAAAAAABBAAAAAAAAAEEAAAAAAAAAQQAAAAAAAABBAAAAAAAAAEEAAAAAAAAAQQAAAAAAAABBAAAAAAAAAFEAAAAAAAAAUQAAAAAAAABRAAAAAAAAAFEAAAAAAAAAUQAAAAAAAABRAAAAAAAAAFEAAAAAAAAAUQAAAAAAAABRAAAAAAAAAFEAAAAAAAAAUQAAAAAAAABhAAAAAAAAAJEAAAAAAAAAkQAAAAAAAAChAAAAAAAAAKEAAAAAAAAAoQAAAAAAAACpA",
          "dtype": "f8"
         },
         "yaxis": "y2"
        }
       ],
       "layout": {
        "annotations": [
         {
          "font": {
           "color": "gray",
           "size": 12
          },
          "showarrow": false,
          "text": "Sample size: 297",
          "x": 0.99,
          "xanchor": "right",
          "xref": "paper",
          "y": 0.02,
          "yref": "paper"
         },
         {
          "align": "left",
          "font": {
           "color": "gray",
           "size": 12
          },
          "showarrow": false,
          "text": "demeaned by benchmark's mean",
          "x": 0.01,
          "xanchor": "left",
          "xref": "paper",
          "y": 0.98,
          "yanchor": "top",
          "yref": "paper"
         }
        ],
        "height": 500,
        "legend": {
         "x": 1.02,
         "xanchor": "left",
         "y": 0.5
        },
        "margin": {
         "b": 50,
         "l": 70,
         "r": 160,
         "t": 50
        },
        "template": {
         "data": {
          "bar": [
           {
            "error_x": {
             "color": "#2a3f5f"
            },
            "error_y": {
             "color": "#2a3f5f"
            },
            "marker": {
             "line": {
              "color": "white",
              "width": 0.5
             },
             "pattern": {
              "fillmode": "overlay",
              "size": 10,
              "solidity": 0.2
             }
            },
            "type": "bar"
           }
          ],
          "barpolar": [
           {
            "marker": {
             "line": {
              "color": "white",
              "width": 0.5
             },
             "pattern": {
              "fillmode": "overlay",
              "size": 10,
              "solidity": 0.2
             }
            },
            "type": "barpolar"
           }
          ],
          "carpet": [
           {
            "aaxis": {
             "endlinecolor": "#2a3f5f",
             "gridcolor": "#C8D4E3",
             "linecolor": "#C8D4E3",
             "minorgridcolor": "#C8D4E3",
             "startlinecolor": "#2a3f5f"
            },
            "baxis": {
             "endlinecolor": "#2a3f5f",
             "gridcolor": "#C8D4E3",
             "linecolor": "#C8D4E3",
             "minorgridcolor": "#C8D4E3",
             "startlinecolor": "#2a3f5f"
            },
            "type": "carpet"
           }
          ],
          "choropleth": [
           {
            "colorbar": {
             "outlinewidth": 0,
             "ticks": ""
            },
            "type": "choropleth"
           }
          ],
          "contour": [
           {
            "colorbar": {
             "outlinewidth": 0,
             "ticks": ""
            },
            "colorscale": [
             [
              0,
              "#0d0887"
             ],
             [
              0.1111111111111111,
              "#46039f"
             ],
             [
              0.2222222222222222,
              "#7201a8"
             ],
             [
              0.3333333333333333,
              "#9c179e"
             ],
             [
              0.4444444444444444,
              "#bd3786"
             ],
             [
              0.5555555555555556,
              "#d8576b"
             ],
             [
              0.6666666666666666,
              "#ed7953"
             ],
             [
              0.7777777777777778,
              "#fb9f3a"
             ],
             [
              0.8888888888888888,
              "#fdca26"
             ],
             [
              1,
              "#f0f921"
             ]
            ],
            "type": "contour"
           }
          ],
          "contourcarpet": [
           {
            "colorbar": {
             "outlinewidth": 0,
             "ticks": ""
            },
            "type": "contourcarpet"
           }
          ],
          "heatmap": [
           {
            "colorbar": {
             "outlinewidth": 0,
             "ticks": ""
            },
            "colorscale": [
             [
              0,
              "#0d0887"
             ],
             [
              0.1111111111111111,
              "#46039f"
             ],
             [
              0.2222222222222222,
              "#7201a8"
             ],
             [
              0.3333333333333333,
              "#9c179e"
             ],
             [
              0.4444444444444444,
              "#bd3786"
             ],
             [
              0.5555555555555556,
              "#d8576b"
             ],
             [
              0.6666666666666666,
              "#ed7953"
             ],
             [
              0.7777777777777778,
              "#fb9f3a"
             ],
             [
              0.8888888888888888,
              "#fdca26"
             ],
             [
              1,
              "#f0f921"
             ]
            ],
            "type": "heatmap"
           }
          ],
          "histogram": [
           {
            "marker": {
             "pattern": {
              "fillmode": "overlay",
              "size": 10,
              "solidity": 0.2
             }
            },
            "type": "histogram"
           }
          ],
          "histogram2d": [
           {
            "colorbar": {
             "outlinewidth": 0,
             "ticks": ""
            },
            "colorscale": [
             [
              0,
              "#0d0887"
             ],
             [
              0.1111111111111111,
              "#46039f"
             ],
             [
              0.2222222222222222,
              "#7201a8"
             ],
             [
              0.3333333333333333,
              "#9c179e"
             ],
             [
              0.4444444444444444,
              "#bd3786"
             ],
             [
              0.5555555555555556,
              "#d8576b"
             ],
             [
              0.6666666666666666,
              "#ed7953"
             ],
             [
              0.7777777777777778,
              "#fb9f3a"
             ],
             [
              0.8888888888888888,
              "#fdca26"
             ],
             [
              1,
              "#f0f921"
             ]
            ],
            "type": "histogram2d"
           }
          ],
          "histogram2dcontour": [
           {
            "colorbar": {
             "outlinewidth": 0,
             "ticks": ""
            },
            "colorscale": [
             [
              0,
              "#0d0887"
             ],
             [
              0.1111111111111111,
              "#46039f"
             ],
             [
              0.2222222222222222,
              "#7201a8"
             ],
             [
              0.3333333333333333,
              "#9c179e"
             ],
             [
              0.4444444444444444,
              "#bd3786"
             ],
             [
              0.5555555555555556,
              "#d8576b"
             ],
             [
              0.6666666666666666,
              "#ed7953"
             ],
             [
              0.7777777777777778,
              "#fb9f3a"
             ],
             [
              0.8888888888888888,
              "#fdca26"
             ],
             [
              1,
              "#f0f921"
             ]
            ],
            "type": "histogram2dcontour"
           }
          ],
          "mesh3d": [
           {
            "colorbar": {
             "outlinewidth": 0,
             "ticks": ""
            },
            "type": "mesh3d"
           }
          ],
          "parcoords": [
           {
            "line": {
             "colorbar": {
              "outlinewidth": 0,
              "ticks": ""
             }
            },
            "type": "parcoords"
           }
          ],
          "pie": [
           {
            "automargin": true,
            "type": "pie"
           }
          ],
          "scatter": [
           {
            "fillpattern": {
             "fillmode": "overlay",
             "size": 10,
             "solidity": 0.2
            },
            "type": "scatter"
           }
          ],
          "scatter3d": [
           {
            "line": {
             "colorbar": {
              "outlinewidth": 0,
              "ticks": ""
             }
            },
            "marker": {
             "colorbar": {
              "outlinewidth": 0,
              "ticks": ""
             }
            },
            "type": "scatter3d"
           }
          ],
          "scattercarpet": [
           {
            "marker": {
             "colorbar": {
              "outlinewidth": 0,
              "ticks": ""
             }
            },
            "type": "scattercarpet"
           }
          ],
          "scattergeo": [
           {
            "marker": {
             "colorbar": {
              "outlinewidth": 0,
              "ticks": ""
             }
            },
            "type": "scattergeo"
           }
          ],
          "scattergl": [
           {
            "marker": {
             "colorbar": {
              "outlinewidth": 0,
              "ticks": ""
             }
            },
            "type": "scattergl"
           }
          ],
          "scattermap": [
           {
            "marker": {
             "colorbar": {
              "outlinewidth": 0,
              "ticks": ""
             }
            },
            "type": "scattermap"
           }
          ],
          "scattermapbox": [
           {
            "marker": {
             "colorbar": {
              "outlinewidth": 0,
              "ticks": ""
             }
            },
            "type": "scattermapbox"
           }
          ],
          "scatterpolar": [
           {
            "marker": {
             "colorbar": {
              "outlinewidth": 0,
              "ticks": ""
             }
            },
            "type": "scatterpolar"
           }
          ],
          "scatterpolargl": [
           {
            "marker": {
             "colorbar": {
              "outlinewidth": 0,
              "ticks": ""
             }
            },
            "type": "scatterpolargl"
           }
          ],
          "scatterternary": [
           {
            "marker": {
             "colorbar": {
              "outlinewidth": 0,
              "ticks": ""
             }
            },
            "type": "scatterternary"
           }
          ],
          "surface": [
           {
            "colorbar": {
             "outlinewidth": 0,
             "ticks": ""
            },
            "colorscale": [
             [
              0,
              "#0d0887"
             ],
             [
              0.1111111111111111,
              "#46039f"
             ],
             [
              0.2222222222222222,
              "#7201a8"
             ],
             [
              0.3333333333333333,
              "#9c179e"
             ],
             [
              0.4444444444444444,
              "#bd3786"
             ],
             [
              0.5555555555555556,
              "#d8576b"
             ],
             [
              0.6666666666666666,
              "#ed7953"
             ],
             [
              0.7777777777777778,
              "#fb9f3a"
             ],
             [
              0.8888888888888888,
              "#fdca26"
             ],
             [
              1,
              "#f0f921"
             ]
            ],
            "type": "surface"
           }
          ],
          "table": [
           {
            "cells": {
             "fill": {
              "color": "#EBF0F8"
             },
             "line": {
              "color": "white"
             }
            },
            "header": {
             "fill": {
              "color": "#C8D4E3"
             },
             "line": {
              "color": "white"
             }
            },
            "type": "table"
           }
          ]
         },
         "layout": {
          "annotationdefaults": {
           "arrowcolor": "#2a3f5f",
           "arrowhead": 0,
           "arrowwidth": 1
          },
          "autotypenumbers": "strict",
          "coloraxis": {
           "colorbar": {
            "outlinewidth": 0,
            "ticks": ""
           }
          },
          "colorscale": {
           "diverging": [
            [
             0,
             "#8e0152"
            ],
            [
             0.1,
             "#c51b7d"
            ],
            [
             0.2,
             "#de77ae"
            ],
            [
             0.3,
             "#f1b6da"
            ],
            [
             0.4,
             "#fde0ef"
            ],
            [
             0.5,
             "#f7f7f7"
            ],
            [
             0.6,
             "#e6f5d0"
            ],
            [
             0.7,
             "#b8e186"
            ],
            [
             0.8,
             "#7fbc41"
            ],
            [
             0.9,
             "#4d9221"
            ],
            [
             1,
             "#276419"
            ]
           ],
           "sequential": [
            [
             0,
             "#0d0887"
            ],
            [
             0.1111111111111111,
             "#46039f"
            ],
            [
             0.2222222222222222,
             "#7201a8"
            ],
            [
             0.3333333333333333,
             "#9c179e"
            ],
            [
             0.4444444444444444,
             "#bd3786"
            ],
            [
             0.5555555555555556,
             "#d8576b"
            ],
            [
             0.6666666666666666,
             "#ed7953"
            ],
            [
             0.7777777777777778,
             "#fb9f3a"
            ],
            [
             0.8888888888888888,
             "#fdca26"
            ],
            [
             1,
             "#f0f921"
            ]
           ],
           "sequentialminus": [
            [
             0,
             "#0d0887"
            ],
            [
             0.1111111111111111,
             "#46039f"
            ],
            [
             0.2222222222222222,
             "#7201a8"
            ],
            [
             0.3333333333333333,
             "#9c179e"
            ],
            [
             0.4444444444444444,
             "#bd3786"
            ],
            [
             0.5555555555555556,
             "#d8576b"
            ],
            [
             0.6666666666666666,
             "#ed7953"
            ],
            [
             0.7777777777777778,
             "#fb9f3a"
            ],
            [
             0.8888888888888888,
             "#fdca26"
            ],
            [
             1,
             "#f0f921"
            ]
           ]
          },
          "colorway": [
           "#636efa",
           "#EF553B",
           "#00cc96",
           "#ab63fa",
           "#FFA15A",
           "#19d3f3",
           "#FF6692",
           "#B6E880",
           "#FF97FF",
           "#FECB52"
          ],
          "font": {
           "color": "#2a3f5f"
          },
          "geo": {
           "bgcolor": "white",
           "lakecolor": "white",
           "landcolor": "white",
           "showlakes": true,
           "showland": true,
           "subunitcolor": "#C8D4E3"
          },
          "hoverlabel": {
           "align": "left"
          },
          "hovermode": "closest",
          "mapbox": {
           "style": "light"
          },
          "paper_bgcolor": "white",
          "plot_bgcolor": "white",
          "polar": {
           "angularaxis": {
            "gridcolor": "#EBF0F8",
            "linecolor": "#EBF0F8",
            "ticks": ""
           },
           "bgcolor": "white",
           "radialaxis": {
            "gridcolor": "#EBF0F8",
            "linecolor": "#EBF0F8",
            "ticks": ""
           }
          },
          "scene": {
           "xaxis": {
            "backgroundcolor": "white",
            "gridcolor": "#DFE8F3",
            "gridwidth": 2,
            "linecolor": "#EBF0F8",
            "showbackground": true,
            "ticks": "",
            "zerolinecolor": "#EBF0F8"
           },
           "yaxis": {
            "backgroundcolor": "white",
            "gridcolor": "#DFE8F3",
            "gridwidth": 2,
            "linecolor": "#EBF0F8",
            "showbackground": true,
            "ticks": "",
            "zerolinecolor": "#EBF0F8"
           },
           "zaxis": {
            "backgroundcolor": "white",
            "gridcolor": "#DFE8F3",
            "gridwidth": 2,
            "linecolor": "#EBF0F8",
            "showbackground": true,
            "ticks": "",
            "zerolinecolor": "#EBF0F8"
           }
          },
          "shapedefaults": {
           "line": {
            "color": "#2a3f5f"
           }
          },
          "ternary": {
           "aaxis": {
            "gridcolor": "#DFE8F3",
            "linecolor": "#A2B1C6",
            "ticks": ""
           },
           "baxis": {
            "gridcolor": "#DFE8F3",
            "linecolor": "#A2B1C6",
            "ticks": ""
           },
           "bgcolor": "white",
           "caxis": {
            "gridcolor": "#DFE8F3",
            "linecolor": "#A2B1C6",
            "ticks": ""
           }
          },
          "title": {
           "x": 0.05
          },
          "xaxis": {
           "automargin": true,
           "gridcolor": "#EBF0F8",
           "linecolor": "#EBF0F8",
           "ticks": "",
           "title": {
            "standoff": 15
           },
           "zerolinecolor": "#EBF0F8",
           "zerolinewidth": 2
          },
          "yaxis": {
           "automargin": true,
           "gridcolor": "#EBF0F8",
           "linecolor": "#EBF0F8",
           "ticks": "",
           "title": {
            "standoff": 15
           },
           "zerolinecolor": "#EBF0F8",
           "zerolinewidth": 2
          }
         }
        },
        "xaxis": {
         "anchor": "y",
         "domain": [
          0,
          0.94
         ],
         "showgrid": true,
         "title": {
          "text": "sample proportion"
         }
        },
        "yaxis": {
         "anchor": "x",
         "domain": [
          0,
          1
         ],
         "showgrid": true,
         "tickfont": {
          "color": "rgb(31, 119, 180)"
         },
         "title": {
          "font": {
           "color": "rgb(31, 119, 180)"
          },
          "text": "cum_demeaned_daily_ret"
         }
        },
        "yaxis2": {
         "anchor": "x",
         "overlaying": "y",
         "showgrid": false,
         "side": "right",
         "tickfont": {
          "color": "rgb(214, 39, 40)"
         },
         "title": {
          "font": {
           "color": "rgb(214, 39, 40)"
          },
          "text": "date_gap_days"
         }
        }
       }
      }
     },
     "metadata": {},
     "output_type": "display_data"
    }
   ],
   "source": [
    "mean = bm_put_df[\"daily_ret\"].mean()\n",
    "bm_put_df[\"demeaned_daily_ret\"], target_put_df[\"demeaned_daily_ret\"] = bm_put_df[\"daily_ret\"] - mean, target_put_df[\"daily_ret\"] - mean\n",
    "bm_put_df[\"cum_demeaned_daily_ret\"], target_put_df[\"cum_demeaned_daily_ret\"] = bm_put_df[\"demeaned_daily_ret\"].cumsum(), target_put_df[\"demeaned_daily_ret\"].cumsum()\n",
    "mean_ttest(bm_put_df, \"demeaned_daily_ret\")\n",
    "plot(bm_put_df, \"cum_demeaned_daily_ret\", \"index\", \"gap_days\")\n",
    "mean_ttest(target_put_df, \"demeaned_daily_ret\")\n",
    "plot(target_put_df, \"cum_demeaned_daily_ret\", \"index\", \"gap_days\", note = \"demeaned by benchmark's mean\")"
   ]
  },
  {
   "cell_type": "markdown",
   "id": "862f64d0",
   "metadata": {},
   "source": [
    "### call"
   ]
  },
  {
   "cell_type": "code",
   "execution_count": null,
   "id": "275bd35c",
   "metadata": {},
   "outputs": [
    {
     "data": {
      "text/html": [
       "<div>\n",
       "<style scoped>\n",
       "    .dataframe tbody tr th:only-of-type {\n",
       "        vertical-align: middle;\n",
       "    }\n",
       "\n",
       "    .dataframe tbody tr th {\n",
       "        vertical-align: top;\n",
       "    }\n",
       "\n",
       "    .dataframe thead th {\n",
       "        text-align: right;\n",
       "    }\n",
       "</style>\n",
       "<table border=\"1\" class=\"dataframe\">\n",
       "  <thead>\n",
       "    <tr style=\"text-align: right;\">\n",
       "      <th></th>\n",
       "      <th>date</th>\n",
       "      <th>option_id</th>\n",
       "      <th>contract_date</th>\n",
       "      <th>strike_price</th>\n",
       "      <th>call_put</th>\n",
       "      <th>open</th>\n",
       "      <th>max</th>\n",
       "      <th>min</th>\n",
       "      <th>close</th>\n",
       "      <th>volume</th>\n",
       "      <th>settlement_price</th>\n",
       "      <th>open_interest</th>\n",
       "      <th>trading_session</th>\n",
       "      <th>date_gap_days</th>\n",
       "      <th>daily_ret</th>\n",
       "    </tr>\n",
       "  </thead>\n",
       "  <tbody>\n",
       "    <tr>\n",
       "      <th>0</th>\n",
       "      <td>2020-01-02</td>\n",
       "      <td>TXO</td>\n",
       "      <td>202001W1</td>\n",
       "      <td>12100.0</td>\n",
       "      <td>call</td>\n",
       "      <td>5.7</td>\n",
       "      <td>21.0</td>\n",
       "      <td>1.2</td>\n",
       "      <td>2.0</td>\n",
       "      <td>134030</td>\n",
       "      <td>0.0</td>\n",
       "      <td>16210</td>\n",
       "      <td>position</td>\n",
       "      <td>1.0</td>\n",
       "      <td>-0.649123</td>\n",
       "    </tr>\n",
       "    <tr>\n",
       "      <th>1</th>\n",
       "      <td>2020-01-03</td>\n",
       "      <td>TXO</td>\n",
       "      <td>202001W2</td>\n",
       "      <td>12100.0</td>\n",
       "      <td>call</td>\n",
       "      <td>109.0</td>\n",
       "      <td>122.0</td>\n",
       "      <td>31.5</td>\n",
       "      <td>52.0</td>\n",
       "      <td>52247</td>\n",
       "      <td>52.0</td>\n",
       "      <td>8766</td>\n",
       "      <td>position</td>\n",
       "      <td>3.0</td>\n",
       "      <td>-0.522936</td>\n",
       "    </tr>\n",
       "    <tr>\n",
       "      <th>2</th>\n",
       "      <td>2020-01-06</td>\n",
       "      <td>TXO</td>\n",
       "      <td>202001W2</td>\n",
       "      <td>11950.0</td>\n",
       "      <td>call</td>\n",
       "      <td>119.0</td>\n",
       "      <td>119.0</td>\n",
       "      <td>47.0</td>\n",
       "      <td>47.5</td>\n",
       "      <td>16541</td>\n",
       "      <td>48.5</td>\n",
       "      <td>4983</td>\n",
       "      <td>position</td>\n",
       "      <td>1.0</td>\n",
       "      <td>-0.600840</td>\n",
       "    </tr>\n",
       "    <tr>\n",
       "      <th>3</th>\n",
       "      <td>2020-01-07</td>\n",
       "      <td>TXO</td>\n",
       "      <td>202001W2</td>\n",
       "      <td>11850.0</td>\n",
       "      <td>call</td>\n",
       "      <td>150.0</td>\n",
       "      <td>165.0</td>\n",
       "      <td>28.0</td>\n",
       "      <td>46.0</td>\n",
       "      <td>55996</td>\n",
       "      <td>46.0</td>\n",
       "      <td>8700</td>\n",
       "      <td>position</td>\n",
       "      <td>1.0</td>\n",
       "      <td>-0.693333</td>\n",
       "    </tr>\n",
       "    <tr>\n",
       "      <th>4</th>\n",
       "      <td>2020-01-08</td>\n",
       "      <td>TXO</td>\n",
       "      <td>202001W2</td>\n",
       "      <td>11800.0</td>\n",
       "      <td>call</td>\n",
       "      <td>15.0</td>\n",
       "      <td>98.0</td>\n",
       "      <td>12.0</td>\n",
       "      <td>39.5</td>\n",
       "      <td>121111</td>\n",
       "      <td>0.0</td>\n",
       "      <td>3741</td>\n",
       "      <td>position</td>\n",
       "      <td>1.0</td>\n",
       "      <td>1.633333</td>\n",
       "    </tr>\n",
       "    <tr>\n",
       "      <th>...</th>\n",
       "      <td>...</td>\n",
       "      <td>...</td>\n",
       "      <td>...</td>\n",
       "      <td>...</td>\n",
       "      <td>...</td>\n",
       "      <td>...</td>\n",
       "      <td>...</td>\n",
       "      <td>...</td>\n",
       "      <td>...</td>\n",
       "      <td>...</td>\n",
       "      <td>...</td>\n",
       "      <td>...</td>\n",
       "      <td>...</td>\n",
       "      <td>...</td>\n",
       "      <td>...</td>\n",
       "    </tr>\n",
       "    <tr>\n",
       "      <th>1390</th>\n",
       "      <td>2025-09-19</td>\n",
       "      <td>TXO</td>\n",
       "      <td>202509W4</td>\n",
       "      <td>25650.0</td>\n",
       "      <td>call</td>\n",
       "      <td>276.0</td>\n",
       "      <td>276.0</td>\n",
       "      <td>158.0</td>\n",
       "      <td>167.0</td>\n",
       "      <td>1440</td>\n",
       "      <td>167.0</td>\n",
       "      <td>539</td>\n",
       "      <td>position</td>\n",
       "      <td>3.0</td>\n",
       "      <td>-0.394928</td>\n",
       "    </tr>\n",
       "    <tr>\n",
       "      <th>1391</th>\n",
       "      <td>2025-09-22</td>\n",
       "      <td>TXO</td>\n",
       "      <td>202509W4</td>\n",
       "      <td>25900.0</td>\n",
       "      <td>call</td>\n",
       "      <td>63.0</td>\n",
       "      <td>128.0</td>\n",
       "      <td>40.0</td>\n",
       "      <td>99.0</td>\n",
       "      <td>18975</td>\n",
       "      <td>99.0</td>\n",
       "      <td>3500</td>\n",
       "      <td>position</td>\n",
       "      <td>1.0</td>\n",
       "      <td>0.571429</td>\n",
       "    </tr>\n",
       "    <tr>\n",
       "      <th>1392</th>\n",
       "      <td>2025-09-23</td>\n",
       "      <td>TXO</td>\n",
       "      <td>202509W4</td>\n",
       "      <td>26250.0</td>\n",
       "      <td>call</td>\n",
       "      <td>25.0</td>\n",
       "      <td>136.0</td>\n",
       "      <td>17.5</td>\n",
       "      <td>86.0</td>\n",
       "      <td>21424</td>\n",
       "      <td>86.0</td>\n",
       "      <td>2751</td>\n",
       "      <td>position</td>\n",
       "      <td>1.0</td>\n",
       "      <td>2.440000</td>\n",
       "    </tr>\n",
       "    <tr>\n",
       "      <th>1393</th>\n",
       "      <td>2025-09-24</td>\n",
       "      <td>TXO</td>\n",
       "      <td>202509W4</td>\n",
       "      <td>26250.0</td>\n",
       "      <td>call</td>\n",
       "      <td>136.0</td>\n",
       "      <td>143.0</td>\n",
       "      <td>0.1</td>\n",
       "      <td>0.2</td>\n",
       "      <td>42946</td>\n",
       "      <td>0.0</td>\n",
       "      <td>6890</td>\n",
       "      <td>position</td>\n",
       "      <td>1.0</td>\n",
       "      <td>-0.998529</td>\n",
       "    </tr>\n",
       "    <tr>\n",
       "      <th>1394</th>\n",
       "      <td>2025-09-25</td>\n",
       "      <td>TXO</td>\n",
       "      <td>202510W1</td>\n",
       "      <td>26100.0</td>\n",
       "      <td>call</td>\n",
       "      <td>260.0</td>\n",
       "      <td>304.0</td>\n",
       "      <td>184.0</td>\n",
       "      <td>184.0</td>\n",
       "      <td>701</td>\n",
       "      <td>184.0</td>\n",
       "      <td>359</td>\n",
       "      <td>position</td>\n",
       "      <td>NaN</td>\n",
       "      <td>-0.292308</td>\n",
       "    </tr>\n",
       "  </tbody>\n",
       "</table>\n",
       "<p>1395 rows × 15 columns</p>\n",
       "</div>"
      ],
      "text/plain": [
       "           date option_id contract_date  strike_price call_put   open    max  \\\n",
       "0    2020-01-02       TXO      202001W1       12100.0     call    5.7   21.0   \n",
       "1    2020-01-03       TXO      202001W2       12100.0     call  109.0  122.0   \n",
       "2    2020-01-06       TXO      202001W2       11950.0     call  119.0  119.0   \n",
       "3    2020-01-07       TXO      202001W2       11850.0     call  150.0  165.0   \n",
       "4    2020-01-08       TXO      202001W2       11800.0     call   15.0   98.0   \n",
       "...         ...       ...           ...           ...      ...    ...    ...   \n",
       "1390 2025-09-19       TXO      202509W4       25650.0     call  276.0  276.0   \n",
       "1391 2025-09-22       TXO      202509W4       25900.0     call   63.0  128.0   \n",
       "1392 2025-09-23       TXO      202509W4       26250.0     call   25.0  136.0   \n",
       "1393 2025-09-24       TXO      202509W4       26250.0     call  136.0  143.0   \n",
       "1394 2025-09-25       TXO      202510W1       26100.0     call  260.0  304.0   \n",
       "\n",
       "        min  close  volume  settlement_price  open_interest trading_session  \\\n",
       "0       1.2    2.0  134030               0.0          16210        position   \n",
       "1      31.5   52.0   52247              52.0           8766        position   \n",
       "2      47.0   47.5   16541              48.5           4983        position   \n",
       "3      28.0   46.0   55996              46.0           8700        position   \n",
       "4      12.0   39.5  121111               0.0           3741        position   \n",
       "...     ...    ...     ...               ...            ...             ...   \n",
       "1390  158.0  167.0    1440             167.0            539        position   \n",
       "1391   40.0   99.0   18975              99.0           3500        position   \n",
       "1392   17.5   86.0   21424              86.0           2751        position   \n",
       "1393    0.1    0.2   42946               0.0           6890        position   \n",
       "1394  184.0  184.0     701             184.0            359        position   \n",
       "\n",
       "      date_gap_days  daily_ret  \n",
       "0               1.0  -0.649123  \n",
       "1               3.0  -0.522936  \n",
       "2               1.0  -0.600840  \n",
       "3               1.0  -0.693333  \n",
       "4               1.0   1.633333  \n",
       "...             ...        ...  \n",
       "1390            3.0  -0.394928  \n",
       "1391            1.0   0.571429  \n",
       "1392            1.0   2.440000  \n",
       "1393            1.0  -0.998529  \n",
       "1394            NaN  -0.292308  \n",
       "\n",
       "[1395 rows x 15 columns]"
      ]
     },
     "execution_count": 34,
     "metadata": {},
     "output_type": "execute_result"
    }
   ],
   "source": [
    "\"\"\"get date gap days\"\"\"\n",
    "op_atm_call_df = op_atm_df.loc[op_atm_df[\"call_put\"] == \"call\"].copy().reset_index(drop = True)\n",
    "\n",
    "# 計算價平 put 資料的日期間隔（單位：天）\n",
    "op_atm_call_df[\"date\"] = pd.to_datetime(op_atm_call_df[\"date\"])\n",
    "op_atm_call_df.sort_values(\"date\", inplace = True)\n",
    "op_atm_call_df[\"gap_days\"] = op_atm_call_df[\"date\"].diff().dt.days\n",
    "op_atm_call_df[\"gap_days\"] = op_atm_call_df[\"gap_days\"].shift(-1)\n",
    "op_atm_call_df[\"daily_ret\"] = (op_atm_call_df[\"close\"] / op_atm_call_df[\"open\"]) - 1\n",
    "op_atm_call_df"
   ]
  },
  {
   "cell_type": "code",
   "execution_count": null,
   "id": "d5a3754c",
   "metadata": {},
   "outputs": [
    {
     "data": {
      "application/vnd.plotly.v1+json": {
       "config": {
        "plotlyServerURL": "https://plot.ly"
       },
       "data": [
        {
         "line": {
          "color": "rgb(31, 119, 180)"
         },
         "mode": "lines",
         "name": "cum_demeaned_daily_ret",
         "type": "scatter",
         "x": {
          "bdata": "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",
          "dtype": "f8"
         },
         "xaxis": "x",
         "y": {
          "bdata": "efnFqJ3k679EPvccYHvBPyA06PtXr72/TOAPjgeo8L/CtEkVDpjxv74lyfePlP+/Tnx4MxAk878b2Q7TAPL0v0G+c9jZwO+/ukjYbztj+b/Pcvb/AKwAwOszQ2MexQHAcdf7BO7KA8ACFfhrQLcLwLv2ATt3YPq/6dSDwUVwAsBFLqPAgEwJwDeEJYnrPg/AHW/0MC35EcA2ulW1glIUwKAiofBb/BXAC2qpxq38GMA+doQp6hIawEZte5GSORXA3jUPzqZ9F8CfeNmEP8YawL5XsrnTQRrAdKRi5iRtG8CmM5NtV+EcwGwroZ5Z5x/AwQ6qDytJIcBmElCkHI4iwE5ct8Fr8SDAS/x/9BC2IMBZesfelnchwCtlPeaG6SHAJvVHQMGEI8AiWPdM4J0lwEmYwqklZSPAJZhiBb4nI8Bm/auojA4kwJwJLQlFwyTA35keFP/5JMByRyEYYucUwDg/L0lk7RLArjyYKmxOEsBDkWhuq90UwFA/wxOzUhnAweF7718DG8DZiK0VnVsdwLdFNphLeRvA0Xj5HIk0HsCQGFFUGLofwHWMT0ci3x7AsvvU75tcHcBcLHEE1/AbwDM1kEbqBx7AGiivVfckIMCZ7GOuJP8gwGSQyUxX8CHA0BTZ7eDbIsCi/0710C0jwAOyqO453CPArA+PqYnWI8DZCzlNTsYjwOSEko3MmyTANMCNNkfjHsAoB/nezx8gwLjYGPuRaSHAulmLZUsLIsDxmEfSj8MhwMDmhgkWMiPAdweR6FaCI8BWxCf9GBUkwNsRPolAISXAu6W9VoxsI8BoR6E5M0wiwMxN0NI+dyLA842bL4Q+IsD8PboY5AMjwHUmlSlAUCPAbFqdVXl0I8DfGqtnw+MlwLdg0XQOBifA5r8YwhXVJ8BAWP7Mi7EowA/iz7ZQEyvALBiRCYzQK8D+AgcRfMIswKl3GvH1US3A6T1HZsF6LsDuW/Cg5B8owHOsMT8C7SjAeyt/l1BiKsDl9cqBZ6AmwLIe+E0B8ibAHCwNy3SNJ8Da3gG/LP4pwB/qSNG3cynAbqfmVXoNKsAk0DpBqF0qwGvkmCnqZivAybFr+AKnLMDhEXwcV3ctwLP88SNHSS3AiIB8WscEL8DKtpteYoowwGw6OpvopjDAna7hZl/MMMDgC/+bz/oxwBIXfoTSlTLA7DHkICo7G8DFKbN3NwwgwJT9cL4hUCDAMjc08onqGcD1kQtTIu0bwGKyTRSVZh3AwkP13jAGHcAm9YFkhfQgwH+C5QBHXB/AcpuBoutbIcDWqkA8ANciwCSwF/2XWiPA88BYZDrJJcCJ/t+2b2cnwAaUAGkKJCfAny5aSOyBKMDNqJJFBVApwEU5rvKaZyrAvva0bSo3K8BrboV4U3IswPGoMP8m4i7AGgfcXYqJLsDUa/BM9JkuwASlJyAOhC/AiFlZzdQUMMCeBOsrOHswwAf6pS8wtDDA+DwGVQ8sMcB0Ewua+UwxwNkXio0ygjLAWWq5YnASMsDCX3RmaFcywPkcEOdsXjHAL9+XtzFkMsCVySYLaVozwEfONd3PdDPAioUCJSLdM8CeJWjTxAA0wItVy1r3oTTAS+38g1kyNMDNRUS5F0Q1wL7ChkSXhDXAgpZaCdS8NsCdoVbQFZM3wAaXEdQN5DfACSZmcZ/2N8DzZ6uMX9Q3wGHXDT897jfAdSF0l+B7OMB76IHPZrM5wE3Re5iELzrAIgwHDc/fOsCynC7DkD87wPPiRwoChjvAbYSm2/XTO8C2gd+/9Yo8wK23axpxqzzAiq8LR6c4PcARw+RovY86wNkUnQ1ZyzrA3nQTXpiTO8D4YNzMb305wAWlkHS2rznADd61+p//OcAAcUmINREwwPFR9GkTsyvA8jCtoPdnK8BL0ZIA42ArwEhDH+Ghyi3AGi6V6JFcLcC8gg6NuJ4twOvhVdq/bS3AO5CmGVzdL8DZh7e1OtowwODrP8m9pzHAr0dhMxzHMcBIG+d1m1QywDVbXMtfjDLAUOGc+7vmMsCUbABdPbozwFaTCyNRQDTAD8jDGx3JNMAqGF041kY1wAUq363qxjXA4DthI//GM8CehnF8TFU0wMUxjhoAbzTAyOIpztosNMB7T/4kkXQ0wBP/ocsU3DPAidmSY+TlM8C9DNsXubIzwHQ4b4BEOTPA8dtxZbcGNMCSjha3Hro0wBU4vjNlGDXA1Zcejsf2NMCLLVF8Gj41wFXcs5GosjXAeYBaUE9XNsCZZsGF2K42wNR2KVvrFDfAetjIvcYbJcBWmuI19JckwGqU+cS0TSXANbBdpMpUJcB+EksjMr4mwBfONTId3ifARZKTyqewKMC3pg1s2sIowCVSjQ+LPinAfhEI+iidKcC8QU5yawYqwFBBvSZ3xCnAIiwzLmfmJ8A3kLYajewnwDuqUaTEWCjAuD9yVl91KMAr0SoSMdsowOZeLEjbtSnATZzseHC8KsBE0PSkqcApwG1GBt1Y3inAcmSvF3zDKsDw/5w7xnwXQH9d5F8ZzB1AMwS+qLWtHEA62XxEgHQcQD6jDzCKOB9ANGe9ukPuH0C2JuGO4mcdQGUNNqbHjxxAc02LWjGJG0ANspg0NkkaQB9Jhti7MBpAHhY9bH7vF0AmMTfktpsVQLim1yRwLhNAvFQmvhOFEUBrh240dPQQQMKWOH5bVA9ALuz7L9SXBUAsEZVkC7YNQKXnwE1ZCgxAkG8cY8y1BkBYAj0mkP0EQPkMiu3pk/Y/381rbzS/4T9Q0si8uWimP6YxUIwfQOQ/Kvow0/OzKEAXu4AZnCEoQHNu5/R13SdAy8QPAGqVJkCmj3BT5dAtQI1MDOJweSxArvnCWUr6K0DGo4w878crQPzXkiXBXSxAMqqSnUMaK0CSQaaUov4pQIFgzE28KClASQ/w32VwKEBKeIUDs7MmQLzwjGRvUSZAw1oxz22TJUD4t93jvpAyQIP/8dMDJzlAtKPQaaWHOEDZqOSsKrY4QAUGdNLX0TdAQynuyk0jN0DaMzPHVeo2QLvdbA39pTZAhRvlPDhwNkAcJio5QF82QKNN8Nf1LDVAQ0rK9Ew9NED0Np9M7HszQKrE13osYjNAI7H+WBYLM0By2shAcNIxQFgH4e1VxjFA08WUGqPLMkBeDakK6GEyQJReRvVZrTFAnYVSY347M0Di13jamjAzQOe9dER+LjJAZ0qEGrTxMUDyWkZYGwkyQJh0mmMyPzFAOdX4730GMEAaX15rLfMvQFaMkk3WzC5Ad7zmsQ4KLkCsRsGxk5grQGFyJHmbeipAC5loiUyEKUDZ/9Tp8AoqQHqSi/8ocClAaCYOyyqpKEBjCGWQBwwoQN2FHirVHidAzpDRfnSvJECELeP+C0UkQMZ9HgtXpCNAQBrD7zWXIkAlnSifswAoQESjo4i0fyhADyz8uquqLUBYKTs1CtQrQG2iNWwgySpAfVyuMJSCKkDB0Ck/AwIpQPPy2qxyrilAVDuY2LUvKECnmbT1DlApQPaYpb7RwShAhUzYNgXkJ0Dm/nh4h8UyQEZUFCciIjJAXEshohZxMUDKdrKUWW8xQFJy6IFSBzFAOttw92fzMEAWESIClJQwQCST3nUT0zBAVTe9C7UzMEACmmKJwhAwQIeepGDqlC9AqfD9TDfyLkBa+bl9ZgMuQLA2bJ6euStACI2UqZLxKUAbUQ9R0b8xQLnD1FNBhzBAbJWLbBAAMEDRtWhdXk8vQE7zwxac3yxAz1J3tEAAK0DqBTl1rTIxQJmW34k7OzFABJcOgbh/MUC4myFUYiYxQELlK3atnTBAL9PPUhWaMEBLfgHNamkwQICnCqGOai5AAxLq7vNNLkCuZ+nTsektQJ+tf4/ygy1A/v1BCkv9LECj1+lzomcsQFZx+PA2eixADQ8Lcs+QLEBbjo8Mhj4sQBu/0paxBSpAQfgDiRzRKEDTRB9fcdUnQGLkJS6PCSdAKpNJwDihJEAf3HGq1ZYjQBq+yG+ycSJAfZXFt+UrIUCj8WNIaiQhQEmMRbn/CSBAMofjp2N0HUC1yWb+ItQaQO3Di+Ul6hlAXtXaHLe0GED2OytKEw0aQCU8rr7laxlAQfqXosyQFEBgVbhWHbkSQHg7iAP5kBVA6KBNCFReHECD97P/EekYQDV3HUaHWh1AVNI9+teCHUCmJa56upQdQAEo4TVt2CJAovt0gx1SIUA+7LXpCJcgQEzypiy1yR9AZRMVRpbaHUA29OlwsNArQOCE7+Q72itAQc2sEH+bLEC4dFtSIU4tQPs3LSys8CxAfFAy7JA/LEBE/1V+OucsQDbYozoOOSxAZO0tMx7HK0D7kWFC+wsyQLhuqtO2LjJAJtRafXTMMUBavGIpQ1gxQB3CxHdeqzFAH8Gb3loEMUC2y+DaYlwwQDq9spP9ii9ANGkexoaMMUBdmKxUs4wxQPSi8VC7XzBAqVZfQ8jyLkA5GKA6z0EvQLbkELskmi5A5PmaszSoLUAVoEO45iMxQIQttoxxGDFAFnayTSO/MEAOmX2rQww3QN4xpuDZtjZAzYOG1AssNkDkG8SonHI1QKvGyCWjvDRA2BedysteNEAwKBA3VTE0QFDYd8nnUDRA673Pa+vdM0CKdrcFHWIzQFvUx4fgIzNA8t4MhOjSMkAP/lKbk4cyQLq233gWIzJA+dK68DhLMkCQ3f/sQJIyQIwLmKb/RzJAhMzoA74aMkDsHEVdOrMyQPG59+uvDDJAd/wG1++dMUA2Z8vV7YwxQDtNxz/RCjFAGzj6w92vMUAQg6vq8i8xQFg3JcvX3jBAXXs9qQigMED0hYKlEKUxQPH2LQh/kjFAoRjXYBfLMUDyC7/oTQwxQM5zVTwq6TBAZzvuD6WgMECOjyQPRnwwQMTd040/mjFAUUXePDkvMUDMiLEcegQwQLJ4pVCJgi5Ac9z8zHUGLUDUnV0h1hosQKQNT3kqXixAaK0xnJyVLEBPas0qKL4rQHeY87L5xSpAOjQap/ZWKECNEfghQwonQDK85JxBwyVAYpuMNS5TI0BSrcVEdUIhQEPzWwC23CNApL7FyvHNIkAT3wMEDRAhQLxfUTGUXyBAUFd7Dj10H0Bgre4xyhAgQBincgzUTx9A9x100U1BIEBDInYYptIeQIntmPNm/R9AjCXwC12mIUACvq5M8GghQO61ZAPjIiFAghQoHCWNIECwKbIUNRsvQMHzogiKni1Ai2sB8lFWLUAv47JgxAsvQJXiBJNQszBAk4IXWVn4LkDzU9pghkkuQFwaeJRH6yxAg02KbNlxLECRhU1QZQEqQGDNa6S6dzBAefeoIuI2MEAP88osw+ovQB6EqpJpPDtACuRE5MbYOkBpMaCSXyU9QM+Rr5YnM0hAx5SVb+NCSEB1QS7QjhxIQG9mfiSZ70dAh7ht7+kfSEBuGGWUpPhHQMVT6J3eXEdAjMjIk0F8R0CkGrhekuxGQA8cyx4e70ZAx77n6nj0R0DexrmQH6VHQFgGxTEvd0hApIvnL7O2SEAtKsmLIYRIQJgTlHbWXEhAgFnAEBtKSEDXlEMaVa5HQBINM4zsmFRAL8e7AiaCVEAZThFGLPhUQKzuKblRyFRA/l0JIQurVEAEAXuALV1UQNnqbGUEK1RAiJyy2UQKVECIN62CjPFTQMTfFxi0/FNAv3d+bMuDVEBgSEJnG2hUQClp4N4QPFRA3O+WAU4EVED9sQthxe1TQBfPXQeVn1NAvRFvBleRU0AjdHANFWVTQB4M12EsbFNAZGrbVcBoU0BH/SUQCGpTQM7DRk3CXFNA2N1+lvo7U0BY9TbMcVdTQP8Bv5IWI1NACk48bCgLU0A49kowBr1SQBa9n2dM8lJAbRPsFyI/U0BAgypEEZ5TQPmfh6sC0VNA/0L5CiWDU0ByUtfWs2FTQJRaQFI761NAVbGgzFniU0AKMqqsn5tTQES+a1dSc1NADBqk6IVHU0D+aaEFmyxTQAgRF2nBElNAYzKrmi8bU0BFOPDVtABTQLv+1okF6lJAp8qH2qkDU0BPxr/bJNxSQHpxlMJ2x1JAoeR3UE55UkD4Zb0lmHFSQF5zcGoQl1JAfdETIfSBUkD0w5/Z9mhSQKkVwOfHaVVAtc3pS7RZVUAFu6X1ICZVQLCwWxHzEFVAvFnTdhvDVEDAhGrUxfpUQOn7w1a81FRARK4tUQWcVEAOfpiMdZlUQGOYlYGyiFRANZmJrDKFVEBzUAXK2GVUQHrpuVHeXlRAAaff/ucRVEBmS94ZgAJUQEhrijhY3VNA7q2bNxqXU0BxFbO3cXxTQFHB49o2eFNAlkpNyGJOU0A8jV7HJCBTQKs5Lh22YFNAJNLdpQdOU0Ao/XQDsjVTQHtSnbXJCVNAl+vpXykRU0BR1vCK8OxSQGdWDGFWn1JAMMUUldqTUkB7rcs5QntSQM83vrMYW1JAAKmJm31IUkAUrpdJVjFSQIH5zkJUHFJAMROEslMYUkCS2/Q+n/5RQBvWUXt671FAoCMKmDLPUUAR/Ujyqq1RQPDPwnY6oVFA62cpy1HUUUBXoXZEebJRQBOWGMlnuFFARf7oIBz2UUAHCGw8pZlSQHizq94gWFJAbeKBLM/OUkC9zz3WOytTQJxLiA43FlNAQo6ZDfljU0CEr5+z8mJTQFFoE9oqZ1NAmjZTk9W7U0D2fNd/WJpTQO53BwQGPlRAYvT/nzseVEAlC1O80dFTQEcvIqzym1NA15wCcHyLU0CGTkjkvEpTQMUq83wYnlNA1hq6UjV7U0Ch3xJM42ZTQDpUXGoojFNAiFJkEaZ0U0Ck95yGyi1TQDgXaPlzrlVAYOAMs2XvVUATxLAgPNRVQMXDkiu7tlVAEIKn9EF+VUDREErDvklVQNG3lqHQKFVAEpZDPC52VUBWRyJLe7xVQIQSvNLFdlVACU1LsX9GVUCg5lLq5V5VQGoUwWLoQlVAlkntKxYNVUAgtj/J6iJVQIHWv3+IAlVADQN1VG/4VECVGnYNV7hUQL+gv5BcolRAQ8cObgKSVEBBhuXEQKlUQNi557Tzi1RAUkemiABrVEC366SjmFtUQNSlLRrSBFVAO2pCIKLSVEDhrFMfZPRUQCFYB6hMwFRAcKTeAuiZVECKJud16YJUQLhsFvTjNFRA8+SMQP95VEBjwlDmbXVUQHOHUzwmYVRAO+yGXQpVVEBbAjQ7wW1UQFwkTEZYNFRACdytTI82VEB4NIMwXPpTQHdpIFXdxFNAcgGHqfTrU0BS7BvjXuFTQJHIxnu6zFNAg3MHHDoDVECTco2uFNlTQDtLDGzzilNAJTR/Jg+bU0BsC9j18ExTQNALp7JwHFNAwKG0RDv3UkCUw7hx3OtSQIOY7rkwylJAgqNCz6TMUkB9O6kjvNtSQAwAhfyryVJAgLF3U9GdUkDWLRm7GJ1SQIviAYrxuVJARujm5TObUkBcfoT/84NSQLkucbUjkVJA9eycFZ+KUkAPAfQrvsBSQIgtemUdoVJAPrZlFuKzUkAGG5k3xmVSQLDvH+XEN1JAmWElJ7YdUkAQ6k2D7ABSQD6SXEfKslFAxrZPKG6GUUAd8G6SD6lRQDoePZTrkVFA4GBOk60DUkATLVTTVOJRQI4WnIfA4VFAckS02WbXUUCkuIvxixVTQITFhhn16lJAvCzhqtvlVUBAACqOq9BVQHQmdBtRuVVA0ocKBmWrVUAD+dXtyXxVQC0Y3aBRWVVAq9MiH8QcVUBtTqT+RhBVQFmoEnLaD1VAXF/1trMeVUDotsJS+AdVQM+X5jXkylRAlFbo9q3bVEDiHDSe88dUQLTDZqgOqlRApJYfrEmmVEC9hGT9PI9UQKcq82SrsFRAlv8orf+GVEBK6AIUn9lUQCYaaG+Tr1RAXUr2rYp/VEAXO0+Ox0lUQFz8WncxG1RA3fXZUaoaVEBWC74jPw9UQA7GykSC2FNA0qQCtjyjU0AATRF6GlVTQHNc70WpT1NAvCov/1MEVEDy52zvGt9TQPLTE0mGxlNAHA04IpTgU0AzlyUzzRZUQPI8w2NVYVRA3jGW3T4TVEDZxueeUPNTQCm0o0i951NA0VdZZaqZU0D44xFLrnlTQFIhdosbW1NAcF+pC5VsU0Ans8sbaI9TQLRvewKkX1RAlB4xxaxLVECv1rc55DJUQDIAoqY0AlRAIdXX7oi4U0AcbT5DoKtTQFFyRWu+hFNAKOkzLP+hU0CfhGRFrJdTQIkLuoiyfVNAqhYxTbW4U0ClrpehzJ9TQICzG/CxnVNAbdI+ZjiNU0D0kVwzwt9TQAzxNKSgyFNACUTZzurDU0DmQ9QbHLBTQIyG5RregVNAhx5Mb/VoU0ApOCZZ6kZTQM96N1is+FNAyewuq53QU0AIydlD+bdTQMTPz00dvFNAlz8Oegx7U0Czp4nQcGNTQCa3Z5z/cVNARQde0VX7U0B/iFhkVtZTQNU90vQFxVNA6nl6Y8ENVEAdk/TvWehTQJCi0rvoyFNA5ZSTalrqU0B+sC8K/gBUQKjpU+MLu1NAuwccUKmjVEAE1lsJVJhUQGLKeVKbU1RAxfbYwNdYVEBrOeq/mVJUQJfdE0W9PFRAhrJJjREnVEAs9VqM0yhUQFrA9BMeg1RA0wlAgIBIVEBO2EpUzhNUQD+ZDTio8FNAPH6VXNQ5VkAdcrqWRx9WQBgKIeteIlZAiYx5LBH7VUD9QzQEqshVQC0kHo0Jm1VA02YvjMusVUBklCt2eIlVQCRfh7wwiFVAk2phhLuCVUAGej9QSnFVQFH9/a41c1VA6nFHzXpYVUAKiPSqMZFVQD6uPjjXe1VALYN0gCtSVUArDSF3F3JVQEY4atFgQlVAmsJcSzciVUByCVmz7BJVQG8SYe4o6lRA10qbSXr+VEDDP27DY7BUQD2LSgCz0lRApJ5OK42eVEBPEhmt53xUQDmZbvDtLlRAd/4eZTNKVEBPv+s4iS1UQPUB/TdLH1RAYa7bLZf7U0AiJebfmsBTQGvzJZlFFVRAx5ZCTmjyU0BFY/EltKlTQPI5jFBTd1NAiHhcPxFIU0BdZOpWyiVTQL0a4yQqE1NAaKvUKDrFUkAszWur5KhSQMMl3Ju8+VJAK9s8vqoCU0CvEvX0Kd5SQLM9jFLUtVJAaA2T80fmUkC9SC+iArtSQEqH6pKXelJAEYZqpxtYUkDGGxOC/S1SQBiIj0taElJAc/bxBS8ZUkCUQvAqpSJSQEdXIjc5NVJAneVdVcEkUkBRTMm19jZSQHZcaQ89JVJAEpVwBPUMUkDMhcnkMTNSQDk696plJVJAr5a0ekEDUkApp2bfyuhRQLQfDLbd6FFAZiVOwWLjUUCU8OdIrd1RQKOcYrHYOFJAJckDCVsIUkAFiS63a9lRQKvLP7Yty1FA0xFYwwu1UUAHOKJQsZ9RQHCrvxKkfVFAPYk9xC/2UUBXFJzzz/JRQLtOjG6BQlJAQITLTDZCUkChTDzZgWhSQPAvI3BONFJAyf9Ph4UMUkB5GQX3hPhRQFf/87kd4lFA6U9CYp6mUUBU4T8mr8RRQNfiA6AIs1FA0npq9B+oUUDvNPNqWXFSQAjHJ5YSWFJAydOkvYM7UkDX1kgbRCJSQMT61C60G1JAANR8xAwkUkCRHeGnggRSQGUa20nQZFJAMNsy0jHoUkA+DuC53bZSQPxoCdG3aFJAIIwiTlpiUkBErzvL/FtSQEQ+tPtbU1JAN7GjxVwsUkAOus0nqy9SQIHJq/M5LlJAJwy98nsSUkBqJ1iPFg5SQPWf/WUpHlJAEGH8hoIFUkCXJx3EPPhRQPWTdNB9xVFAbjqELluoUUAUfZUtHRpUQGRqUdeJzFNAhsRweBO2U0CmhjDNC4RTQOVi22Vnk1NA10n0jpBsU0BDpWgahERTQOnneRlGllZAB6MDkYBgVkDgGEjDdYVWQBfP+B94Y1ZACF1VaoVgVkC12dMJG1lWQLS6Ka8+RlZAfErHW3z+VUDK3XmdwzpWQDid9H62AlZAzaJHcnHjVUBz5VhxM7VVQG+SD8dfDFZAwK60QkHpVUD++x+/rLtVQIEB4YSz51VAZS/51lnNVUDonln47q9VQN164QWHjlVA6Fw2b8txVUCKmDlSVXNVQFiK7A2el1VA0ntC+qqdVUDXr2lYXnVVQNT2h36VZlVAIOeK9UphVUAuu4lxTBhVQGHUA/7kMlVAlfPdioMNVUDiC43gvNlUQNdxytaztVRA9SxUTu5/VEClUNv4wE9UQHNCjrQJNFRAkEm9JBNCVEBkcSFSugZUQNPE3vRJ9FNArXDCmFX5U0AZpuXazs1TQK5UOSqHnlNAn28YmWpQU0AFljmfaEBTQBUw7RRQLFNAlb5mQ7M7U0A7AXhCdUpTQC0Dfo32cFNAffA5N2M1U0DV2fdfkDFTQCXHswn9XVNA8n8nMDVSU0BUWLY9oI1TQM02pjEJX1NAGB9d1nB2U0D+/HSJnChTQIIdZGY8+FJAUscsVqobU0COoNTrAvxSQGcWGR74sFJAnAYzNwjNUkA+bw+WfLtSQFQzLPEekFJA2f4/gy9fUkB/QVGC8ZBSQC8SAWKcjFJAfkR/NdZ0UkDWLT1eA1FSQAcr8QtuLlJA+tpsXsv6UUC+O5x7q8pRQMrkE+HT2lFA8q24msXbUUABWjMD8dZRQPWZ412VnVFAI2V95d9/UUDG/qkndU9RQFlnb74HQFFA/6mAvcmxUUDypw83tWNRQEn+W+eKWFFAt6YyJ1ZZUUC2sYY8yntRQP9/xvV0sFFAn2OIr5yjUUBp7yvTp2dRQOB3VC/eGlFAmqGgdBH7UEByFuSlBd9QQG2uSvoc5lFASOIIYgOYUUBQKLmS4XZRQBvVITQaTlFAJL0fJYwoUUCM9VmA3RxRQJzdwelEJVFAkgsr89oRUUAJlFNPEfVQQCSFoW4szlBA/frloCG+UECWqQZZkKhQQNmxjG4llFBA+xeouSF7UEAwHLPRf0xQQEPeU67jK1BAQumnw1cuUEBT2W6ZdCtQQPSiNQiPGFBA7zqcXKYPUUCVfa1baIFRQK8LW1VoalFA53K15k5BUUAmT2B/qhpRQMyRcX5sTFFAjNtqbkH+UEA2sPEbQLBQQJCK03lEHVFA87Yy6IDqUECPWDPdoctQQCGHMMhPKVFAGkQ/jdv7UEBP1Y7GltZQQNls6RPurFBAf6/6ErCiUEDDfutAZzlRQANoZtrPFFFAwAfsqtcdUkDnm2TE0P9RQB1koie0HFJAnl0hAi02UkA1kSPy3xhSQOfLGWK7+lFA8Zz9TqnXUUAj+D+wL5JRQN7d124/dVFAir5XOxFyUUC7LyMjdl9RQNyG4mkZXFFAKUjDlkw4UUDlIoYS0/pQQCeGc58S3FBABn1NFZOtUECZwREcIZ5QQNEobK0HmVBAskU6/Dp0UEAuJlsn8EpQQDQ6M3GLIFBAuy8DOP/iT0A3wehmj6lPQBOzHDJtkE9ArSQEf924T0BksQxY41VPQAmDlocEf09AAhHT03KhT0BV2ntNDBFPQKFfnkuQvE9AuvumuOeMT0BQJhxgwJpPQAISpcSq5E9AjILOFRNcT0ACnTu56ehOQKajjon8YU5AG1fKCfZ5T0DDjfNjKyRPQElZhxATHE9A+XkOqvuaTkAWRUgF9H9OQE/ytWNLYk5AYbxSAkL8TUBsMXG/tdtNQAcniMKAjk1AvDfN+D/yTEDzDqgVSXFMQE1ggBdAIkxANBZiwYkTTEBSvJGRLkRMQJGAebX110tALr66OGWtS0BtdRVWbIRLQFYnbvEcHktAT7WqPYtAS0CHSTq7ngFLQKSyGCozokpAJaZSO71kSkDl/LpQnkxKQKohwOFDSEpAjhtN/qtaSkDbfQikvxRKQF+RDtvR20lAa5pHYIC+SUC3H2peBNJJQI9sBelPrklAC/RKF9a0SUCp2k8TI4JJQLV5STTocklAu+cOvppQSUAks8pGBk9JQA6oOeAKBUlAT1a4bVHeSECsAgW74J5IQOAqs+cec0hA94DXoOAsSEBw3nzMPPNHQApQZBmtu0dAwuOqcZJyR0A8gk/lyk9HQNcrDrYLLEdACivPmwluR0DwzwfDkCBHQHgQkbWqA0dAUYtVZW0bR0AHab17E/5GQBO5gb9N1UZAn+WxMaz5RkBxnp2KScZGQJY/OttKz0ZAY32tTOG6RkAlY35o/QlHQMY99rvWCkdAon6XcLOHR0BQKzDRXmFHQKvuSrBmVEdAXyh6ko4CR0CVnZDH+xRHQLzZIKE2hkdABTjTnJM5R0CLWkRC6wZHQBIQPk87AEdAsYa9APrvRkCo8W0QysdGQAWfank+yEZAITyBfT+NRkAxEJBAEl1GQIzdiPiIQUZAmljUUpwnRkDGAZi8A85FQMWFxzibrkVA6gANosqKRUA5xR+kjT5FQCTq4UGxQUVAcG8EQDVFRUDpim7CXwNFQEPmvfEhzERAC45GY4+AREB44TOxmzdEQEusIHDzSERA5vWvnJQWRED+R59n5SZEQBI1n8bzhkRAT2rTw5JbREAw9xmtczhEQPYdVCWZM0RAjWOcAzAHREBRYTd6LGNEQGXUcurrTERAF8D7TtYGREDuhmMFANFDQOPwQjBmyENAYC/oxkatQ0ABCmAaIGZDQCF/PD7yRkNAN3CH6xdXQ0DW3IEIDhRDQMXS4RBpG0NAidB8h2X3Q0B5UasktK1DQAS/duNPaENATbFKFFBvQ0CZNm0S1FpDQGijmCTFM0NAUMVXv+UzQ0CVqKcrLBRDQCFp3JH3eUNAnjy4bVsfQ0BBZFGRSdpCQG/Ue6ziNUNActZpYuMkQ0BcQwb/TkJDQHtgGujHC0NACyqBKpAzQ0Bq6lQ8T+hCQGzdUvFAp0JAtclgwDSBQkAGK21OESVCQERFsJue+kFAuHl0VqnQQkCfL1YA84FCQAk6ZFAvVEJAycaB/Ok9QkCwuFbElBxCQMWIz3SrFUJA2jSN3+HCQUC8thKnlbxBQPDZ7zudu0FAcxz8h5C5QUCi3/xpUntBQAMKEfrfUkFA+Tneog6ZQUCymrcObvNBQP4f2gzy1kFA0SyEkv3BQUBmRMvZExpCQGHTLrGTGEJArVhRrxfMQUA9hNVo9c1BQM9h5tD9dkFAvqW8IGE0QUCqDIQNsftBQKTljka6jUFAbxujrTxSQUCt8C8bUv9AQNQswPSM0EBAHa/f7w2xQEBfmEHk9ZNAQDLkXrPSlkBAn8HITE6kQEAviy+PFuxAQHsQUo2a1UBAkrGXIwdpQEBfVrKjqsRAQLzs5bI/OUFAv6wrxjZIQUBECJfIfvNAQFXENyFvukBAxZLsQzyQQEB/EGGfIkpAQIV+JinVJ0BAax1WM734P0BuN1Tc3ec/QFN4cj15fD9AucMLdDMrP0Cztyt7V6U+QLCHsYDOoD5AR5L2fNZnPkA495XTOAk+QM8B289A+D1ATamTmoKGPUBG2075sWM9QJE3c89imjxA+ofPKN8iPEDxDd2KrCo8QLkk5bfA9DtA+9nUXnMGPECmxsZXAIY7QADHNLCXjztAC6CzkzzKO0CeNwvP51U8QO5lPlQr/ztACasr1G1uPEB1AB6lwCI8QJ3G4VchAzxArVJz3kCSO0CvCm6xo8Q7QNg5/D/QVDtA8gLia8AnO0CsU7OA+VA7QMEh07StlTtAkbr76UMgO0BfD/5V6p06QGJT+ysiKTpADlftQ3YBO0B5/RA1JUA7QMsXDbLvrzpAuDB/YJVmOkARrhOAyaQ5QA4fv+I3hjlAatPjUovpOUDY684X+w06QNrVxAoRwDlAunIuUKtLOUCqnI039/U4QBd5ubGJCDlAosYtotT+OEAgNePc4qw4QA1p0DNKCThApHMVMFLQN0DKJ9zpvQE4QCh+WG8HyTZADpKPADDfN0D0iJlLJCs5QEpHMCcGGzlAFIWoVkGVOED8yYQgWgE4QEgKyIuAaTdAc1VpMMI5N0CYPHe6psk3QCGl9D7NbzdAwtRT8xo3NkDonE5Rvbk2QLNFhdosvTZA59JhKiV3NkCQ6F76TO81QLXW3IQ4bzVABACnbJLuNECNQRDY3ac0QIjjm1Xu/DNA0vhO4sPhM0AN+ZaUBQYzQOjCtcsBaTJAG2Oa2HAVM0D528Mb58AyQMuXHFOgGzJAs110BNSzMUBp66wyFNoxQKKr7Z8nyTFA5OmEzebKMUBvYNmCm6oyQA+8GsVxIjJA+xu1Fs++MUBZDbb0HvswQFZxkVaAWDFAT6NMta81MUCTgtxejIcwQJeZbtJELjBAzHw9bCV/MEAEGdx0y8kvQPbM5UXPZy5AJOJvPt+1LUDmsSnGnEwtQBTHs76s2ixAcxd2OQVULED2gVWHarcrQEngcaTD1ypAJRYi9ON4KkCLr+8keEosQDDq43QqTytARWPeq0DEK0Aq6zVOf3orQHoi4mixKitAuUh9ctIJKkDCFHVGmQUpQBpjLsqhmChAJ/SngKkFKECHxWqI1lYnQMCQVYycRSZA7qXfhKxrJkC2VAMXVpMmQJ5SMJuUeyVAvvza4q37JEBA9Qp3gqokQEg4kdre3CVASG4opQ94JUAz5BDOTp4kQFkxoRzaqyNAgaOq0fZ/IkApVxxEpVUhQIex5Ce8NiFAQd+fgpBNIEBq5Mk/JnseQNxmPrJLrR1AJCBq/u04HEBIZyPLZasaQNYSFmbxABpA+a5GHoM5GUAU53K5jO4XQDQubdszRBdAvYWu+YCNF0COFJIr9eMUQEiNZ+g+eBFAiPAJvZciEECjfAvKjf0QQAJRQnleNghAXTGZFYcRCkBw8W6tnaQHQOIuOhsMlwVAPqNf5pMOBkCF5KFQHo4CQFt34kXB2vE/c1Pd2J8H7D+MQLkglnngPwAAAAAA4DG9",
          "dtype": "f8"
         },
         "yaxis": "y"
        },
        {
         "line": {
          "color": "rgb(214, 39, 40)",
          "dash": "dash"
         },
         "mode": "lines",
         "name": "date_gap_days",
         "type": "scatter",
         "x": {
          "bdata": "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",
          "dtype": "f8"
         },
         "xaxis": "x",
         "y": {
          "bdata": "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",
          "dtype": "f8"
         },
         "yaxis": "y2"
        }
       ],
       "layout": {
        "annotations": [
         {
          "font": {
           "color": "gray",
           "size": 12
          },
          "showarrow": false,
          "text": "Sample size: 1395",
          "x": 0.99,
          "xanchor": "right",
          "xref": "paper",
          "y": 0.02,
          "yref": "paper"
         }
        ],
        "height": 500,
        "legend": {
         "x": 1.02,
         "xanchor": "left",
         "y": 0.5
        },
        "margin": {
         "b": 50,
         "l": 70,
         "r": 160,
         "t": 50
        },
        "template": {
         "data": {
          "bar": [
           {
            "error_x": {
             "color": "#2a3f5f"
            },
            "error_y": {
             "color": "#2a3f5f"
            },
            "marker": {
             "line": {
              "color": "white",
              "width": 0.5
             },
             "pattern": {
              "fillmode": "overlay",
              "size": 10,
              "solidity": 0.2
             }
            },
            "type": "bar"
           }
          ],
          "barpolar": [
           {
            "marker": {
             "line": {
              "color": "white",
              "width": 0.5
             },
             "pattern": {
              "fillmode": "overlay",
              "size": 10,
              "solidity": 0.2
             }
            },
            "type": "barpolar"
           }
          ],
          "carpet": [
           {
            "aaxis": {
             "endlinecolor": "#2a3f5f",
             "gridcolor": "#C8D4E3",
             "linecolor": "#C8D4E3",
             "minorgridcolor": "#C8D4E3",
             "startlinecolor": "#2a3f5f"
            },
            "baxis": {
             "endlinecolor": "#2a3f5f",
             "gridcolor": "#C8D4E3",
             "linecolor": "#C8D4E3",
             "minorgridcolor": "#C8D4E3",
             "startlinecolor": "#2a3f5f"
            },
            "type": "carpet"
           }
          ],
          "choropleth": [
           {
            "colorbar": {
             "outlinewidth": 0,
             "ticks": ""
            },
            "type": "choropleth"
           }
          ],
          "contour": [
           {
            "colorbar": {
             "outlinewidth": 0,
             "ticks": ""
            },
            "colorscale": [
             [
              0,
              "#0d0887"
             ],
             [
              0.1111111111111111,
              "#46039f"
             ],
             [
              0.2222222222222222,
              "#7201a8"
             ],
             [
              0.3333333333333333,
              "#9c179e"
             ],
             [
              0.4444444444444444,
              "#bd3786"
             ],
             [
              0.5555555555555556,
              "#d8576b"
             ],
             [
              0.6666666666666666,
              "#ed7953"
             ],
             [
              0.7777777777777778,
              "#fb9f3a"
             ],
             [
              0.8888888888888888,
              "#fdca26"
             ],
             [
              1,
              "#f0f921"
             ]
            ],
            "type": "contour"
           }
          ],
          "contourcarpet": [
           {
            "colorbar": {
             "outlinewidth": 0,
             "ticks": ""
            },
            "type": "contourcarpet"
           }
          ],
          "heatmap": [
           {
            "colorbar": {
             "outlinewidth": 0,
             "ticks": ""
            },
            "colorscale": [
             [
              0,
              "#0d0887"
             ],
             [
              0.1111111111111111,
              "#46039f"
             ],
             [
              0.2222222222222222,
              "#7201a8"
             ],
             [
              0.3333333333333333,
              "#9c179e"
             ],
             [
              0.4444444444444444,
              "#bd3786"
             ],
             [
              0.5555555555555556,
              "#d8576b"
             ],
             [
              0.6666666666666666,
              "#ed7953"
             ],
             [
              0.7777777777777778,
              "#fb9f3a"
             ],
             [
              0.8888888888888888,
              "#fdca26"
             ],
             [
              1,
              "#f0f921"
             ]
            ],
            "type": "heatmap"
           }
          ],
          "histogram": [
           {
            "marker": {
             "pattern": {
              "fillmode": "overlay",
              "size": 10,
              "solidity": 0.2
             }
            },
            "type": "histogram"
           }
          ],
          "histogram2d": [
           {
            "colorbar": {
             "outlinewidth": 0,
             "ticks": ""
            },
            "colorscale": [
             [
              0,
              "#0d0887"
             ],
             [
              0.1111111111111111,
              "#46039f"
             ],
             [
              0.2222222222222222,
              "#7201a8"
             ],
             [
              0.3333333333333333,
              "#9c179e"
             ],
             [
              0.4444444444444444,
              "#bd3786"
             ],
             [
              0.5555555555555556,
              "#d8576b"
             ],
             [
              0.6666666666666666,
              "#ed7953"
             ],
             [
              0.7777777777777778,
              "#fb9f3a"
             ],
             [
              0.8888888888888888,
              "#fdca26"
             ],
             [
              1,
              "#f0f921"
             ]
            ],
            "type": "histogram2d"
           }
          ],
          "histogram2dcontour": [
           {
            "colorbar": {
             "outlinewidth": 0,
             "ticks": ""
            },
            "colorscale": [
             [
              0,
              "#0d0887"
             ],
             [
              0.1111111111111111,
              "#46039f"
             ],
             [
              0.2222222222222222,
              "#7201a8"
             ],
             [
              0.3333333333333333,
              "#9c179e"
             ],
             [
              0.4444444444444444,
              "#bd3786"
             ],
             [
              0.5555555555555556,
              "#d8576b"
             ],
             [
              0.6666666666666666,
              "#ed7953"
             ],
             [
              0.7777777777777778,
              "#fb9f3a"
             ],
             [
              0.8888888888888888,
              "#fdca26"
             ],
             [
              1,
              "#f0f921"
             ]
            ],
            "type": "histogram2dcontour"
           }
          ],
          "mesh3d": [
           {
            "colorbar": {
             "outlinewidth": 0,
             "ticks": ""
            },
            "type": "mesh3d"
           }
          ],
          "parcoords": [
           {
            "line": {
             "colorbar": {
              "outlinewidth": 0,
              "ticks": ""
             }
            },
            "type": "parcoords"
           }
          ],
          "pie": [
           {
            "automargin": true,
            "type": "pie"
           }
          ],
          "scatter": [
           {
            "fillpattern": {
             "fillmode": "overlay",
             "size": 10,
             "solidity": 0.2
            },
            "type": "scatter"
           }
          ],
          "scatter3d": [
           {
            "line": {
             "colorbar": {
              "outlinewidth": 0,
              "ticks": ""
             }
            },
            "marker": {
             "colorbar": {
              "outlinewidth": 0,
              "ticks": ""
             }
            },
            "type": "scatter3d"
           }
          ],
          "scattercarpet": [
           {
            "marker": {
             "colorbar": {
              "outlinewidth": 0,
              "ticks": ""
             }
            },
            "type": "scattercarpet"
           }
          ],
          "scattergeo": [
           {
            "marker": {
             "colorbar": {
              "outlinewidth": 0,
              "ticks": ""
             }
            },
            "type": "scattergeo"
           }
          ],
          "scattergl": [
           {
            "marker": {
             "colorbar": {
              "outlinewidth": 0,
              "ticks": ""
             }
            },
            "type": "scattergl"
           }
          ],
          "scattermap": [
           {
            "marker": {
             "colorbar": {
              "outlinewidth": 0,
              "ticks": ""
             }
            },
            "type": "scattermap"
           }
          ],
          "scattermapbox": [
           {
            "marker": {
             "colorbar": {
              "outlinewidth": 0,
              "ticks": ""
             }
            },
            "type": "scattermapbox"
           }
          ],
          "scatterpolar": [
           {
            "marker": {
             "colorbar": {
              "outlinewidth": 0,
              "ticks": ""
             }
            },
            "type": "scatterpolar"
           }
          ],
          "scatterpolargl": [
           {
            "marker": {
             "colorbar": {
              "outlinewidth": 0,
              "ticks": ""
             }
            },
            "type": "scatterpolargl"
           }
          ],
          "scatterternary": [
           {
            "marker": {
             "colorbar": {
              "outlinewidth": 0,
              "ticks": ""
             }
            },
            "type": "scatterternary"
           }
          ],
          "surface": [
           {
            "colorbar": {
             "outlinewidth": 0,
             "ticks": ""
            },
            "colorscale": [
             [
              0,
              "#0d0887"
             ],
             [
              0.1111111111111111,
              "#46039f"
             ],
             [
              0.2222222222222222,
              "#7201a8"
             ],
             [
              0.3333333333333333,
              "#9c179e"
             ],
             [
              0.4444444444444444,
              "#bd3786"
             ],
             [
              0.5555555555555556,
              "#d8576b"
             ],
             [
              0.6666666666666666,
              "#ed7953"
             ],
             [
              0.7777777777777778,
              "#fb9f3a"
             ],
             [
              0.8888888888888888,
              "#fdca26"
             ],
             [
              1,
              "#f0f921"
             ]
            ],
            "type": "surface"
           }
          ],
          "table": [
           {
            "cells": {
             "fill": {
              "color": "#EBF0F8"
             },
             "line": {
              "color": "white"
             }
            },
            "header": {
             "fill": {
              "color": "#C8D4E3"
             },
             "line": {
              "color": "white"
             }
            },
            "type": "table"
           }
          ]
         },
         "layout": {
          "annotationdefaults": {
           "arrowcolor": "#2a3f5f",
           "arrowhead": 0,
           "arrowwidth": 1
          },
          "autotypenumbers": "strict",
          "coloraxis": {
           "colorbar": {
            "outlinewidth": 0,
            "ticks": ""
           }
          },
          "colorscale": {
           "diverging": [
            [
             0,
             "#8e0152"
            ],
            [
             0.1,
             "#c51b7d"
            ],
            [
             0.2,
             "#de77ae"
            ],
            [
             0.3,
             "#f1b6da"
            ],
            [
             0.4,
             "#fde0ef"
            ],
            [
             0.5,
             "#f7f7f7"
            ],
            [
             0.6,
             "#e6f5d0"
            ],
            [
             0.7,
             "#b8e186"
            ],
            [
             0.8,
             "#7fbc41"
            ],
            [
             0.9,
             "#4d9221"
            ],
            [
             1,
             "#276419"
            ]
           ],
           "sequential": [
            [
             0,
             "#0d0887"
            ],
            [
             0.1111111111111111,
             "#46039f"
            ],
            [
             0.2222222222222222,
             "#7201a8"
            ],
            [
             0.3333333333333333,
             "#9c179e"
            ],
            [
             0.4444444444444444,
             "#bd3786"
            ],
            [
             0.5555555555555556,
             "#d8576b"
            ],
            [
             0.6666666666666666,
             "#ed7953"
            ],
            [
             0.7777777777777778,
             "#fb9f3a"
            ],
            [
             0.8888888888888888,
             "#fdca26"
            ],
            [
             1,
             "#f0f921"
            ]
           ],
           "sequentialminus": [
            [
             0,
             "#0d0887"
            ],
            [
             0.1111111111111111,
             "#46039f"
            ],
            [
             0.2222222222222222,
             "#7201a8"
            ],
            [
             0.3333333333333333,
             "#9c179e"
            ],
            [
             0.4444444444444444,
             "#bd3786"
            ],
            [
             0.5555555555555556,
             "#d8576b"
            ],
            [
             0.6666666666666666,
             "#ed7953"
            ],
            [
             0.7777777777777778,
             "#fb9f3a"
            ],
            [
             0.8888888888888888,
             "#fdca26"
            ],
            [
             1,
             "#f0f921"
            ]
           ]
          },
          "colorway": [
           "#636efa",
           "#EF553B",
           "#00cc96",
           "#ab63fa",
           "#FFA15A",
           "#19d3f3",
           "#FF6692",
           "#B6E880",
           "#FF97FF",
           "#FECB52"
          ],
          "font": {
           "color": "#2a3f5f"
          },
          "geo": {
           "bgcolor": "white",
           "lakecolor": "white",
           "landcolor": "white",
           "showlakes": true,
           "showland": true,
           "subunitcolor": "#C8D4E3"
          },
          "hoverlabel": {
           "align": "left"
          },
          "hovermode": "closest",
          "mapbox": {
           "style": "light"
          },
          "paper_bgcolor": "white",
          "plot_bgcolor": "white",
          "polar": {
           "angularaxis": {
            "gridcolor": "#EBF0F8",
            "linecolor": "#EBF0F8",
            "ticks": ""
           },
           "bgcolor": "white",
           "radialaxis": {
            "gridcolor": "#EBF0F8",
            "linecolor": "#EBF0F8",
            "ticks": ""
           }
          },
          "scene": {
           "xaxis": {
            "backgroundcolor": "white",
            "gridcolor": "#DFE8F3",
            "gridwidth": 2,
            "linecolor": "#EBF0F8",
            "showbackground": true,
            "ticks": "",
            "zerolinecolor": "#EBF0F8"
           },
           "yaxis": {
            "backgroundcolor": "white",
            "gridcolor": "#DFE8F3",
            "gridwidth": 2,
            "linecolor": "#EBF0F8",
            "showbackground": true,
            "ticks": "",
            "zerolinecolor": "#EBF0F8"
           },
           "zaxis": {
            "backgroundcolor": "white",
            "gridcolor": "#DFE8F3",
            "gridwidth": 2,
            "linecolor": "#EBF0F8",
            "showbackground": true,
            "ticks": "",
            "zerolinecolor": "#EBF0F8"
           }
          },
          "shapedefaults": {
           "line": {
            "color": "#2a3f5f"
           }
          },
          "ternary": {
           "aaxis": {
            "gridcolor": "#DFE8F3",
            "linecolor": "#A2B1C6",
            "ticks": ""
           },
           "baxis": {
            "gridcolor": "#DFE8F3",
            "linecolor": "#A2B1C6",
            "ticks": ""
           },
           "bgcolor": "white",
           "caxis": {
            "gridcolor": "#DFE8F3",
            "linecolor": "#A2B1C6",
            "ticks": ""
           }
          },
          "title": {
           "x": 0.05
          },
          "xaxis": {
           "automargin": true,
           "gridcolor": "#EBF0F8",
           "linecolor": "#EBF0F8",
           "ticks": "",
           "title": {
            "standoff": 15
           },
           "zerolinecolor": "#EBF0F8",
           "zerolinewidth": 2
          },
          "yaxis": {
           "automargin": true,
           "gridcolor": "#EBF0F8",
           "linecolor": "#EBF0F8",
           "ticks": "",
           "title": {
            "standoff": 15
           },
           "zerolinecolor": "#EBF0F8",
           "zerolinewidth": 2
          }
         }
        },
        "xaxis": {
         "anchor": "y",
         "domain": [
          0,
          0.94
         ],
         "showgrid": true,
         "title": {
          "text": "sample proportion"
         }
        },
        "yaxis": {
         "anchor": "x",
         "domain": [
          0,
          1
         ],
         "showgrid": true,
         "tickfont": {
          "color": "rgb(31, 119, 180)"
         },
         "title": {
          "font": {
           "color": "rgb(31, 119, 180)"
          },
          "text": "cum_demeaned_daily_ret"
         }
        },
        "yaxis2": {
         "anchor": "x",
         "overlaying": "y",
         "showgrid": false,
         "side": "right",
         "tickfont": {
          "color": "rgb(214, 39, 40)"
         },
         "title": {
          "font": {
           "color": "rgb(214, 39, 40)"
          },
          "text": "date_gap_days"
         }
        }
       }
      }
     },
     "metadata": {},
     "output_type": "display_data"
    }
   ],
   "source": [
    "op_atm_call_df.sort_values(\"gap_days\", ignore_index = True, inplace = True)\n",
    "mean = op_atm_call_df[\"daily_ret\"].mean()\n",
    "op_atm_call_df[\"demeaned_daily_ret\"] = op_atm_call_df[\"daily_ret\"] - mean\n",
    "op_atm_call_df[\"cum_demeaned_daily_ret\"] = op_atm_call_df[\"demeaned_daily_ret\"].cumsum()\n",
    "plot(op_atm_call_df, \"cum_demeaned_daily_ret\", \"index\", \"date_gap_days\")"
   ]
  },
  {
   "cell_type": "code",
   "execution_count": null,
   "id": "f8f200cd",
   "metadata": {},
   "outputs": [
    {
     "name": "stdout",
     "output_type": "stream",
     "text": [
      "Testing H0: mean = 0.000000 vs H1: mean != 0.000000\n",
      "n = 1097\n",
      "mean = 0.051855\n",
      "std = 2.012658\n",
      "std err = 0.060767\n",
      "t-stat = 0.8533\n",
      "p-value = 0.3937\n",
      "confidence interval = (-0.067377, 0.171088)\n",
      "reject null @ alpha = 0.05: False\n",
      "\n"
     ]
    },
    {
     "data": {
      "application/vnd.plotly.v1+json": {
       "config": {
        "plotlyServerURL": "https://plot.ly"
       },
       "data": [
        {
         "line": {
          "color": "rgb(31, 119, 180)"
         },
         "mode": "lines",
         "name": "cum_demeaned_daily_ret",
         "type": "scatter",
         "x": {
          "bdata": "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",
          "dtype": "f8"
         },
         "xaxis": "x",
         "y": {
          "bdata": "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",
          "dtype": "f8"
         },
         "yaxis": "y"
        },
        {
         "line": {
          "color": "rgb(214, 39, 40)",
          "dash": "dash"
         },
         "mode": "lines",
         "name": "date_gap_days",
         "type": "scatter",
         "x": {
          "bdata": "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",
          "dtype": "f8"
         },
         "xaxis": "x",
         "y": {
          "bdata": "AAAAAAAA8D8AAAAAAADwPwAAAAAAAPA/AAAAAAAA8D8AAAAAAADwPwAAAAAAAPA/AAAAAAAA8D8AAAAAAADwPwAAAAAAAPA/AAAAAAAA8D8AAAAAAADwPwAAAAAAAPA/AAAAAAAA8D8AAAAAAADwPwAAAAAAAPA/AAAAAAAA8D8AAAAAAADwPwAAAAAAAPA/AAAAAAAA8D8AAAAAAADwPwAAAAAAAPA/AAAAAAAA8D8AAAAAAADwPwAAAAAAAPA/AAAAAAAA8D8AAAAAAADwPwAAAAAAAPA/AAAAAAAA8D8AAAAAAADwPwAAAAAAAPA/AAAAAAAA8D8AAAAAAADwPwAAAAAAAPA/AAAAAAAA8D8AAAAAAADwPwAAAAAAAPA/AAAAAAAA8D8AAAAAAADwPwAAAAAAAPA/AAAAAAAA8D8AAAAAAADwPwAAAAAAAPA/AAAAAAAA8D8AAAAAAADwPwAAAAAAAPA/AAAAAAAA8D8AAAAAAADwPwAAAAAAAPA/AAAAAAAA8D8AAAAAAADwPwAAAAAAAPA/AAAAAAAA8D8AAAAAAADwPwAAAAAAAPA/AAAAAAAA8D8AAAAAAADwPwAAAAAAAPA/AAAAAAAA8D8AAAAAAADwPwAAAAAAAPA/AAAAAAAA8D8AAAAAAADwPwAAAAAAAPA/AAAAAAAA8D8AAAAAAADwPwAAAAAAAPA/AAAAAAAA8D8AAAAAAADwPwAAAAAAAPA/AAAAAAAA8D8AAAAAAADwPwAAAAAAAPA/AAAAAAAA8D8AAAAAAADwPwAAAAAAAPA/AAAAAAAA8D8AAAAAAADwPwAAAAAAAPA/AAAAAAAA8D8AAAAAAADwPwAAAAAAAPA/AAAAAAAA8D8AAAAAAADwPwAAAAAAAPA/AAAAAAAA8D8AAAAAAADwPwAAAAAAAPA/AAAAAAAA8D8AAAAAAADwPwAAAAAAAPA/AAAAAAAA8D8AAAAAAADwPwAAAAAAAPA/AAAAAAAA8D8AAAAAAADwPwAAAAAAAPA/AAAAAAAA8D8AAAAAAADwPwAAAAAAAPA/AAAAAAAA8D8AAAAAAADwPwAAAAAAAPA/AAAAAAAA8D8AAAAAAADwPwAAAAAAAPA/AAAAAAAA8D8AAAAAAADwPwAAAAAAAPA/AAAAAAAA8D8AAAAAAADwPwAAAAAAAPA/AAAAAAAA8D8AAAAAAADwPwAAAAAAAPA/AAAAAAAA8D8AAAAAAADwPwAAAAAAAPA/AAAAAAAA8D8AAAAAAADwPwAAAAAAAPA/AAAAAAAA8D8AAAAAAADwPwAAAAAAAPA/AAAAAAAA8D8AAAAAAADwPwAAAAAAAPA/AAAAAAAA8D8AAAAAAADwPwAAAAAAAPA/AAAAAAAA8D8AAAAAAADwPwAAAAAAAPA/AAAAAAAA8D8AAAAAAADwPwAAAAAAAPA/AAAAAAAA8D8AAAAAAADwPwAAAAAAAPA/AAAAAAAA8D8AAAAAAADwPwAAAAAAAPA/AAAAAAAA8D8AAAAAAADwPwAAAAAAAPA/AAAAAAAA8D8AAAAAAADwPwAAAAAAAPA/AAAAAAAA8D8AAAAAAADwPwAAAAAAAPA/AAAAAAAA8D8AAAAAAADwPwAAAAAAAPA/AAAAAAAA8D8AAAAAAADwPwAAAAAAAPA/AAAAAAAA8D8AAAAAAADwPwAAAAAAAPA/AAAAAAAA8D8AAAAAAADwPwAAAAAAAPA/AAAAAAAA8D8AAAAAAADwPwAAAAAAAPA/AAAAAAAA8D8AAAAAAADwPwAAAAAAAPA/AAAAAAAA8D8AAAAAAADwPwAAAAAAAPA/AAAAAAAA8D8AAAAAAADwPwAAAAAAAPA/AAAAAAAA8D8AAAAAAADwPwAAAAAAAPA/AAAAAAAA8D8AAAAAAADwPwAAAAAAAPA/AAAAAAAA8D8AAAAAAADwPwAAAAAAAPA/AAAAAAAA8D8AAAAAAADwPwAAAAAAAPA/AAAAAAAA8D8AAAAAAADwPwAAAAAAAPA/AAAAAAAA8D8AAAAAAADwPwAAAAAAAPA/AAAAAAAA8D8AAAAAAADwPwAAAAAAAPA/AAAAAAAA8D8AAAAAAADwPwAAAAAAAPA/AAAAAAAA8D8AAAAAAADwPwAAAAAAAPA/AAAAAAAA8D8AAAAAAADwPwAAAAAAAPA/AAAAAAAA8D8AAAAAAADwPwAAAAAAAPA/AAAAAAAA8D8AAAAAAADwPwAAAAAAAPA/AAAAAAAA8D8AAAAAAADwPwAAAAAAAPA/AAAAAAAA8D8AAAAAAADwPwAAAAAAAPA/AAAAAAAA8D8AAAAAAADwPwAAAAAAAPA/AAAAAAAA8D8AAAAAAADwPwAAAAAAAPA/AAAAAAAA8D8AAAAAAADwPwAAAAAAAPA/AAAAAAAA8D8AAAAAAADwPwAAAAAAAPA/AAAAAAAA8D8AAAAAAADwPwAAAAAAAPA/AAAAAAAA8D8AAAAAAADwPwAAAAAAAPA/AAAAAAAA8D8AAAAAAADwPwAAAAAAAPA/AAAAAAAA8D8AAAAAAADwPwAAAAAAAPA/AAAAAAAA8D8AAAAAAADwPwAAAAAAAPA/AAAAAAAA8D8AAAAAAADwPwAAAAAAAPA/AAAAAAAA8D8AAAAAAADwPwAAAAAAAPA/AAAAAAAA8D8AAAAAAADwPwAAAAAAAPA/AAAAAAAA8D8AAAAAAADwPwAAAAAAAPA/AAAAAAAA8D8AAAAAAADwPwAAAAAAAPA/AAAAAAAA8D8AAAAAAADwPwAAAAAAAPA/AAAAAAAA8D8AAAAAAADwPwAAAAAAAPA/AAAAAAAA8D8AAAAAAADwPwAAAAAAAPA/AAAAAAAA8D8AAAAAAADwPwAAAAAAAPA/AAAAAAAA8D8AAAAAAADwPwAAAAAAAPA/AAAAAAAA8D8AAAAAAADwPwAAAAAAAPA/AAAAAAAA8D8AAAAAAADwPwAAAAAAAPA/AAAAAAAA8D8AAAAAAADwPwAAAAAAAPA/AAAAAAAA8D8AAAAAAADwPwAAAAAAAPA/AAAAAAAA8D8AAAAAAADwPwAAAAAAAPA/AAAAAAAA8D8AAAAAAADwPwAAAAAAAPA/AAAAAAAA8D8AAAAAAADwPwAAAAAAAPA/AAAAAAAA8D8AAAAAAADwPwAAAAAAAPA/AAAAAAAA8D8AAAAAAADwPwAAAAAAAPA/AAAAAAAA8D8AAAAAAADwPwAAAAAAAPA/AAAAAAAA8D8AAAAAAADwPwAAAAAAAPA/AAAAAAAA8D8AAAAAAADwPwAAAAAAAPA/AAAAAAAA8D8AAAAAAADwPwAAAAAAAPA/AAAAAAAA8D8AAAAAAADwPwAAAAAAAPA/AAAAAAAA8D8AAAAAAADwPwAAAAAAAPA/AAAAAAAA8D8AAAAAAADwPwAAAAAAAPA/AAAAAAAA8D8AAAAAAADwPwAAAAAAAPA/AAAAAAAA8D8AAAAAAADwPwAAAAAAAPA/AAAAAAAA8D8AAAAAAADwPwAAAAAAAPA/AAAAAAAA8D8AAAAAAADwPwAAAAAAAPA/AAAAAAAA8D8AAAAAAADwPwAAAAAAAPA/AAAAAAAA8D8AAAAAAADwPwAAAAAAAPA/AAAAAAAA8D8AAAAAAADwPwAAAAAAAPA/AAAAAAAA8D8AAAAAAADwPwAAAAAAAPA/AAAAAAAA8D8AAAAAAADwPwAAAAAAAPA/AAAAAAAA8D8AAAAAAADwPwAAAAAAAPA/AAAAAAAA8D8AAAAAAADwPwAAAAAAAPA/AAAAAAAA8D8AAAAAAADwPwAAAAAAAPA/AAAAAAAA8D8AAAAAAADwPwAAAAAAAPA/AAAAAAAA8D8AAAAAAADwPwAAAAAAAPA/AAAAAAAA8D8AAAAAAADwPwAAAAAAAPA/AAAAAAAA8D8AAAAAAADwPwAAAAAAAPA/AAAAAAAA8D8AAAAAAADwPwAAAAAAAPA/AAAAAAAA8D8AAAAAAADwPwAAAAAAAPA/AAAAAAAA8D8AAAAAAADwPwAAAAAAAPA/AAAAAAAA8D8AAAAAAADwPwAAAAAAAPA/AAAAAAAA8D8AAAAAAADwPwAAAAAAAPA/AAAAAAAA8D8AAAAAAADwPwAAAAAAAPA/AAAAAAAA8D8AAAAAAADwPwAAAAAAAPA/AAAAAAAA8D8AAAAAAADwPwAAAAAAAPA/AAAAAAAA8D8AAAAAAADwPwAAAAAAAPA/AAAAAAAA8D8AAAAAAADwPwAAAAAAAPA/AAAAAAAA8D8AAAAAAADwPwAAAAAAAPA/AAAAAAAA8D8AAAAAAADwPwAAAAAAAPA/AAAAAAAA8D8AAAAAAADwPwAAAAAAAPA/AAAAAAAA8D8AAAAAAADwPwAAAAAAAPA/AAAAAAAA8D8AAAAAAADwPwAAAAAAAPA/AAAAAAAA8D8AAAAAAADwPwAAAAAAAPA/AAAAAAAA8D8AAAAAAADwPwAAAAAAAPA/AAAAAAAA8D8AAAAAAADwPwAAAAAAAPA/AAAAAAAA8D8AAAAAAADwPwAAAAAAAPA/AAAAAAAA8D8AAAAAAADwPwAAAAAAAPA/AAAAAAAA8D8AAAAAAADwPwAAAAAAAPA/AAAAAAAA8D8AAAAAAADwPwAAAAAAAPA/AAAAAAAA8D8AAAAAAADwPwAAAAAAAPA/AAAAAAAA8D8AAAAAAADwPwAAAAAAAPA/AAAAAAAA8D8AAAAAAADwPwAAAAAAAPA/AAAAAAAA8D8AAAAAAADwPwAAAAAAAPA/AAAAAAAA8D8AAAAAAADwPwAAAAAAAPA/AAAAAAAA8D8AAAAAAADwPwAAAAAAAPA/AAAAAAAA8D8AAAAAAADwPwAAAAAAAPA/AAAAAAAA8D8AAAAAAADwPwAAAAAAAPA/AAAAAAAA8D8AAAAAAADwPwAAAAAAAPA/AAAAAAAA8D8AAAAAAADwPwAAAAAAAPA/AAAAAAAA8D8AAAAAAADwPwAAAAAAAPA/AAAAAAAA8D8AAAAAAADwPwAAAAAAAPA/AAAAAAAA8D8AAAAAAADwPwAAAAAAAPA/AAAAAAAA8D8AAAAAAADwPwAAAAAAAPA/AAAAAAAA8D8AAAAAAADwPwAAAAAAAPA/AAAAAAAA8D8AAAAAAADwPwAAAAAAAPA/AAAAAAAA8D8AAAAAAADwPwAAAAAAAPA/AAAAAAAA8D8AAAAAAADwPwAAAAAAAPA/AAAAAAAA8D8AAAAAAADwPwAAAAAAAPA/AAAAAAAA8D8AAAAAAADwPwAAAAAAAPA/AAAAAAAA8D8AAAAAAADwPwAAAAAAAPA/AAAAAAAA8D8AAAAAAADwPwAAAAAAAPA/AAAAAAAA8D8AAAAAAADwPwAAAAAAAPA/AAAAAAAA8D8AAAAAAADwPwAAAAAAAPA/AAAAAAAA8D8AAAAAAADwPwAAAAAAAPA/AAAAAAAA8D8AAAAAAADwPwAAAAAAAPA/AAAAAAAA8D8AAAAAAADwPwAAAAAAAPA/AAAAAAAA8D8AAAAAAADwPwAAAAAAAPA/AAAAAAAA8D8AAAAAAADwPwAAAAAAAPA/AAAAAAAA8D8AAAAAAADwPwAAAAAAAPA/AAAAAAAA8D8AAAAAAADwPwAAAAAAAPA/AAAAAAAA8D8AAAAAAADwPwAAAAAAAPA/AAAAAAAA8D8AAAAAAADwPwAAAAAAAPA/AAAAAAAA8D8AAAAAAADwPwAAAAAAAPA/AAAAAAAA8D8AAAAAAADwPwAAAAAAAPA/AAAAAAAA8D8AAAAAAADwPwAAAAAAAPA/AAAAAAAA8D8AAAAAAADwPwAAAAAAAPA/AAAAAAAA8D8AAAAAAADwPwAAAAAAAPA/AAAAAAAA8D8AAAAAAADwPwAAAAAAAPA/AAAAAAAA8D8AAAAAAADwPwAAAAAAAPA/AAAAAAAA8D8AAAAAAADwPwAAAAAAAPA/AAAAAAAA8D8AAAAAAADwPwAAAAAAAPA/AAAAAAAA8D8AAAAAAADwPwAAAAAAAPA/AAAAAAAA8D8AAAAAAADwPwAAAAAAAPA/AAAAAAAA8D8AAAAAAADwPwAAAAAAAPA/AAAAAAAA8D8AAAAAAADwPwAAAAAAAPA/AAAAAAAA8D8AAAAAAADwPwAAAAAAAPA/AAAAAAAA8D8AAAAAAADwPwAAAAAAAPA/AAAAAAAA8D8AAAAAAADwPwAAAAAAAPA/AAAAAAAA8D8AAAAAAADwPwAAAAAAAPA/AAAAAAAA8D8AAAAAAADwPwAAAAAAAPA/AAAAAAAA8D8AAAAAAADwPwAAAAAAAPA/AAAAAAAA8D8AAAAAAADwPwAAAAAAAPA/AAAAAAAA8D8AAAAAAADwPwAAAAAAAPA/AAAAAAAA8D8AAAAAAADwPwAAAAAAAPA/AAAAAAAA8D8AAAAAAADwPwAAAAAAAPA/AAAAAAAA8D8AAAAAAADwPwAAAAAAAPA/AAAAAAAA8D8AAAAAAADwPwAAAAAAAPA/AAAAAAAA8D8AAAAAAADwPwAAAAAAAPA/AAAAAAAA8D8AAAAAAADwPwAAAAAAAPA/AAAAAAAA8D8AAAAAAADwPwAAAAAAAPA/AAAAAAAA8D8AAAAAAADwPwAAAAAAAPA/AAAAAAAA8D8AAAAAAADwPwAAAAAAAPA/AAAAAAAA8D8AAAAAAADwPwAAAAAAAPA/AAAAAAAA8D8AAAAAAADwPwAAAAAAAPA/AAAAAAAA8D8AAAAAAADwPwAAAAAAAPA/AAAAAAAA8D8AAAAAAADwPwAAAAAAAPA/AAAAAAAA8D8AAAAAAADwPwAAAAAAAPA/AAAAAAAA8D8AAAAAAADwPwAAAAAAAPA/AAAAAAAA8D8AAAAAAADwPwAAAAAAAPA/AAAAAAAA8D8AAAAAAADwPwAAAAAAAPA/AAAAAAAA8D8AAAAAAADwPwAAAAAAAPA/AAAAAAAA8D8AAAAAAADwPwAAAAAAAPA/AAAAAAAA8D8AAAAAAADwPwAAAAAAAPA/AAAAAAAA8D8AAAAAAADwPwAAAAAAAPA/AAAAAAAA8D8AAAAAAADwPwAAAAAAAPA/AAAAAAAA8D8AAAAAAADwPwAAAAAAAPA/AAAAAAAA8D8AAAAAAADwPwAAAAAAAPA/AAAAAAAA8D8AAAAAAADwPwAAAAAAAPA/AAAAAAAA8D8AAAAAAADwPwAAAAAAAPA/AAAAAAAA8D8AAAAAAADwPwAAAAAAAPA/AAAAAAAA8D8AAAAAAADwPwAAAAAAAPA/AAAAAAAA8D8AAAAAAADwPwAAAAAAAPA/AAAAAAAA8D8AAAAAAADwPwAAAAAAAPA/AAAAAAAA8D8AAAAAAADwPwAAAAAAAPA/AAAAAAAA8D8AAAAAAADwPwAAAAAAAPA/AAAAAAAA8D8AAAAAAADwPwAAAAAAAPA/AAAAAAAA8D8AAAAAAADwPwAAAAAAAPA/AAAAAAAA8D8AAAAAAADwPwAAAAAAAPA/AAAAAAAA8D8AAAAAAADwPwAAAAAAAPA/AAAAAAAA8D8AAAAAAADwPwAAAAAAAPA/AAAAAAAA8D8AAAAAAADwPwAAAAAAAPA/AAAAAAAA8D8AAAAAAADwPwAAAAAAAPA/AAAAAAAA8D8AAAAAAADwPwAAAAAAAPA/AAAAAAAA8D8AAAAAAADwPwAAAAAAAPA/AAAAAAAA8D8AAAAAAADwPwAAAAAAAPA/AAAAAAAA8D8AAAAAAADwPwAAAAAAAPA/AAAAAAAA8D8AAAAAAADwPwAAAAAAAPA/AAAAAAAA8D8AAAAAAADwPwAAAAAAAPA/AAAAAAAA8D8AAAAAAADwPwAAAAAAAPA/AAAAAAAA8D8AAAAAAADwPwAAAAAAAPA/AAAAAAAA8D8AAAAAAADwPwAAAAAAAPA/AAAAAAAA8D8AAAAAAADwPwAAAAAAAPA/AAAAAAAA8D8AAAAAAADwPwAAAAAAAPA/AAAAAAAA8D8AAAAAAADwPwAAAAAAAPA/AAAAAAAA8D8AAAAAAADwPwAAAAAAAPA/AAAAAAAA8D8AAAAAAADwPwAAAAAAAPA/AAAAAAAA8D8AAAAAAADwPwAAAAAAAPA/AAAAAAAA8D8AAAAAAADwPwAAAAAAAPA/AAAAAAAA8D8AAAAAAADwPwAAAAAAAPA/AAAAAAAA8D8AAAAAAADwPwAAAAAAAPA/AAAAAAAA8D8AAAAAAADwPwAAAAAAAPA/AAAAAAAA8D8AAAAAAADwPwAAAAAAAPA/AAAAAAAA8D8AAAAAAADwPwAAAAAAAPA/AAAAAAAA8D8AAAAAAADwPwAAAAAAAPA/AAAAAAAA8D8AAAAAAADwPwAAAAAAAPA/AAAAAAAA8D8AAAAAAADwPwAAAAAAAPA/AAAAAAAA8D8AAAAAAADwPwAAAAAAAPA/AAAAAAAA8D8AAAAAAADwPwAAAAAAAPA/AAAAAAAA8D8AAAAAAADwPwAAAAAAAPA/AAAAAAAA8D8AAAAAAADwPwAAAAAAAPA/AAAAAAAA8D8AAAAAAADwPwAAAAAAAPA/AAAAAAAA8D8AAAAAAADwPwAAAAAAAPA/AAAAAAAA8D8AAAAAAADwPwAAAAAAAPA/AAAAAAAA8D8AAAAAAADwPwAAAAAAAPA/AAAAAAAA8D8AAAAAAADwPwAAAAAAAPA/AAAAAAAA8D8AAAAAAADwPwAAAAAAAPA/AAAAAAAA8D8AAAAAAADwPwAAAAAAAPA/AAAAAAAA8D8AAAAAAADwPwAAAAAAAPA/AAAAAAAA8D8AAAAAAADwPwAAAAAAAPA/AAAAAAAA8D8AAAAAAADwPwAAAAAAAPA/AAAAAAAA8D8AAAAAAADwPwAAAAAAAPA/AAAAAAAA8D8AAAAAAADwPwAAAAAAAPA/AAAAAAAA8D8AAAAAAADwPwAAAAAAAPA/AAAAAAAA8D8AAAAAAADwPwAAAAAAAPA/AAAAAAAA8D8AAAAAAADwPwAAAAAAAPA/AAAAAAAA8D8AAAAAAADwPwAAAAAAAPA/AAAAAAAA8D8AAAAAAADwPwAAAAAAAPA/AAAAAAAA8D8AAAAAAADwPwAAAAAAAPA/AAAAAAAA8D8AAAAAAADwPwAAAAAAAPA/AAAAAAAA8D8AAAAAAADwPwAAAAAAAPA/AAAAAAAA8D8AAAAAAADwPwAAAAAAAPA/AAAAAAAA8D8AAAAAAADwPwAAAAAAAPA/AAAAAAAA8D8AAAAAAADwPwAAAAAAAPA/AAAAAAAA8D8AAAAAAADwPwAAAAAAAPA/AAAAAAAA8D8AAAAAAADwPwAAAAAAAPA/AAAAAAAA8D8AAAAAAADwPwAAAAAAAPA/AAAAAAAA8D8AAAAAAADwPwAAAAAAAPA/AAAAAAAA8D8AAAAAAADwPwAAAAAAAPA/AAAAAAAA8D8AAAAAAADwPwAAAAAAAPA/AAAAAAAA8D8AAAAAAADwPwAAAAAAAPA/AAAAAAAA8D8AAAAAAADwPwAAAAAAAPA/AAAAAAAA8D8AAAAAAADwPwAAAAAAAPA/AAAAAAAA8D8AAAAAAADwPwAAAAAAAPA/AAAAAAAA8D8AAAAAAADwPwAAAAAAAPA/AAAAAAAA8D8AAAAAAADwPwAAAAAAAPA/AAAAAAAA8D8AAAAAAADwPwAAAAAAAPA/AAAAAAAA8D8AAAAAAADwPwAAAAAAAPA/AAAAAAAA8D8AAAAAAADwPwAAAAAAAPA/AAAAAAAA8D8AAAAAAADwPwAAAAAAAPA/AAAAAAAA8D8AAAAAAADwPwAAAAAAAPA/AAAAAAAA8D8AAAAAAADwPwAAAAAAAPA/AAAAAAAA8D8AAAAAAADwPwAAAAAAAPA/AAAAAAAA8D8AAAAAAADwPwAAAAAAAPA/AAAAAAAA8D8AAAAAAADwPwAAAAAAAPA/AAAAAAAA8D8AAAAAAADwPwAAAAAAAPA/AAAAAAAA8D8AAAAAAADwPwAAAAAAAPA/AAAAAAAA8D8AAAAAAADwPwAAAAAAAPA/AAAAAAAA8D8AAAAAAADwPwAAAAAAAPA/AAAAAAAA8D8AAAAAAADwPwAAAAAAAPA/AAAAAAAA8D8AAAAAAADwPwAAAAAAAPA/AAAAAAAA8D8AAAAAAADwPwAAAAAAAPA/AAAAAAAA8D8AAAAAAADwPwAAAAAAAPA/AAAAAAAA8D8AAAAAAADwPwAAAAAAAPA/AAAAAAAA8D8AAAAAAADwPwAAAAAAAPA/AAAAAAAA8D8AAAAAAADwPwAAAAAAAPA/AAAAAAAA8D8AAAAAAADwPwAAAAAAAPA/AAAAAAAA8D8AAAAAAADwPwAAAAAAAPA/AAAAAAAA8D8AAAAAAADwPwAAAAAAAPA/AAAAAAAA8D8AAAAAAADwPwAAAAAAAPA/AAAAAAAA8D8AAAAAAADwPwAAAAAAAPA/AAAAAAAA8D8AAAAAAADwPwAAAAAAAPA/AAAAAAAA8D8AAAAAAADwPwAAAAAAAPA/AAAAAAAA8D8AAAAAAADwPwAAAAAAAPA/AAAAAAAA8D8AAAAAAADwPwAAAAAAAPA/AAAAAAAA8D8AAAAAAADwPwAAAAAAAPA/AAAAAAAA8D8AAAAAAADwPwAAAAAAAPA/AAAAAAAA8D8AAAAAAADwPwAAAAAAAPA/AAAAAAAA8D8AAAAAAADwPwAAAAAAAPA/AAAAAAAA8D8AAAAAAADwPwAAAAAAAPA/AAAAAAAA8D8AAAAAAADwPwAAAAAAAPA/AAAAAAAA8D8AAAAAAADwPwAAAAAAAPA/AAAAAAAA8D8AAAAAAADwPwAAAAAAAPA/AAAAAAAA8D8AAAAAAADwPwAAAAAAAPA/AAAAAAAA8D8AAAAAAADwPwAAAAAAAPA/AAAAAAAA8D8AAAAAAADwPwAAAAAAAPA/AAAAAAAA8D8AAAAAAADwPwAAAAAAAPA/AAAAAAAA8D8AAAAAAADwPwAAAAAAAPA/AAAAAAAA8D8AAAAAAADwPwAAAAAAAPA/AAAAAAAA8D8AAAAAAADwPwAAAAAAAPA/AAAAAAAA8D8AAAAAAADwPwAAAAAAAPA/AAAAAAAA8D8AAAAAAADwPwAAAAAAAPA/AAAAAAAA8D8AAAAAAADwPwAAAAAAAPA/AAAAAAAA8D8AAAAAAADwPwAAAAAAAPA/AAAAAAAA8D8AAAAAAADwPwAAAAAAAPA/AAAAAAAA8D8AAAAAAADwPwAAAAAAAPA/AAAAAAAA8D8AAAAAAADwPwAAAAAAAPA/AAAAAAAA8D8AAAAAAADwPwAAAAAAAPA/AAAAAAAA8D8AAAAAAADwPwAAAAAAAPA/AAAAAAAA8D8AAAAAAADwPwAAAAAAAPA/AAAAAAAA8D8AAAAAAADwPwAAAAAAAPA/AAAAAAAA8D8AAAAAAADwPwAAAAAAAPA/AAAAAAAA8D8AAAAAAADwPwAAAAAAAPA/AAAAAAAA8D8AAAAAAADwPwAAAAAAAPA/AAAAAAAA8D8AAAAAAADwPwAAAAAAAPA/AAAAAAAA8D8AAAAAAADwPwAAAAAAAPA/AAAAAAAA8D8AAAAAAADwPwAAAAAAAPA/AAAAAAAA8D8AAAAAAADwPwAAAAAAAPA/AAAAAAAAAEAAAAAAAAAAQAAAAAAAAABAAAAAAAAAAEAAAAAAAAAAQAAAAAAAAABAAAAAAAAAAEAAAAAAAAAAQA==",
          "dtype": "f8"
         },
         "yaxis": "y2"
        }
       ],
       "layout": {
        "annotations": [
         {
          "font": {
           "color": "gray",
           "size": 12
          },
          "showarrow": false,
          "text": "Sample size: 1097",
          "x": 0.99,
          "xanchor": "right",
          "xref": "paper",
          "y": 0.02,
          "yref": "paper"
         }
        ],
        "height": 500,
        "legend": {
         "x": 1.02,
         "xanchor": "left",
         "y": 0.5
        },
        "margin": {
         "b": 50,
         "l": 70,
         "r": 160,
         "t": 50
        },
        "template": {
         "data": {
          "bar": [
           {
            "error_x": {
             "color": "#2a3f5f"
            },
            "error_y": {
             "color": "#2a3f5f"
            },
            "marker": {
             "line": {
              "color": "white",
              "width": 0.5
             },
             "pattern": {
              "fillmode": "overlay",
              "size": 10,
              "solidity": 0.2
             }
            },
            "type": "bar"
           }
          ],
          "barpolar": [
           {
            "marker": {
             "line": {
              "color": "white",
              "width": 0.5
             },
             "pattern": {
              "fillmode": "overlay",
              "size": 10,
              "solidity": 0.2
             }
            },
            "type": "barpolar"
           }
          ],
          "carpet": [
           {
            "aaxis": {
             "endlinecolor": "#2a3f5f",
             "gridcolor": "#C8D4E3",
             "linecolor": "#C8D4E3",
             "minorgridcolor": "#C8D4E3",
             "startlinecolor": "#2a3f5f"
            },
            "baxis": {
             "endlinecolor": "#2a3f5f",
             "gridcolor": "#C8D4E3",
             "linecolor": "#C8D4E3",
             "minorgridcolor": "#C8D4E3",
             "startlinecolor": "#2a3f5f"
            },
            "type": "carpet"
           }
          ],
          "choropleth": [
           {
            "colorbar": {
             "outlinewidth": 0,
             "ticks": ""
            },
            "type": "choropleth"
           }
          ],
          "contour": [
           {
            "colorbar": {
             "outlinewidth": 0,
             "ticks": ""
            },
            "colorscale": [
             [
              0,
              "#0d0887"
             ],
             [
              0.1111111111111111,
              "#46039f"
             ],
             [
              0.2222222222222222,
              "#7201a8"
             ],
             [
              0.3333333333333333,
              "#9c179e"
             ],
             [
              0.4444444444444444,
              "#bd3786"
             ],
             [
              0.5555555555555556,
              "#d8576b"
             ],
             [
              0.6666666666666666,
              "#ed7953"
             ],
             [
              0.7777777777777778,
              "#fb9f3a"
             ],
             [
              0.8888888888888888,
              "#fdca26"
             ],
             [
              1,
              "#f0f921"
             ]
            ],
            "type": "contour"
           }
          ],
          "contourcarpet": [
           {
            "colorbar": {
             "outlinewidth": 0,
             "ticks": ""
            },
            "type": "contourcarpet"
           }
          ],
          "heatmap": [
           {
            "colorbar": {
             "outlinewidth": 0,
             "ticks": ""
            },
            "colorscale": [
             [
              0,
              "#0d0887"
             ],
             [
              0.1111111111111111,
              "#46039f"
             ],
             [
              0.2222222222222222,
              "#7201a8"
             ],
             [
              0.3333333333333333,
              "#9c179e"
             ],
             [
              0.4444444444444444,
              "#bd3786"
             ],
             [
              0.5555555555555556,
              "#d8576b"
             ],
             [
              0.6666666666666666,
              "#ed7953"
             ],
             [
              0.7777777777777778,
              "#fb9f3a"
             ],
             [
              0.8888888888888888,
              "#fdca26"
             ],
             [
              1,
              "#f0f921"
             ]
            ],
            "type": "heatmap"
           }
          ],
          "histogram": [
           {
            "marker": {
             "pattern": {
              "fillmode": "overlay",
              "size": 10,
              "solidity": 0.2
             }
            },
            "type": "histogram"
           }
          ],
          "histogram2d": [
           {
            "colorbar": {
             "outlinewidth": 0,
             "ticks": ""
            },
            "colorscale": [
             [
              0,
              "#0d0887"
             ],
             [
              0.1111111111111111,
              "#46039f"
             ],
             [
              0.2222222222222222,
              "#7201a8"
             ],
             [
              0.3333333333333333,
              "#9c179e"
             ],
             [
              0.4444444444444444,
              "#bd3786"
             ],
             [
              0.5555555555555556,
              "#d8576b"
             ],
             [
              0.6666666666666666,
              "#ed7953"
             ],
             [
              0.7777777777777778,
              "#fb9f3a"
             ],
             [
              0.8888888888888888,
              "#fdca26"
             ],
             [
              1,
              "#f0f921"
             ]
            ],
            "type": "histogram2d"
           }
          ],
          "histogram2dcontour": [
           {
            "colorbar": {
             "outlinewidth": 0,
             "ticks": ""
            },
            "colorscale": [
             [
              0,
              "#0d0887"
             ],
             [
              0.1111111111111111,
              "#46039f"
             ],
             [
              0.2222222222222222,
              "#7201a8"
             ],
             [
              0.3333333333333333,
              "#9c179e"
             ],
             [
              0.4444444444444444,
              "#bd3786"
             ],
             [
              0.5555555555555556,
              "#d8576b"
             ],
             [
              0.6666666666666666,
              "#ed7953"
             ],
             [
              0.7777777777777778,
              "#fb9f3a"
             ],
             [
              0.8888888888888888,
              "#fdca26"
             ],
             [
              1,
              "#f0f921"
             ]
            ],
            "type": "histogram2dcontour"
           }
          ],
          "mesh3d": [
           {
            "colorbar": {
             "outlinewidth": 0,
             "ticks": ""
            },
            "type": "mesh3d"
           }
          ],
          "parcoords": [
           {
            "line": {
             "colorbar": {
              "outlinewidth": 0,
              "ticks": ""
             }
            },
            "type": "parcoords"
           }
          ],
          "pie": [
           {
            "automargin": true,
            "type": "pie"
           }
          ],
          "scatter": [
           {
            "fillpattern": {
             "fillmode": "overlay",
             "size": 10,
             "solidity": 0.2
            },
            "type": "scatter"
           }
          ],
          "scatter3d": [
           {
            "line": {
             "colorbar": {
              "outlinewidth": 0,
              "ticks": ""
             }
            },
            "marker": {
             "colorbar": {
              "outlinewidth": 0,
              "ticks": ""
             }
            },
            "type": "scatter3d"
           }
          ],
          "scattercarpet": [
           {
            "marker": {
             "colorbar": {
              "outlinewidth": 0,
              "ticks": ""
             }
            },
            "type": "scattercarpet"
           }
          ],
          "scattergeo": [
           {
            "marker": {
             "colorbar": {
              "outlinewidth": 0,
              "ticks": ""
             }
            },
            "type": "scattergeo"
           }
          ],
          "scattergl": [
           {
            "marker": {
             "colorbar": {
              "outlinewidth": 0,
              "ticks": ""
             }
            },
            "type": "scattergl"
           }
          ],
          "scattermap": [
           {
            "marker": {
             "colorbar": {
              "outlinewidth": 0,
              "ticks": ""
             }
            },
            "type": "scattermap"
           }
          ],
          "scattermapbox": [
           {
            "marker": {
             "colorbar": {
              "outlinewidth": 0,
              "ticks": ""
             }
            },
            "type": "scattermapbox"
           }
          ],
          "scatterpolar": [
           {
            "marker": {
             "colorbar": {
              "outlinewidth": 0,
              "ticks": ""
             }
            },
            "type": "scatterpolar"
           }
          ],
          "scatterpolargl": [
           {
            "marker": {
             "colorbar": {
              "outlinewidth": 0,
              "ticks": ""
             }
            },
            "type": "scatterpolargl"
           }
          ],
          "scatterternary": [
           {
            "marker": {
             "colorbar": {
              "outlinewidth": 0,
              "ticks": ""
             }
            },
            "type": "scatterternary"
           }
          ],
          "surface": [
           {
            "colorbar": {
             "outlinewidth": 0,
             "ticks": ""
            },
            "colorscale": [
             [
              0,
              "#0d0887"
             ],
             [
              0.1111111111111111,
              "#46039f"
             ],
             [
              0.2222222222222222,
              "#7201a8"
             ],
             [
              0.3333333333333333,
              "#9c179e"
             ],
             [
              0.4444444444444444,
              "#bd3786"
             ],
             [
              0.5555555555555556,
              "#d8576b"
             ],
             [
              0.6666666666666666,
              "#ed7953"
             ],
             [
              0.7777777777777778,
              "#fb9f3a"
             ],
             [
              0.8888888888888888,
              "#fdca26"
             ],
             [
              1,
              "#f0f921"
             ]
            ],
            "type": "surface"
           }
          ],
          "table": [
           {
            "cells": {
             "fill": {
              "color": "#EBF0F8"
             },
             "line": {
              "color": "white"
             }
            },
            "header": {
             "fill": {
              "color": "#C8D4E3"
             },
             "line": {
              "color": "white"
             }
            },
            "type": "table"
           }
          ]
         },
         "layout": {
          "annotationdefaults": {
           "arrowcolor": "#2a3f5f",
           "arrowhead": 0,
           "arrowwidth": 1
          },
          "autotypenumbers": "strict",
          "coloraxis": {
           "colorbar": {
            "outlinewidth": 0,
            "ticks": ""
           }
          },
          "colorscale": {
           "diverging": [
            [
             0,
             "#8e0152"
            ],
            [
             0.1,
             "#c51b7d"
            ],
            [
             0.2,
             "#de77ae"
            ],
            [
             0.3,
             "#f1b6da"
            ],
            [
             0.4,
             "#fde0ef"
            ],
            [
             0.5,
             "#f7f7f7"
            ],
            [
             0.6,
             "#e6f5d0"
            ],
            [
             0.7,
             "#b8e186"
            ],
            [
             0.8,
             "#7fbc41"
            ],
            [
             0.9,
             "#4d9221"
            ],
            [
             1,
             "#276419"
            ]
           ],
           "sequential": [
            [
             0,
             "#0d0887"
            ],
            [
             0.1111111111111111,
             "#46039f"
            ],
            [
             0.2222222222222222,
             "#7201a8"
            ],
            [
             0.3333333333333333,
             "#9c179e"
            ],
            [
             0.4444444444444444,
             "#bd3786"
            ],
            [
             0.5555555555555556,
             "#d8576b"
            ],
            [
             0.6666666666666666,
             "#ed7953"
            ],
            [
             0.7777777777777778,
             "#fb9f3a"
            ],
            [
             0.8888888888888888,
             "#fdca26"
            ],
            [
             1,
             "#f0f921"
            ]
           ],
           "sequentialminus": [
            [
             0,
             "#0d0887"
            ],
            [
             0.1111111111111111,
             "#46039f"
            ],
            [
             0.2222222222222222,
             "#7201a8"
            ],
            [
             0.3333333333333333,
             "#9c179e"
            ],
            [
             0.4444444444444444,
             "#bd3786"
            ],
            [
             0.5555555555555556,
             "#d8576b"
            ],
            [
             0.6666666666666666,
             "#ed7953"
            ],
            [
             0.7777777777777778,
             "#fb9f3a"
            ],
            [
             0.8888888888888888,
             "#fdca26"
            ],
            [
             1,
             "#f0f921"
            ]
           ]
          },
          "colorway": [
           "#636efa",
           "#EF553B",
           "#00cc96",
           "#ab63fa",
           "#FFA15A",
           "#19d3f3",
           "#FF6692",
           "#B6E880",
           "#FF97FF",
           "#FECB52"
          ],
          "font": {
           "color": "#2a3f5f"
          },
          "geo": {
           "bgcolor": "white",
           "lakecolor": "white",
           "landcolor": "white",
           "showlakes": true,
           "showland": true,
           "subunitcolor": "#C8D4E3"
          },
          "hoverlabel": {
           "align": "left"
          },
          "hovermode": "closest",
          "mapbox": {
           "style": "light"
          },
          "paper_bgcolor": "white",
          "plot_bgcolor": "white",
          "polar": {
           "angularaxis": {
            "gridcolor": "#EBF0F8",
            "linecolor": "#EBF0F8",
            "ticks": ""
           },
           "bgcolor": "white",
           "radialaxis": {
            "gridcolor": "#EBF0F8",
            "linecolor": "#EBF0F8",
            "ticks": ""
           }
          },
          "scene": {
           "xaxis": {
            "backgroundcolor": "white",
            "gridcolor": "#DFE8F3",
            "gridwidth": 2,
            "linecolor": "#EBF0F8",
            "showbackground": true,
            "ticks": "",
            "zerolinecolor": "#EBF0F8"
           },
           "yaxis": {
            "backgroundcolor": "white",
            "gridcolor": "#DFE8F3",
            "gridwidth": 2,
            "linecolor": "#EBF0F8",
            "showbackground": true,
            "ticks": "",
            "zerolinecolor": "#EBF0F8"
           },
           "zaxis": {
            "backgroundcolor": "white",
            "gridcolor": "#DFE8F3",
            "gridwidth": 2,
            "linecolor": "#EBF0F8",
            "showbackground": true,
            "ticks": "",
            "zerolinecolor": "#EBF0F8"
           }
          },
          "shapedefaults": {
           "line": {
            "color": "#2a3f5f"
           }
          },
          "ternary": {
           "aaxis": {
            "gridcolor": "#DFE8F3",
            "linecolor": "#A2B1C6",
            "ticks": ""
           },
           "baxis": {
            "gridcolor": "#DFE8F3",
            "linecolor": "#A2B1C6",
            "ticks": ""
           },
           "bgcolor": "white",
           "caxis": {
            "gridcolor": "#DFE8F3",
            "linecolor": "#A2B1C6",
            "ticks": ""
           }
          },
          "title": {
           "x": 0.05
          },
          "xaxis": {
           "automargin": true,
           "gridcolor": "#EBF0F8",
           "linecolor": "#EBF0F8",
           "ticks": "",
           "title": {
            "standoff": 15
           },
           "zerolinecolor": "#EBF0F8",
           "zerolinewidth": 2
          },
          "yaxis": {
           "automargin": true,
           "gridcolor": "#EBF0F8",
           "linecolor": "#EBF0F8",
           "ticks": "",
           "title": {
            "standoff": 15
           },
           "zerolinecolor": "#EBF0F8",
           "zerolinewidth": 2
          }
         }
        },
        "xaxis": {
         "anchor": "y",
         "domain": [
          0,
          0.94
         ],
         "showgrid": true,
         "title": {
          "text": "sample proportion"
         }
        },
        "yaxis": {
         "anchor": "x",
         "domain": [
          0,
          1
         ],
         "showgrid": true,
         "tickfont": {
          "color": "rgb(31, 119, 180)"
         },
         "title": {
          "font": {
           "color": "rgb(31, 119, 180)"
          },
          "text": "cum_demeaned_daily_ret"
         }
        },
        "yaxis2": {
         "anchor": "x",
         "overlaying": "y",
         "showgrid": false,
         "side": "right",
         "tickfont": {
          "color": "rgb(214, 39, 40)"
         },
         "title": {
          "font": {
           "color": "rgb(214, 39, 40)"
          },
          "text": "date_gap_days"
         }
        }
       }
      }
     },
     "metadata": {},
     "output_type": "display_data"
    },
    {
     "name": "stdout",
     "output_type": "stream",
     "text": [
      "Testing H0: mean = 0.000000 vs H1: mean != 0.000000\n",
      "n = 297\n",
      "mean = -0.189799\n",
      "std = 0.447282\n",
      "std err = 0.025954\n",
      "t-stat = -7.3129\n",
      "p-value = 2.459e-12\n",
      "confidence interval = (-0.240876, -0.138721)\n",
      "reject null @ alpha = 0.05: True\n",
      "\n"
     ]
    },
    {
     "data": {
      "application/vnd.plotly.v1+json": {
       "config": {
        "plotlyServerURL": "https://plot.ly"
       },
       "data": [
        {
         "line": {
          "color": "rgb(31, 119, 180)"
         },
         "mode": "lines",
         "name": "cum_demeaned_daily_ret",
         "type": "scatter",
         "x": {
          "bdata": "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",
          "dtype": "f8"
         },
         "xaxis": "x",
         "y": {
          "bdata": "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",
          "dtype": "f8"
         },
         "yaxis": "y"
        },
        {
         "line": {
          "color": "rgb(214, 39, 40)",
          "dash": "dash"
         },
         "mode": "lines",
         "name": "date_gap_days",
         "type": "scatter",
         "x": {
          "bdata": "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",
          "dtype": "f8"
         },
         "xaxis": "x",
         "y": {
          "bdata": "AAAAAAAACEAAAAAAAAAIQAAAAAAAAAhAAAAAAAAACEAAAAAAAAAIQAAAAAAAAAhAAAAAAAAACEAAAAAAAAAIQAAAAAAAAAhAAAAAAAAACEAAAAAAAAAIQAAAAAAAAAhAAAAAAAAACEAAAAAAAAAIQAAAAAAAAAhAAAAAAAAACEAAAAAAAAAIQAAAAAAAAAhAAAAAAAAACEAAAAAAAAAIQAAAAAAAAAhAAAAAAAAACEAAAAAAAAAIQAAAAAAAAAhAAAAAAAAACEAAAAAAAAAIQAAAAAAAAAhAAAAAAAAACEAAAAAAAAAIQAAAAAAAAAhAAAAAAAAACEAAAAAAAAAIQAAAAAAAAAhAAAAAAAAACEAAAAAAAAAIQAAAAAAAAAhAAAAAAAAACEAAAAAAAAAIQAAAAAAAAAhAAAAAAAAACEAAAAAAAAAIQAAAAAAAAAhAAAAAAAAACEAAAAAAAAAIQAAAAAAAAAhAAAAAAAAACEAAAAAAAAAIQAAAAAAAAAhAAAAAAAAACEAAAAAAAAAIQAAAAAAAAAhAAAAAAAAACEAAAAAAAAAIQAAAAAAAAAhAAAAAAAAACEAAAAAAAAAIQAAAAAAAAAhAAAAAAAAACEAAAAAAAAAIQAAAAAAAAAhAAAAAAAAACEAAAAAAAAAIQAAAAAAAAAhAAAAAAAAACEAAAAAAAAAIQAAAAAAAAAhAAAAAAAAACEAAAAAAAAAIQAAAAAAAAAhAAAAAAAAACEAAAAAAAAAIQAAAAAAAAAhAAAAAAAAACEAAAAAAAAAIQAAAAAAAAAhAAAAAAAAACEAAAAAAAAAIQAAAAAAAAAhAAAAAAAAACEAAAAAAAAAIQAAAAAAAAAhAAAAAAAAACEAAAAAAAAAIQAAAAAAAAAhAAAAAAAAACEAAAAAAAAAIQAAAAAAAAAhAAAAAAAAACEAAAAAAAAAIQAAAAAAAAAhAAAAAAAAACEAAAAAAAAAIQAAAAAAAAAhAAAAAAAAACEAAAAAAAAAIQAAAAAAAAAhAAAAAAAAACEAAAAAAAAAIQAAAAAAAAAhAAAAAAAAACEAAAAAAAAAIQAAAAAAAAAhAAAAAAAAACEAAAAAAAAAIQAAAAAAAAAhAAAAAAAAACEAAAAAAAAAIQAAAAAAAAAhAAAAAAAAACEAAAAAAAAAIQAAAAAAAAAhAAAAAAAAACEAAAAAAAAAIQAAAAAAAAAhAAAAAAAAACEAAAAAAAAAIQAAAAAAAAAhAAAAAAAAACEAAAAAAAAAIQAAAAAAAAAhAAAAAAAAACEAAAAAAAAAIQAAAAAAAAAhAAAAAAAAACEAAAAAAAAAIQAAAAAAAAAhAAAAAAAAACEAAAAAAAAAIQAAAAAAAAAhAAAAAAAAACEAAAAAAAAAIQAAAAAAAAAhAAAAAAAAACEAAAAAAAAAIQAAAAAAAAAhAAAAAAAAACEAAAAAAAAAIQAAAAAAAAAhAAAAAAAAACEAAAAAAAAAIQAAAAAAAAAhAAAAAAAAACEAAAAAAAAAIQAAAAAAAAAhAAAAAAAAACEAAAAAAAAAIQAAAAAAAAAhAAAAAAAAACEAAAAAAAAAIQAAAAAAAAAhAAAAAAAAACEAAAAAAAAAIQAAAAAAAAAhAAAAAAAAACEAAAAAAAAAIQAAAAAAAAAhAAAAAAAAACEAAAAAAAAAIQAAAAAAAAAhAAAAAAAAACEAAAAAAAAAIQAAAAAAAAAhAAAAAAAAACEAAAAAAAAAIQAAAAAAAAAhAAAAAAAAACEAAAAAAAAAIQAAAAAAAAAhAAAAAAAAACEAAAAAAAAAIQAAAAAAAAAhAAAAAAAAACEAAAAAAAAAIQAAAAAAAAAhAAAAAAAAACEAAAAAAAAAIQAAAAAAAAAhAAAAAAAAACEAAAAAAAAAIQAAAAAAAAAhAAAAAAAAACEAAAAAAAAAIQAAAAAAAAAhAAAAAAAAACEAAAAAAAAAIQAAAAAAAAAhAAAAAAAAACEAAAAAAAAAIQAAAAAAAAAhAAAAAAAAACEAAAAAAAAAIQAAAAAAAAAhAAAAAAAAACEAAAAAAAAAIQAAAAAAAAAhAAAAAAAAACEAAAAAAAAAIQAAAAAAAAAhAAAAAAAAACEAAAAAAAAAIQAAAAAAAAAhAAAAAAAAACEAAAAAAAAAIQAAAAAAAAAhAAAAAAAAACEAAAAAAAAAIQAAAAAAAAAhAAAAAAAAACEAAAAAAAAAIQAAAAAAAAAhAAAAAAAAACEAAAAAAAAAIQAAAAAAAAAhAAAAAAAAACEAAAAAAAAAIQAAAAAAAAAhAAAAAAAAACEAAAAAAAAAIQAAAAAAAAAhAAAAAAAAACEAAAAAAAAAIQAAAAAAAAAhAAAAAAAAACEAAAAAAAAAIQAAAAAAAAAhAAAAAAAAACEAAAAAAAAAIQAAAAAAAAAhAAAAAAAAACEAAAAAAAAAIQAAAAAAAAAhAAAAAAAAACEAAAAAAAAAIQAAAAAAAAAhAAAAAAAAACEAAAAAAAAAIQAAAAAAAAAhAAAAAAAAACEAAAAAAAAAIQAAAAAAAAAhAAAAAAAAACEAAAAAAAAAIQAAAAAAAAAhAAAAAAAAACEAAAAAAAAAIQAAAAAAAAAhAAAAAAAAACEAAAAAAAAAIQAAAAAAAAAhAAAAAAAAACEAAAAAAAAAIQAAAAAAAAAhAAAAAAAAACEAAAAAAAAAIQAAAAAAAAAhAAAAAAAAACEAAAAAAAAAIQAAAAAAAAAhAAAAAAAAAEEAAAAAAAAAQQAAAAAAAABBAAAAAAAAAEEAAAAAAAAAQQAAAAAAAABBAAAAAAAAAEEAAAAAAAAAQQAAAAAAAABBAAAAAAAAAEEAAAAAAAAAQQAAAAAAAABBAAAAAAAAAEEAAAAAAAAAQQAAAAAAAABBAAAAAAAAAEEAAAAAAAAAQQAAAAAAAABBAAAAAAAAAEEAAAAAAAAAQQAAAAAAAABBAAAAAAAAAFEAAAAAAAAAUQAAAAAAAABRAAAAAAAAAFEAAAAAAAAAUQAAAAAAAABRAAAAAAAAAFEAAAAAAAAAUQAAAAAAAABRAAAAAAAAAFEAAAAAAAAAUQAAAAAAAABhAAAAAAAAAJEAAAAAAAAAkQAAAAAAAAChAAAAAAAAAKEAAAAAAAAAoQAAAAAAAACpA",
          "dtype": "f8"
         },
         "yaxis": "y2"
        }
       ],
       "layout": {
        "annotations": [
         {
          "font": {
           "color": "gray",
           "size": 12
          },
          "showarrow": false,
          "text": "Sample size: 297",
          "x": 0.99,
          "xanchor": "right",
          "xref": "paper",
          "y": 0.02,
          "yref": "paper"
         }
        ],
        "height": 500,
        "legend": {
         "x": 1.02,
         "xanchor": "left",
         "y": 0.5
        },
        "margin": {
         "b": 50,
         "l": 70,
         "r": 160,
         "t": 50
        },
        "template": {
         "data": {
          "bar": [
           {
            "error_x": {
             "color": "#2a3f5f"
            },
            "error_y": {
             "color": "#2a3f5f"
            },
            "marker": {
             "line": {
              "color": "white",
              "width": 0.5
             },
             "pattern": {
              "fillmode": "overlay",
              "size": 10,
              "solidity": 0.2
             }
            },
            "type": "bar"
           }
          ],
          "barpolar": [
           {
            "marker": {
             "line": {
              "color": "white",
              "width": 0.5
             },
             "pattern": {
              "fillmode": "overlay",
              "size": 10,
              "solidity": 0.2
             }
            },
            "type": "barpolar"
           }
          ],
          "carpet": [
           {
            "aaxis": {
             "endlinecolor": "#2a3f5f",
             "gridcolor": "#C8D4E3",
             "linecolor": "#C8D4E3",
             "minorgridcolor": "#C8D4E3",
             "startlinecolor": "#2a3f5f"
            },
            "baxis": {
             "endlinecolor": "#2a3f5f",
             "gridcolor": "#C8D4E3",
             "linecolor": "#C8D4E3",
             "minorgridcolor": "#C8D4E3",
             "startlinecolor": "#2a3f5f"
            },
            "type": "carpet"
           }
          ],
          "choropleth": [
           {
            "colorbar": {
             "outlinewidth": 0,
             "ticks": ""
            },
            "type": "choropleth"
           }
          ],
          "contour": [
           {
            "colorbar": {
             "outlinewidth": 0,
             "ticks": ""
            },
            "colorscale": [
             [
              0,
              "#0d0887"
             ],
             [
              0.1111111111111111,
              "#46039f"
             ],
             [
              0.2222222222222222,
              "#7201a8"
             ],
             [
              0.3333333333333333,
              "#9c179e"
             ],
             [
              0.4444444444444444,
              "#bd3786"
             ],
             [
              0.5555555555555556,
              "#d8576b"
             ],
             [
              0.6666666666666666,
              "#ed7953"
             ],
             [
              0.7777777777777778,
              "#fb9f3a"
             ],
             [
              0.8888888888888888,
              "#fdca26"
             ],
             [
              1,
              "#f0f921"
             ]
            ],
            "type": "contour"
           }
          ],
          "contourcarpet": [
           {
            "colorbar": {
             "outlinewidth": 0,
             "ticks": ""
            },
            "type": "contourcarpet"
           }
          ],
          "heatmap": [
           {
            "colorbar": {
             "outlinewidth": 0,
             "ticks": ""
            },
            "colorscale": [
             [
              0,
              "#0d0887"
             ],
             [
              0.1111111111111111,
              "#46039f"
             ],
             [
              0.2222222222222222,
              "#7201a8"
             ],
             [
              0.3333333333333333,
              "#9c179e"
             ],
             [
              0.4444444444444444,
              "#bd3786"
             ],
             [
              0.5555555555555556,
              "#d8576b"
             ],
             [
              0.6666666666666666,
              "#ed7953"
             ],
             [
              0.7777777777777778,
              "#fb9f3a"
             ],
             [
              0.8888888888888888,
              "#fdca26"
             ],
             [
              1,
              "#f0f921"
             ]
            ],
            "type": "heatmap"
           }
          ],
          "histogram": [
           {
            "marker": {
             "pattern": {
              "fillmode": "overlay",
              "size": 10,
              "solidity": 0.2
             }
            },
            "type": "histogram"
           }
          ],
          "histogram2d": [
           {
            "colorbar": {
             "outlinewidth": 0,
             "ticks": ""
            },
            "colorscale": [
             [
              0,
              "#0d0887"
             ],
             [
              0.1111111111111111,
              "#46039f"
             ],
             [
              0.2222222222222222,
              "#7201a8"
             ],
             [
              0.3333333333333333,
              "#9c179e"
             ],
             [
              0.4444444444444444,
              "#bd3786"
             ],
             [
              0.5555555555555556,
              "#d8576b"
             ],
             [
              0.6666666666666666,
              "#ed7953"
             ],
             [
              0.7777777777777778,
              "#fb9f3a"
             ],
             [
              0.8888888888888888,
              "#fdca26"
             ],
             [
              1,
              "#f0f921"
             ]
            ],
            "type": "histogram2d"
           }
          ],
          "histogram2dcontour": [
           {
            "colorbar": {
             "outlinewidth": 0,
             "ticks": ""
            },
            "colorscale": [
             [
              0,
              "#0d0887"
             ],
             [
              0.1111111111111111,
              "#46039f"
             ],
             [
              0.2222222222222222,
              "#7201a8"
             ],
             [
              0.3333333333333333,
              "#9c179e"
             ],
             [
              0.4444444444444444,
              "#bd3786"
             ],
             [
              0.5555555555555556,
              "#d8576b"
             ],
             [
              0.6666666666666666,
              "#ed7953"
             ],
             [
              0.7777777777777778,
              "#fb9f3a"
             ],
             [
              0.8888888888888888,
              "#fdca26"
             ],
             [
              1,
              "#f0f921"
             ]
            ],
            "type": "histogram2dcontour"
           }
          ],
          "mesh3d": [
           {
            "colorbar": {
             "outlinewidth": 0,
             "ticks": ""
            },
            "type": "mesh3d"
           }
          ],
          "parcoords": [
           {
            "line": {
             "colorbar": {
              "outlinewidth": 0,
              "ticks": ""
             }
            },
            "type": "parcoords"
           }
          ],
          "pie": [
           {
            "automargin": true,
            "type": "pie"
           }
          ],
          "scatter": [
           {
            "fillpattern": {
             "fillmode": "overlay",
             "size": 10,
             "solidity": 0.2
            },
            "type": "scatter"
           }
          ],
          "scatter3d": [
           {
            "line": {
             "colorbar": {
              "outlinewidth": 0,
              "ticks": ""
             }
            },
            "marker": {
             "colorbar": {
              "outlinewidth": 0,
              "ticks": ""
             }
            },
            "type": "scatter3d"
           }
          ],
          "scattercarpet": [
           {
            "marker": {
             "colorbar": {
              "outlinewidth": 0,
              "ticks": ""
             }
            },
            "type": "scattercarpet"
           }
          ],
          "scattergeo": [
           {
            "marker": {
             "colorbar": {
              "outlinewidth": 0,
              "ticks": ""
             }
            },
            "type": "scattergeo"
           }
          ],
          "scattergl": [
           {
            "marker": {
             "colorbar": {
              "outlinewidth": 0,
              "ticks": ""
             }
            },
            "type": "scattergl"
           }
          ],
          "scattermap": [
           {
            "marker": {
             "colorbar": {
              "outlinewidth": 0,
              "ticks": ""
             }
            },
            "type": "scattermap"
           }
          ],
          "scattermapbox": [
           {
            "marker": {
             "colorbar": {
              "outlinewidth": 0,
              "ticks": ""
             }
            },
            "type": "scattermapbox"
           }
          ],
          "scatterpolar": [
           {
            "marker": {
             "colorbar": {
              "outlinewidth": 0,
              "ticks": ""
             }
            },
            "type": "scatterpolar"
           }
          ],
          "scatterpolargl": [
           {
            "marker": {
             "colorbar": {
              "outlinewidth": 0,
              "ticks": ""
             }
            },
            "type": "scatterpolargl"
           }
          ],
          "scatterternary": [
           {
            "marker": {
             "colorbar": {
              "outlinewidth": 0,
              "ticks": ""
             }
            },
            "type": "scatterternary"
           }
          ],
          "surface": [
           {
            "colorbar": {
             "outlinewidth": 0,
             "ticks": ""
            },
            "colorscale": [
             [
              0,
              "#0d0887"
             ],
             [
              0.1111111111111111,
              "#46039f"
             ],
             [
              0.2222222222222222,
              "#7201a8"
             ],
             [
              0.3333333333333333,
              "#9c179e"
             ],
             [
              0.4444444444444444,
              "#bd3786"
             ],
             [
              0.5555555555555556,
              "#d8576b"
             ],
             [
              0.6666666666666666,
              "#ed7953"
             ],
             [
              0.7777777777777778,
              "#fb9f3a"
             ],
             [
              0.8888888888888888,
              "#fdca26"
             ],
             [
              1,
              "#f0f921"
             ]
            ],
            "type": "surface"
           }
          ],
          "table": [
           {
            "cells": {
             "fill": {
              "color": "#EBF0F8"
             },
             "line": {
              "color": "white"
             }
            },
            "header": {
             "fill": {
              "color": "#C8D4E3"
             },
             "line": {
              "color": "white"
             }
            },
            "type": "table"
           }
          ]
         },
         "layout": {
          "annotationdefaults": {
           "arrowcolor": "#2a3f5f",
           "arrowhead": 0,
           "arrowwidth": 1
          },
          "autotypenumbers": "strict",
          "coloraxis": {
           "colorbar": {
            "outlinewidth": 0,
            "ticks": ""
           }
          },
          "colorscale": {
           "diverging": [
            [
             0,
             "#8e0152"
            ],
            [
             0.1,
             "#c51b7d"
            ],
            [
             0.2,
             "#de77ae"
            ],
            [
             0.3,
             "#f1b6da"
            ],
            [
             0.4,
             "#fde0ef"
            ],
            [
             0.5,
             "#f7f7f7"
            ],
            [
             0.6,
             "#e6f5d0"
            ],
            [
             0.7,
             "#b8e186"
            ],
            [
             0.8,
             "#7fbc41"
            ],
            [
             0.9,
             "#4d9221"
            ],
            [
             1,
             "#276419"
            ]
           ],
           "sequential": [
            [
             0,
             "#0d0887"
            ],
            [
             0.1111111111111111,
             "#46039f"
            ],
            [
             0.2222222222222222,
             "#7201a8"
            ],
            [
             0.3333333333333333,
             "#9c179e"
            ],
            [
             0.4444444444444444,
             "#bd3786"
            ],
            [
             0.5555555555555556,
             "#d8576b"
            ],
            [
             0.6666666666666666,
             "#ed7953"
            ],
            [
             0.7777777777777778,
             "#fb9f3a"
            ],
            [
             0.8888888888888888,
             "#fdca26"
            ],
            [
             1,
             "#f0f921"
            ]
           ],
           "sequentialminus": [
            [
             0,
             "#0d0887"
            ],
            [
             0.1111111111111111,
             "#46039f"
            ],
            [
             0.2222222222222222,
             "#7201a8"
            ],
            [
             0.3333333333333333,
             "#9c179e"
            ],
            [
             0.4444444444444444,
             "#bd3786"
            ],
            [
             0.5555555555555556,
             "#d8576b"
            ],
            [
             0.6666666666666666,
             "#ed7953"
            ],
            [
             0.7777777777777778,
             "#fb9f3a"
            ],
            [
             0.8888888888888888,
             "#fdca26"
            ],
            [
             1,
             "#f0f921"
            ]
           ]
          },
          "colorway": [
           "#636efa",
           "#EF553B",
           "#00cc96",
           "#ab63fa",
           "#FFA15A",
           "#19d3f3",
           "#FF6692",
           "#B6E880",
           "#FF97FF",
           "#FECB52"
          ],
          "font": {
           "color": "#2a3f5f"
          },
          "geo": {
           "bgcolor": "white",
           "lakecolor": "white",
           "landcolor": "white",
           "showlakes": true,
           "showland": true,
           "subunitcolor": "#C8D4E3"
          },
          "hoverlabel": {
           "align": "left"
          },
          "hovermode": "closest",
          "mapbox": {
           "style": "light"
          },
          "paper_bgcolor": "white",
          "plot_bgcolor": "white",
          "polar": {
           "angularaxis": {
            "gridcolor": "#EBF0F8",
            "linecolor": "#EBF0F8",
            "ticks": ""
           },
           "bgcolor": "white",
           "radialaxis": {
            "gridcolor": "#EBF0F8",
            "linecolor": "#EBF0F8",
            "ticks": ""
           }
          },
          "scene": {
           "xaxis": {
            "backgroundcolor": "white",
            "gridcolor": "#DFE8F3",
            "gridwidth": 2,
            "linecolor": "#EBF0F8",
            "showbackground": true,
            "ticks": "",
            "zerolinecolor": "#EBF0F8"
           },
           "yaxis": {
            "backgroundcolor": "white",
            "gridcolor": "#DFE8F3",
            "gridwidth": 2,
            "linecolor": "#EBF0F8",
            "showbackground": true,
            "ticks": "",
            "zerolinecolor": "#EBF0F8"
           },
           "zaxis": {
            "backgroundcolor": "white",
            "gridcolor": "#DFE8F3",
            "gridwidth": 2,
            "linecolor": "#EBF0F8",
            "showbackground": true,
            "ticks": "",
            "zerolinecolor": "#EBF0F8"
           }
          },
          "shapedefaults": {
           "line": {
            "color": "#2a3f5f"
           }
          },
          "ternary": {
           "aaxis": {
            "gridcolor": "#DFE8F3",
            "linecolor": "#A2B1C6",
            "ticks": ""
           },
           "baxis": {
            "gridcolor": "#DFE8F3",
            "linecolor": "#A2B1C6",
            "ticks": ""
           },
           "bgcolor": "white",
           "caxis": {
            "gridcolor": "#DFE8F3",
            "linecolor": "#A2B1C6",
            "ticks": ""
           }
          },
          "title": {
           "x": 0.05
          },
          "xaxis": {
           "automargin": true,
           "gridcolor": "#EBF0F8",
           "linecolor": "#EBF0F8",
           "ticks": "",
           "title": {
            "standoff": 15
           },
           "zerolinecolor": "#EBF0F8",
           "zerolinewidth": 2
          },
          "yaxis": {
           "automargin": true,
           "gridcolor": "#EBF0F8",
           "linecolor": "#EBF0F8",
           "ticks": "",
           "title": {
            "standoff": 15
           },
           "zerolinecolor": "#EBF0F8",
           "zerolinewidth": 2
          }
         }
        },
        "xaxis": {
         "anchor": "y",
         "domain": [
          0,
          0.94
         ],
         "showgrid": true,
         "title": {
          "text": "sample proportion"
         }
        },
        "yaxis": {
         "anchor": "x",
         "domain": [
          0,
          1
         ],
         "showgrid": true,
         "tickfont": {
          "color": "rgb(31, 119, 180)"
         },
         "title": {
          "font": {
           "color": "rgb(31, 119, 180)"
          },
          "text": "cum_demeaned_daily_ret"
         }
        },
        "yaxis2": {
         "anchor": "x",
         "overlaying": "y",
         "showgrid": false,
         "side": "right",
         "tickfont": {
          "color": "rgb(214, 39, 40)"
         },
         "title": {
          "font": {
           "color": "rgb(214, 39, 40)"
          },
          "text": "date_gap_days"
         }
        }
       }
      }
     },
     "metadata": {},
     "output_type": "display_data"
    }
   ],
   "source": [
    "\"\"\"demean by all sample mean and split data\"\"\"\n",
    "\n",
    "all_sample_call_df = op_atm_call_df.copy()\n",
    "bm_call_df = op_atm_call_df[op_atm_call_df[\"gap_days\"] < 3].copy()\n",
    "target_call_df = op_atm_call_df[op_atm_call_df[\"gap_days\"] >= 3].copy()\n",
    "\n",
    "mean_ttest(bm_call_df, \"demeaned_daily_ret\")\n",
    "plot(bm_call_df, \"cum_demeaned_daily_ret\", \"index\", \"gap_days\")\n",
    "mean_ttest(target_call_df, \"demeaned_daily_ret\")\n",
    "plot(target_call_df, \"cum_demeaned_daily_ret\", \"index\", \"gap_days\")"
   ]
  },
  {
   "cell_type": "code",
   "execution_count": null,
   "id": "8d99d1dd",
   "metadata": {},
   "outputs": [
    {
     "name": "stdout",
     "output_type": "stream",
     "text": [
      "Testing H0: mean = 0.000000 vs H1: mean != 0.000000\n",
      "n = 1097\n",
      "mean = -0.000000\n",
      "std = 2.012658\n",
      "std err = 0.060767\n",
      "t-stat = -0.0000\n",
      "p-value = 1\n",
      "confidence interval = (-0.119232, 0.119232)\n",
      "reject null @ alpha = 0.05: False\n",
      "\n"
     ]
    },
    {
     "data": {
      "application/vnd.plotly.v1+json": {
       "config": {
        "plotlyServerURL": "https://plot.ly"
       },
       "data": [
        {
         "line": {
          "color": "rgb(31, 119, 180)"
         },
         "mode": "lines",
         "name": "cum_demeaned_daily_ret",
         "type": "scatter",
         "x": {
          "bdata": "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",
          "dtype": "f8"
         },
         "xaxis": "x",
         "y": {
          "bdata": "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",
          "dtype": "f8"
         },
         "yaxis": "y"
        },
        {
         "line": {
          "color": "rgb(214, 39, 40)",
          "dash": "dash"
         },
         "mode": "lines",
         "name": "date_gap_days",
         "type": "scatter",
         "x": {
          "bdata": "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",
          "dtype": "f8"
         },
         "xaxis": "x",
         "y": {
          "bdata": "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",
          "dtype": "f8"
         },
         "yaxis": "y2"
        }
       ],
       "layout": {
        "annotations": [
         {
          "font": {
           "color": "gray",
           "size": 12
          },
          "showarrow": false,
          "text": "Sample size: 1097",
          "x": 0.99,
          "xanchor": "right",
          "xref": "paper",
          "y": 0.02,
          "yref": "paper"
         }
        ],
        "height": 500,
        "legend": {
         "x": 1.02,
         "xanchor": "left",
         "y": 0.5
        },
        "margin": {
         "b": 50,
         "l": 70,
         "r": 160,
         "t": 50
        },
        "template": {
         "data": {
          "bar": [
           {
            "error_x": {
             "color": "#2a3f5f"
            },
            "error_y": {
             "color": "#2a3f5f"
            },
            "marker": {
             "line": {
              "color": "white",
              "width": 0.5
             },
             "pattern": {
              "fillmode": "overlay",
              "size": 10,
              "solidity": 0.2
             }
            },
            "type": "bar"
           }
          ],
          "barpolar": [
           {
            "marker": {
             "line": {
              "color": "white",
              "width": 0.5
             },
             "pattern": {
              "fillmode": "overlay",
              "size": 10,
              "solidity": 0.2
             }
            },
            "type": "barpolar"
           }
          ],
          "carpet": [
           {
            "aaxis": {
             "endlinecolor": "#2a3f5f",
             "gridcolor": "#C8D4E3",
             "linecolor": "#C8D4E3",
             "minorgridcolor": "#C8D4E3",
             "startlinecolor": "#2a3f5f"
            },
            "baxis": {
             "endlinecolor": "#2a3f5f",
             "gridcolor": "#C8D4E3",
             "linecolor": "#C8D4E3",
             "minorgridcolor": "#C8D4E3",
             "startlinecolor": "#2a3f5f"
            },
            "type": "carpet"
           }
          ],
          "choropleth": [
           {
            "colorbar": {
             "outlinewidth": 0,
             "ticks": ""
            },
            "type": "choropleth"
           }
          ],
          "contour": [
           {
            "colorbar": {
             "outlinewidth": 0,
             "ticks": ""
            },
            "colorscale": [
             [
              0,
              "#0d0887"
             ],
             [
              0.1111111111111111,
              "#46039f"
             ],
             [
              0.2222222222222222,
              "#7201a8"
             ],
             [
              0.3333333333333333,
              "#9c179e"
             ],
             [
              0.4444444444444444,
              "#bd3786"
             ],
             [
              0.5555555555555556,
              "#d8576b"
             ],
             [
              0.6666666666666666,
              "#ed7953"
             ],
             [
              0.7777777777777778,
              "#fb9f3a"
             ],
             [
              0.8888888888888888,
              "#fdca26"
             ],
             [
              1,
              "#f0f921"
             ]
            ],
            "type": "contour"
           }
          ],
          "contourcarpet": [
           {
            "colorbar": {
             "outlinewidth": 0,
             "ticks": ""
            },
            "type": "contourcarpet"
           }
          ],
          "heatmap": [
           {
            "colorbar": {
             "outlinewidth": 0,
             "ticks": ""
            },
            "colorscale": [
             [
              0,
              "#0d0887"
             ],
             [
              0.1111111111111111,
              "#46039f"
             ],
             [
              0.2222222222222222,
              "#7201a8"
             ],
             [
              0.3333333333333333,
              "#9c179e"
             ],
             [
              0.4444444444444444,
              "#bd3786"
             ],
             [
              0.5555555555555556,
              "#d8576b"
             ],
             [
              0.6666666666666666,
              "#ed7953"
             ],
             [
              0.7777777777777778,
              "#fb9f3a"
             ],
             [
              0.8888888888888888,
              "#fdca26"
             ],
             [
              1,
              "#f0f921"
             ]
            ],
            "type": "heatmap"
           }
          ],
          "histogram": [
           {
            "marker": {
             "pattern": {
              "fillmode": "overlay",
              "size": 10,
              "solidity": 0.2
             }
            },
            "type": "histogram"
           }
          ],
          "histogram2d": [
           {
            "colorbar": {
             "outlinewidth": 0,
             "ticks": ""
            },
            "colorscale": [
             [
              0,
              "#0d0887"
             ],
             [
              0.1111111111111111,
              "#46039f"
             ],
             [
              0.2222222222222222,
              "#7201a8"
             ],
             [
              0.3333333333333333,
              "#9c179e"
             ],
             [
              0.4444444444444444,
              "#bd3786"
             ],
             [
              0.5555555555555556,
              "#d8576b"
             ],
             [
              0.6666666666666666,
              "#ed7953"
             ],
             [
              0.7777777777777778,
              "#fb9f3a"
             ],
             [
              0.8888888888888888,
              "#fdca26"
             ],
             [
              1,
              "#f0f921"
             ]
            ],
            "type": "histogram2d"
           }
          ],
          "histogram2dcontour": [
           {
            "colorbar": {
             "outlinewidth": 0,
             "ticks": ""
            },
            "colorscale": [
             [
              0,
              "#0d0887"
             ],
             [
              0.1111111111111111,
              "#46039f"
             ],
             [
              0.2222222222222222,
              "#7201a8"
             ],
             [
              0.3333333333333333,
              "#9c179e"
             ],
             [
              0.4444444444444444,
              "#bd3786"
             ],
             [
              0.5555555555555556,
              "#d8576b"
             ],
             [
              0.6666666666666666,
              "#ed7953"
             ],
             [
              0.7777777777777778,
              "#fb9f3a"
             ],
             [
              0.8888888888888888,
              "#fdca26"
             ],
             [
              1,
              "#f0f921"
             ]
            ],
            "type": "histogram2dcontour"
           }
          ],
          "mesh3d": [
           {
            "colorbar": {
             "outlinewidth": 0,
             "ticks": ""
            },
            "type": "mesh3d"
           }
          ],
          "parcoords": [
           {
            "line": {
             "colorbar": {
              "outlinewidth": 0,
              "ticks": ""
             }
            },
            "type": "parcoords"
           }
          ],
          "pie": [
           {
            "automargin": true,
            "type": "pie"
           }
          ],
          "scatter": [
           {
            "fillpattern": {
             "fillmode": "overlay",
             "size": 10,
             "solidity": 0.2
            },
            "type": "scatter"
           }
          ],
          "scatter3d": [
           {
            "line": {
             "colorbar": {
              "outlinewidth": 0,
              "ticks": ""
             }
            },
            "marker": {
             "colorbar": {
              "outlinewidth": 0,
              "ticks": ""
             }
            },
            "type": "scatter3d"
           }
          ],
          "scattercarpet": [
           {
            "marker": {
             "colorbar": {
              "outlinewidth": 0,
              "ticks": ""
             }
            },
            "type": "scattercarpet"
           }
          ],
          "scattergeo": [
           {
            "marker": {
             "colorbar": {
              "outlinewidth": 0,
              "ticks": ""
             }
            },
            "type": "scattergeo"
           }
          ],
          "scattergl": [
           {
            "marker": {
             "colorbar": {
              "outlinewidth": 0,
              "ticks": ""
             }
            },
            "type": "scattergl"
           }
          ],
          "scattermap": [
           {
            "marker": {
             "colorbar": {
              "outlinewidth": 0,
              "ticks": ""
             }
            },
            "type": "scattermap"
           }
          ],
          "scattermapbox": [
           {
            "marker": {
             "colorbar": {
              "outlinewidth": 0,
              "ticks": ""
             }
            },
            "type": "scattermapbox"
           }
          ],
          "scatterpolar": [
           {
            "marker": {
             "colorbar": {
              "outlinewidth": 0,
              "ticks": ""
             }
            },
            "type": "scatterpolar"
           }
          ],
          "scatterpolargl": [
           {
            "marker": {
             "colorbar": {
              "outlinewidth": 0,
              "ticks": ""
             }
            },
            "type": "scatterpolargl"
           }
          ],
          "scatterternary": [
           {
            "marker": {
             "colorbar": {
              "outlinewidth": 0,
              "ticks": ""
             }
            },
            "type": "scatterternary"
           }
          ],
          "surface": [
           {
            "colorbar": {
             "outlinewidth": 0,
             "ticks": ""
            },
            "colorscale": [
             [
              0,
              "#0d0887"
             ],
             [
              0.1111111111111111,
              "#46039f"
             ],
             [
              0.2222222222222222,
              "#7201a8"
             ],
             [
              0.3333333333333333,
              "#9c179e"
             ],
             [
              0.4444444444444444,
              "#bd3786"
             ],
             [
              0.5555555555555556,
              "#d8576b"
             ],
             [
              0.6666666666666666,
              "#ed7953"
             ],
             [
              0.7777777777777778,
              "#fb9f3a"
             ],
             [
              0.8888888888888888,
              "#fdca26"
             ],
             [
              1,
              "#f0f921"
             ]
            ],
            "type": "surface"
           }
          ],
          "table": [
           {
            "cells": {
             "fill": {
              "color": "#EBF0F8"
             },
             "line": {
              "color": "white"
             }
            },
            "header": {
             "fill": {
              "color": "#C8D4E3"
             },
             "line": {
              "color": "white"
             }
            },
            "type": "table"
           }
          ]
         },
         "layout": {
          "annotationdefaults": {
           "arrowcolor": "#2a3f5f",
           "arrowhead": 0,
           "arrowwidth": 1
          },
          "autotypenumbers": "strict",
          "coloraxis": {
           "colorbar": {
            "outlinewidth": 0,
            "ticks": ""
           }
          },
          "colorscale": {
           "diverging": [
            [
             0,
             "#8e0152"
            ],
            [
             0.1,
             "#c51b7d"
            ],
            [
             0.2,
             "#de77ae"
            ],
            [
             0.3,
             "#f1b6da"
            ],
            [
             0.4,
             "#fde0ef"
            ],
            [
             0.5,
             "#f7f7f7"
            ],
            [
             0.6,
             "#e6f5d0"
            ],
            [
             0.7,
             "#b8e186"
            ],
            [
             0.8,
             "#7fbc41"
            ],
            [
             0.9,
             "#4d9221"
            ],
            [
             1,
             "#276419"
            ]
           ],
           "sequential": [
            [
             0,
             "#0d0887"
            ],
            [
             0.1111111111111111,
             "#46039f"
            ],
            [
             0.2222222222222222,
             "#7201a8"
            ],
            [
             0.3333333333333333,
             "#9c179e"
            ],
            [
             0.4444444444444444,
             "#bd3786"
            ],
            [
             0.5555555555555556,
             "#d8576b"
            ],
            [
             0.6666666666666666,
             "#ed7953"
            ],
            [
             0.7777777777777778,
             "#fb9f3a"
            ],
            [
             0.8888888888888888,
             "#fdca26"
            ],
            [
             1,
             "#f0f921"
            ]
           ],
           "sequentialminus": [
            [
             0,
             "#0d0887"
            ],
            [
             0.1111111111111111,
             "#46039f"
            ],
            [
             0.2222222222222222,
             "#7201a8"
            ],
            [
             0.3333333333333333,
             "#9c179e"
            ],
            [
             0.4444444444444444,
             "#bd3786"
            ],
            [
             0.5555555555555556,
             "#d8576b"
            ],
            [
             0.6666666666666666,
             "#ed7953"
            ],
            [
             0.7777777777777778,
             "#fb9f3a"
            ],
            [
             0.8888888888888888,
             "#fdca26"
            ],
            [
             1,
             "#f0f921"
            ]
           ]
          },
          "colorway": [
           "#636efa",
           "#EF553B",
           "#00cc96",
           "#ab63fa",
           "#FFA15A",
           "#19d3f3",
           "#FF6692",
           "#B6E880",
           "#FF97FF",
           "#FECB52"
          ],
          "font": {
           "color": "#2a3f5f"
          },
          "geo": {
           "bgcolor": "white",
           "lakecolor": "white",
           "landcolor": "white",
           "showlakes": true,
           "showland": true,
           "subunitcolor": "#C8D4E3"
          },
          "hoverlabel": {
           "align": "left"
          },
          "hovermode": "closest",
          "mapbox": {
           "style": "light"
          },
          "paper_bgcolor": "white",
          "plot_bgcolor": "white",
          "polar": {
           "angularaxis": {
            "gridcolor": "#EBF0F8",
            "linecolor": "#EBF0F8",
            "ticks": ""
           },
           "bgcolor": "white",
           "radialaxis": {
            "gridcolor": "#EBF0F8",
            "linecolor": "#EBF0F8",
            "ticks": ""
           }
          },
          "scene": {
           "xaxis": {
            "backgroundcolor": "white",
            "gridcolor": "#DFE8F3",
            "gridwidth": 2,
            "linecolor": "#EBF0F8",
            "showbackground": true,
            "ticks": "",
            "zerolinecolor": "#EBF0F8"
           },
           "yaxis": {
            "backgroundcolor": "white",
            "gridcolor": "#DFE8F3",
            "gridwidth": 2,
            "linecolor": "#EBF0F8",
            "showbackground": true,
            "ticks": "",
            "zerolinecolor": "#EBF0F8"
           },
           "zaxis": {
            "backgroundcolor": "white",
            "gridcolor": "#DFE8F3",
            "gridwidth": 2,
            "linecolor": "#EBF0F8",
            "showbackground": true,
            "ticks": "",
            "zerolinecolor": "#EBF0F8"
           }
          },
          "shapedefaults": {
           "line": {
            "color": "#2a3f5f"
           }
          },
          "ternary": {
           "aaxis": {
            "gridcolor": "#DFE8F3",
            "linecolor": "#A2B1C6",
            "ticks": ""
           },
           "baxis": {
            "gridcolor": "#DFE8F3",
            "linecolor": "#A2B1C6",
            "ticks": ""
           },
           "bgcolor": "white",
           "caxis": {
            "gridcolor": "#DFE8F3",
            "linecolor": "#A2B1C6",
            "ticks": ""
           }
          },
          "title": {
           "x": 0.05
          },
          "xaxis": {
           "automargin": true,
           "gridcolor": "#EBF0F8",
           "linecolor": "#EBF0F8",
           "ticks": "",
           "title": {
            "standoff": 15
           },
           "zerolinecolor": "#EBF0F8",
           "zerolinewidth": 2
          },
          "yaxis": {
           "automargin": true,
           "gridcolor": "#EBF0F8",
           "linecolor": "#EBF0F8",
           "ticks": "",
           "title": {
            "standoff": 15
           },
           "zerolinecolor": "#EBF0F8",
           "zerolinewidth": 2
          }
         }
        },
        "xaxis": {
         "anchor": "y",
         "domain": [
          0,
          0.94
         ],
         "showgrid": true,
         "title": {
          "text": "sample proportion"
         }
        },
        "yaxis": {
         "anchor": "x",
         "domain": [
          0,
          1
         ],
         "showgrid": true,
         "tickfont": {
          "color": "rgb(31, 119, 180)"
         },
         "title": {
          "font": {
           "color": "rgb(31, 119, 180)"
          },
          "text": "cum_demeaned_daily_ret"
         }
        },
        "yaxis2": {
         "anchor": "x",
         "overlaying": "y",
         "showgrid": false,
         "side": "right",
         "tickfont": {
          "color": "rgb(214, 39, 40)"
         },
         "title": {
          "font": {
           "color": "rgb(214, 39, 40)"
          },
          "text": "date_gap_days"
         }
        }
       }
      }
     },
     "metadata": {},
     "output_type": "display_data"
    },
    {
     "name": "stdout",
     "output_type": "stream",
     "text": [
      "Testing H0: mean = 0.000000 vs H1: mean != 0.000000\n",
      "n = 297\n",
      "mean = -0.241654\n",
      "std = 0.447282\n",
      "std err = 0.025954\n",
      "t-stat = -9.3109\n",
      "p-value = 2.971e-18\n",
      "confidence interval = (-0.292731, -0.190576)\n",
      "reject null @ alpha = 0.05: True\n",
      "\n"
     ]
    },
    {
     "data": {
      "application/vnd.plotly.v1+json": {
       "config": {
        "plotlyServerURL": "https://plot.ly"
       },
       "data": [
        {
         "line": {
          "color": "rgb(31, 119, 180)"
         },
         "mode": "lines",
         "name": "cum_demeaned_daily_ret",
         "type": "scatter",
         "x": {
          "bdata": "AAAAAAAAAAAj/xgrHpVrPyP/GCselXs/W79SoNavhD8j/xgrHpWLP3af79oyPZE/W79SoNavlD8/37VleiKYPyP/GCselZs/CB988MEHnz92n+/aMj2hP2gvob2E9qI/W79SoNavpD9NTwSDKGmmPz/ftWV6Iqg/MW9nSMzbqT8j/xgrHpWrPxaPyg1wTq0/CB988MEHrz9915bpiWCwP3af79oyPbE/b2dIzNsZsj9oL6G9hPayP2H3+a4t07M/W79SoNavtD9Uh6uRf4y1P01PBIMoabY/RhdddNFFtz8/37VleiK4PzinDlcj/7g/MW9nSMzbuT8qN8A5dbi6PyP/GCselbs/HMdxHMdxvD8Wj8oNcE69Pw9XI/8YK74/CB988MEHvz8B59ThauS/P33XlumJYMA/ejtDYt7OwD92n+/aMj3BP3MDnFOHq8E/b2dIzNsZwj9sy/REMIjCP2gvob2E9sI/ZZNNNtlkwz9h9/muLdPDP15bpieCQcQ/W79SoNavxD9XI/8YKx7FP1SHq5F/jMU/UOtXCtT6xT9NTwSDKGnGP0mzsPt818Y/RhdddNFFxz9CewntJbTHPz/ftWV6Isg/O0Ni3s6QyD84pw5XI//IPzULu893bck/MW9nSMzbyT8u0xPBIErKPyo3wDl1uMo/J5tssskmyz8j/xgrHpXLPyBjxaNyA8w/HMdxHMdxzD8ZKx6VG+DMPxaPyg1wTs0/EvN2hsS8zT8PVyP/GCvOPwu7z3dtmc4/CB988MEHzz8EgyhpFnbPPwHn1OFq5M8/f6VArV8p0D9915bpiWDQP3sJ7SW0l9A/ejtDYt7O0D94bZmeCAbRP3af79oyPdE/dNFFF1100T9zA5xTh6vRP3E18o+x4tE/b2dIzNsZ0j9tmZ4IBlHSP2zL9EQwiNI/av1KgVq/0j9oL6G9hPbSP2dh9/muLdM/ZZNNNtlk0z9jxaNyA5zTP2H3+a4t09M/YClQ61cK1D9eW6YngkHUP1yN/GOseNQ/W79SoNav1D9Z8ajcAOfUP1cj/xgrHtU/VVVVVVVV1T9Uh6uRf4zVP1K5Ac6pw9U/UOtXCtT61T9OHa5G/jHWP01PBIMoadY/S4Fav1Kg1j9Js7D7fNfWP0jlBjinDtc/RhdddNFF1z9ESbOw+3zXP0J7Ce0ltNc/Qa1fKVDr1z8/37VleiLYPz0RDKKkWdg/O0Ni3s6Q2D86dbga+cfYPzinDlcj/9g/Ntlkk0022T81C7vPd23ZPzM9EQyipNk/MW9nSMzb2T8vob2E9hLaPy7TE8EgSto/LAVq/UqB2j8qN8A5dbjaPylpFnaf79o/J5tssskm2z8lzcLu813bPyP/GCselds/IjFvZ0jM2z8gY8WjcgPcPx6VG+CcOtw/HMdxHMdx3D8b+cdY8ajcPxkrHpUb4Nw/F1100UUX3T8Wj8oNcE7dPxTBIEqahd0/EvN2hsS83T8QJc3C7vPdPw9XI/8YK94/DYl5O0Ni3j8Lu893bZnePwntJbSX0N4/CB988MEH3z8GUdIs7D7fPwSDKGkWdt8/A7V+pUCt3z8B59ThauTfP4CMFY/KDeA/f6VArV8p4D9+vmvL9ETgP33XlumJYOA/fPDBBx984D97Ce0ltJfgP3oiGERJs+A/ejtDYt7O4D95VG6Ac+rgP3htmZ4IBuE/d4bEvJ0h4T92n+/aMj3hP3W4GvnHWOE/dNFFF1104T906nA18o/hP3MDnFOHq+E/chzHcRzH4T9xNfKPseLhP3BOHa5G/uE/b2dIzNsZ4j9ugHPqcDXiP22ZnggGUeI/bbLJJpts4j9sy/REMIjiP2vkH2PFo+I/av1KgVq/4j9pFnaf79riP2gvob2E9uI/Z0jM2xkS4z9nYff5ri3jP2Z6IhhESeM/ZZNNNtlk4z9krHhUboDjP2PFo3IDnOM/Yt7OkJi34z9h9/muLdPjP2EQJc3C7uM/YClQ61cK5D9fQnsJ7SXkP15bpieCQeQ/XXTRRRdd5D9cjfxjrHjkP1umJ4JBlOQ/W79SoNav5D9a2H2+a8vkP1nxqNwA5+Q/WArU+pUC5T9XI/8YKx7lP1Y8KjfAOeU/VVVVVVVV5T9UboBz6nDlP1SHq5F/jOU/U6DWrxSo5T9SuQHOqcPlP1HSLOw+3+U/UOtXCtT65T9PBIMoaRbmP04drkb+MeY/TjbZZJNN5j9NTwSDKGnmP0xoL6G9hOY/S4Fav1Kg5j9KmoXd57vmP0mzsPt81+Y/SMzbGRLz5j9I5QY4pw7nP0f+MVY8Kuc/RhdddNFF5z9FMIiSZmHnP0RJs7D7fOc/Q2LezpCY5z9CewntJbTnP0KUNAu7z+c/Qa1fKVDr5z9AxopH5QboPz/ftWV6Iug/Pvjggw8+6D89EQyipFnoPzwqN8A5deg/O0Ni3s6Q6D87XI38Y6zoPzp1uBr5x+g/OY7jOI7j6D84pw5XI//oPzfAOXW4Guk/Ntlkk0026T818o+x4lHpPzULu893bek/NCTm7QyJ6T8zPREMoqTpPzJWPCo3wOk/MW9nSMzb6T8wiJJmYffpPy+hvYT2Euo/L7rooosu6j8u0xPBIErqPy3sPt+1Zeo/LAVq/UqB6j8rHpUb4JzqPyo3wDl1uOo/KVDrVwrU6j8paRZ2n+/qPyiCQZQ0C+s/J5tssskm6z8mtJfQXkLrPyXNwu7zXes/JObtDIl56z8j/xgrHpXrPyIYREmzsOs/IjFvZ0jM6z8hSpqF3efrPyBjxaNyA+w/H3zwwQcf7D8elRvgnDrsPx2uRv4xVuw/HMdxHMdx7D8c4Jw6XI3sPxv5x1jxqOw/GhLzdobE7D8ZKx6VG+DsPxhESbOw++w/F1100UUX7T8Wdp/v2jLtPxaPyg1wTu0/Faj1KwVq7T8UwSBKmoXtPxPaS2gvoe0/EvN2hsS87T8RDKKkWdjtPxAlzcLu8+0/ED744IMP7j8PVyP/GCvuPw5wTh2uRu4/DYl5O0Ni7j8MoqRZ2H3uPwu7z3dtme4/CtT6lQK17j8J7SW0l9DuPwkGUdIs7O4/CB988MEH7z8HOKcOVyPvPwZR0izsPu8/BWr9SoFa7z8EgyhpFnbvPwOcU4erke8/A7V+pUCt7z8CzqnD1cjvPwHn1OFq5O8/",
          "dtype": "f8"
         },
         "xaxis": "x",
         "y": {
          "bdata": "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",
          "dtype": "f8"
         },
         "yaxis": "y"
        },
        {
         "line": {
          "color": "rgb(214, 39, 40)",
          "dash": "dash"
         },
         "mode": "lines",
         "name": "date_gap_days",
         "type": "scatter",
         "x": {
          "bdata": "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",
          "dtype": "f8"
         },
         "xaxis": "x",
         "y": {
          "bdata": "AAAAAAAACEAAAAAAAAAIQAAAAAAAAAhAAAAAAAAACEAAAAAAAAAIQAAAAAAAAAhAAAAAAAAACEAAAAAAAAAIQAAAAAAAAAhAAAAAAAAACEAAAAAAAAAIQAAAAAAAAAhAAAAAAAAACEAAAAAAAAAIQAAAAAAAAAhAAAAAAAAACEAAAAAAAAAIQAAAAAAAAAhAAAAAAAAACEAAAAAAAAAIQAAAAAAAAAhAAAAAAAAACEAAAAAAAAAIQAAAAAAAAAhAAAAAAAAACEAAAAAAAAAIQAAAAAAAAAhAAAAAAAAACEAAAAAAAAAIQAAAAAAAAAhAAAAAAAAACEAAAAAAAAAIQAAAAAAAAAhAAAAAAAAACEAAAAAAAAAIQAAAAAAAAAhAAAAAAAAACEAAAAAAAAAIQAAAAAAAAAhAAAAAAAAACEAAAAAAAAAIQAAAAAAAAAhAAAAAAAAACEAAAAAAAAAIQAAAAAAAAAhAAAAAAAAACEAAAAAAAAAIQAAAAAAAAAhAAAAAAAAACEAAAAAAAAAIQAAAAAAAAAhAAAAAAAAACEAAAAAAAAAIQAAAAAAAAAhAAAAAAAAACEAAAAAAAAAIQAAAAAAAAAhAAAAAAAAACEAAAAAAAAAIQAAAAAAAAAhAAAAAAAAACEAAAAAAAAAIQAAAAAAAAAhAAAAAAAAACEAAAAAAAAAIQAAAAAAAAAhAAAAAAAAACEAAAAAAAAAIQAAAAAAAAAhAAAAAAAAACEAAAAAAAAAIQAAAAAAAAAhAAAAAAAAACEAAAAAAAAAIQAAAAAAAAAhAAAAAAAAACEAAAAAAAAAIQAAAAAAAAAhAAAAAAAAACEAAAAAAAAAIQAAAAAAAAAhAAAAAAAAACEAAAAAAAAAIQAAAAAAAAAhAAAAAAAAACEAAAAAAAAAIQAAAAAAAAAhAAAAAAAAACEAAAAAAAAAIQAAAAAAAAAhAAAAAAAAACEAAAAAAAAAIQAAAAAAAAAhAAAAAAAAACEAAAAAAAAAIQAAAAAAAAAhAAAAAAAAACEAAAAAAAAAIQAAAAAAAAAhAAAAAAAAACEAAAAAAAAAIQAAAAAAAAAhAAAAAAAAACEAAAAAAAAAIQAAAAAAAAAhAAAAAAAAACEAAAAAAAAAIQAAAAAAAAAhAAAAAAAAACEAAAAAAAAAIQAAAAAAAAAhAAAAAAAAACEAAAAAAAAAIQAAAAAAAAAhAAAAAAAAACEAAAAAAAAAIQAAAAAAAAAhAAAAAAAAACEAAAAAAAAAIQAAAAAAAAAhAAAAAAAAACEAAAAAAAAAIQAAAAAAAAAhAAAAAAAAACEAAAAAAAAAIQAAAAAAAAAhAAAAAAAAACEAAAAAAAAAIQAAAAAAAAAhAAAAAAAAACEAAAAAAAAAIQAAAAAAAAAhAAAAAAAAACEAAAAAAAAAIQAAAAAAAAAhAAAAAAAAACEAAAAAAAAAIQAAAAAAAAAhAAAAAAAAACEAAAAAAAAAIQAAAAAAAAAhAAAAAAAAACEAAAAAAAAAIQAAAAAAAAAhAAAAAAAAACEAAAAAAAAAIQAAAAAAAAAhAAAAAAAAACEAAAAAAAAAIQAAAAAAAAAhAAAAAAAAACEAAAAAAAAAIQAAAAAAAAAhAAAAAAAAACEAAAAAAAAAIQAAAAAAAAAhAAAAAAAAACEAAAAAAAAAIQAAAAAAAAAhAAAAAAAAACEAAAAAAAAAIQAAAAAAAAAhAAAAAAAAACEAAAAAAAAAIQAAAAAAAAAhAAAAAAAAACEAAAAAAAAAIQAAAAAAAAAhAAAAAAAAACEAAAAAAAAAIQAAAAAAAAAhAAAAAAAAACEAAAAAAAAAIQAAAAAAAAAhAAAAAAAAACEAAAAAAAAAIQAAAAAAAAAhAAAAAAAAACEAAAAAAAAAIQAAAAAAAAAhAAAAAAAAACEAAAAAAAAAIQAAAAAAAAAhAAAAAAAAACEAAAAAAAAAIQAAAAAAAAAhAAAAAAAAACEAAAAAAAAAIQAAAAAAAAAhAAAAAAAAACEAAAAAAAAAIQAAAAAAAAAhAAAAAAAAACEAAAAAAAAAIQAAAAAAAAAhAAAAAAAAACEAAAAAAAAAIQAAAAAAAAAhAAAAAAAAACEAAAAAAAAAIQAAAAAAAAAhAAAAAAAAACEAAAAAAAAAIQAAAAAAAAAhAAAAAAAAACEAAAAAAAAAIQAAAAAAAAAhAAAAAAAAACEAAAAAAAAAIQAAAAAAAAAhAAAAAAAAACEAAAAAAAAAIQAAAAAAAAAhAAAAAAAAACEAAAAAAAAAIQAAAAAAAAAhAAAAAAAAACEAAAAAAAAAIQAAAAAAAAAhAAAAAAAAACEAAAAAAAAAIQAAAAAAAAAhAAAAAAAAACEAAAAAAAAAIQAAAAAAAAAhAAAAAAAAACEAAAAAAAAAIQAAAAAAAAAhAAAAAAAAACEAAAAAAAAAIQAAAAAAAAAhAAAAAAAAACEAAAAAAAAAIQAAAAAAAAAhAAAAAAAAACEAAAAAAAAAIQAAAAAAAAAhAAAAAAAAACEAAAAAAAAAIQAAAAAAAAAhAAAAAAAAACEAAAAAAAAAIQAAAAAAAAAhAAAAAAAAACEAAAAAAAAAIQAAAAAAAAAhAAAAAAAAACEAAAAAAAAAIQAAAAAAAAAhAAAAAAAAACEAAAAAAAAAIQAAAAAAAAAhAAAAAAAAACEAAAAAAAAAIQAAAAAAAAAhAAAAAAAAACEAAAAAAAAAIQAAAAAAAAAhAAAAAAAAAEEAAAAAAAAAQQAAAAAAAABBAAAAAAAAAEEAAAAAAAAAQQAAAAAAAABBAAAAAAAAAEEAAAAAAAAAQQAAAAAAAABBAAAAAAAAAEEAAAAAAAAAQQAAAAAAAABBAAAAAAAAAEEAAAAAAAAAQQAAAAAAAABBAAAAAAAAAEEAAAAAAAAAQQAAAAAAAABBAAAAAAAAAEEAAAAAAAAAQQAAAAAAAABBAAAAAAAAAFEAAAAAAAAAUQAAAAAAAABRAAAAAAAAAFEAAAAAAAAAUQAAAAAAAABRAAAAAAAAAFEAAAAAAAAAUQAAAAAAAABRAAAAAAAAAFEAAAAAAAAAUQAAAAAAAABhAAAAAAAAAJEAAAAAAAAAkQAAAAAAAAChAAAAAAAAAKEAAAAAAAAAoQAAAAAAAACpA",
          "dtype": "f8"
         },
         "yaxis": "y2"
        }
       ],
       "layout": {
        "annotations": [
         {
          "font": {
           "color": "gray",
           "size": 12
          },
          "showarrow": false,
          "text": "Sample size: 297",
          "x": 0.99,
          "xanchor": "right",
          "xref": "paper",
          "y": 0.02,
          "yref": "paper"
         },
         {
          "align": "left",
          "font": {
           "color": "gray",
           "size": 12
          },
          "showarrow": false,
          "text": "demeaned by benchmark's mean",
          "x": 0.01,
          "xanchor": "left",
          "xref": "paper",
          "y": 0.98,
          "yanchor": "top",
          "yref": "paper"
         }
        ],
        "height": 500,
        "legend": {
         "x": 1.02,
         "xanchor": "left",
         "y": 0.5
        },
        "margin": {
         "b": 50,
         "l": 70,
         "r": 160,
         "t": 50
        },
        "template": {
         "data": {
          "bar": [
           {
            "error_x": {
             "color": "#2a3f5f"
            },
            "error_y": {
             "color": "#2a3f5f"
            },
            "marker": {
             "line": {
              "color": "white",
              "width": 0.5
             },
             "pattern": {
              "fillmode": "overlay",
              "size": 10,
              "solidity": 0.2
             }
            },
            "type": "bar"
           }
          ],
          "barpolar": [
           {
            "marker": {
             "line": {
              "color": "white",
              "width": 0.5
             },
             "pattern": {
              "fillmode": "overlay",
              "size": 10,
              "solidity": 0.2
             }
            },
            "type": "barpolar"
           }
          ],
          "carpet": [
           {
            "aaxis": {
             "endlinecolor": "#2a3f5f",
             "gridcolor": "#C8D4E3",
             "linecolor": "#C8D4E3",
             "minorgridcolor": "#C8D4E3",
             "startlinecolor": "#2a3f5f"
            },
            "baxis": {
             "endlinecolor": "#2a3f5f",
             "gridcolor": "#C8D4E3",
             "linecolor": "#C8D4E3",
             "minorgridcolor": "#C8D4E3",
             "startlinecolor": "#2a3f5f"
            },
            "type": "carpet"
           }
          ],
          "choropleth": [
           {
            "colorbar": {
             "outlinewidth": 0,
             "ticks": ""
            },
            "type": "choropleth"
           }
          ],
          "contour": [
           {
            "colorbar": {
             "outlinewidth": 0,
             "ticks": ""
            },
            "colorscale": [
             [
              0,
              "#0d0887"
             ],
             [
              0.1111111111111111,
              "#46039f"
             ],
             [
              0.2222222222222222,
              "#7201a8"
             ],
             [
              0.3333333333333333,
              "#9c179e"
             ],
             [
              0.4444444444444444,
              "#bd3786"
             ],
             [
              0.5555555555555556,
              "#d8576b"
             ],
             [
              0.6666666666666666,
              "#ed7953"
             ],
             [
              0.7777777777777778,
              "#fb9f3a"
             ],
             [
              0.8888888888888888,
              "#fdca26"
             ],
             [
              1,
              "#f0f921"
             ]
            ],
            "type": "contour"
           }
          ],
          "contourcarpet": [
           {
            "colorbar": {
             "outlinewidth": 0,
             "ticks": ""
            },
            "type": "contourcarpet"
           }
          ],
          "heatmap": [
           {
            "colorbar": {
             "outlinewidth": 0,
             "ticks": ""
            },
            "colorscale": [
             [
              0,
              "#0d0887"
             ],
             [
              0.1111111111111111,
              "#46039f"
             ],
             [
              0.2222222222222222,
              "#7201a8"
             ],
             [
              0.3333333333333333,
              "#9c179e"
             ],
             [
              0.4444444444444444,
              "#bd3786"
             ],
             [
              0.5555555555555556,
              "#d8576b"
             ],
             [
              0.6666666666666666,
              "#ed7953"
             ],
             [
              0.7777777777777778,
              "#fb9f3a"
             ],
             [
              0.8888888888888888,
              "#fdca26"
             ],
             [
              1,
              "#f0f921"
             ]
            ],
            "type": "heatmap"
           }
          ],
          "histogram": [
           {
            "marker": {
             "pattern": {
              "fillmode": "overlay",
              "size": 10,
              "solidity": 0.2
             }
            },
            "type": "histogram"
           }
          ],
          "histogram2d": [
           {
            "colorbar": {
             "outlinewidth": 0,
             "ticks": ""
            },
            "colorscale": [
             [
              0,
              "#0d0887"
             ],
             [
              0.1111111111111111,
              "#46039f"
             ],
             [
              0.2222222222222222,
              "#7201a8"
             ],
             [
              0.3333333333333333,
              "#9c179e"
             ],
             [
              0.4444444444444444,
              "#bd3786"
             ],
             [
              0.5555555555555556,
              "#d8576b"
             ],
             [
              0.6666666666666666,
              "#ed7953"
             ],
             [
              0.7777777777777778,
              "#fb9f3a"
             ],
             [
              0.8888888888888888,
              "#fdca26"
             ],
             [
              1,
              "#f0f921"
             ]
            ],
            "type": "histogram2d"
           }
          ],
          "histogram2dcontour": [
           {
            "colorbar": {
             "outlinewidth": 0,
             "ticks": ""
            },
            "colorscale": [
             [
              0,
              "#0d0887"
             ],
             [
              0.1111111111111111,
              "#46039f"
             ],
             [
              0.2222222222222222,
              "#7201a8"
             ],
             [
              0.3333333333333333,
              "#9c179e"
             ],
             [
              0.4444444444444444,
              "#bd3786"
             ],
             [
              0.5555555555555556,
              "#d8576b"
             ],
             [
              0.6666666666666666,
              "#ed7953"
             ],
             [
              0.7777777777777778,
              "#fb9f3a"
             ],
             [
              0.8888888888888888,
              "#fdca26"
             ],
             [
              1,
              "#f0f921"
             ]
            ],
            "type": "histogram2dcontour"
           }
          ],
          "mesh3d": [
           {
            "colorbar": {
             "outlinewidth": 0,
             "ticks": ""
            },
            "type": "mesh3d"
           }
          ],
          "parcoords": [
           {
            "line": {
             "colorbar": {
              "outlinewidth": 0,
              "ticks": ""
             }
            },
            "type": "parcoords"
           }
          ],
          "pie": [
           {
            "automargin": true,
            "type": "pie"
           }
          ],
          "scatter": [
           {
            "fillpattern": {
             "fillmode": "overlay",
             "size": 10,
             "solidity": 0.2
            },
            "type": "scatter"
           }
          ],
          "scatter3d": [
           {
            "line": {
             "colorbar": {
              "outlinewidth": 0,
              "ticks": ""
             }
            },
            "marker": {
             "colorbar": {
              "outlinewidth": 0,
              "ticks": ""
             }
            },
            "type": "scatter3d"
           }
          ],
          "scattercarpet": [
           {
            "marker": {
             "colorbar": {
              "outlinewidth": 0,
              "ticks": ""
             }
            },
            "type": "scattercarpet"
           }
          ],
          "scattergeo": [
           {
            "marker": {
             "colorbar": {
              "outlinewidth": 0,
              "ticks": ""
             }
            },
            "type": "scattergeo"
           }
          ],
          "scattergl": [
           {
            "marker": {
             "colorbar": {
              "outlinewidth": 0,
              "ticks": ""
             }
            },
            "type": "scattergl"
           }
          ],
          "scattermap": [
           {
            "marker": {
             "colorbar": {
              "outlinewidth": 0,
              "ticks": ""
             }
            },
            "type": "scattermap"
           }
          ],
          "scattermapbox": [
           {
            "marker": {
             "colorbar": {
              "outlinewidth": 0,
              "ticks": ""
             }
            },
            "type": "scattermapbox"
           }
          ],
          "scatterpolar": [
           {
            "marker": {
             "colorbar": {
              "outlinewidth": 0,
              "ticks": ""
             }
            },
            "type": "scatterpolar"
           }
          ],
          "scatterpolargl": [
           {
            "marker": {
             "colorbar": {
              "outlinewidth": 0,
              "ticks": ""
             }
            },
            "type": "scatterpolargl"
           }
          ],
          "scatterternary": [
           {
            "marker": {
             "colorbar": {
              "outlinewidth": 0,
              "ticks": ""
             }
            },
            "type": "scatterternary"
           }
          ],
          "surface": [
           {
            "colorbar": {
             "outlinewidth": 0,
             "ticks": ""
            },
            "colorscale": [
             [
              0,
              "#0d0887"
             ],
             [
              0.1111111111111111,
              "#46039f"
             ],
             [
              0.2222222222222222,
              "#7201a8"
             ],
             [
              0.3333333333333333,
              "#9c179e"
             ],
             [
              0.4444444444444444,
              "#bd3786"
             ],
             [
              0.5555555555555556,
              "#d8576b"
             ],
             [
              0.6666666666666666,
              "#ed7953"
             ],
             [
              0.7777777777777778,
              "#fb9f3a"
             ],
             [
              0.8888888888888888,
              "#fdca26"
             ],
             [
              1,
              "#f0f921"
             ]
            ],
            "type": "surface"
           }
          ],
          "table": [
           {
            "cells": {
             "fill": {
              "color": "#EBF0F8"
             },
             "line": {
              "color": "white"
             }
            },
            "header": {
             "fill": {
              "color": "#C8D4E3"
             },
             "line": {
              "color": "white"
             }
            },
            "type": "table"
           }
          ]
         },
         "layout": {
          "annotationdefaults": {
           "arrowcolor": "#2a3f5f",
           "arrowhead": 0,
           "arrowwidth": 1
          },
          "autotypenumbers": "strict",
          "coloraxis": {
           "colorbar": {
            "outlinewidth": 0,
            "ticks": ""
           }
          },
          "colorscale": {
           "diverging": [
            [
             0,
             "#8e0152"
            ],
            [
             0.1,
             "#c51b7d"
            ],
            [
             0.2,
             "#de77ae"
            ],
            [
             0.3,
             "#f1b6da"
            ],
            [
             0.4,
             "#fde0ef"
            ],
            [
             0.5,
             "#f7f7f7"
            ],
            [
             0.6,
             "#e6f5d0"
            ],
            [
             0.7,
             "#b8e186"
            ],
            [
             0.8,
             "#7fbc41"
            ],
            [
             0.9,
             "#4d9221"
            ],
            [
             1,
             "#276419"
            ]
           ],
           "sequential": [
            [
             0,
             "#0d0887"
            ],
            [
             0.1111111111111111,
             "#46039f"
            ],
            [
             0.2222222222222222,
             "#7201a8"
            ],
            [
             0.3333333333333333,
             "#9c179e"
            ],
            [
             0.4444444444444444,
             "#bd3786"
            ],
            [
             0.5555555555555556,
             "#d8576b"
            ],
            [
             0.6666666666666666,
             "#ed7953"
            ],
            [
             0.7777777777777778,
             "#fb9f3a"
            ],
            [
             0.8888888888888888,
             "#fdca26"
            ],
            [
             1,
             "#f0f921"
            ]
           ],
           "sequentialminus": [
            [
             0,
             "#0d0887"
            ],
            [
             0.1111111111111111,
             "#46039f"
            ],
            [
             0.2222222222222222,
             "#7201a8"
            ],
            [
             0.3333333333333333,
             "#9c179e"
            ],
            [
             0.4444444444444444,
             "#bd3786"
            ],
            [
             0.5555555555555556,
             "#d8576b"
            ],
            [
             0.6666666666666666,
             "#ed7953"
            ],
            [
             0.7777777777777778,
             "#fb9f3a"
            ],
            [
             0.8888888888888888,
             "#fdca26"
            ],
            [
             1,
             "#f0f921"
            ]
           ]
          },
          "colorway": [
           "#636efa",
           "#EF553B",
           "#00cc96",
           "#ab63fa",
           "#FFA15A",
           "#19d3f3",
           "#FF6692",
           "#B6E880",
           "#FF97FF",
           "#FECB52"
          ],
          "font": {
           "color": "#2a3f5f"
          },
          "geo": {
           "bgcolor": "white",
           "lakecolor": "white",
           "landcolor": "white",
           "showlakes": true,
           "showland": true,
           "subunitcolor": "#C8D4E3"
          },
          "hoverlabel": {
           "align": "left"
          },
          "hovermode": "closest",
          "mapbox": {
           "style": "light"
          },
          "paper_bgcolor": "white",
          "plot_bgcolor": "white",
          "polar": {
           "angularaxis": {
            "gridcolor": "#EBF0F8",
            "linecolor": "#EBF0F8",
            "ticks": ""
           },
           "bgcolor": "white",
           "radialaxis": {
            "gridcolor": "#EBF0F8",
            "linecolor": "#EBF0F8",
            "ticks": ""
           }
          },
          "scene": {
           "xaxis": {
            "backgroundcolor": "white",
            "gridcolor": "#DFE8F3",
            "gridwidth": 2,
            "linecolor": "#EBF0F8",
            "showbackground": true,
            "ticks": "",
            "zerolinecolor": "#EBF0F8"
           },
           "yaxis": {
            "backgroundcolor": "white",
            "gridcolor": "#DFE8F3",
            "gridwidth": 2,
            "linecolor": "#EBF0F8",
            "showbackground": true,
            "ticks": "",
            "zerolinecolor": "#EBF0F8"
           },
           "zaxis": {
            "backgroundcolor": "white",
            "gridcolor": "#DFE8F3",
            "gridwidth": 2,
            "linecolor": "#EBF0F8",
            "showbackground": true,
            "ticks": "",
            "zerolinecolor": "#EBF0F8"
           }
          },
          "shapedefaults": {
           "line": {
            "color": "#2a3f5f"
           }
          },
          "ternary": {
           "aaxis": {
            "gridcolor": "#DFE8F3",
            "linecolor": "#A2B1C6",
            "ticks": ""
           },
           "baxis": {
            "gridcolor": "#DFE8F3",
            "linecolor": "#A2B1C6",
            "ticks": ""
           },
           "bgcolor": "white",
           "caxis": {
            "gridcolor": "#DFE8F3",
            "linecolor": "#A2B1C6",
            "ticks": ""
           }
          },
          "title": {
           "x": 0.05
          },
          "xaxis": {
           "automargin": true,
           "gridcolor": "#EBF0F8",
           "linecolor": "#EBF0F8",
           "ticks": "",
           "title": {
            "standoff": 15
           },
           "zerolinecolor": "#EBF0F8",
           "zerolinewidth": 2
          },
          "yaxis": {
           "automargin": true,
           "gridcolor": "#EBF0F8",
           "linecolor": "#EBF0F8",
           "ticks": "",
           "title": {
            "standoff": 15
           },
           "zerolinecolor": "#EBF0F8",
           "zerolinewidth": 2
          }
         }
        },
        "xaxis": {
         "anchor": "y",
         "domain": [
          0,
          0.94
         ],
         "showgrid": true,
         "title": {
          "text": "sample proportion"
         }
        },
        "yaxis": {
         "anchor": "x",
         "domain": [
          0,
          1
         ],
         "showgrid": true,
         "tickfont": {
          "color": "rgb(31, 119, 180)"
         },
         "title": {
          "font": {
           "color": "rgb(31, 119, 180)"
          },
          "text": "cum_demeaned_daily_ret"
         }
        },
        "yaxis2": {
         "anchor": "x",
         "overlaying": "y",
         "showgrid": false,
         "side": "right",
         "tickfont": {
          "color": "rgb(214, 39, 40)"
         },
         "title": {
          "font": {
           "color": "rgb(214, 39, 40)"
          },
          "text": "date_gap_days"
         }
        }
       }
      }
     },
     "metadata": {},
     "output_type": "display_data"
    }
   ],
   "source": [
    "mean = bm_call_df[\"daily_ret\"].mean()\n",
    "bm_call_df[\"demeaned_daily_ret\"], target_call_df[\"demeaned_daily_ret\"] = bm_call_df[\"daily_ret\"] - mean, target_call_df[\"daily_ret\"] - mean\n",
    "bm_call_df[\"cum_demeaned_daily_ret\"], target_call_df[\"cum_demeaned_daily_ret\"] = bm_call_df[\"demeaned_daily_ret\"].cumsum(), target_call_df[\"demeaned_daily_ret\"].cumsum()\n",
    "mean_ttest(bm_call_df, \"demeaned_daily_ret\")\n",
    "plot(bm_call_df, \"cum_demeaned_daily_ret\", \"index\", \"gap_days\")\n",
    "mean_ttest(target_call_df, \"demeaned_daily_ret\")\n",
    "plot(target_call_df, \"cum_demeaned_daily_ret\", \"index\", \"gap_days\", note = \"demeaned by benchmark's mean\")"
   ]
  },
  {
   "cell_type": "markdown",
   "id": "49a33075",
   "metadata": {},
   "source": [
    "## compare to index"
   ]
  },
  {
   "cell_type": "markdown",
   "id": "d60f5723",
   "metadata": {},
   "source": [
    "### non normalize"
   ]
  },
  {
   "cell_type": "code",
   "execution_count": 38,
   "id": "6c5df621",
   "metadata": {},
   "outputs": [
    {
     "data": {
      "application/vnd.plotly.v1+json": {
       "config": {
        "plotlyServerURL": "https://plot.ly"
       },
       "data": [
        {
         "mode": "lines",
         "name": "cum_tw_ret",
         "type": "scatter",
         "x": {
          "bdata": "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",
          "dtype": "i2"
         },
         "y": {
          "bdata": "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",
          "dtype": "f8"
         }
        },
        {
         "mode": "lines",
         "name": "cum_put_ret",
         "type": "scatter",
         "x": {
          "bdata": "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",
          "dtype": "i2"
         },
         "y": {
          "bdata": "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",
          "dtype": "f8"
         }
        },
        {
         "mode": "lines",
         "name": "cum_call_ret",
         "type": "scatter",
         "x": {
          "bdata": "AAABAAIAAwAEAAUABgAHAAgACQAKAAsADAANAA4ADwAQABEAEgATABQAFQAWABcAGAAZABoAGwAcAB0AHgAfACAAIQAiACMAJAAlACYAJwAoACkAKgArACwALQAuAC8AMAAxADIAMwA0ADUANgA3ADgAOQA6ADsAPAA9AD4APwBAAEEAQgBDAEQARQBGAEcASABJAEoASwBMAE0ATgBPAFAAUQBSAFMAVABVAFYAVwBYAFkAWgBbAFwAXQBeAF8AYABhAGIAYwBkAGUAZgBnAGgAaQBqAGsAbABtAG4AbwBwAHEAcgBzAHQAdQB2AHcAeAB5AHoAewB8AH0AfgB/AIAAgQCCAIMAhACFAIYAhwCIAIkAigCLAIwAjQCOAI8AkACRAJIAkwCUAJUAlgCXAJgAmQCaAJsAnACdAJ4AnwCgAKEAogCjAKQApQCmAKcAqACpAKoAqwCsAK0ArgCvALAAsQCyALMAtAC1ALYAtwC4ALkAugC7ALwAvQC+AL8AwADBAMIAwwDEAMUAxgDHAMgAyQDKAMsAzADNAM4AzwDQANEA0gDTANQA1QDWANcA2ADZANoA2wDcAN0A3gDfAOAA4QDiAOMA5ADlAOYA5wDoAOkA6gDrAOwA7QDuAO8A8ADxAPIA8wD0APUA9gD3APgA+QD6APsA/AD9AP4A/wAAAQEBAgEDAQQBBQEGAQcBCAEJAQoBCwEMAQ0BDgEPARABEQESARMBFAEVARYBFwEYARkBGgEbARwBHQEeAR8BIAEhASIBIwEkASUBJgEnASgBKQEqASsBLAEtAS4BLwEwATEBMgEzATQBNQE2ATcBOAE5AToBOwE8AT0BPgE/AUABQQFCAUMBRAFFAUYBRwFIAUkBSgFLAUwBTQFOAU8BUAFRAVIBUwFUAVUBVgFXAVgBWQFaAVsBXAFdAV4BXwFgAWEBYgFjAWQBZQFmAWcBaAFpAWoBawFsAW0BbgFvAXABcQFyAXMBdAF1AXYBdwF4AXkBegF7AXwBfQF+AX8BgAGBAYIBgwGEAYUBhgGHAYgBiQGKAYsBjAGNAY4BjwGQAZEBkgGTAZQBlQGWAZcBmAGZAZoBmwGcAZ0BngGfAaABoQGiAaMBpAGlAaYBpwGoAakBqgGrAawBrQGuAa8BsAGxAbIBswG0AbUBtgG3AbgBuQG6AbsBvAG9Ab4BvwHAAcEBwgHDAcQBxQHGAccByAHJAcoBywHMAc0BzgHPAdAB0QHSAdMB1AHVAdYB1wHYAdkB2gHbAdwB3QHeAd8B4AHhAeIB4wHkAeUB5gHnAegB6QHqAesB7AHtAe4B7wHwAfEB8gHzAfQB9QH2AfcB+AH5AfoB+wH8Af0B/gH/AQACAQICAgMCBAIFAgYCBwIIAgkCCgILAgwCDQIOAg8CEAIRAhICEwIUAhUCFgIXAhgCGQIaAhsCHAIdAh4CHwIgAiECIgIjAiQCJQImAicCKAIpAioCKwIsAi0CLgIvAjACMQIyAjMCNAI1AjYCNwI4AjkCOgI7AjwCPQI+Aj8CQAJBAkICQwJEAkUCRgJHAkgCSQJKAksCTAJNAk4CTwJQAlECUgJTAlQCVQJWAlcCWAJZAloCWwJcAl0CXgJfAmACYQJiAmMCZAJlAmYCZwJoAmkCagJrAmwCbQJuAm8CcAJxAnICcwJ0AnUCdgJ3AngCeQJ6AnsCfAJ9An4CfwKAAoECggKDAoQChQKGAocCiAKJAooCiwKMAo0CjgKPApACkQKSApMClAKVApYClwKYApkCmgKbApwCnQKeAp8CoAKhAqICowKkAqUCpgKnAqgCqQKqAqsCrAKtAq4CrwKwArECsgKzArQCtQK2ArcCuAK5AroCuwK8Ar0CvgK/AsACwQLCAsMCxALFAsYCxwLIAskCygLLAswCzQLOAs8C0ALRAtIC0wLUAtUC1gLXAtgC2QLaAtsC3ALdAt4C3wLgAuEC4gLjAuQC5QLmAucC6ALpAuoC6wLsAu0C7gLvAvAC8QLyAvMC9AL1AvYC9wL4AvkC+gL7AvwC/QL+Av8CAAMBAwIDAwMEAwUDBgMHAwgDCQMKAwsDDAMNAw4DDwMQAxEDEgMTAxQDFQMWAxcDGAMZAxoDGwMcAx0DHgMfAyADIQMiAyMDJAMlAyYDJwMoAykDKgMrAywDLQMuAy8DMAMxAzIDMwM0AzUDNgM3AzgDOQM6AzsDPAM9Az4DPwNAA0EDQgNDA0QDRQNGA0cDSANJA0oDSwNMA00DTgNPA1ADUQNSA1MDVANVA1YDVwNYA1kDWgNbA1wDXQNeA18DYANhA2IDYwNkA2UDZgNnA2gDaQNqA2sDbANtA24DbwNwA3EDcgNzA3QDdQN2A3cDeAN5A3oDewN8A30DfgN/A4ADgQOCA4MDhAOFA4YDhwOIA4kDigOLA4wDjQOOA48DkAORA5IDkwOUA5UDlgOXA5gDmQOaA5sDnAOdA54DnwOgA6EDogOjA6QDpQOmA6cDqAOpA6oDqwOsA60DrgOvA7ADsQOyA7MDtAO1A7YDtwO4A7kDugO7A7wDvQO+A78DwAPBA8IDwwPEA8UDxgPHA8gDyQPKA8sDzAPNA84DzwPQA9ED0gPTA9QD1QPWA9cD2APZA9oD2wPcA90D3gPfA+AD4QPiA+MD5APlA+YD5wPoA+kD6gPrA+wD7QPuA+8D8APxA/ID8wP0A/UD9gP3A/gD+QP6A/sD/AP9A/4D/wMABAEEAgQDBAQEBQQGBAcECAQJBAoECwQMBA0EDgQPBBAEEQQSBBMEFAQVBBYEFwQYBBkEGgQbBBwEHQQeBB8EIAQhBCIEIwQkBCUEJgQnBCgEKQQqBCsELAQtBC4ELwQwBDEEMgQzBDQENQQ2BDcEOAQ5BDoEOwQ8BD0EPgQ/BEAEQQRCBEMERARFBEYERwRIBEkESgRLBEwETQROBE8EUARRBFIEUwRUBFUEVgRXBFgEWQRaBFsEXARdBF4EXwRgBGEEYgRjBGQEZQRmBGcEaARpBGoEawRsBG0EbgRvBHAEcQRyBHMEdAR1BHYEdwR4BHkEegR7BHwEfQR+BH8EgASBBIIEgwSEBIUEhgSHBIgEiQSKBIsEjASNBI4EjwSQBJEEkgSTBJQElQSWBJcEmASZBJoEmwScBJ0EngSfBKAEoQSiBKMEpASlBKYEpwSoBKkEqgSrBKwErQSuBK8EsASxBLIEswS0BLUEtgS3BLgEuQS6BLsEvAS9BL4EvwTABMEEwgTDBMQExQTGBMcEyATJBMoEywTMBM0EzgTPBNAE0QTSBNME1ATVBNYE1wTYBNkE2gTbBNwE3QTeBN8E4AThBOIE4wTkBOUE5gTnBOgE6QTqBOsE7ATtBO4E7wTwBPEE8gTzBPQE9QT2BPcE+AT5BPoE+wT8BP0E/gT/BAAFAQUCBQMFBAUFBQYFBwUIBQkFCgULBQwFDQUOBQ8FEAURBRIFEwUUBRUFFgUXBRgFGQUaBRsFHAUdBR4FHwUgBSEFIgUjBSQFJQUmBScFKAUpBSoFKwUsBS0FLgUvBTAFMQUyBTMFNAU1BTYFNwU4BTkFOgU7BTwFPQU+BT8FQAVBBUIFQwVEBUUFRgVHBUgFSQVKBUsFTAVNBU4FTwVQBVEFUgVTBVQFVQVWBVcFWAVZBVoFWwVcBV0FXgVfBWAFYQViBWMFZAVlBWYFZwVoBWkFagVrBWwFbQVuBW8FcAVxBXIF",
          "dtype": "i2"
         },
         "y": {
          "bdata": "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",
          "dtype": "f8"
         }
        }
       ],
       "layout": {
        "template": {
         "data": {
          "bar": [
           {
            "error_x": {
             "color": "#2a3f5f"
            },
            "error_y": {
             "color": "#2a3f5f"
            },
            "marker": {
             "line": {
              "color": "white",
              "width": 0.5
             },
             "pattern": {
              "fillmode": "overlay",
              "size": 10,
              "solidity": 0.2
             }
            },
            "type": "bar"
           }
          ],
          "barpolar": [
           {
            "marker": {
             "line": {
              "color": "white",
              "width": 0.5
             },
             "pattern": {
              "fillmode": "overlay",
              "size": 10,
              "solidity": 0.2
             }
            },
            "type": "barpolar"
           }
          ],
          "carpet": [
           {
            "aaxis": {
             "endlinecolor": "#2a3f5f",
             "gridcolor": "#C8D4E3",
             "linecolor": "#C8D4E3",
             "minorgridcolor": "#C8D4E3",
             "startlinecolor": "#2a3f5f"
            },
            "baxis": {
             "endlinecolor": "#2a3f5f",
             "gridcolor": "#C8D4E3",
             "linecolor": "#C8D4E3",
             "minorgridcolor": "#C8D4E3",
             "startlinecolor": "#2a3f5f"
            },
            "type": "carpet"
           }
          ],
          "choropleth": [
           {
            "colorbar": {
             "outlinewidth": 0,
             "ticks": ""
            },
            "type": "choropleth"
           }
          ],
          "contour": [
           {
            "colorbar": {
             "outlinewidth": 0,
             "ticks": ""
            },
            "colorscale": [
             [
              0,
              "#0d0887"
             ],
             [
              0.1111111111111111,
              "#46039f"
             ],
             [
              0.2222222222222222,
              "#7201a8"
             ],
             [
              0.3333333333333333,
              "#9c179e"
             ],
             [
              0.4444444444444444,
              "#bd3786"
             ],
             [
              0.5555555555555556,
              "#d8576b"
             ],
             [
              0.6666666666666666,
              "#ed7953"
             ],
             [
              0.7777777777777778,
              "#fb9f3a"
             ],
             [
              0.8888888888888888,
              "#fdca26"
             ],
             [
              1,
              "#f0f921"
             ]
            ],
            "type": "contour"
           }
          ],
          "contourcarpet": [
           {
            "colorbar": {
             "outlinewidth": 0,
             "ticks": ""
            },
            "type": "contourcarpet"
           }
          ],
          "heatmap": [
           {
            "colorbar": {
             "outlinewidth": 0,
             "ticks": ""
            },
            "colorscale": [
             [
              0,
              "#0d0887"
             ],
             [
              0.1111111111111111,
              "#46039f"
             ],
             [
              0.2222222222222222,
              "#7201a8"
             ],
             [
              0.3333333333333333,
              "#9c179e"
             ],
             [
              0.4444444444444444,
              "#bd3786"
             ],
             [
              0.5555555555555556,
              "#d8576b"
             ],
             [
              0.6666666666666666,
              "#ed7953"
             ],
             [
              0.7777777777777778,
              "#fb9f3a"
             ],
             [
              0.8888888888888888,
              "#fdca26"
             ],
             [
              1,
              "#f0f921"
             ]
            ],
            "type": "heatmap"
           }
          ],
          "histogram": [
           {
            "marker": {
             "pattern": {
              "fillmode": "overlay",
              "size": 10,
              "solidity": 0.2
             }
            },
            "type": "histogram"
           }
          ],
          "histogram2d": [
           {
            "colorbar": {
             "outlinewidth": 0,
             "ticks": ""
            },
            "colorscale": [
             [
              0,
              "#0d0887"
             ],
             [
              0.1111111111111111,
              "#46039f"
             ],
             [
              0.2222222222222222,
              "#7201a8"
             ],
             [
              0.3333333333333333,
              "#9c179e"
             ],
             [
              0.4444444444444444,
              "#bd3786"
             ],
             [
              0.5555555555555556,
              "#d8576b"
             ],
             [
              0.6666666666666666,
              "#ed7953"
             ],
             [
              0.7777777777777778,
              "#fb9f3a"
             ],
             [
              0.8888888888888888,
              "#fdca26"
             ],
             [
              1,
              "#f0f921"
             ]
            ],
            "type": "histogram2d"
           }
          ],
          "histogram2dcontour": [
           {
            "colorbar": {
             "outlinewidth": 0,
             "ticks": ""
            },
            "colorscale": [
             [
              0,
              "#0d0887"
             ],
             [
              0.1111111111111111,
              "#46039f"
             ],
             [
              0.2222222222222222,
              "#7201a8"
             ],
             [
              0.3333333333333333,
              "#9c179e"
             ],
             [
              0.4444444444444444,
              "#bd3786"
             ],
             [
              0.5555555555555556,
              "#d8576b"
             ],
             [
              0.6666666666666666,
              "#ed7953"
             ],
             [
              0.7777777777777778,
              "#fb9f3a"
             ],
             [
              0.8888888888888888,
              "#fdca26"
             ],
             [
              1,
              "#f0f921"
             ]
            ],
            "type": "histogram2dcontour"
           }
          ],
          "mesh3d": [
           {
            "colorbar": {
             "outlinewidth": 0,
             "ticks": ""
            },
            "type": "mesh3d"
           }
          ],
          "parcoords": [
           {
            "line": {
             "colorbar": {
              "outlinewidth": 0,
              "ticks": ""
             }
            },
            "type": "parcoords"
           }
          ],
          "pie": [
           {
            "automargin": true,
            "type": "pie"
           }
          ],
          "scatter": [
           {
            "fillpattern": {
             "fillmode": "overlay",
             "size": 10,
             "solidity": 0.2
            },
            "type": "scatter"
           }
          ],
          "scatter3d": [
           {
            "line": {
             "colorbar": {
              "outlinewidth": 0,
              "ticks": ""
             }
            },
            "marker": {
             "colorbar": {
              "outlinewidth": 0,
              "ticks": ""
             }
            },
            "type": "scatter3d"
           }
          ],
          "scattercarpet": [
           {
            "marker": {
             "colorbar": {
              "outlinewidth": 0,
              "ticks": ""
             }
            },
            "type": "scattercarpet"
           }
          ],
          "scattergeo": [
           {
            "marker": {
             "colorbar": {
              "outlinewidth": 0,
              "ticks": ""
             }
            },
            "type": "scattergeo"
           }
          ],
          "scattergl": [
           {
            "marker": {
             "colorbar": {
              "outlinewidth": 0,
              "ticks": ""
             }
            },
            "type": "scattergl"
           }
          ],
          "scattermap": [
           {
            "marker": {
             "colorbar": {
              "outlinewidth": 0,
              "ticks": ""
             }
            },
            "type": "scattermap"
           }
          ],
          "scattermapbox": [
           {
            "marker": {
             "colorbar": {
              "outlinewidth": 0,
              "ticks": ""
             }
            },
            "type": "scattermapbox"
           }
          ],
          "scatterpolar": [
           {
            "marker": {
             "colorbar": {
              "outlinewidth": 0,
              "ticks": ""
             }
            },
            "type": "scatterpolar"
           }
          ],
          "scatterpolargl": [
           {
            "marker": {
             "colorbar": {
              "outlinewidth": 0,
              "ticks": ""
             }
            },
            "type": "scatterpolargl"
           }
          ],
          "scatterternary": [
           {
            "marker": {
             "colorbar": {
              "outlinewidth": 0,
              "ticks": ""
             }
            },
            "type": "scatterternary"
           }
          ],
          "surface": [
           {
            "colorbar": {
             "outlinewidth": 0,
             "ticks": ""
            },
            "colorscale": [
             [
              0,
              "#0d0887"
             ],
             [
              0.1111111111111111,
              "#46039f"
             ],
             [
              0.2222222222222222,
              "#7201a8"
             ],
             [
              0.3333333333333333,
              "#9c179e"
             ],
             [
              0.4444444444444444,
              "#bd3786"
             ],
             [
              0.5555555555555556,
              "#d8576b"
             ],
             [
              0.6666666666666666,
              "#ed7953"
             ],
             [
              0.7777777777777778,
              "#fb9f3a"
             ],
             [
              0.8888888888888888,
              "#fdca26"
             ],
             [
              1,
              "#f0f921"
             ]
            ],
            "type": "surface"
           }
          ],
          "table": [
           {
            "cells": {
             "fill": {
              "color": "#EBF0F8"
             },
             "line": {
              "color": "white"
             }
            },
            "header": {
             "fill": {
              "color": "#C8D4E3"
             },
             "line": {
              "color": "white"
             }
            },
            "type": "table"
           }
          ]
         },
         "layout": {
          "annotationdefaults": {
           "arrowcolor": "#2a3f5f",
           "arrowhead": 0,
           "arrowwidth": 1
          },
          "autotypenumbers": "strict",
          "coloraxis": {
           "colorbar": {
            "outlinewidth": 0,
            "ticks": ""
           }
          },
          "colorscale": {
           "diverging": [
            [
             0,
             "#8e0152"
            ],
            [
             0.1,
             "#c51b7d"
            ],
            [
             0.2,
             "#de77ae"
            ],
            [
             0.3,
             "#f1b6da"
            ],
            [
             0.4,
             "#fde0ef"
            ],
            [
             0.5,
             "#f7f7f7"
            ],
            [
             0.6,
             "#e6f5d0"
            ],
            [
             0.7,
             "#b8e186"
            ],
            [
             0.8,
             "#7fbc41"
            ],
            [
             0.9,
             "#4d9221"
            ],
            [
             1,
             "#276419"
            ]
           ],
           "sequential": [
            [
             0,
             "#0d0887"
            ],
            [
             0.1111111111111111,
             "#46039f"
            ],
            [
             0.2222222222222222,
             "#7201a8"
            ],
            [
             0.3333333333333333,
             "#9c179e"
            ],
            [
             0.4444444444444444,
             "#bd3786"
            ],
            [
             0.5555555555555556,
             "#d8576b"
            ],
            [
             0.6666666666666666,
             "#ed7953"
            ],
            [
             0.7777777777777778,
             "#fb9f3a"
            ],
            [
             0.8888888888888888,
             "#fdca26"
            ],
            [
             1,
             "#f0f921"
            ]
           ],
           "sequentialminus": [
            [
             0,
             "#0d0887"
            ],
            [
             0.1111111111111111,
             "#46039f"
            ],
            [
             0.2222222222222222,
             "#7201a8"
            ],
            [
             0.3333333333333333,
             "#9c179e"
            ],
            [
             0.4444444444444444,
             "#bd3786"
            ],
            [
             0.5555555555555556,
             "#d8576b"
            ],
            [
             0.6666666666666666,
             "#ed7953"
            ],
            [
             0.7777777777777778,
             "#fb9f3a"
            ],
            [
             0.8888888888888888,
             "#fdca26"
            ],
            [
             1,
             "#f0f921"
            ]
           ]
          },
          "colorway": [
           "#636efa",
           "#EF553B",
           "#00cc96",
           "#ab63fa",
           "#FFA15A",
           "#19d3f3",
           "#FF6692",
           "#B6E880",
           "#FF97FF",
           "#FECB52"
          ],
          "font": {
           "color": "#2a3f5f"
          },
          "geo": {
           "bgcolor": "white",
           "lakecolor": "white",
           "landcolor": "white",
           "showlakes": true,
           "showland": true,
           "subunitcolor": "#C8D4E3"
          },
          "hoverlabel": {
           "align": "left"
          },
          "hovermode": "closest",
          "mapbox": {
           "style": "light"
          },
          "paper_bgcolor": "white",
          "plot_bgcolor": "white",
          "polar": {
           "angularaxis": {
            "gridcolor": "#EBF0F8",
            "linecolor": "#EBF0F8",
            "ticks": ""
           },
           "bgcolor": "white",
           "radialaxis": {
            "gridcolor": "#EBF0F8",
            "linecolor": "#EBF0F8",
            "ticks": ""
           }
          },
          "scene": {
           "xaxis": {
            "backgroundcolor": "white",
            "gridcolor": "#DFE8F3",
            "gridwidth": 2,
            "linecolor": "#EBF0F8",
            "showbackground": true,
            "ticks": "",
            "zerolinecolor": "#EBF0F8"
           },
           "yaxis": {
            "backgroundcolor": "white",
            "gridcolor": "#DFE8F3",
            "gridwidth": 2,
            "linecolor": "#EBF0F8",
            "showbackground": true,
            "ticks": "",
            "zerolinecolor": "#EBF0F8"
           },
           "zaxis": {
            "backgroundcolor": "white",
            "gridcolor": "#DFE8F3",
            "gridwidth": 2,
            "linecolor": "#EBF0F8",
            "showbackground": true,
            "ticks": "",
            "zerolinecolor": "#EBF0F8"
           }
          },
          "shapedefaults": {
           "line": {
            "color": "#2a3f5f"
           }
          },
          "ternary": {
           "aaxis": {
            "gridcolor": "#DFE8F3",
            "linecolor": "#A2B1C6",
            "ticks": ""
           },
           "baxis": {
            "gridcolor": "#DFE8F3",
            "linecolor": "#A2B1C6",
            "ticks": ""
           },
           "bgcolor": "white",
           "caxis": {
            "gridcolor": "#DFE8F3",
            "linecolor": "#A2B1C6",
            "ticks": ""
           }
          },
          "title": {
           "x": 0.05
          },
          "xaxis": {
           "automargin": true,
           "gridcolor": "#EBF0F8",
           "linecolor": "#EBF0F8",
           "ticks": "",
           "title": {
            "standoff": 15
           },
           "zerolinecolor": "#EBF0F8",
           "zerolinewidth": 2
          },
          "yaxis": {
           "automargin": true,
           "gridcolor": "#EBF0F8",
           "linecolor": "#EBF0F8",
           "ticks": "",
           "title": {
            "standoff": 15
           },
           "zerolinecolor": "#EBF0F8",
           "zerolinewidth": 2
          }
         }
        },
        "title": {
         "text": "cum_tw_ret, cum_put_ret, cum_call_ret"
        },
        "xaxis": {
         "title": {
          "text": "Index"
         }
        },
        "yaxis": {
         "title": {
          "text": "Value"
         }
        }
       }
      }
     },
     "metadata": {},
     "output_type": "display_data"
    }
   ],
   "source": [
    "tw_df = twii_df.copy()\n",
    "\n",
    "tw_df[\"daily_ret\"] = (tw_df[\"close\"] / tw_df[\"open\"]) - 1\n",
    "tw_df[\"demeaned_daily_ret\"] = tw_df[\"daily_ret\"] - tw_df[\"daily_ret\"].mean()\n",
    "\n",
    "op_atm_put_df.set_index(\"date\", inplace = True)\n",
    "op_atm_call_df.set_index(\"date\", inplace = True)\n",
    "op_atm_put_df.index, op_atm_call_df.index, tw_df.index = pd.to_datetime(op_atm_put_df.index), pd.to_datetime(op_atm_call_df.index), pd.to_datetime(tw_df.index)\n",
    "\n",
    "tw_df = tw_df.reindex(op_atm_put_df.index)\n",
    "tw_df[\"cum_demeaned_daily_ret\"] = tw_df[\"demeaned_daily_ret\"].cumsum()\n",
    "\n",
    "op_atm_put_df.reset_index(inplace = True)\n",
    "op_atm_call_df.reset_index(inplace = True)\n",
    "tw_df.reset_index(inplace = True)\n",
    "\n",
    "ret_df = pd.DataFrame({\n",
    "    \"cum_tw_ret\": tw_df[\"cum_demeaned_daily_ret\"],\n",
    "    \"cum_put_ret\": op_atm_put_df[\"cum_demeaned_daily_ret\"],\n",
    "    \"cum_call_ret\": op_atm_call_df[\"cum_demeaned_daily_ret\"]\n",
    "})\n",
    "plot_df_columns(ret_df, [\"cum_tw_ret\", \"cum_put_ret\", \"cum_call_ret\"])\n"
   ]
  },
  {
   "cell_type": "markdown",
   "id": "d78a53b0",
   "metadata": {},
   "source": [
    "### normalize"
   ]
  },
  {
   "cell_type": "code",
   "execution_count": 42,
   "id": "3a988a2f",
   "metadata": {},
   "outputs": [
    {
     "data": {
      "application/vnd.plotly.v1+json": {
       "config": {
        "plotlyServerURL": "https://plot.ly"
       },
       "data": [
        {
         "mode": "lines",
         "name": "cum_tw_ret",
         "type": "scatter",
         "x": {
          "bdata": "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",
          "dtype": "i2"
         },
         "y": {
          "bdata": "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",
          "dtype": "f8"
         }
        },
        {
         "mode": "lines",
         "name": "cum_put_ret",
         "type": "scatter",
         "x": {
          "bdata": "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",
          "dtype": "i2"
         },
         "y": {
          "bdata": "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",
          "dtype": "f8"
         }
        },
        {
         "mode": "lines",
         "name": "cum_call_ret",
         "type": "scatter",
         "x": {
          "bdata": "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",
          "dtype": "i2"
         },
         "y": {
          "bdata": "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",
          "dtype": "f8"
         }
        }
       ],
       "layout": {
        "template": {
         "data": {
          "bar": [
           {
            "error_x": {
             "color": "#2a3f5f"
            },
            "error_y": {
             "color": "#2a3f5f"
            },
            "marker": {
             "line": {
              "color": "white",
              "width": 0.5
             },
             "pattern": {
              "fillmode": "overlay",
              "size": 10,
              "solidity": 0.2
             }
            },
            "type": "bar"
           }
          ],
          "barpolar": [
           {
            "marker": {
             "line": {
              "color": "white",
              "width": 0.5
             },
             "pattern": {
              "fillmode": "overlay",
              "size": 10,
              "solidity": 0.2
             }
            },
            "type": "barpolar"
           }
          ],
          "carpet": [
           {
            "aaxis": {
             "endlinecolor": "#2a3f5f",
             "gridcolor": "#C8D4E3",
             "linecolor": "#C8D4E3",
             "minorgridcolor": "#C8D4E3",
             "startlinecolor": "#2a3f5f"
            },
            "baxis": {
             "endlinecolor": "#2a3f5f",
             "gridcolor": "#C8D4E3",
             "linecolor": "#C8D4E3",
             "minorgridcolor": "#C8D4E3",
             "startlinecolor": "#2a3f5f"
            },
            "type": "carpet"
           }
          ],
          "choropleth": [
           {
            "colorbar": {
             "outlinewidth": 0,
             "ticks": ""
            },
            "type": "choropleth"
           }
          ],
          "contour": [
           {
            "colorbar": {
             "outlinewidth": 0,
             "ticks": ""
            },
            "colorscale": [
             [
              0,
              "#0d0887"
             ],
             [
              0.1111111111111111,
              "#46039f"
             ],
             [
              0.2222222222222222,
              "#7201a8"
             ],
             [
              0.3333333333333333,
              "#9c179e"
             ],
             [
              0.4444444444444444,
              "#bd3786"
             ],
             [
              0.5555555555555556,
              "#d8576b"
             ],
             [
              0.6666666666666666,
              "#ed7953"
             ],
             [
              0.7777777777777778,
              "#fb9f3a"
             ],
             [
              0.8888888888888888,
              "#fdca26"
             ],
             [
              1,
              "#f0f921"
             ]
            ],
            "type": "contour"
           }
          ],
          "contourcarpet": [
           {
            "colorbar": {
             "outlinewidth": 0,
             "ticks": ""
            },
            "type": "contourcarpet"
           }
          ],
          "heatmap": [
           {
            "colorbar": {
             "outlinewidth": 0,
             "ticks": ""
            },
            "colorscale": [
             [
              0,
              "#0d0887"
             ],
             [
              0.1111111111111111,
              "#46039f"
             ],
             [
              0.2222222222222222,
              "#7201a8"
             ],
             [
              0.3333333333333333,
              "#9c179e"
             ],
             [
              0.4444444444444444,
              "#bd3786"
             ],
             [
              0.5555555555555556,
              "#d8576b"
             ],
             [
              0.6666666666666666,
              "#ed7953"
             ],
             [
              0.7777777777777778,
              "#fb9f3a"
             ],
             [
              0.8888888888888888,
              "#fdca26"
             ],
             [
              1,
              "#f0f921"
             ]
            ],
            "type": "heatmap"
           }
          ],
          "histogram": [
           {
            "marker": {
             "pattern": {
              "fillmode": "overlay",
              "size": 10,
              "solidity": 0.2
             }
            },
            "type": "histogram"
           }
          ],
          "histogram2d": [
           {
            "colorbar": {
             "outlinewidth": 0,
             "ticks": ""
            },
            "colorscale": [
             [
              0,
              "#0d0887"
             ],
             [
              0.1111111111111111,
              "#46039f"
             ],
             [
              0.2222222222222222,
              "#7201a8"
             ],
             [
              0.3333333333333333,
              "#9c179e"
             ],
             [
              0.4444444444444444,
              "#bd3786"
             ],
             [
              0.5555555555555556,
              "#d8576b"
             ],
             [
              0.6666666666666666,
              "#ed7953"
             ],
             [
              0.7777777777777778,
              "#fb9f3a"
             ],
             [
              0.8888888888888888,
              "#fdca26"
             ],
             [
              1,
              "#f0f921"
             ]
            ],
            "type": "histogram2d"
           }
          ],
          "histogram2dcontour": [
           {
            "colorbar": {
             "outlinewidth": 0,
             "ticks": ""
            },
            "colorscale": [
             [
              0,
              "#0d0887"
             ],
             [
              0.1111111111111111,
              "#46039f"
             ],
             [
              0.2222222222222222,
              "#7201a8"
             ],
             [
              0.3333333333333333,
              "#9c179e"
             ],
             [
              0.4444444444444444,
              "#bd3786"
             ],
             [
              0.5555555555555556,
              "#d8576b"
             ],
             [
              0.6666666666666666,
              "#ed7953"
             ],
             [
              0.7777777777777778,
              "#fb9f3a"
             ],
             [
              0.8888888888888888,
              "#fdca26"
             ],
             [
              1,
              "#f0f921"
             ]
            ],
            "type": "histogram2dcontour"
           }
          ],
          "mesh3d": [
           {
            "colorbar": {
             "outlinewidth": 0,
             "ticks": ""
            },
            "type": "mesh3d"
           }
          ],
          "parcoords": [
           {
            "line": {
             "colorbar": {
              "outlinewidth": 0,
              "ticks": ""
             }
            },
            "type": "parcoords"
           }
          ],
          "pie": [
           {
            "automargin": true,
            "type": "pie"
           }
          ],
          "scatter": [
           {
            "fillpattern": {
             "fillmode": "overlay",
             "size": 10,
             "solidity": 0.2
            },
            "type": "scatter"
           }
          ],
          "scatter3d": [
           {
            "line": {
             "colorbar": {
              "outlinewidth": 0,
              "ticks": ""
             }
            },
            "marker": {
             "colorbar": {
              "outlinewidth": 0,
              "ticks": ""
             }
            },
            "type": "scatter3d"
           }
          ],
          "scattercarpet": [
           {
            "marker": {
             "colorbar": {
              "outlinewidth": 0,
              "ticks": ""
             }
            },
            "type": "scattercarpet"
           }
          ],
          "scattergeo": [
           {
            "marker": {
             "colorbar": {
              "outlinewidth": 0,
              "ticks": ""
             }
            },
            "type": "scattergeo"
           }
          ],
          "scattergl": [
           {
            "marker": {
             "colorbar": {
              "outlinewidth": 0,
              "ticks": ""
             }
            },
            "type": "scattergl"
           }
          ],
          "scattermap": [
           {
            "marker": {
             "colorbar": {
              "outlinewidth": 0,
              "ticks": ""
             }
            },
            "type": "scattermap"
           }
          ],
          "scattermapbox": [
           {
            "marker": {
             "colorbar": {
              "outlinewidth": 0,
              "ticks": ""
             }
            },
            "type": "scattermapbox"
           }
          ],
          "scatterpolar": [
           {
            "marker": {
             "colorbar": {
              "outlinewidth": 0,
              "ticks": ""
             }
            },
            "type": "scatterpolar"
           }
          ],
          "scatterpolargl": [
           {
            "marker": {
             "colorbar": {
              "outlinewidth": 0,
              "ticks": ""
             }
            },
            "type": "scatterpolargl"
           }
          ],
          "scatterternary": [
           {
            "marker": {
             "colorbar": {
              "outlinewidth": 0,
              "ticks": ""
             }
            },
            "type": "scatterternary"
           }
          ],
          "surface": [
           {
            "colorbar": {
             "outlinewidth": 0,
             "ticks": ""
            },
            "colorscale": [
             [
              0,
              "#0d0887"
             ],
             [
              0.1111111111111111,
              "#46039f"
             ],
             [
              0.2222222222222222,
              "#7201a8"
             ],
             [
              0.3333333333333333,
              "#9c179e"
             ],
             [
              0.4444444444444444,
              "#bd3786"
             ],
             [
              0.5555555555555556,
              "#d8576b"
             ],
             [
              0.6666666666666666,
              "#ed7953"
             ],
             [
              0.7777777777777778,
              "#fb9f3a"
             ],
             [
              0.8888888888888888,
              "#fdca26"
             ],
             [
              1,
              "#f0f921"
             ]
            ],
            "type": "surface"
           }
          ],
          "table": [
           {
            "cells": {
             "fill": {
              "color": "#EBF0F8"
             },
             "line": {
              "color": "white"
             }
            },
            "header": {
             "fill": {
              "color": "#C8D4E3"
             },
             "line": {
              "color": "white"
             }
            },
            "type": "table"
           }
          ]
         },
         "layout": {
          "annotationdefaults": {
           "arrowcolor": "#2a3f5f",
           "arrowhead": 0,
           "arrowwidth": 1
          },
          "autotypenumbers": "strict",
          "coloraxis": {
           "colorbar": {
            "outlinewidth": 0,
            "ticks": ""
           }
          },
          "colorscale": {
           "diverging": [
            [
             0,
             "#8e0152"
            ],
            [
             0.1,
             "#c51b7d"
            ],
            [
             0.2,
             "#de77ae"
            ],
            [
             0.3,
             "#f1b6da"
            ],
            [
             0.4,
             "#fde0ef"
            ],
            [
             0.5,
             "#f7f7f7"
            ],
            [
             0.6,
             "#e6f5d0"
            ],
            [
             0.7,
             "#b8e186"
            ],
            [
             0.8,
             "#7fbc41"
            ],
            [
             0.9,
             "#4d9221"
            ],
            [
             1,
             "#276419"
            ]
           ],
           "sequential": [
            [
             0,
             "#0d0887"
            ],
            [
             0.1111111111111111,
             "#46039f"
            ],
            [
             0.2222222222222222,
             "#7201a8"
            ],
            [
             0.3333333333333333,
             "#9c179e"
            ],
            [
             0.4444444444444444,
             "#bd3786"
            ],
            [
             0.5555555555555556,
             "#d8576b"
            ],
            [
             0.6666666666666666,
             "#ed7953"
            ],
            [
             0.7777777777777778,
             "#fb9f3a"
            ],
            [
             0.8888888888888888,
             "#fdca26"
            ],
            [
             1,
             "#f0f921"
            ]
           ],
           "sequentialminus": [
            [
             0,
             "#0d0887"
            ],
            [
             0.1111111111111111,
             "#46039f"
            ],
            [
             0.2222222222222222,
             "#7201a8"
            ],
            [
             0.3333333333333333,
             "#9c179e"
            ],
            [
             0.4444444444444444,
             "#bd3786"
            ],
            [
             0.5555555555555556,
             "#d8576b"
            ],
            [
             0.6666666666666666,
             "#ed7953"
            ],
            [
             0.7777777777777778,
             "#fb9f3a"
            ],
            [
             0.8888888888888888,
             "#fdca26"
            ],
            [
             1,
             "#f0f921"
            ]
           ]
          },
          "colorway": [
           "#636efa",
           "#EF553B",
           "#00cc96",
           "#ab63fa",
           "#FFA15A",
           "#19d3f3",
           "#FF6692",
           "#B6E880",
           "#FF97FF",
           "#FECB52"
          ],
          "font": {
           "color": "#2a3f5f"
          },
          "geo": {
           "bgcolor": "white",
           "lakecolor": "white",
           "landcolor": "white",
           "showlakes": true,
           "showland": true,
           "subunitcolor": "#C8D4E3"
          },
          "hoverlabel": {
           "align": "left"
          },
          "hovermode": "closest",
          "mapbox": {
           "style": "light"
          },
          "paper_bgcolor": "white",
          "plot_bgcolor": "white",
          "polar": {
           "angularaxis": {
            "gridcolor": "#EBF0F8",
            "linecolor": "#EBF0F8",
            "ticks": ""
           },
           "bgcolor": "white",
           "radialaxis": {
            "gridcolor": "#EBF0F8",
            "linecolor": "#EBF0F8",
            "ticks": ""
           }
          },
          "scene": {
           "xaxis": {
            "backgroundcolor": "white",
            "gridcolor": "#DFE8F3",
            "gridwidth": 2,
            "linecolor": "#EBF0F8",
            "showbackground": true,
            "ticks": "",
            "zerolinecolor": "#EBF0F8"
           },
           "yaxis": {
            "backgroundcolor": "white",
            "gridcolor": "#DFE8F3",
            "gridwidth": 2,
            "linecolor": "#EBF0F8",
            "showbackground": true,
            "ticks": "",
            "zerolinecolor": "#EBF0F8"
           },
           "zaxis": {
            "backgroundcolor": "white",
            "gridcolor": "#DFE8F3",
            "gridwidth": 2,
            "linecolor": "#EBF0F8",
            "showbackground": true,
            "ticks": "",
            "zerolinecolor": "#EBF0F8"
           }
          },
          "shapedefaults": {
           "line": {
            "color": "#2a3f5f"
           }
          },
          "ternary": {
           "aaxis": {
            "gridcolor": "#DFE8F3",
            "linecolor": "#A2B1C6",
            "ticks": ""
           },
           "baxis": {
            "gridcolor": "#DFE8F3",
            "linecolor": "#A2B1C6",
            "ticks": ""
           },
           "bgcolor": "white",
           "caxis": {
            "gridcolor": "#DFE8F3",
            "linecolor": "#A2B1C6",
            "ticks": ""
           }
          },
          "title": {
           "x": 0.05
          },
          "xaxis": {
           "automargin": true,
           "gridcolor": "#EBF0F8",
           "linecolor": "#EBF0F8",
           "ticks": "",
           "title": {
            "standoff": 15
           },
           "zerolinecolor": "#EBF0F8",
           "zerolinewidth": 2
          },
          "yaxis": {
           "automargin": true,
           "gridcolor": "#EBF0F8",
           "linecolor": "#EBF0F8",
           "ticks": "",
           "title": {
            "standoff": 15
           },
           "zerolinecolor": "#EBF0F8",
           "zerolinewidth": 2
          }
         }
        },
        "title": {
         "text": "cum_tw_ret, cum_put_ret, cum_call_ret"
        },
        "xaxis": {
         "title": {
          "text": "Index"
         }
        },
        "yaxis": {
         "title": {
          "text": "Value"
         }
        }
       }
      }
     },
     "metadata": {},
     "output_type": "display_data"
    }
   ],
   "source": [
    "ret_df_norm = ret_df / ret_df.std()\n",
    "plot_df_columns(ret_df_norm, [\"cum_tw_ret\", \"cum_put_ret\", \"cum_call_ret\"])"
   ]
  },
  {
   "cell_type": "markdown",
   "id": "e8529150",
   "metadata": {},
   "source": [
    "# check the phenomenon of last price of before holiday to the first price of after holiday"
   ]
  },
  {
   "cell_type": "markdown",
   "id": "de6d08dc",
   "metadata": {},
   "source": [
    "## 夜盤 close - 日盤 open"
   ]
  },
  {
   "cell_type": "markdown",
   "id": "df850225",
   "metadata": {},
   "source": [
    "### put"
   ]
  },
  {
   "cell_type": "code",
   "execution_count": null,
   "id": "fb483184",
   "metadata": {},
   "outputs": [],
   "source": [
    "put_df = pd.DataFrame(index = op_atm_df[\"date\"].unique())\n",
    "\n",
    "\"\"\"get cross ret\"\"\"\n",
    "put_df = put_df.merge(\n",
    "    opa_atm_df.loc[opa_atm_df[\"call_put\"] == \"put\", [\"date\", \"strike_price\", \"close\"]].rename(columns = {\"close\": \"prev_night_close\"}),\n",
    "    left_index = True,\n",
    "    right_on = \"date\",\n",
    "    how = \"left\"\n",
    ")\n",
    "put_df[\"date\"] = pd.to_datetime(put_df[\"date\"])\n",
    "put_df = put_df.merge(\n",
    "    op_df.loc[op_df[\"call_put\"] == \"put\", [\"date\", \"strike_price\", \"open\"]],\n",
    "    on = [\"date\", \"strike_price\"],\n",
    "    how = \"left\"\n",
    ")\n",
    "put_mask = (put_df[\"prev_night_close\"] > 0) & (put_df[\"open\"] > 0)\n",
    "put_df[\"cross_ret\"] = np.where(put_mask, (put_df[\"open\"] / put_df[\"prev_night_close\"]) - 1, np.nan)\n",
    "\n",
    "\"\"\"calculate date delta\"\"\"\n",
    "put_df[\"gap_days\"] = put_df[\"date\"].diff().dt.days"
   ]
  },
  {
   "cell_type": "code",
   "execution_count": 223,
   "id": "db506ada",
   "metadata": {},
   "outputs": [
    {
     "data": {
      "application/vnd.plotly.v1+json": {
       "config": {
        "plotlyServerURL": "https://plot.ly"
       },
       "data": [
        {
         "line": {
          "color": "rgb(31, 119, 180)"
         },
         "mode": "lines",
         "name": "cum_demeaned_cross_ret",
         "type": "scatter",
         "x": {
          "bdata": "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",
          "dtype": "f8"
         },
         "xaxis": "x",
         "y": {
          "bdata": "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",
          "dtype": "f8"
         },
         "yaxis": "y"
        },
        {
         "line": {
          "color": "rgb(214, 39, 40)",
          "dash": "dash"
         },
         "mode": "lines",
         "name": "gap_days",
         "type": "scatter",
         "x": {
          "bdata": "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",
          "dtype": "f8"
         },
         "xaxis": "x",
         "y": {
          "bdata": "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",
          "dtype": "f8"
         },
         "yaxis": "y2"
        }
       ],
       "layout": {
        "annotations": [
         {
          "font": {
           "color": "gray",
           "size": 12
          },
          "showarrow": false,
          "text": "Sample size: 1395",
          "x": 0.99,
          "xanchor": "right",
          "xref": "paper",
          "y": 0.02,
          "yref": "paper"
         }
        ],
        "height": 500,
        "legend": {
         "x": 1.02,
         "xanchor": "left",
         "y": 0.5
        },
        "margin": {
         "b": 50,
         "l": 70,
         "r": 160,
         "t": 50
        },
        "template": {
         "data": {
          "bar": [
           {
            "error_x": {
             "color": "#2a3f5f"
            },
            "error_y": {
             "color": "#2a3f5f"
            },
            "marker": {
             "line": {
              "color": "white",
              "width": 0.5
             },
             "pattern": {
              "fillmode": "overlay",
              "size": 10,
              "solidity": 0.2
             }
            },
            "type": "bar"
           }
          ],
          "barpolar": [
           {
            "marker": {
             "line": {
              "color": "white",
              "width": 0.5
             },
             "pattern": {
              "fillmode": "overlay",
              "size": 10,
              "solidity": 0.2
             }
            },
            "type": "barpolar"
           }
          ],
          "carpet": [
           {
            "aaxis": {
             "endlinecolor": "#2a3f5f",
             "gridcolor": "#C8D4E3",
             "linecolor": "#C8D4E3",
             "minorgridcolor": "#C8D4E3",
             "startlinecolor": "#2a3f5f"
            },
            "baxis": {
             "endlinecolor": "#2a3f5f",
             "gridcolor": "#C8D4E3",
             "linecolor": "#C8D4E3",
             "minorgridcolor": "#C8D4E3",
             "startlinecolor": "#2a3f5f"
            },
            "type": "carpet"
           }
          ],
          "choropleth": [
           {
            "colorbar": {
             "outlinewidth": 0,
             "ticks": ""
            },
            "type": "choropleth"
           }
          ],
          "contour": [
           {
            "colorbar": {
             "outlinewidth": 0,
             "ticks": ""
            },
            "colorscale": [
             [
              0,
              "#0d0887"
             ],
             [
              0.1111111111111111,
              "#46039f"
             ],
             [
              0.2222222222222222,
              "#7201a8"
             ],
             [
              0.3333333333333333,
              "#9c179e"
             ],
             [
              0.4444444444444444,
              "#bd3786"
             ],
             [
              0.5555555555555556,
              "#d8576b"
             ],
             [
              0.6666666666666666,
              "#ed7953"
             ],
             [
              0.7777777777777778,
              "#fb9f3a"
             ],
             [
              0.8888888888888888,
              "#fdca26"
             ],
             [
              1,
              "#f0f921"
             ]
            ],
            "type": "contour"
           }
          ],
          "contourcarpet": [
           {
            "colorbar": {
             "outlinewidth": 0,
             "ticks": ""
            },
            "type": "contourcarpet"
           }
          ],
          "heatmap": [
           {
            "colorbar": {
             "outlinewidth": 0,
             "ticks": ""
            },
            "colorscale": [
             [
              0,
              "#0d0887"
             ],
             [
              0.1111111111111111,
              "#46039f"
             ],
             [
              0.2222222222222222,
              "#7201a8"
             ],
             [
              0.3333333333333333,
              "#9c179e"
             ],
             [
              0.4444444444444444,
              "#bd3786"
             ],
             [
              0.5555555555555556,
              "#d8576b"
             ],
             [
              0.6666666666666666,
              "#ed7953"
             ],
             [
              0.7777777777777778,
              "#fb9f3a"
             ],
             [
              0.8888888888888888,
              "#fdca26"
             ],
             [
              1,
              "#f0f921"
             ]
            ],
            "type": "heatmap"
           }
          ],
          "histogram": [
           {
            "marker": {
             "pattern": {
              "fillmode": "overlay",
              "size": 10,
              "solidity": 0.2
             }
            },
            "type": "histogram"
           }
          ],
          "histogram2d": [
           {
            "colorbar": {
             "outlinewidth": 0,
             "ticks": ""
            },
            "colorscale": [
             [
              0,
              "#0d0887"
             ],
             [
              0.1111111111111111,
              "#46039f"
             ],
             [
              0.2222222222222222,
              "#7201a8"
             ],
             [
              0.3333333333333333,
              "#9c179e"
             ],
             [
              0.4444444444444444,
              "#bd3786"
             ],
             [
              0.5555555555555556,
              "#d8576b"
             ],
             [
              0.6666666666666666,
              "#ed7953"
             ],
             [
              0.7777777777777778,
              "#fb9f3a"
             ],
             [
              0.8888888888888888,
              "#fdca26"
             ],
             [
              1,
              "#f0f921"
             ]
            ],
            "type": "histogram2d"
           }
          ],
          "histogram2dcontour": [
           {
            "colorbar": {
             "outlinewidth": 0,
             "ticks": ""
            },
            "colorscale": [
             [
              0,
              "#0d0887"
             ],
             [
              0.1111111111111111,
              "#46039f"
             ],
             [
              0.2222222222222222,
              "#7201a8"
             ],
             [
              0.3333333333333333,
              "#9c179e"
             ],
             [
              0.4444444444444444,
              "#bd3786"
             ],
             [
              0.5555555555555556,
              "#d8576b"
             ],
             [
              0.6666666666666666,
              "#ed7953"
             ],
             [
              0.7777777777777778,
              "#fb9f3a"
             ],
             [
              0.8888888888888888,
              "#fdca26"
             ],
             [
              1,
              "#f0f921"
             ]
            ],
            "type": "histogram2dcontour"
           }
          ],
          "mesh3d": [
           {
            "colorbar": {
             "outlinewidth": 0,
             "ticks": ""
            },
            "type": "mesh3d"
           }
          ],
          "parcoords": [
           {
            "line": {
             "colorbar": {
              "outlinewidth": 0,
              "ticks": ""
             }
            },
            "type": "parcoords"
           }
          ],
          "pie": [
           {
            "automargin": true,
            "type": "pie"
           }
          ],
          "scatter": [
           {
            "fillpattern": {
             "fillmode": "overlay",
             "size": 10,
             "solidity": 0.2
            },
            "type": "scatter"
           }
          ],
          "scatter3d": [
           {
            "line": {
             "colorbar": {
              "outlinewidth": 0,
              "ticks": ""
             }
            },
            "marker": {
             "colorbar": {
              "outlinewidth": 0,
              "ticks": ""
             }
            },
            "type": "scatter3d"
           }
          ],
          "scattercarpet": [
           {
            "marker": {
             "colorbar": {
              "outlinewidth": 0,
              "ticks": ""
             }
            },
            "type": "scattercarpet"
           }
          ],
          "scattergeo": [
           {
            "marker": {
             "colorbar": {
              "outlinewidth": 0,
              "ticks": ""
             }
            },
            "type": "scattergeo"
           }
          ],
          "scattergl": [
           {
            "marker": {
             "colorbar": {
              "outlinewidth": 0,
              "ticks": ""
             }
            },
            "type": "scattergl"
           }
          ],
          "scattermap": [
           {
            "marker": {
             "colorbar": {
              "outlinewidth": 0,
              "ticks": ""
             }
            },
            "type": "scattermap"
           }
          ],
          "scattermapbox": [
           {
            "marker": {
             "colorbar": {
              "outlinewidth": 0,
              "ticks": ""
             }
            },
            "type": "scattermapbox"
           }
          ],
          "scatterpolar": [
           {
            "marker": {
             "colorbar": {
              "outlinewidth": 0,
              "ticks": ""
             }
            },
            "type": "scatterpolar"
           }
          ],
          "scatterpolargl": [
           {
            "marker": {
             "colorbar": {
              "outlinewidth": 0,
              "ticks": ""
             }
            },
            "type": "scatterpolargl"
           }
          ],
          "scatterternary": [
           {
            "marker": {
             "colorbar": {
              "outlinewidth": 0,
              "ticks": ""
             }
            },
            "type": "scatterternary"
           }
          ],
          "surface": [
           {
            "colorbar": {
             "outlinewidth": 0,
             "ticks": ""
            },
            "colorscale": [
             [
              0,
              "#0d0887"
             ],
             [
              0.1111111111111111,
              "#46039f"
             ],
             [
              0.2222222222222222,
              "#7201a8"
             ],
             [
              0.3333333333333333,
              "#9c179e"
             ],
             [
              0.4444444444444444,
              "#bd3786"
             ],
             [
              0.5555555555555556,
              "#d8576b"
             ],
             [
              0.6666666666666666,
              "#ed7953"
             ],
             [
              0.7777777777777778,
              "#fb9f3a"
             ],
             [
              0.8888888888888888,
              "#fdca26"
             ],
             [
              1,
              "#f0f921"
             ]
            ],
            "type": "surface"
           }
          ],
          "table": [
           {
            "cells": {
             "fill": {
              "color": "#EBF0F8"
             },
             "line": {
              "color": "white"
             }
            },
            "header": {
             "fill": {
              "color": "#C8D4E3"
             },
             "line": {
              "color": "white"
             }
            },
            "type": "table"
           }
          ]
         },
         "layout": {
          "annotationdefaults": {
           "arrowcolor": "#2a3f5f",
           "arrowhead": 0,
           "arrowwidth": 1
          },
          "autotypenumbers": "strict",
          "coloraxis": {
           "colorbar": {
            "outlinewidth": 0,
            "ticks": ""
           }
          },
          "colorscale": {
           "diverging": [
            [
             0,
             "#8e0152"
            ],
            [
             0.1,
             "#c51b7d"
            ],
            [
             0.2,
             "#de77ae"
            ],
            [
             0.3,
             "#f1b6da"
            ],
            [
             0.4,
             "#fde0ef"
            ],
            [
             0.5,
             "#f7f7f7"
            ],
            [
             0.6,
             "#e6f5d0"
            ],
            [
             0.7,
             "#b8e186"
            ],
            [
             0.8,
             "#7fbc41"
            ],
            [
             0.9,
             "#4d9221"
            ],
            [
             1,
             "#276419"
            ]
           ],
           "sequential": [
            [
             0,
             "#0d0887"
            ],
            [
             0.1111111111111111,
             "#46039f"
            ],
            [
             0.2222222222222222,
             "#7201a8"
            ],
            [
             0.3333333333333333,
             "#9c179e"
            ],
            [
             0.4444444444444444,
             "#bd3786"
            ],
            [
             0.5555555555555556,
             "#d8576b"
            ],
            [
             0.6666666666666666,
             "#ed7953"
            ],
            [
             0.7777777777777778,
             "#fb9f3a"
            ],
            [
             0.8888888888888888,
             "#fdca26"
            ],
            [
             1,
             "#f0f921"
            ]
           ],
           "sequentialminus": [
            [
             0,
             "#0d0887"
            ],
            [
             0.1111111111111111,
             "#46039f"
            ],
            [
             0.2222222222222222,
             "#7201a8"
            ],
            [
             0.3333333333333333,
             "#9c179e"
            ],
            [
             0.4444444444444444,
             "#bd3786"
            ],
            [
             0.5555555555555556,
             "#d8576b"
            ],
            [
             0.6666666666666666,
             "#ed7953"
            ],
            [
             0.7777777777777778,
             "#fb9f3a"
            ],
            [
             0.8888888888888888,
             "#fdca26"
            ],
            [
             1,
             "#f0f921"
            ]
           ]
          },
          "colorway": [
           "#636efa",
           "#EF553B",
           "#00cc96",
           "#ab63fa",
           "#FFA15A",
           "#19d3f3",
           "#FF6692",
           "#B6E880",
           "#FF97FF",
           "#FECB52"
          ],
          "font": {
           "color": "#2a3f5f"
          },
          "geo": {
           "bgcolor": "white",
           "lakecolor": "white",
           "landcolor": "white",
           "showlakes": true,
           "showland": true,
           "subunitcolor": "#C8D4E3"
          },
          "hoverlabel": {
           "align": "left"
          },
          "hovermode": "closest",
          "mapbox": {
           "style": "light"
          },
          "paper_bgcolor": "white",
          "plot_bgcolor": "white",
          "polar": {
           "angularaxis": {
            "gridcolor": "#EBF0F8",
            "linecolor": "#EBF0F8",
            "ticks": ""
           },
           "bgcolor": "white",
           "radialaxis": {
            "gridcolor": "#EBF0F8",
            "linecolor": "#EBF0F8",
            "ticks": ""
           }
          },
          "scene": {
           "xaxis": {
            "backgroundcolor": "white",
            "gridcolor": "#DFE8F3",
            "gridwidth": 2,
            "linecolor": "#EBF0F8",
            "showbackground": true,
            "ticks": "",
            "zerolinecolor": "#EBF0F8"
           },
           "yaxis": {
            "backgroundcolor": "white",
            "gridcolor": "#DFE8F3",
            "gridwidth": 2,
            "linecolor": "#EBF0F8",
            "showbackground": true,
            "ticks": "",
            "zerolinecolor": "#EBF0F8"
           },
           "zaxis": {
            "backgroundcolor": "white",
            "gridcolor": "#DFE8F3",
            "gridwidth": 2,
            "linecolor": "#EBF0F8",
            "showbackground": true,
            "ticks": "",
            "zerolinecolor": "#EBF0F8"
           }
          },
          "shapedefaults": {
           "line": {
            "color": "#2a3f5f"
           }
          },
          "ternary": {
           "aaxis": {
            "gridcolor": "#DFE8F3",
            "linecolor": "#A2B1C6",
            "ticks": ""
           },
           "baxis": {
            "gridcolor": "#DFE8F3",
            "linecolor": "#A2B1C6",
            "ticks": ""
           },
           "bgcolor": "white",
           "caxis": {
            "gridcolor": "#DFE8F3",
            "linecolor": "#A2B1C6",
            "ticks": ""
           }
          },
          "title": {
           "x": 0.05
          },
          "xaxis": {
           "automargin": true,
           "gridcolor": "#EBF0F8",
           "linecolor": "#EBF0F8",
           "ticks": "",
           "title": {
            "standoff": 15
           },
           "zerolinecolor": "#EBF0F8",
           "zerolinewidth": 2
          },
          "yaxis": {
           "automargin": true,
           "gridcolor": "#EBF0F8",
           "linecolor": "#EBF0F8",
           "ticks": "",
           "title": {
            "standoff": 15
           },
           "zerolinecolor": "#EBF0F8",
           "zerolinewidth": 2
          }
         }
        },
        "xaxis": {
         "anchor": "y",
         "domain": [
          0,
          0.94
         ],
         "showgrid": true,
         "title": {
          "text": "sample proportion"
         }
        },
        "yaxis": {
         "anchor": "x",
         "domain": [
          0,
          1
         ],
         "showgrid": true,
         "tickfont": {
          "color": "rgb(31, 119, 180)"
         },
         "title": {
          "font": {
           "color": "rgb(31, 119, 180)"
          },
          "text": "cum_demeaned_cross_ret"
         }
        },
        "yaxis2": {
         "anchor": "x",
         "overlaying": "y",
         "showgrid": false,
         "side": "right",
         "tickfont": {
          "color": "rgb(214, 39, 40)"
         },
         "title": {
          "font": {
           "color": "rgb(214, 39, 40)"
          },
          "text": "gap_days"
         }
        }
       }
      }
     },
     "metadata": {},
     "output_type": "display_data"
    }
   ],
   "source": [
    "put_df.sort_values(\"gap_days\", ignore_index = True, inplace = True)\n",
    "mean = put_df[\"cross_ret\"].mean()\n",
    "put_df[\"demeaned_cross_ret\"] = put_df[\"cross_ret\"] - mean\n",
    "put_df[\"cum_demeaned_cross_ret\"] = put_df[\"demeaned_cross_ret\"].cumsum()\n",
    "plot(put_df, \"cum_demeaned_cross_ret\", ry = \"gap_days\")"
   ]
  },
  {
   "cell_type": "markdown",
   "id": "25d0c151",
   "metadata": {},
   "source": [
    "### call"
   ]
  },
  {
   "cell_type": "code",
   "execution_count": 231,
   "id": "6142f66d",
   "metadata": {},
   "outputs": [
    {
     "data": {
      "text/html": [
       "<div>\n",
       "<style scoped>\n",
       "    .dataframe tbody tr th:only-of-type {\n",
       "        vertical-align: middle;\n",
       "    }\n",
       "\n",
       "    .dataframe tbody tr th {\n",
       "        vertical-align: top;\n",
       "    }\n",
       "\n",
       "    .dataframe thead th {\n",
       "        text-align: right;\n",
       "    }\n",
       "</style>\n",
       "<table border=\"1\" class=\"dataframe\">\n",
       "  <thead>\n",
       "    <tr style=\"text-align: right;\">\n",
       "      <th></th>\n",
       "      <th>date</th>\n",
       "      <th>strike_price</th>\n",
       "      <th>prev_night_close</th>\n",
       "      <th>open</th>\n",
       "      <th>cross_ret</th>\n",
       "      <th>gap_days</th>\n",
       "    </tr>\n",
       "  </thead>\n",
       "  <tbody>\n",
       "    <tr>\n",
       "      <th>0</th>\n",
       "      <td>2020-01-02</td>\n",
       "      <td>12000.0</td>\n",
       "      <td>30.0</td>\n",
       "      <td>45.0</td>\n",
       "      <td>0.500000</td>\n",
       "      <td>NaN</td>\n",
       "    </tr>\n",
       "    <tr>\n",
       "      <th>1</th>\n",
       "      <td>2020-01-03</td>\n",
       "      <td>12150.0</td>\n",
       "      <td>73.0</td>\n",
       "      <td>78.0</td>\n",
       "      <td>0.068493</td>\n",
       "      <td>1.0</td>\n",
       "    </tr>\n",
       "    <tr>\n",
       "      <th>2</th>\n",
       "      <td>2020-01-06</td>\n",
       "      <td>12050.0</td>\n",
       "      <td>64.0</td>\n",
       "      <td>46.5</td>\n",
       "      <td>-0.273438</td>\n",
       "      <td>3.0</td>\n",
       "    </tr>\n",
       "    <tr>\n",
       "      <th>3</th>\n",
       "      <td>2020-01-07</td>\n",
       "      <td>12000.0</td>\n",
       "      <td>27.0</td>\n",
       "      <td>33.0</td>\n",
       "      <td>0.222222</td>\n",
       "      <td>1.0</td>\n",
       "    </tr>\n",
       "    <tr>\n",
       "      <th>4</th>\n",
       "      <td>2020-01-08</td>\n",
       "      <td>11900.0</td>\n",
       "      <td>28.0</td>\n",
       "      <td>2.9</td>\n",
       "      <td>-0.896429</td>\n",
       "      <td>1.0</td>\n",
       "    </tr>\n",
       "    <tr>\n",
       "      <th>...</th>\n",
       "      <td>...</td>\n",
       "      <td>...</td>\n",
       "      <td>...</td>\n",
       "      <td>...</td>\n",
       "      <td>...</td>\n",
       "      <td>...</td>\n",
       "    </tr>\n",
       "    <tr>\n",
       "      <th>1390</th>\n",
       "      <td>2025-09-19</td>\n",
       "      <td>25850.0</td>\n",
       "      <td>173.0</td>\n",
       "      <td>141.0</td>\n",
       "      <td>-0.184971</td>\n",
       "      <td>1.0</td>\n",
       "    </tr>\n",
       "    <tr>\n",
       "      <th>1391</th>\n",
       "      <td>2025-09-22</td>\n",
       "      <td>25750.0</td>\n",
       "      <td>122.0</td>\n",
       "      <td>128.0</td>\n",
       "      <td>0.049180</td>\n",
       "      <td>3.0</td>\n",
       "    </tr>\n",
       "    <tr>\n",
       "      <th>1392</th>\n",
       "      <td>2025-09-23</td>\n",
       "      <td>26050.0</td>\n",
       "      <td>92.0</td>\n",
       "      <td>87.0</td>\n",
       "      <td>-0.054348</td>\n",
       "      <td>1.0</td>\n",
       "    </tr>\n",
       "    <tr>\n",
       "      <th>1393</th>\n",
       "      <td>2025-09-24</td>\n",
       "      <td>26400.0</td>\n",
       "      <td>63.0</td>\n",
       "      <td>48.0</td>\n",
       "      <td>-0.238095</td>\n",
       "      <td>1.0</td>\n",
       "    </tr>\n",
       "    <tr>\n",
       "      <th>1394</th>\n",
       "      <td>2025-09-25</td>\n",
       "      <td>26200.0</td>\n",
       "      <td>200.0</td>\n",
       "      <td>199.0</td>\n",
       "      <td>-0.005000</td>\n",
       "      <td>1.0</td>\n",
       "    </tr>\n",
       "  </tbody>\n",
       "</table>\n",
       "<p>1395 rows × 6 columns</p>\n",
       "</div>"
      ],
      "text/plain": [
       "           date  strike_price  prev_night_close   open  cross_ret  gap_days\n",
       "0    2020-01-02       12000.0              30.0   45.0   0.500000       NaN\n",
       "1    2020-01-03       12150.0              73.0   78.0   0.068493       1.0\n",
       "2    2020-01-06       12050.0              64.0   46.5  -0.273438       3.0\n",
       "3    2020-01-07       12000.0              27.0   33.0   0.222222       1.0\n",
       "4    2020-01-08       11900.0              28.0    2.9  -0.896429       1.0\n",
       "...         ...           ...               ...    ...        ...       ...\n",
       "1390 2025-09-19       25850.0             173.0  141.0  -0.184971       1.0\n",
       "1391 2025-09-22       25750.0             122.0  128.0   0.049180       3.0\n",
       "1392 2025-09-23       26050.0              92.0   87.0  -0.054348       1.0\n",
       "1393 2025-09-24       26400.0              63.0   48.0  -0.238095       1.0\n",
       "1394 2025-09-25       26200.0             200.0  199.0  -0.005000       1.0\n",
       "\n",
       "[1395 rows x 6 columns]"
      ]
     },
     "execution_count": 231,
     "metadata": {},
     "output_type": "execute_result"
    }
   ],
   "source": [
    "call_df = pd.DataFrame(index = op_atm_df[\"date\"].unique())\n",
    "\n",
    "call_df = call_df.merge(\n",
    "    opa_atm_df.loc[opa_atm_df[\"call_put\"] == \"call\", [\"date\", \"strike_price\", \"close\"]]\n",
    "              .rename(columns = {\"close\": \"prev_night_close\"}),\n",
    "    left_index = True,\n",
    "    right_on = \"date\",\n",
    "    how = \"left\"\n",
    ")\n",
    "call_df[\"date\"] = pd.to_datetime(call_df[\"date\"])\n",
    "call_df = call_df.merge(\n",
    "    op_df.loc[op_df[\"call_put\"] == \"call\", [\"date\", \"strike_price\", \"open\"]],\n",
    "    on = [\"date\", \"strike_price\"],\n",
    "    how = \"left\"\n",
    ")\n",
    "call_mask = (call_df[\"prev_night_close\"] > 0) & (call_df[\"open\"] > 0)\n",
    "call_df[\"cross_ret\"] = np.where(call_mask, (call_df[\"open\"] / call_df[\"prev_night_close\"]) - 1, np.nan)\n",
    "call_df[\"gap_days\"] = call_df[\"date\"].diff().dt.days\n",
    "call_df"
   ]
  },
  {
   "cell_type": "code",
   "execution_count": 234,
   "id": "0269c877",
   "metadata": {},
   "outputs": [
    {
     "data": {
      "application/vnd.plotly.v1+json": {
       "config": {
        "plotlyServerURL": "https://plot.ly"
       },
       "data": [
        {
         "line": {
          "color": "rgb(31, 119, 180)"
         },
         "mode": "lines",
         "name": "cum_demeaned_cross_ret",
         "type": "scatter",
         "x": {
          "bdata": "AAAAAAAAAAAowirNVn1HPyjCKs1WfVc/nhHgGQGeYT8owirNVn1nP7JydYCsXG0/nhHgGQGecT/jaYXzq410PyjCKs1WfXc/bRrQpgFtej+ycnWArFx9P3xlDa0rJoA/nhHgGQGegT/BvbKG1hWDP+NphfOrjYQ/BhZYYIEFhj8owirNVn2HP0tu/Tks9Yg/bRrQpgFtij+QxqIT1+SLP7JydYCsXI0/1R5I7YHUjj98ZQ2tKyaQP427dmMW4pA/nhHgGQGekT+vZ0nQ61mSP8G9sobWFZM/0hMcPcHRkz/jaYXzq42UP/S/7qmWSZU/BhZYYIEFlj8XbMEWbMGWPyjCKs1WfZc/ORiUg0E5mD9Lbv05LPWYP1zEZvAWsZk/bRrQpgFtmj9+cDld7CibP5DGohPX5Js/oRwMysGgnD+ycnWArFydP8PI3jaXGJ4/1R5I7YHUnj/mdLGjbJCfP3xlDa0rJqA/hBBCCCGEoD+Nu3ZjFuKgP5Vmq74LQKE/nhHgGQGeoT+nvBR19vuhP69nSdDrWaI/uBJ+K+G3oj/BvbKG1hWjP8lo5+HLc6M/0hMcPcHRoz/avlCYti+kP+NphfOrjaQ/7BS6TqHrpD/0v+6plkmlP/1qIwWMp6U/BhZYYIEFpj8OwYy7dmOmPxdswRZswaY/Hxf2cWEfpz8owirNVn2nPzFtXyhM26c/ORiUg0E5qD9Cw8jeNpeoP0tu/Tks9ag/UxkylSFTqT9cxGbwFrGpP2Rvm0sMD6o/bRrQpgFtqj92xQQC98qqP35wOV3sKKs/hxtuuOGGqz+QxqIT1+SrP5hx127MQqw/oRwMysGgrD+px0Alt/6sP7JydYCsXK0/ux2q26G6rT/DyN42lxiuP8xzE5KMdq4/1R5I7YHUrj/dyXxIdzKvP+Z0saNskK8/7h/m/mHurz98ZQ2tKyawPwC7p1omVbA/hBBCCCGEsD8IZty1G7OwP427dmMW4rA/ERERERERsT+VZqu+C0CxPxq8RWwGb7E/nhHgGQGesT8iZ3rH+8yxP6e8FHX2+7E/KxKvIvEqsj+vZ0nQ61myPzS9433miLI/uBJ+K+G3sj88aBjZ2+ayP8G9sobWFbM/RRNNNNFEsz/JaOfhy3OzP02+gY/GorM/0hMcPcHRsz9WabbquwC0P9q+UJi2L7Q/XxTrRbFetD/jaYXzq420P2e/H6GmvLQ/7BS6TqHrtD9walT8mxq1P/S/7qmWSbU/eRWJV5F4tT/9aiMFjKe1P4HAvbKG1rU/BhZYYIEFtj+Ka/INfDS2Pw7BjLt2Y7Y/khYnaXGStj8XbMEWbMG2P5vBW8Rm8LY/Hxf2cWEftz+kbJAfXE63PyjCKs1Wfbc/rBfFelGstz8xbV8oTNu3P7XC+dVGCrg/ORiUg0E5uD++bS4xPGi4P0LDyN42l7g/xhhjjDHGuD9Lbv05LPW4P8/Dl+cmJLk/UxkylSFTuT/XbsxCHIK5P1zEZvAWsbk/4BkBnhHguT9kb5tLDA+6P+nENfkGPro/bRrQpgFtuj/xb2pU/Ju6P3bFBAL3yro/+hqfr/H5uj9+cDld7Ci7PwPG0wrnV7s/hxtuuOGGuz8LcQhm3LW7P5DGohPX5Ls/FBw9wdETvD+YcdduzEK8PxzHcRzHcbw/oRwMysGgvD8lcqZ3vM+8P6nHQCW3/rw/Lh3b0rEtvT+ycnWArFy9PzbIDy6ni70/ux2q26G6vT8/c0SJnOm9P8PI3jaXGL4/SB555JFHvj/McxOSjHa+P1DJrT+Hpb4/1R5I7YHUvj9ZdOKafAO/P93JfEh3Mr8/YR8X9nFhvz/mdLGjbJC/P2rKS1Fnv78/7h/m/mHuvz+5OkBWrg7AP3xlDa0rJsA/PpDaA6k9wD8Au6daJlXAP8LldLGjbMA/hBBCCCGEwD9GOw9fnpvAPwhm3LUbs8A/y5CpDJnKwD+Nu3ZjFuLAP0/mQ7qT+cA/ERERERERwT/TO95njijBP5Vmq74LQME/WJF4FYlXwT8avEVsBm/BP9zmEsODhsE/nhHgGQGewT9gPK1wfrXBPyJnesf7zME/5JFHHnnkwT+nvBR19vvBP2nn4ctzE8I/KxKvIvEqwj/tPHx5bkLCP69nSdDrWcI/cZIWJ2lxwj80veN95ojCP/bnsNRjoMI/uBJ+K+G3wj96PUuCXs/CPzxoGNnb5sI//pLlL1n+wj/BvbKG1hXDP4Pof91TLcM/RRNNNNFEwz8HPhqLTlzDP8lo5+HLc8M/i5O0OEmLwz9NvoGPxqLDPxDpTuZDusM/0hMcPcHRwz+UPumTPunDP1Zptuq7AMQ/GJSDQTkYxD/avlCYti/EP53pHe8zR8Q/XxTrRbFexD8hP7icLnbEP+NphfOrjcQ/pZRSSimlxD9nvx+hprzEPynq7Pcj1MQ/7BS6TqHrxD+uP4elHgPFP3BqVPybGsU/MpUhUxkyxT/0v+6plknFP7bquwAUYcU/eRWJV5F4xT87QFauDpDFP/1qIwWMp8U/v5XwWwm/xT+BwL2yhtbFP0PrigkE7sU/BhZYYIEFxj/IQCW3/hzGP4pr8g18NMY/TJa/ZPlLxj8OwYy7dmPGP9DrWRL0esY/khYnaXGSxj9VQfS/7qnGPxdswRZswcY/2ZaObenYxj+bwVvEZvDGP13sKBvkB8c/Hxf2cWEfxz/iQcPI3jbHP6RskB9cTsc/Zpdddtllxz8owirNVn3HP+rs9yPUlMc/rBfFelGsxz9uQpLRzsPHPzFtXyhM28c/85csf8nyxz+1wvnVRgrIP3ftxizEIcg/ORiUg0E5yD/7QmHavlDIP75tLjE8aMg/gJj7h7l/yD9Cw8jeNpfIPwTulTW0rsg/xhhjjDHGyD+IQzDjrt3IP0tu/Tks9cg/DZnKkKkMyT/Pw5fnJiTJP5HuZD6kO8k/UxkylSFTyT8VRP/rnmrJP9duzEIcgsk/mpmZmZmZyT9cxGbwFrHJPx7vM0eUyMk/4BkBnhHgyT+iRM70jvfJP2Rvm0sMD8o/J5poookmyj/pxDX5Bj7KP6vvAlCEVco/bRrQpgFtyj8vRZ39foTKP/FvalT8m8o/s5o3q3mzyj92xQQC98rKPzjw0Vh04so/+hqfr/H5yj+8RWwGbxHLP35wOV3sKMs/QJsGtGlAyz8DxtMK51fLP8XwoGFkb8s/hxtuuOGGyz9JRjsPX57LPwtxCGbctcs/zZvVvFnNyz+QxqIT1+TLP1Lxb2pU/Ms/FBw9wdETzD/WRgoYTyvMP5hx127MQsw/WpykxUlazD8cx3Ecx3HMP9/xPnNEicw/oRwMysGgzD9jR9kgP7jMPyVypne8z8w/55xzzjnnzD+px0Alt/7MP2zyDXw0Fs0/Lh3b0rEtzT/wR6gpL0XNP7JydYCsXM0/dJ1C1yl0zT82yA8up4vNP/jy3IQko80/ux2q26G6zT99SHcyH9LNPz9zRImc6c0/AZ4R4BkBzj/DyN42lxjOP4Xzq40UMM4/SB555JFHzj8KSUY7D1/OP8xzE5KMds4/jp7g6AmOzj9Qya0/h6XOPxL0epYEvc4/1R5I7YHUzj+XSRVE/+vOP1l04pp8A88/G5+v8fkazz/dyXxIdzLPP5/0SZ/0Sc8/YR8X9nFhzz8kSuRM73jPP+Z0saNskM8/qJ9++umnzz9qyktRZ7/PPyz1GKjk1s8/7h/m/mHuzz9Ypdmq7wLQP7k6QFauDtA/GtCmAW0a0D98ZQ2tKybQP936c1jqMdA/PpDaA6k90D+fJUGvZ0nQPwC7p1omVdA/YVAOBuVg0D/C5XSxo2zQPyN721xieNA/hBBCCCGE0D/lpaiz34/QP0Y7D1+em9A/p9B1Cl2n0D8IZty1G7PQP2r7QmHavtA/y5CpDJnK0D8sJhC4V9bQP427dmMW4tA/7lDdDtXt0D9P5kO6k/nQP7B7qmVSBdE/ERERERER0T9ypne8zxzRP9M73meOKNE/NNFEE0000T+VZqu+C0DRP/b7EWrKS9E/WJF4FYlX0T+5Jt/AR2PRPxq8RWwGb9E/e1GsF8V60T/c5hLDg4bRPz18eW5CktE/nhHgGQGe0T//pkbFv6nRP2A8rXB+tdE/wdETHD3B0T8iZ3rH+8zRP4P84HK62NE/5JFHHnnk0T9GJ67JN/DRP6e8FHX2+9E/CFJ7ILUH0j9p5+HLcxPSP8p8SHcyH9I/KxKvIvEq0j+MpxXOrzbSP+08fHluQtI/TtLiJC1O0j+vZ0nQ61nSPxD9r3uqZdI/cZIWJ2lx0j/SJ33SJ33SPzS9433miNI/lVJKKaWU0j/257DUY6DSP1d9F4AirNI/uBJ+K+G30j8ZqOTWn8PSP3o9S4Jez9I/29KxLR3b0j88aBjZ2+bSP539foSa8tI//pLlL1n+0j9fKEzbFwrTP8G9sobWFdM/IlMZMpUh0z+D6H/dUy3TP+R95ogSOdM/RRNNNNFE0z+mqLPfj1DTPwc+GotOXNM/aNOANg1o0z/JaOfhy3PTPyr+TY2Kf9M/i5O0OEmL0z/sKBvkB5fTP02+gY/GotM/r1PoOoWu0z8Q6U7mQ7rTP3F+tZECxtM/0hMcPcHR0z8zqYLof93TP5Q+6ZM+6dM/9dNPP/300z9WabbquwDUP7f+HJZ6DNQ/GJSDQTkY1D95Kers9yPUP9q+UJi2L9Q/O1S3Q3U71D+d6R3vM0fUP/5+hJryUtQ/XxTrRbFe1D/AqVHxb2rUPyE/uJwudtQ/gtQeSO2B1D/jaYXzq43UP0T/655qmdQ/pZRSSiml1D8GKrn157DUP2e/H6GmvNQ/yFSGTGXI1D8p6uz3I9TUP4t/U6Pi39Q/7BS6TqHr1D9NqiD6X/fUP64/h6UeA9U/D9XtUN0O1T9walT8mxrVP9H/uqdaJtU/MpUhUxky1T+TKoj+1z3VP/S/7qmWSdU/VVVVVVVV1T+26rsAFGHVPxeAIqzSbNU/eRWJV5F41T/aqu8CUITVPztAVq4OkNU/nNW8Wc2b1T/9aiMFjKfVP14AirBKs9U/v5XwWwm/1T8gK1cHyMrVP4HAvbKG1tU/4lUkXkXi1T9D64oJBO7VP6SA8bTC+dU/BhZYYIEF1j9nq74LQBHWP8hAJbf+HNY/KdaLYr0o1j+Ka/INfDTWP+sAWbk6QNY/TJa/ZPlL1j+tKyYQuFfWPw7BjLt2Y9Y/b1bzZjVv1j/Q61kS9HrWPzGBwL2yhtY/khYnaXGS1j/0q40UMJ7WP1VB9L/uqdY/ttZaa6211j8XbMEWbMHWP3gBKMIqzdY/2ZaObenY1j86LPUYqOTWP5vBW8Rm8NY//FbCbyX81j9d7Cgb5AfXP76Bj8aiE9c/Hxf2cWEf1z+ArFwdICvXP+JBw8jeNtc/Q9cpdJ1C1z+kbJAfXE7XPwUC98oaWtc/Zpdddtll1z/HLMQhmHHXPyjCKs1Wfdc/iVeReBWJ1z/q7Pcj1JTXP0uCXs+SoNc/rBfFelGs1z8NrSsmELjXP25CktHOw9c/0Nf4fI3P1z8xbV8oTNvXP5ICxtMK59c/85csf8ny1z9ULZMqiP7XP7XC+dVGCtg/FlhggQUW2D937cYsxCHYP9iCLdiCLdg/ORiUg0E52D+arfouAEXYP/tCYdq+UNg/XNjHhX1c2D++bS4xPGjYPx8Dldz6c9g/gJj7h7l/2D/hLWIzeIvYP0LDyN42l9g/o1gvivWi2D8E7pU1tK7YP2WD/OByutg/xhhjjDHG2D8nrsk38NHYP4hDMOOu3dg/6diWjm3p2D9Lbv05LPXYP6wDZOXqANk/DZnKkKkM2T9uLjE8aBjZP8/Dl+cmJNk/MFn+kuUv2T+R7mQ+pDvZP/KDy+liR9k/UxkylSFT2T+0rphA4F7ZPxVE/+ueatk/dtlll1122T/XbsxCHILZPzkEM+7ajdk/mpmZmZmZ2T/7LgBFWKXZP1zEZvAWsdk/vVnNm9W82T8e7zNHlMjZP3+EmvJS1Nk/4BkBnhHg2T9Br2dJ0OvZP6JEzvSO99k/A9o0oE0D2j9kb5tLDA/aP8UEAvfKGto/J5poookm2j+IL89NSDLaP+nENfkGPto/SlqcpMVJ2j+r7wJQhFXaPwyFaftCYdo/bRrQpgFt2j/OrzZSwHjaPy9Fnf1+hNo/kNoDqT2Q2j/xb2pU/JvaP1IF0f+6p9o/s5o3q3mz2j8VMJ5WOL/aP3bFBAL3yto/11prrbXW2j848NFYdOLaP5mFOAQz7to/+hqfr/H52j9bsAVbsAXbP7xFbAZvEds/HdvSsS0d2z9+cDld7CjbP98FoAirNNs/QJsGtGlA2z+hMG1fKEzbPwPG0wrnV9s/ZFs6tqVj2z/F8KBhZG/bPyaGBw0je9s/hxtuuOGG2z/osNRjoJLbP0lGOw9fnts/qtuhuh2q2z8LcQhm3LXbP2wGbxGbwds/zZvVvFnN2z8uMTxoGNnbP5DGohPX5Ns/8VsJv5Xw2z9S8W9qVPzbP7OG1hUTCNw/FBw9wdET3D91saNskB/cP9ZGChhPK9w/N9xwww033D+YcdduzELcP/kGPhqLTtw/WpykxUla3D+7MQtxCGbcPxzHcRzHcdw/flzYx4V93D/f8T5zRIncP0CHpR4Dldw/oRwMysGg3D8CsnJ1gKzcP2NH2SA/uNw/xNw/zP3D3D8lcqZ3vM/cP4YHDSN729w/55xzzjnn3D9IMtp5+PLcP6nHQCW3/tw/Cl2n0HUK3T9s8g18NBbdP82HdCfzId0/Lh3b0rEt3T+PskF+cDndP/BHqCkvRd0/Ud0O1e1Q3T+ycnWArFzdPxMI3CtraN0/dJ1C1yl03T/VMqmC6H/dPzbIDy6ni90/l1122WWX3T/48tyEJKPdP1qIQzDjrt0/ux2q26G63T8csxCHYMbdP31IdzIf0t0/3t3d3d3d3T8/c0SJnOndP6AIqzRb9d0/AZ4R4BkB3j9iM3iL2AzeP8PI3jaXGN4/JF5F4lUk3j+F86uNFDDeP+aIEjnTO94/SB555JFH3j+ps9+PUFPePwpJRjsPX94/a96s5s1q3j/McxOSjHbePy0Jej1Lgt4/jp7g6AmO3j/vM0eUyJneP1DJrT+Hpd4/sV4U60Wx3j8S9HqWBL3eP3OJ4UHDyN4/1R5I7YHU3j82tK6YQODeP5dJFUT/694/+N5777333j9ZdOKafAPfP7oJSUY7D98/G5+v8fka3z98NBaduCbfP93JfEh3Mt8/Pl/j8zU+3z+f9Emf9EnfPwCKsEqzVd8/YR8X9nFh3z/DtH2hMG3fPyRK5EzveN8/hd9K+K2E3z/mdLGjbJDfP0cKGE8rnN8/qJ9++umn3z8JNeWlqLPfP2rKS1Fnv98/y1+y/CXL3z8s9Rio5NbfP42Kf1Oj4t8/7h/m/mHu3z9PtUyqIPrfP1il2arvAuA/CfCMAM8I4D+5OkBWrg7gP2qF86uNFOA/GtCmAW0a4D/LGlpXTCDgP3xlDa0rJuA/LLDAAgss4D/d+nNY6jHgP41FJ67JN+A/PpDaA6k94D/u2o1ZiEPgP58lQa9nSeA/T3D0BEdP4D8Au6daJlXgP7AFW7AFW+A/YVAOBuVg4D8Rm8FbxGbgP8LldLGjbOA/czAoB4Ny4D8je9tcYnjgP9TFjrJBfuA/hBBCCCGE4D81W/VdAIrgP+WlqLPfj+A/lvBbCb+V4D9GOw9fnpvgP/eFwrR9oeA/p9B1Cl2n4D9YGylgPK3gPwhm3LUbs+A/ubCPC/u44D9q+0Jh2r7gPxpG9ra5xOA/y5CpDJnK4D9721xieNDgPywmELhX1uA/3HDDDTfc4D+Nu3ZjFuLgPz0GKrn15+A/7lDdDtXt4D+em5BktPPgP0/mQ7qT+eA//zD3D3P/4D+we6plUgXhP2HGXbsxC+E/ERERERER4T/CW8Rm8BbhP3Kmd7zPHOE/I/EqEq8i4T/TO95njijhP4SGkb1tLuE/NNFEE0004T/lG/hoLDrhP5Vmq74LQOE/RrFeFOtF4T/2+xFqykvhP6dGxb+pUeE/WJF4FYlX4T8I3CtraF3hP7km38BHY+E/aXGSFidp4T8avEVsBm/hP8oG+cHldOE/e1GsF8V64T8rnF9tpIDhP9zmEsODhuE/jDHGGGOM4T89fHluQpLhP+3GLMQhmOE/nhHgGQGe4T9PXJNv4KPhP/+mRsW/qeE/sPH5Gp+v4T9gPK1wfrXhPxGHYMZdu+E/wdETHD3B4T9yHMdxHMfhPyJnesf7zOE/07EtHdvS4T+D/OByutjhPzRHlMiZ3uE/5JFHHnnk4T+V3PpzWOrhP0Ynrsk38OE/9nFhHxf24T+nvBR19vvhP1cHyMrVAeI/CFJ7ILUH4j+4nC52lA3iP2nn4ctzE+I/GTKVIVMZ4j/KfEh3Mh/iP3rH+8wRJeI/KxKvIvEq4j/bXGJ40DDiP4ynFc6vNuI/PfLII4884j/tPHx5bkLiP56HL89NSOI/TtLiJC1O4j//HJZ6DFTiP69nSdDrWeI/YLL8Jctf4j8Q/a97qmXiP8FHY9GJa+I/cZIWJ2lx4j8i3cl8SHfiP9InfdInfeI/g3IwKAeD4j80veN95ojiP+QHl9PFjuI/lVJKKaWU4j9Fnf1+hJriP/bnsNRjoOI/pjJkKkOm4j9XfReAIqziPwfIytUBsuI/uBJ+K+G34j9oXTGBwL3iPxmo5Nafw+I/yfKXLH/J4j96PUuCXs/iPyuI/tc91eI/29KxLR3b4j+MHWWD/ODiPzxoGNnb5uI/7bLLLrvs4j+d/X6EmvLiP05IMtp5+OI//pLlL1n+4j+v3ZiFOATjP18oTNsXCuM/EHP/MPcP4z/BvbKG1hXjP3EIZty1G+M/IlMZMpUh4z/SncyHdCfjP4Pof91TLeM/MzMzMzMz4z/kfeaIEjnjP5TImd7xPuM/RRNNNNFE4z/1XQCKsErjP6aos9+PUOM/VvNmNW9W4z8HPhqLTlzjP7iIzeAtYuM/aNOANg1o4z8ZHjSM7G3jP8lo5+HLc+M/erOaN6t54z8q/k2Nin/jP9tIAeNpheM/i5O0OEmL4z883meOKJHjP+woG+QHl+M/nXPOOeec4z9NvoGPxqLjP/4INeWlqOM/r1PoOoWu4z9fnpuQZLTjPxDpTuZDuuM/wDMCPCPA4z9xfrWRAsbjPyHJaOfhy+M/0hMcPcHR4z+CXs+SoNfjPzOpguh/3eM/4/M1Pl/j4z+UPumTPunjP0SJnOkd7+M/9dNPP/304z+mHgOV3PrjP1Zptuq7AOQ/B7RpQJsG5D+3/hyWegzkP2hJ0OtZEuQ/GJSDQTkY5D/J3jaXGB7kP3kp6uz3I+Q/KnSdQtcp5D/avlCYti/kP4sJBO6VNeQ/O1S3Q3U75D/snmqZVEHkP53pHe8zR+Q/TTTRRBNN5D/+foSa8lLkP67JN/DRWOQ/XxTrRbFe5D8PX56bkGTkP8CpUfFvauQ/cPQER09w5D8hP7icLnbkP9GJa/INfOQ/gtQeSO2B5D8yH9KdzIfkP+NphfOrjeQ/lLQ4SYuT5D9E/+ueapnkP/VJn/RJn+Q/pZRSSiml5D9W3wWgCKvkPwYqufXnsOQ/t3RsS8e25D9nvx+hprzkPxgK0/aFwuQ/yFSGTGXI5D95nzmiRM7kPynq7Pcj1OQ/2jSgTQPa5D+Lf1Oj4t/kPzvKBvnB5eQ/7BS6TqHr5D+cX22kgPHkP02qIPpf9+Q//fTTTz/95D+uP4elHgPlP16KOvv9COU/D9XtUN0O5T+/H6GmvBTlP3BqVPybGuU/ILUHUnsg5T/R/7qnWiblP4JKbv05LOU/MpUhUxky5T/j39So+DflP5MqiP7XPeU/RHU7VLdD5T/0v+6plknlP6UKov91T+U/VVVVVVVV5T8GoAirNFvlP7bquwAUYeU/ZzVvVvNm5T8XgCKs0mzlP8jK1QGycuU/eRWJV5F45T8pYDytcH7lP9qq7wJQhOU/ivWiWC+K5T87QFauDpDlP+uKCQTuleU/nNW8Wc2b5T9MIHCvrKHlP/1qIwWMp+U/rbXWWmut5T9eAIqwSrPlPw5LPQYqueU/v5XwWwm/5T9w4KOx6MTlPyArVwfIyuU/0XUKXafQ5T+BwL2yhtblPzILcQhm3OU/4lUkXkXi5T+ToNezJOjlP0PrigkE7uU/9DU+X+Pz5T+kgPG0wvnlP1XLpAqi/+U/BhZYYIEF5j+2YAu2YAvmP2ervgtAEeY/F/ZxYR8X5j/IQCW3/hzmP3iL2AzeIuY/KdaLYr0o5j/ZID+4nC7mP4pr8g18NOY/OralY1s65j/rAFm5OkDmP5tLDA8aRuY/TJa/ZPlL5j/94HK62FHmP60rJhC4V+Y/XnbZZZdd5j8OwYy7dmPmP78LQBFWaeY/b1bzZjVv5j8goaa8FHXmP9DrWRL0euY/gTYNaNOA5j8xgcC9sobmP+LLcxOSjOY/khYnaXGS5j9DYdq+UJjmP/SrjRQwnuY/pPZAag+k5j9VQfS/7qnmPwWMpxXOr+Y/ttZaa6215j9mIQ7BjLvmPxdswRZsweY/x7Z0bEvH5j94ASjCKs3mPyhM2xcK0+Y/2ZaObenY5j+J4UHDyN7mPzos9Rio5OY/63aobofq5j+bwVvEZvDmP0wMDxpG9uY//FbCbyX85j+toXXFBALnP13sKBvkB+c/DjfccMMN5z++gY/GohPnP2/MQhyCGec/Hxf2cWEf5z/QYanHQCXnP4CsXB0gK+c/MfcPc/8w5z/iQcPI3jbnP5KMdh6+POc/Q9cpdJ1C5z/zId3JfEjnP6RskB9cTuc/VLdDdTtU5z8FAvfKGlrnP7VMqiD6X+c/Zpdddtll5z8W4hDMuGvnP8csxCGYcec/d3d3d3d35z8owirNVn3nP9kM3iI2g+c/iVeReBWJ5z86okTO9I7nP+rs9yPUlOc/mzerebOa5z9Lgl7PkqDnP/zMESVypuc/rBfFelGs5z9dYnjQMLLnPw2tKyYQuOc/vvfee++95z9uQpLRzsPnPx+NRSeuyec/0Nf4fI3P5z+AIqzSbNXnPzFtXyhM2+c/4bcSfivh5z+SAsbTCufnP0JNeSnq7Oc/85csf8ny5z+j4t/UqPjnP1QtkyqI/uc/BHhGgGcE6D+1wvnVRgroP2UNrSsmEOg/FlhggQUW6D/HohPX5BvoP3ftxizEIeg/KDh6gqMn6D/Ygi3Ygi3oP4nN4C1iM+g/ORiUg0E56D/qYkfZID/oP5qt+i4AReg/S/ithN9K6D/7QmHavlDoP6yNFDCeVug/XNjHhX1c6D8NI3vbXGLoP75tLjE8aOg/brjhhhtu6D8fA5Xc+nPoP89NSDLaeeg/gJj7h7l/6D8w467dmIXoP+EtYjN4i+g/kXgViVeR6D9Cw8jeNpfoP/INfDQWneg/o1gvivWi6D9To+Lf1KjoPwTulTW0rug/tThJi5O06D9lg/zgcrroPxbOrzZSwOg/xhhjjDHG6D93YxbiEMzoPyeuyTfw0eg/2Ph8jc/X6D+IQzDjrt3oPzmO4ziO4+g/6diWjm3p6D+aI0rkTO/oP0tu/Tks9eg/+7iwjwv76D+sA2Tl6gDpP1xOFzvKBuk/DZnKkKkM6T+9433miBLpP24uMTxoGOk/HnnkkUce6T/Pw5fnJiTpP38OSz0GKuk/MFn+kuUv6T/go7HoxDXpP5HuZD6kO+k/QjkYlINB6T/yg8vpYkfpP6POfj9CTek/UxkylSFT6T8EZOXqAFnpP7SumEDgXuk/ZflLlr9k6T8VRP/rnmrpP8aOskF+cOk/dtlll1126T8nJBntPHzpP9duzEIcguk/iLl/mPuH6T85BDPu2o3pP+lO5kO6k+k/mpmZmZmZ6T9K5EzveJ/pP/suAEVYpek/q3mzmjer6T9cxGbwFrHpPwwPGkb2tuk/vVnNm9W86T9tpIDxtMLpPx7vM0eUyOk/zjnnnHPO6T9/hJryUtTpPzDPTUgy2uk/4BkBnhHg6T+RZLTz8OXpP0GvZ0nQ6+k/8vkan6/x6T+iRM70jvfpP1OPgUpu/ek/A9o0oE0D6j+0JOj1LAnqP2Rvm0sMD+o/FbpOoesU6j/FBAL3yhrqP3ZPtUyqIOo/J5poookm6j/X5Bv4aCzqP4gvz01IMuo/OHqCoyc46j/pxDX5Bj7qP5kP6U7mQ+o/SlqcpMVJ6j/6pE/6pE/qP6vvAlCEVeo/Wzq2pWNb6j8MhWn7QmHqP7zPHFEiZ+o/bRrQpgFt6j8eZYP84HLqP86vNlLAeOo/f/rpp59+6j8vRZ39foTqP+CPUFNeiuo/kNoDqT2Q6j9BJbf+HJbqP/FvalT8m+o/orodqtuh6j9SBdH/uqfqPwNQhFWareo/s5o3q3mz6j9k5eoAWbnqPxUwnlY4v+o/xXpRrBfF6j92xQQC98rqPyYQuFfW0Oo/11prrbXW6j+HpR4DldzqPzjw0Vh04uo/6DqFrlPo6j+ZhTgEM+7qP0nQ61kS9Oo/+hqfr/H56j+qZVIF0f/qP1uwBVuwBes/DPu4sI8L6z+8RWwGbxHrP22QH1xOF+s/HdvSsS0d6z/OJYYHDSPrP35wOV3sKOs/L7vssssu6z/fBaAIqzTrP5BQU16KOus/QJsGtGlA6z/x5bkJSUbrP6EwbV8oTOs/UnsgtQdS6z8DxtMK51frP7MQh2DGXes/ZFs6tqVj6z8Upu0LhWnrP8XwoGFkb+s/dTtUt0N16z8mhgcNI3vrP9bQumICges/hxtuuOGG6z83ZiEOwYzrP+iw1GOgkus/mPuHuX+Y6z9JRjsPX57rP/qQ7mQ+pOs/qtuhuh2q6z9bJlUQ/a/rPwtxCGbctes/vLu7u7u76z9sBm8Rm8HrPx1RImd6x+s/zZvVvFnN6z9+5ogSOdPrPy4xPGgY2es/33vvvffe6z+QxqIT1+TrP0ARVmm26us/8VsJv5Xw6z+hprwUdfbrP1Lxb2pU/Os/AjwjwDMC7D+zhtYVEwjsP2PRiWvyDew/FBw9wdET7D/EZvAWsRnsP3Wxo2yQH+w/JfxWwm8l7D/WRgoYTyvsP4eRvW0uMew/N9xwww037D/oJiQZ7TzsP5hx127MQuw/SbyKxKtI7D/5Bj4ai07sP6pR8W9qVOw/WpykxUla7D8L51cbKWDsP7sxC3EIZuw/bHy+xudr7D8cx3Ecx3HsP80RJXKmd+w/flzYx4V97D8up4sdZYPsP9/xPnNEiew/jzzyyCOP7D9Ah6UeA5XsP/DRWHTimuw/oRwMysGg7D9RZ78foabsPwKycnWArOw/svwly1+y7D9jR9kgP7jsPxOSjHYevuw/xNw/zP3D7D91J/Mh3cnsPyVypne8z+w/1rxZzZvV7D+GBw0je9vsPzdSwHha4ew/55xzzjnn7D+Y5yYkGe3sP0gy2nn48uw/+XyNz9f47D+px0Alt/7sP1oS9HqWBO0/Cl2n0HUK7T+7p1omVRDtP2zyDXw0Fu0/HD3B0RMc7T/Nh3Qn8yHtP33SJ33SJ+0/Lh3b0rEt7T/eZ44okTPtP4+yQX5wOe0/P/30008/7T/wR6gpL0XtP6CSW38OS+0/Ud0O1e1Q7T8BKMIqzVbtP7JydYCsXO0/Y70o1oti7T8TCNwra2jtP8RSj4FKbu0/dJ1C1yl07T8l6PUsCXrtP9UyqYLof+0/hn1c2MeF7T82yA8up4vtP+cSw4OGke0/l1122WWX7T9IqCkvRZ3tP/jy3IQko+0/qT2Q2gOp7T9aiEMw467tPwrT9oXCtO0/ux2q26G67T9raF0xgcDtPxyzEIdgxu0/zP3D3D/M7T99SHcyH9LtPy2TKoj+1+0/3t3d3d3d7T+OKJEzvePtPz9zRImc6e0/77333nvv7T+gCKs0W/XtP1FTXoo6++0/AZ4R4BkB7j+y6MQ1+QbuP2IzeIvYDO4/E34r4bcS7j/DyN42lxjuP3QTkox2Hu4/JF5F4lUk7j/VqPg3NSruP4Xzq40UMO4/Nj5f4/M17j/miBI50zvuP5fTxY6yQe4/SB555JFH7j/4aCw6cU3uP6mz349QU+4/Wf6S5S9Z7j8KSUY7D1/uP7qT+ZDuZO4/a96s5s1q7j8bKWA8rXDuP8xzE5KMdu4/fL7G52t87j8tCXo9S4LuP91TLZMqiO4/jp7g6AmO7j8/6ZM+6ZPuP+8zR5TIme4/oH766aef7j9Qya0/h6XuPwEUYZVmq+4/sV4U60Wx7j9iqcdAJbfuPxL0epYEve4/wz4u7OPC7j9zieFBw8juPyTUlJeizu4/1R5I7YHU7j+FaftCYdruPza0rphA4O4/5v5h7h/m7j+XSRVE/+vuP0eUyJne8e4/+N5777337j+oKS9Fnf3uP1l04pp8A+8/Cb+V8FsJ7z+6CUlGOw/vP2pU/JsaFe8/G5+v8fka7z/M6WJH2SDvP3w0Fp24Ju8/LX/J8pcs7z/dyXxIdzLvP44UMJ5WOO8/Pl/j8zU+7z/vqZZJFUTvP5/0SZ/0Se8/UD/99NNP7z8AirBKs1XvP7HUY6CSW+8/YR8X9nFh7z8SaspLUWfvP8O0faEwbe8/c/8w9w9z7z8kSuRM73jvP9SUl6LOfu8/hd9K+K2E7z81Kv5NjYrvP+Z0saNskO8/lr9k+UuW7z9HChhPK5zvP/dUy6QKou8/qJ9++umn7z9Y6jFQya3vPwk15aWos+8/un+Y+4e57z9qyktRZ7/vPxsV/6ZGxe8/y1+y/CXL7z98qmVSBdHvPyz1GKjk1u8/3T/M/cPc7z+Nin9To+LvPz7VMqmC6O8/7h/m/mHu7z+faplUQfTvP0+1TKog+u8/",
          "dtype": "f8"
         },
         "xaxis": "x",
         "y": {
          "bdata": "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",
          "dtype": "f8"
         },
         "yaxis": "y"
        },
        {
         "line": {
          "color": "rgb(214, 39, 40)",
          "dash": "dash"
         },
         "mode": "lines",
         "name": "gap_days",
         "type": "scatter",
         "x": {
          "bdata": "AAAAAAAAAAAowirNVn1HPyjCKs1WfVc/nhHgGQGeYT8owirNVn1nP7JydYCsXG0/nhHgGQGecT/jaYXzq410PyjCKs1WfXc/bRrQpgFtej+ycnWArFx9P3xlDa0rJoA/nhHgGQGegT/BvbKG1hWDP+NphfOrjYQ/BhZYYIEFhj8owirNVn2HP0tu/Tks9Yg/bRrQpgFtij+QxqIT1+SLP7JydYCsXI0/1R5I7YHUjj98ZQ2tKyaQP427dmMW4pA/nhHgGQGekT+vZ0nQ61mSP8G9sobWFZM/0hMcPcHRkz/jaYXzq42UP/S/7qmWSZU/BhZYYIEFlj8XbMEWbMGWPyjCKs1WfZc/ORiUg0E5mD9Lbv05LPWYP1zEZvAWsZk/bRrQpgFtmj9+cDld7CibP5DGohPX5Js/oRwMysGgnD+ycnWArFydP8PI3jaXGJ4/1R5I7YHUnj/mdLGjbJCfP3xlDa0rJqA/hBBCCCGEoD+Nu3ZjFuKgP5Vmq74LQKE/nhHgGQGeoT+nvBR19vuhP69nSdDrWaI/uBJ+K+G3oj/BvbKG1hWjP8lo5+HLc6M/0hMcPcHRoz/avlCYti+kP+NphfOrjaQ/7BS6TqHrpD/0v+6plkmlP/1qIwWMp6U/BhZYYIEFpj8OwYy7dmOmPxdswRZswaY/Hxf2cWEfpz8owirNVn2nPzFtXyhM26c/ORiUg0E5qD9Cw8jeNpeoP0tu/Tks9ag/UxkylSFTqT9cxGbwFrGpP2Rvm0sMD6o/bRrQpgFtqj92xQQC98qqP35wOV3sKKs/hxtuuOGGqz+QxqIT1+SrP5hx127MQqw/oRwMysGgrD+px0Alt/6sP7JydYCsXK0/ux2q26G6rT/DyN42lxiuP8xzE5KMdq4/1R5I7YHUrj/dyXxIdzKvP+Z0saNskK8/7h/m/mHurz98ZQ2tKyawPwC7p1omVbA/hBBCCCGEsD8IZty1G7OwP427dmMW4rA/ERERERERsT+VZqu+C0CxPxq8RWwGb7E/nhHgGQGesT8iZ3rH+8yxP6e8FHX2+7E/KxKvIvEqsj+vZ0nQ61myPzS9433miLI/uBJ+K+G3sj88aBjZ2+ayP8G9sobWFbM/RRNNNNFEsz/JaOfhy3OzP02+gY/GorM/0hMcPcHRsz9WabbquwC0P9q+UJi2L7Q/XxTrRbFetD/jaYXzq420P2e/H6GmvLQ/7BS6TqHrtD9walT8mxq1P/S/7qmWSbU/eRWJV5F4tT/9aiMFjKe1P4HAvbKG1rU/BhZYYIEFtj+Ka/INfDS2Pw7BjLt2Y7Y/khYnaXGStj8XbMEWbMG2P5vBW8Rm8LY/Hxf2cWEftz+kbJAfXE63PyjCKs1Wfbc/rBfFelGstz8xbV8oTNu3P7XC+dVGCrg/ORiUg0E5uD++bS4xPGi4P0LDyN42l7g/xhhjjDHGuD9Lbv05LPW4P8/Dl+cmJLk/UxkylSFTuT/XbsxCHIK5P1zEZvAWsbk/4BkBnhHguT9kb5tLDA+6P+nENfkGPro/bRrQpgFtuj/xb2pU/Ju6P3bFBAL3yro/+hqfr/H5uj9+cDld7Ci7PwPG0wrnV7s/hxtuuOGGuz8LcQhm3LW7P5DGohPX5Ls/FBw9wdETvD+YcdduzEK8PxzHcRzHcbw/oRwMysGgvD8lcqZ3vM+8P6nHQCW3/rw/Lh3b0rEtvT+ycnWArFy9PzbIDy6ni70/ux2q26G6vT8/c0SJnOm9P8PI3jaXGL4/SB555JFHvj/McxOSjHa+P1DJrT+Hpb4/1R5I7YHUvj9ZdOKafAO/P93JfEh3Mr8/YR8X9nFhvz/mdLGjbJC/P2rKS1Fnv78/7h/m/mHuvz+5OkBWrg7AP3xlDa0rJsA/PpDaA6k9wD8Au6daJlXAP8LldLGjbMA/hBBCCCGEwD9GOw9fnpvAPwhm3LUbs8A/y5CpDJnKwD+Nu3ZjFuLAP0/mQ7qT+cA/ERERERERwT/TO95njijBP5Vmq74LQME/WJF4FYlXwT8avEVsBm/BP9zmEsODhsE/nhHgGQGewT9gPK1wfrXBPyJnesf7zME/5JFHHnnkwT+nvBR19vvBP2nn4ctzE8I/KxKvIvEqwj/tPHx5bkLCP69nSdDrWcI/cZIWJ2lxwj80veN95ojCP/bnsNRjoMI/uBJ+K+G3wj96PUuCXs/CPzxoGNnb5sI//pLlL1n+wj/BvbKG1hXDP4Pof91TLcM/RRNNNNFEwz8HPhqLTlzDP8lo5+HLc8M/i5O0OEmLwz9NvoGPxqLDPxDpTuZDusM/0hMcPcHRwz+UPumTPunDP1Zptuq7AMQ/GJSDQTkYxD/avlCYti/EP53pHe8zR8Q/XxTrRbFexD8hP7icLnbEP+NphfOrjcQ/pZRSSimlxD9nvx+hprzEPynq7Pcj1MQ/7BS6TqHrxD+uP4elHgPFP3BqVPybGsU/MpUhUxkyxT/0v+6plknFP7bquwAUYcU/eRWJV5F4xT87QFauDpDFP/1qIwWMp8U/v5XwWwm/xT+BwL2yhtbFP0PrigkE7sU/BhZYYIEFxj/IQCW3/hzGP4pr8g18NMY/TJa/ZPlLxj8OwYy7dmPGP9DrWRL0esY/khYnaXGSxj9VQfS/7qnGPxdswRZswcY/2ZaObenYxj+bwVvEZvDGP13sKBvkB8c/Hxf2cWEfxz/iQcPI3jbHP6RskB9cTsc/Zpdddtllxz8owirNVn3HP+rs9yPUlMc/rBfFelGsxz9uQpLRzsPHPzFtXyhM28c/85csf8nyxz+1wvnVRgrIP3ftxizEIcg/ORiUg0E5yD/7QmHavlDIP75tLjE8aMg/gJj7h7l/yD9Cw8jeNpfIPwTulTW0rsg/xhhjjDHGyD+IQzDjrt3IP0tu/Tks9cg/DZnKkKkMyT/Pw5fnJiTJP5HuZD6kO8k/UxkylSFTyT8VRP/rnmrJP9duzEIcgsk/mpmZmZmZyT9cxGbwFrHJPx7vM0eUyMk/4BkBnhHgyT+iRM70jvfJP2Rvm0sMD8o/J5poookmyj/pxDX5Bj7KP6vvAlCEVco/bRrQpgFtyj8vRZ39foTKP/FvalT8m8o/s5o3q3mzyj92xQQC98rKPzjw0Vh04so/+hqfr/H5yj+8RWwGbxHLP35wOV3sKMs/QJsGtGlAyz8DxtMK51fLP8XwoGFkb8s/hxtuuOGGyz9JRjsPX57LPwtxCGbctcs/zZvVvFnNyz+QxqIT1+TLP1Lxb2pU/Ms/FBw9wdETzD/WRgoYTyvMP5hx127MQsw/WpykxUlazD8cx3Ecx3HMP9/xPnNEicw/oRwMysGgzD9jR9kgP7jMPyVypne8z8w/55xzzjnnzD+px0Alt/7MP2zyDXw0Fs0/Lh3b0rEtzT/wR6gpL0XNP7JydYCsXM0/dJ1C1yl0zT82yA8up4vNP/jy3IQko80/ux2q26G6zT99SHcyH9LNPz9zRImc6c0/AZ4R4BkBzj/DyN42lxjOP4Xzq40UMM4/SB555JFHzj8KSUY7D1/OP8xzE5KMds4/jp7g6AmOzj9Qya0/h6XOPxL0epYEvc4/1R5I7YHUzj+XSRVE/+vOP1l04pp8A88/G5+v8fkazz/dyXxIdzLPP5/0SZ/0Sc8/YR8X9nFhzz8kSuRM73jPP+Z0saNskM8/qJ9++umnzz9qyktRZ7/PPyz1GKjk1s8/7h/m/mHuzz9Ypdmq7wLQP7k6QFauDtA/GtCmAW0a0D98ZQ2tKybQP936c1jqMdA/PpDaA6k90D+fJUGvZ0nQPwC7p1omVdA/YVAOBuVg0D/C5XSxo2zQPyN721xieNA/hBBCCCGE0D/lpaiz34/QP0Y7D1+em9A/p9B1Cl2n0D8IZty1G7PQP2r7QmHavtA/y5CpDJnK0D8sJhC4V9bQP427dmMW4tA/7lDdDtXt0D9P5kO6k/nQP7B7qmVSBdE/ERERERER0T9ypne8zxzRP9M73meOKNE/NNFEE0000T+VZqu+C0DRP/b7EWrKS9E/WJF4FYlX0T+5Jt/AR2PRPxq8RWwGb9E/e1GsF8V60T/c5hLDg4bRPz18eW5CktE/nhHgGQGe0T//pkbFv6nRP2A8rXB+tdE/wdETHD3B0T8iZ3rH+8zRP4P84HK62NE/5JFHHnnk0T9GJ67JN/DRP6e8FHX2+9E/CFJ7ILUH0j9p5+HLcxPSP8p8SHcyH9I/KxKvIvEq0j+MpxXOrzbSP+08fHluQtI/TtLiJC1O0j+vZ0nQ61nSPxD9r3uqZdI/cZIWJ2lx0j/SJ33SJ33SPzS9433miNI/lVJKKaWU0j/257DUY6DSP1d9F4AirNI/uBJ+K+G30j8ZqOTWn8PSP3o9S4Jez9I/29KxLR3b0j88aBjZ2+bSP539foSa8tI//pLlL1n+0j9fKEzbFwrTP8G9sobWFdM/IlMZMpUh0z+D6H/dUy3TP+R95ogSOdM/RRNNNNFE0z+mqLPfj1DTPwc+GotOXNM/aNOANg1o0z/JaOfhy3PTPyr+TY2Kf9M/i5O0OEmL0z/sKBvkB5fTP02+gY/GotM/r1PoOoWu0z8Q6U7mQ7rTP3F+tZECxtM/0hMcPcHR0z8zqYLof93TP5Q+6ZM+6dM/9dNPP/300z9WabbquwDUP7f+HJZ6DNQ/GJSDQTkY1D95Kers9yPUP9q+UJi2L9Q/O1S3Q3U71D+d6R3vM0fUP/5+hJryUtQ/XxTrRbFe1D/AqVHxb2rUPyE/uJwudtQ/gtQeSO2B1D/jaYXzq43UP0T/655qmdQ/pZRSSiml1D8GKrn157DUP2e/H6GmvNQ/yFSGTGXI1D8p6uz3I9TUP4t/U6Pi39Q/7BS6TqHr1D9NqiD6X/fUP64/h6UeA9U/D9XtUN0O1T9walT8mxrVP9H/uqdaJtU/MpUhUxky1T+TKoj+1z3VP/S/7qmWSdU/VVVVVVVV1T+26rsAFGHVPxeAIqzSbNU/eRWJV5F41T/aqu8CUITVPztAVq4OkNU/nNW8Wc2b1T/9aiMFjKfVP14AirBKs9U/v5XwWwm/1T8gK1cHyMrVP4HAvbKG1tU/4lUkXkXi1T9D64oJBO7VP6SA8bTC+dU/BhZYYIEF1j9nq74LQBHWP8hAJbf+HNY/KdaLYr0o1j+Ka/INfDTWP+sAWbk6QNY/TJa/ZPlL1j+tKyYQuFfWPw7BjLt2Y9Y/b1bzZjVv1j/Q61kS9HrWPzGBwL2yhtY/khYnaXGS1j/0q40UMJ7WP1VB9L/uqdY/ttZaa6211j8XbMEWbMHWP3gBKMIqzdY/2ZaObenY1j86LPUYqOTWP5vBW8Rm8NY//FbCbyX81j9d7Cgb5AfXP76Bj8aiE9c/Hxf2cWEf1z+ArFwdICvXP+JBw8jeNtc/Q9cpdJ1C1z+kbJAfXE7XPwUC98oaWtc/Zpdddtll1z/HLMQhmHHXPyjCKs1Wfdc/iVeReBWJ1z/q7Pcj1JTXP0uCXs+SoNc/rBfFelGs1z8NrSsmELjXP25CktHOw9c/0Nf4fI3P1z8xbV8oTNvXP5ICxtMK59c/85csf8ny1z9ULZMqiP7XP7XC+dVGCtg/FlhggQUW2D937cYsxCHYP9iCLdiCLdg/ORiUg0E52D+arfouAEXYP/tCYdq+UNg/XNjHhX1c2D++bS4xPGjYPx8Dldz6c9g/gJj7h7l/2D/hLWIzeIvYP0LDyN42l9g/o1gvivWi2D8E7pU1tK7YP2WD/OByutg/xhhjjDHG2D8nrsk38NHYP4hDMOOu3dg/6diWjm3p2D9Lbv05LPXYP6wDZOXqANk/DZnKkKkM2T9uLjE8aBjZP8/Dl+cmJNk/MFn+kuUv2T+R7mQ+pDvZP/KDy+liR9k/UxkylSFT2T+0rphA4F7ZPxVE/+ueatk/dtlll1122T/XbsxCHILZPzkEM+7ajdk/mpmZmZmZ2T/7LgBFWKXZP1zEZvAWsdk/vVnNm9W82T8e7zNHlMjZP3+EmvJS1Nk/4BkBnhHg2T9Br2dJ0OvZP6JEzvSO99k/A9o0oE0D2j9kb5tLDA/aP8UEAvfKGto/J5poookm2j+IL89NSDLaP+nENfkGPto/SlqcpMVJ2j+r7wJQhFXaPwyFaftCYdo/bRrQpgFt2j/OrzZSwHjaPy9Fnf1+hNo/kNoDqT2Q2j/xb2pU/JvaP1IF0f+6p9o/s5o3q3mz2j8VMJ5WOL/aP3bFBAL3yto/11prrbXW2j848NFYdOLaP5mFOAQz7to/+hqfr/H52j9bsAVbsAXbP7xFbAZvEds/HdvSsS0d2z9+cDld7CjbP98FoAirNNs/QJsGtGlA2z+hMG1fKEzbPwPG0wrnV9s/ZFs6tqVj2z/F8KBhZG/bPyaGBw0je9s/hxtuuOGG2z/osNRjoJLbP0lGOw9fnts/qtuhuh2q2z8LcQhm3LXbP2wGbxGbwds/zZvVvFnN2z8uMTxoGNnbP5DGohPX5Ns/8VsJv5Xw2z9S8W9qVPzbP7OG1hUTCNw/FBw9wdET3D91saNskB/cP9ZGChhPK9w/N9xwww033D+YcdduzELcP/kGPhqLTtw/WpykxUla3D+7MQtxCGbcPxzHcRzHcdw/flzYx4V93D/f8T5zRIncP0CHpR4Dldw/oRwMysGg3D8CsnJ1gKzcP2NH2SA/uNw/xNw/zP3D3D8lcqZ3vM/cP4YHDSN729w/55xzzjnn3D9IMtp5+PLcP6nHQCW3/tw/Cl2n0HUK3T9s8g18NBbdP82HdCfzId0/Lh3b0rEt3T+PskF+cDndP/BHqCkvRd0/Ud0O1e1Q3T+ycnWArFzdPxMI3CtraN0/dJ1C1yl03T/VMqmC6H/dPzbIDy6ni90/l1122WWX3T/48tyEJKPdP1qIQzDjrt0/ux2q26G63T8csxCHYMbdP31IdzIf0t0/3t3d3d3d3T8/c0SJnOndP6AIqzRb9d0/AZ4R4BkB3j9iM3iL2AzeP8PI3jaXGN4/JF5F4lUk3j+F86uNFDDeP+aIEjnTO94/SB555JFH3j+ps9+PUFPePwpJRjsPX94/a96s5s1q3j/McxOSjHbePy0Jej1Lgt4/jp7g6AmO3j/vM0eUyJneP1DJrT+Hpd4/sV4U60Wx3j8S9HqWBL3eP3OJ4UHDyN4/1R5I7YHU3j82tK6YQODeP5dJFUT/694/+N5777333j9ZdOKafAPfP7oJSUY7D98/G5+v8fka3z98NBaduCbfP93JfEh3Mt8/Pl/j8zU+3z+f9Emf9EnfPwCKsEqzVd8/YR8X9nFh3z/DtH2hMG3fPyRK5EzveN8/hd9K+K2E3z/mdLGjbJDfP0cKGE8rnN8/qJ9++umn3z8JNeWlqLPfP2rKS1Fnv98/y1+y/CXL3z8s9Rio5NbfP42Kf1Oj4t8/7h/m/mHu3z9PtUyqIPrfP1il2arvAuA/CfCMAM8I4D+5OkBWrg7gP2qF86uNFOA/GtCmAW0a4D/LGlpXTCDgP3xlDa0rJuA/LLDAAgss4D/d+nNY6jHgP41FJ67JN+A/PpDaA6k94D/u2o1ZiEPgP58lQa9nSeA/T3D0BEdP4D8Au6daJlXgP7AFW7AFW+A/YVAOBuVg4D8Rm8FbxGbgP8LldLGjbOA/czAoB4Ny4D8je9tcYnjgP9TFjrJBfuA/hBBCCCGE4D81W/VdAIrgP+WlqLPfj+A/lvBbCb+V4D9GOw9fnpvgP/eFwrR9oeA/p9B1Cl2n4D9YGylgPK3gPwhm3LUbs+A/ubCPC/u44D9q+0Jh2r7gPxpG9ra5xOA/y5CpDJnK4D9721xieNDgPywmELhX1uA/3HDDDTfc4D+Nu3ZjFuLgPz0GKrn15+A/7lDdDtXt4D+em5BktPPgP0/mQ7qT+eA//zD3D3P/4D+we6plUgXhP2HGXbsxC+E/ERERERER4T/CW8Rm8BbhP3Kmd7zPHOE/I/EqEq8i4T/TO95njijhP4SGkb1tLuE/NNFEE0004T/lG/hoLDrhP5Vmq74LQOE/RrFeFOtF4T/2+xFqykvhP6dGxb+pUeE/WJF4FYlX4T8I3CtraF3hP7km38BHY+E/aXGSFidp4T8avEVsBm/hP8oG+cHldOE/e1GsF8V64T8rnF9tpIDhP9zmEsODhuE/jDHGGGOM4T89fHluQpLhP+3GLMQhmOE/nhHgGQGe4T9PXJNv4KPhP/+mRsW/qeE/sPH5Gp+v4T9gPK1wfrXhPxGHYMZdu+E/wdETHD3B4T9yHMdxHMfhPyJnesf7zOE/07EtHdvS4T+D/OByutjhPzRHlMiZ3uE/5JFHHnnk4T+V3PpzWOrhP0Ynrsk38OE/9nFhHxf24T+nvBR19vvhP1cHyMrVAeI/CFJ7ILUH4j+4nC52lA3iP2nn4ctzE+I/GTKVIVMZ4j/KfEh3Mh/iP3rH+8wRJeI/KxKvIvEq4j/bXGJ40DDiP4ynFc6vNuI/PfLII4884j/tPHx5bkLiP56HL89NSOI/TtLiJC1O4j//HJZ6DFTiP69nSdDrWeI/YLL8Jctf4j8Q/a97qmXiP8FHY9GJa+I/cZIWJ2lx4j8i3cl8SHfiP9InfdInfeI/g3IwKAeD4j80veN95ojiP+QHl9PFjuI/lVJKKaWU4j9Fnf1+hJriP/bnsNRjoOI/pjJkKkOm4j9XfReAIqziPwfIytUBsuI/uBJ+K+G34j9oXTGBwL3iPxmo5Nafw+I/yfKXLH/J4j96PUuCXs/iPyuI/tc91eI/29KxLR3b4j+MHWWD/ODiPzxoGNnb5uI/7bLLLrvs4j+d/X6EmvLiP05IMtp5+OI//pLlL1n+4j+v3ZiFOATjP18oTNsXCuM/EHP/MPcP4z/BvbKG1hXjP3EIZty1G+M/IlMZMpUh4z/SncyHdCfjP4Pof91TLeM/MzMzMzMz4z/kfeaIEjnjP5TImd7xPuM/RRNNNNFE4z/1XQCKsErjP6aos9+PUOM/VvNmNW9W4z8HPhqLTlzjP7iIzeAtYuM/aNOANg1o4z8ZHjSM7G3jP8lo5+HLc+M/erOaN6t54z8q/k2Nin/jP9tIAeNpheM/i5O0OEmL4z883meOKJHjP+woG+QHl+M/nXPOOeec4z9NvoGPxqLjP/4INeWlqOM/r1PoOoWu4z9fnpuQZLTjPxDpTuZDuuM/wDMCPCPA4z9xfrWRAsbjPyHJaOfhy+M/0hMcPcHR4z+CXs+SoNfjPzOpguh/3eM/4/M1Pl/j4z+UPumTPunjP0SJnOkd7+M/9dNPP/304z+mHgOV3PrjP1Zptuq7AOQ/B7RpQJsG5D+3/hyWegzkP2hJ0OtZEuQ/GJSDQTkY5D/J3jaXGB7kP3kp6uz3I+Q/KnSdQtcp5D/avlCYti/kP4sJBO6VNeQ/O1S3Q3U75D/snmqZVEHkP53pHe8zR+Q/TTTRRBNN5D/+foSa8lLkP67JN/DRWOQ/XxTrRbFe5D8PX56bkGTkP8CpUfFvauQ/cPQER09w5D8hP7icLnbkP9GJa/INfOQ/gtQeSO2B5D8yH9KdzIfkP+NphfOrjeQ/lLQ4SYuT5D9E/+ueapnkP/VJn/RJn+Q/pZRSSiml5D9W3wWgCKvkPwYqufXnsOQ/t3RsS8e25D9nvx+hprzkPxgK0/aFwuQ/yFSGTGXI5D95nzmiRM7kPynq7Pcj1OQ/2jSgTQPa5D+Lf1Oj4t/kPzvKBvnB5eQ/7BS6TqHr5D+cX22kgPHkP02qIPpf9+Q//fTTTz/95D+uP4elHgPlP16KOvv9COU/D9XtUN0O5T+/H6GmvBTlP3BqVPybGuU/ILUHUnsg5T/R/7qnWiblP4JKbv05LOU/MpUhUxky5T/j39So+DflP5MqiP7XPeU/RHU7VLdD5T/0v+6plknlP6UKov91T+U/VVVVVVVV5T8GoAirNFvlP7bquwAUYeU/ZzVvVvNm5T8XgCKs0mzlP8jK1QGycuU/eRWJV5F45T8pYDytcH7lP9qq7wJQhOU/ivWiWC+K5T87QFauDpDlP+uKCQTuleU/nNW8Wc2b5T9MIHCvrKHlP/1qIwWMp+U/rbXWWmut5T9eAIqwSrPlPw5LPQYqueU/v5XwWwm/5T9w4KOx6MTlPyArVwfIyuU/0XUKXafQ5T+BwL2yhtblPzILcQhm3OU/4lUkXkXi5T+ToNezJOjlP0PrigkE7uU/9DU+X+Pz5T+kgPG0wvnlP1XLpAqi/+U/BhZYYIEF5j+2YAu2YAvmP2ervgtAEeY/F/ZxYR8X5j/IQCW3/hzmP3iL2AzeIuY/KdaLYr0o5j/ZID+4nC7mP4pr8g18NOY/OralY1s65j/rAFm5OkDmP5tLDA8aRuY/TJa/ZPlL5j/94HK62FHmP60rJhC4V+Y/XnbZZZdd5j8OwYy7dmPmP78LQBFWaeY/b1bzZjVv5j8goaa8FHXmP9DrWRL0euY/gTYNaNOA5j8xgcC9sobmP+LLcxOSjOY/khYnaXGS5j9DYdq+UJjmP/SrjRQwnuY/pPZAag+k5j9VQfS/7qnmPwWMpxXOr+Y/ttZaa6215j9mIQ7BjLvmPxdswRZsweY/x7Z0bEvH5j94ASjCKs3mPyhM2xcK0+Y/2ZaObenY5j+J4UHDyN7mPzos9Rio5OY/63aobofq5j+bwVvEZvDmP0wMDxpG9uY//FbCbyX85j+toXXFBALnP13sKBvkB+c/DjfccMMN5z++gY/GohPnP2/MQhyCGec/Hxf2cWEf5z/QYanHQCXnP4CsXB0gK+c/MfcPc/8w5z/iQcPI3jbnP5KMdh6+POc/Q9cpdJ1C5z/zId3JfEjnP6RskB9cTuc/VLdDdTtU5z8FAvfKGlrnP7VMqiD6X+c/Zpdddtll5z8W4hDMuGvnP8csxCGYcec/d3d3d3d35z8owirNVn3nP9kM3iI2g+c/iVeReBWJ5z86okTO9I7nP+rs9yPUlOc/mzerebOa5z9Lgl7PkqDnP/zMESVypuc/rBfFelGs5z9dYnjQMLLnPw2tKyYQuOc/vvfee++95z9uQpLRzsPnPx+NRSeuyec/0Nf4fI3P5z+AIqzSbNXnPzFtXyhM2+c/4bcSfivh5z+SAsbTCufnP0JNeSnq7Oc/85csf8ny5z+j4t/UqPjnP1QtkyqI/uc/BHhGgGcE6D+1wvnVRgroP2UNrSsmEOg/FlhggQUW6D/HohPX5BvoP3ftxizEIeg/KDh6gqMn6D/Ygi3Ygi3oP4nN4C1iM+g/ORiUg0E56D/qYkfZID/oP5qt+i4AReg/S/ithN9K6D/7QmHavlDoP6yNFDCeVug/XNjHhX1c6D8NI3vbXGLoP75tLjE8aOg/brjhhhtu6D8fA5Xc+nPoP89NSDLaeeg/gJj7h7l/6D8w467dmIXoP+EtYjN4i+g/kXgViVeR6D9Cw8jeNpfoP/INfDQWneg/o1gvivWi6D9To+Lf1KjoPwTulTW0rug/tThJi5O06D9lg/zgcrroPxbOrzZSwOg/xhhjjDHG6D93YxbiEMzoPyeuyTfw0eg/2Ph8jc/X6D+IQzDjrt3oPzmO4ziO4+g/6diWjm3p6D+aI0rkTO/oP0tu/Tks9eg/+7iwjwv76D+sA2Tl6gDpP1xOFzvKBuk/DZnKkKkM6T+9433miBLpP24uMTxoGOk/HnnkkUce6T/Pw5fnJiTpP38OSz0GKuk/MFn+kuUv6T/go7HoxDXpP5HuZD6kO+k/QjkYlINB6T/yg8vpYkfpP6POfj9CTek/UxkylSFT6T8EZOXqAFnpP7SumEDgXuk/ZflLlr9k6T8VRP/rnmrpP8aOskF+cOk/dtlll1126T8nJBntPHzpP9duzEIcguk/iLl/mPuH6T85BDPu2o3pP+lO5kO6k+k/mpmZmZmZ6T9K5EzveJ/pP/suAEVYpek/q3mzmjer6T9cxGbwFrHpPwwPGkb2tuk/vVnNm9W86T9tpIDxtMLpPx7vM0eUyOk/zjnnnHPO6T9/hJryUtTpPzDPTUgy2uk/4BkBnhHg6T+RZLTz8OXpP0GvZ0nQ6+k/8vkan6/x6T+iRM70jvfpP1OPgUpu/ek/A9o0oE0D6j+0JOj1LAnqP2Rvm0sMD+o/FbpOoesU6j/FBAL3yhrqP3ZPtUyqIOo/J5poookm6j/X5Bv4aCzqP4gvz01IMuo/OHqCoyc46j/pxDX5Bj7qP5kP6U7mQ+o/SlqcpMVJ6j/6pE/6pE/qP6vvAlCEVeo/Wzq2pWNb6j8MhWn7QmHqP7zPHFEiZ+o/bRrQpgFt6j8eZYP84HLqP86vNlLAeOo/f/rpp59+6j8vRZ39foTqP+CPUFNeiuo/kNoDqT2Q6j9BJbf+HJbqP/FvalT8m+o/orodqtuh6j9SBdH/uqfqPwNQhFWareo/s5o3q3mz6j9k5eoAWbnqPxUwnlY4v+o/xXpRrBfF6j92xQQC98rqPyYQuFfW0Oo/11prrbXW6j+HpR4DldzqPzjw0Vh04uo/6DqFrlPo6j+ZhTgEM+7qP0nQ61kS9Oo/+hqfr/H56j+qZVIF0f/qP1uwBVuwBes/DPu4sI8L6z+8RWwGbxHrP22QH1xOF+s/HdvSsS0d6z/OJYYHDSPrP35wOV3sKOs/L7vssssu6z/fBaAIqzTrP5BQU16KOus/QJsGtGlA6z/x5bkJSUbrP6EwbV8oTOs/UnsgtQdS6z8DxtMK51frP7MQh2DGXes/ZFs6tqVj6z8Upu0LhWnrP8XwoGFkb+s/dTtUt0N16z8mhgcNI3vrP9bQumICges/hxtuuOGG6z83ZiEOwYzrP+iw1GOgkus/mPuHuX+Y6z9JRjsPX57rP/qQ7mQ+pOs/qtuhuh2q6z9bJlUQ/a/rPwtxCGbctes/vLu7u7u76z9sBm8Rm8HrPx1RImd6x+s/zZvVvFnN6z9+5ogSOdPrPy4xPGgY2es/33vvvffe6z+QxqIT1+TrP0ARVmm26us/8VsJv5Xw6z+hprwUdfbrP1Lxb2pU/Os/AjwjwDMC7D+zhtYVEwjsP2PRiWvyDew/FBw9wdET7D/EZvAWsRnsP3Wxo2yQH+w/JfxWwm8l7D/WRgoYTyvsP4eRvW0uMew/N9xwww037D/oJiQZ7TzsP5hx127MQuw/SbyKxKtI7D/5Bj4ai07sP6pR8W9qVOw/WpykxUla7D8L51cbKWDsP7sxC3EIZuw/bHy+xudr7D8cx3Ecx3HsP80RJXKmd+w/flzYx4V97D8up4sdZYPsP9/xPnNEiew/jzzyyCOP7D9Ah6UeA5XsP/DRWHTimuw/oRwMysGg7D9RZ78foabsPwKycnWArOw/svwly1+y7D9jR9kgP7jsPxOSjHYevuw/xNw/zP3D7D91J/Mh3cnsPyVypne8z+w/1rxZzZvV7D+GBw0je9vsPzdSwHha4ew/55xzzjnn7D+Y5yYkGe3sP0gy2nn48uw/+XyNz9f47D+px0Alt/7sP1oS9HqWBO0/Cl2n0HUK7T+7p1omVRDtP2zyDXw0Fu0/HD3B0RMc7T/Nh3Qn8yHtP33SJ33SJ+0/Lh3b0rEt7T/eZ44okTPtP4+yQX5wOe0/P/30008/7T/wR6gpL0XtP6CSW38OS+0/Ud0O1e1Q7T8BKMIqzVbtP7JydYCsXO0/Y70o1oti7T8TCNwra2jtP8RSj4FKbu0/dJ1C1yl07T8l6PUsCXrtP9UyqYLof+0/hn1c2MeF7T82yA8up4vtP+cSw4OGke0/l1122WWX7T9IqCkvRZ3tP/jy3IQko+0/qT2Q2gOp7T9aiEMw467tPwrT9oXCtO0/ux2q26G67T9raF0xgcDtPxyzEIdgxu0/zP3D3D/M7T99SHcyH9LtPy2TKoj+1+0/3t3d3d3d7T+OKJEzvePtPz9zRImc6e0/77333nvv7T+gCKs0W/XtP1FTXoo6++0/AZ4R4BkB7j+y6MQ1+QbuP2IzeIvYDO4/E34r4bcS7j/DyN42lxjuP3QTkox2Hu4/JF5F4lUk7j/VqPg3NSruP4Xzq40UMO4/Nj5f4/M17j/miBI50zvuP5fTxY6yQe4/SB555JFH7j/4aCw6cU3uP6mz349QU+4/Wf6S5S9Z7j8KSUY7D1/uP7qT+ZDuZO4/a96s5s1q7j8bKWA8rXDuP8xzE5KMdu4/fL7G52t87j8tCXo9S4LuP91TLZMqiO4/jp7g6AmO7j8/6ZM+6ZPuP+8zR5TIme4/oH766aef7j9Qya0/h6XuPwEUYZVmq+4/sV4U60Wx7j9iqcdAJbfuPxL0epYEve4/wz4u7OPC7j9zieFBw8juPyTUlJeizu4/1R5I7YHU7j+FaftCYdruPza0rphA4O4/5v5h7h/m7j+XSRVE/+vuP0eUyJne8e4/+N5777337j+oKS9Fnf3uP1l04pp8A+8/Cb+V8FsJ7z+6CUlGOw/vP2pU/JsaFe8/G5+v8fka7z/M6WJH2SDvP3w0Fp24Ju8/LX/J8pcs7z/dyXxIdzLvP44UMJ5WOO8/Pl/j8zU+7z/vqZZJFUTvP5/0SZ/0Se8/UD/99NNP7z8AirBKs1XvP7HUY6CSW+8/YR8X9nFh7z8SaspLUWfvP8O0faEwbe8/c/8w9w9z7z8kSuRM73jvP9SUl6LOfu8/hd9K+K2E7z81Kv5NjYrvP+Z0saNskO8/lr9k+UuW7z9HChhPK5zvP/dUy6QKou8/qJ9++umn7z9Y6jFQya3vPwk15aWos+8/un+Y+4e57z9qyktRZ7/vPxsV/6ZGxe8/y1+y/CXL7z98qmVSBdHvPyz1GKjk1u8/3T/M/cPc7z+Nin9To+LvPz7VMqmC6O8/7h/m/mHu7z+faplUQfTvP0+1TKog+u8/",
          "dtype": "f8"
         },
         "xaxis": "x",
         "y": {
          "bdata": "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",
          "dtype": "f8"
         },
         "yaxis": "y2"
        }
       ],
       "layout": {
        "annotations": [
         {
          "font": {
           "color": "gray",
           "size": 12
          },
          "showarrow": false,
          "text": "Sample size: 1395",
          "x": 0.99,
          "xanchor": "right",
          "xref": "paper",
          "y": 0.02,
          "yref": "paper"
         }
        ],
        "height": 500,
        "legend": {
         "x": 1.02,
         "xanchor": "left",
         "y": 0.5
        },
        "margin": {
         "b": 50,
         "l": 70,
         "r": 160,
         "t": 50
        },
        "template": {
         "data": {
          "bar": [
           {
            "error_x": {
             "color": "#2a3f5f"
            },
            "error_y": {
             "color": "#2a3f5f"
            },
            "marker": {
             "line": {
              "color": "white",
              "width": 0.5
             },
             "pattern": {
              "fillmode": "overlay",
              "size": 10,
              "solidity": 0.2
             }
            },
            "type": "bar"
           }
          ],
          "barpolar": [
           {
            "marker": {
             "line": {
              "color": "white",
              "width": 0.5
             },
             "pattern": {
              "fillmode": "overlay",
              "size": 10,
              "solidity": 0.2
             }
            },
            "type": "barpolar"
           }
          ],
          "carpet": [
           {
            "aaxis": {
             "endlinecolor": "#2a3f5f",
             "gridcolor": "#C8D4E3",
             "linecolor": "#C8D4E3",
             "minorgridcolor": "#C8D4E3",
             "startlinecolor": "#2a3f5f"
            },
            "baxis": {
             "endlinecolor": "#2a3f5f",
             "gridcolor": "#C8D4E3",
             "linecolor": "#C8D4E3",
             "minorgridcolor": "#C8D4E3",
             "startlinecolor": "#2a3f5f"
            },
            "type": "carpet"
           }
          ],
          "choropleth": [
           {
            "colorbar": {
             "outlinewidth": 0,
             "ticks": ""
            },
            "type": "choropleth"
           }
          ],
          "contour": [
           {
            "colorbar": {
             "outlinewidth": 0,
             "ticks": ""
            },
            "colorscale": [
             [
              0,
              "#0d0887"
             ],
             [
              0.1111111111111111,
              "#46039f"
             ],
             [
              0.2222222222222222,
              "#7201a8"
             ],
             [
              0.3333333333333333,
              "#9c179e"
             ],
             [
              0.4444444444444444,
              "#bd3786"
             ],
             [
              0.5555555555555556,
              "#d8576b"
             ],
             [
              0.6666666666666666,
              "#ed7953"
             ],
             [
              0.7777777777777778,
              "#fb9f3a"
             ],
             [
              0.8888888888888888,
              "#fdca26"
             ],
             [
              1,
              "#f0f921"
             ]
            ],
            "type": "contour"
           }
          ],
          "contourcarpet": [
           {
            "colorbar": {
             "outlinewidth": 0,
             "ticks": ""
            },
            "type": "contourcarpet"
           }
          ],
          "heatmap": [
           {
            "colorbar": {
             "outlinewidth": 0,
             "ticks": ""
            },
            "colorscale": [
             [
              0,
              "#0d0887"
             ],
             [
              0.1111111111111111,
              "#46039f"
             ],
             [
              0.2222222222222222,
              "#7201a8"
             ],
             [
              0.3333333333333333,
              "#9c179e"
             ],
             [
              0.4444444444444444,
              "#bd3786"
             ],
             [
              0.5555555555555556,
              "#d8576b"
             ],
             [
              0.6666666666666666,
              "#ed7953"
             ],
             [
              0.7777777777777778,
              "#fb9f3a"
             ],
             [
              0.8888888888888888,
              "#fdca26"
             ],
             [
              1,
              "#f0f921"
             ]
            ],
            "type": "heatmap"
           }
          ],
          "histogram": [
           {
            "marker": {
             "pattern": {
              "fillmode": "overlay",
              "size": 10,
              "solidity": 0.2
             }
            },
            "type": "histogram"
           }
          ],
          "histogram2d": [
           {
            "colorbar": {
             "outlinewidth": 0,
             "ticks": ""
            },
            "colorscale": [
             [
              0,
              "#0d0887"
             ],
             [
              0.1111111111111111,
              "#46039f"
             ],
             [
              0.2222222222222222,
              "#7201a8"
             ],
             [
              0.3333333333333333,
              "#9c179e"
             ],
             [
              0.4444444444444444,
              "#bd3786"
             ],
             [
              0.5555555555555556,
              "#d8576b"
             ],
             [
              0.6666666666666666,
              "#ed7953"
             ],
             [
              0.7777777777777778,
              "#fb9f3a"
             ],
             [
              0.8888888888888888,
              "#fdca26"
             ],
             [
              1,
              "#f0f921"
             ]
            ],
            "type": "histogram2d"
           }
          ],
          "histogram2dcontour": [
           {
            "colorbar": {
             "outlinewidth": 0,
             "ticks": ""
            },
            "colorscale": [
             [
              0,
              "#0d0887"
             ],
             [
              0.1111111111111111,
              "#46039f"
             ],
             [
              0.2222222222222222,
              "#7201a8"
             ],
             [
              0.3333333333333333,
              "#9c179e"
             ],
             [
              0.4444444444444444,
              "#bd3786"
             ],
             [
              0.5555555555555556,
              "#d8576b"
             ],
             [
              0.6666666666666666,
              "#ed7953"
             ],
             [
              0.7777777777777778,
              "#fb9f3a"
             ],
             [
              0.8888888888888888,
              "#fdca26"
             ],
             [
              1,
              "#f0f921"
             ]
            ],
            "type": "histogram2dcontour"
           }
          ],
          "mesh3d": [
           {
            "colorbar": {
             "outlinewidth": 0,
             "ticks": ""
            },
            "type": "mesh3d"
           }
          ],
          "parcoords": [
           {
            "line": {
             "colorbar": {
              "outlinewidth": 0,
              "ticks": ""
             }
            },
            "type": "parcoords"
           }
          ],
          "pie": [
           {
            "automargin": true,
            "type": "pie"
           }
          ],
          "scatter": [
           {
            "fillpattern": {
             "fillmode": "overlay",
             "size": 10,
             "solidity": 0.2
            },
            "type": "scatter"
           }
          ],
          "scatter3d": [
           {
            "line": {
             "colorbar": {
              "outlinewidth": 0,
              "ticks": ""
             }
            },
            "marker": {
             "colorbar": {
              "outlinewidth": 0,
              "ticks": ""
             }
            },
            "type": "scatter3d"
           }
          ],
          "scattercarpet": [
           {
            "marker": {
             "colorbar": {
              "outlinewidth": 0,
              "ticks": ""
             }
            },
            "type": "scattercarpet"
           }
          ],
          "scattergeo": [
           {
            "marker": {
             "colorbar": {
              "outlinewidth": 0,
              "ticks": ""
             }
            },
            "type": "scattergeo"
           }
          ],
          "scattergl": [
           {
            "marker": {
             "colorbar": {
              "outlinewidth": 0,
              "ticks": ""
             }
            },
            "type": "scattergl"
           }
          ],
          "scattermap": [
           {
            "marker": {
             "colorbar": {
              "outlinewidth": 0,
              "ticks": ""
             }
            },
            "type": "scattermap"
           }
          ],
          "scattermapbox": [
           {
            "marker": {
             "colorbar": {
              "outlinewidth": 0,
              "ticks": ""
             }
            },
            "type": "scattermapbox"
           }
          ],
          "scatterpolar": [
           {
            "marker": {
             "colorbar": {
              "outlinewidth": 0,
              "ticks": ""
             }
            },
            "type": "scatterpolar"
           }
          ],
          "scatterpolargl": [
           {
            "marker": {
             "colorbar": {
              "outlinewidth": 0,
              "ticks": ""
             }
            },
            "type": "scatterpolargl"
           }
          ],
          "scatterternary": [
           {
            "marker": {
             "colorbar": {
              "outlinewidth": 0,
              "ticks": ""
             }
            },
            "type": "scatterternary"
           }
          ],
          "surface": [
           {
            "colorbar": {
             "outlinewidth": 0,
             "ticks": ""
            },
            "colorscale": [
             [
              0,
              "#0d0887"
             ],
             [
              0.1111111111111111,
              "#46039f"
             ],
             [
              0.2222222222222222,
              "#7201a8"
             ],
             [
              0.3333333333333333,
              "#9c179e"
             ],
             [
              0.4444444444444444,
              "#bd3786"
             ],
             [
              0.5555555555555556,
              "#d8576b"
             ],
             [
              0.6666666666666666,
              "#ed7953"
             ],
             [
              0.7777777777777778,
              "#fb9f3a"
             ],
             [
              0.8888888888888888,
              "#fdca26"
             ],
             [
              1,
              "#f0f921"
             ]
            ],
            "type": "surface"
           }
          ],
          "table": [
           {
            "cells": {
             "fill": {
              "color": "#EBF0F8"
             },
             "line": {
              "color": "white"
             }
            },
            "header": {
             "fill": {
              "color": "#C8D4E3"
             },
             "line": {
              "color": "white"
             }
            },
            "type": "table"
           }
          ]
         },
         "layout": {
          "annotationdefaults": {
           "arrowcolor": "#2a3f5f",
           "arrowhead": 0,
           "arrowwidth": 1
          },
          "autotypenumbers": "strict",
          "coloraxis": {
           "colorbar": {
            "outlinewidth": 0,
            "ticks": ""
           }
          },
          "colorscale": {
           "diverging": [
            [
             0,
             "#8e0152"
            ],
            [
             0.1,
             "#c51b7d"
            ],
            [
             0.2,
             "#de77ae"
            ],
            [
             0.3,
             "#f1b6da"
            ],
            [
             0.4,
             "#fde0ef"
            ],
            [
             0.5,
             "#f7f7f7"
            ],
            [
             0.6,
             "#e6f5d0"
            ],
            [
             0.7,
             "#b8e186"
            ],
            [
             0.8,
             "#7fbc41"
            ],
            [
             0.9,
             "#4d9221"
            ],
            [
             1,
             "#276419"
            ]
           ],
           "sequential": [
            [
             0,
             "#0d0887"
            ],
            [
             0.1111111111111111,
             "#46039f"
            ],
            [
             0.2222222222222222,
             "#7201a8"
            ],
            [
             0.3333333333333333,
             "#9c179e"
            ],
            [
             0.4444444444444444,
             "#bd3786"
            ],
            [
             0.5555555555555556,
             "#d8576b"
            ],
            [
             0.6666666666666666,
             "#ed7953"
            ],
            [
             0.7777777777777778,
             "#fb9f3a"
            ],
            [
             0.8888888888888888,
             "#fdca26"
            ],
            [
             1,
             "#f0f921"
            ]
           ],
           "sequentialminus": [
            [
             0,
             "#0d0887"
            ],
            [
             0.1111111111111111,
             "#46039f"
            ],
            [
             0.2222222222222222,
             "#7201a8"
            ],
            [
             0.3333333333333333,
             "#9c179e"
            ],
            [
             0.4444444444444444,
             "#bd3786"
            ],
            [
             0.5555555555555556,
             "#d8576b"
            ],
            [
             0.6666666666666666,
             "#ed7953"
            ],
            [
             0.7777777777777778,
             "#fb9f3a"
            ],
            [
             0.8888888888888888,
             "#fdca26"
            ],
            [
             1,
             "#f0f921"
            ]
           ]
          },
          "colorway": [
           "#636efa",
           "#EF553B",
           "#00cc96",
           "#ab63fa",
           "#FFA15A",
           "#19d3f3",
           "#FF6692",
           "#B6E880",
           "#FF97FF",
           "#FECB52"
          ],
          "font": {
           "color": "#2a3f5f"
          },
          "geo": {
           "bgcolor": "white",
           "lakecolor": "white",
           "landcolor": "white",
           "showlakes": true,
           "showland": true,
           "subunitcolor": "#C8D4E3"
          },
          "hoverlabel": {
           "align": "left"
          },
          "hovermode": "closest",
          "mapbox": {
           "style": "light"
          },
          "paper_bgcolor": "white",
          "plot_bgcolor": "white",
          "polar": {
           "angularaxis": {
            "gridcolor": "#EBF0F8",
            "linecolor": "#EBF0F8",
            "ticks": ""
           },
           "bgcolor": "white",
           "radialaxis": {
            "gridcolor": "#EBF0F8",
            "linecolor": "#EBF0F8",
            "ticks": ""
           }
          },
          "scene": {
           "xaxis": {
            "backgroundcolor": "white",
            "gridcolor": "#DFE8F3",
            "gridwidth": 2,
            "linecolor": "#EBF0F8",
            "showbackground": true,
            "ticks": "",
            "zerolinecolor": "#EBF0F8"
           },
           "yaxis": {
            "backgroundcolor": "white",
            "gridcolor": "#DFE8F3",
            "gridwidth": 2,
            "linecolor": "#EBF0F8",
            "showbackground": true,
            "ticks": "",
            "zerolinecolor": "#EBF0F8"
           },
           "zaxis": {
            "backgroundcolor": "white",
            "gridcolor": "#DFE8F3",
            "gridwidth": 2,
            "linecolor": "#EBF0F8",
            "showbackground": true,
            "ticks": "",
            "zerolinecolor": "#EBF0F8"
           }
          },
          "shapedefaults": {
           "line": {
            "color": "#2a3f5f"
           }
          },
          "ternary": {
           "aaxis": {
            "gridcolor": "#DFE8F3",
            "linecolor": "#A2B1C6",
            "ticks": ""
           },
           "baxis": {
            "gridcolor": "#DFE8F3",
            "linecolor": "#A2B1C6",
            "ticks": ""
           },
           "bgcolor": "white",
           "caxis": {
            "gridcolor": "#DFE8F3",
            "linecolor": "#A2B1C6",
            "ticks": ""
           }
          },
          "title": {
           "x": 0.05
          },
          "xaxis": {
           "automargin": true,
           "gridcolor": "#EBF0F8",
           "linecolor": "#EBF0F8",
           "ticks": "",
           "title": {
            "standoff": 15
           },
           "zerolinecolor": "#EBF0F8",
           "zerolinewidth": 2
          },
          "yaxis": {
           "automargin": true,
           "gridcolor": "#EBF0F8",
           "linecolor": "#EBF0F8",
           "ticks": "",
           "title": {
            "standoff": 15
           },
           "zerolinecolor": "#EBF0F8",
           "zerolinewidth": 2
          }
         }
        },
        "xaxis": {
         "anchor": "y",
         "domain": [
          0,
          0.94
         ],
         "showgrid": true,
         "title": {
          "text": "sample proportion"
         }
        },
        "yaxis": {
         "anchor": "x",
         "domain": [
          0,
          1
         ],
         "showgrid": true,
         "tickfont": {
          "color": "rgb(31, 119, 180)"
         },
         "title": {
          "font": {
           "color": "rgb(31, 119, 180)"
          },
          "text": "cum_demeaned_cross_ret"
         }
        },
        "yaxis2": {
         "anchor": "x",
         "overlaying": "y",
         "showgrid": false,
         "side": "right",
         "tickfont": {
          "color": "rgb(214, 39, 40)"
         },
         "title": {
          "font": {
           "color": "rgb(214, 39, 40)"
          },
          "text": "gap_days"
         }
        }
       }
      }
     },
     "metadata": {},
     "output_type": "display_data"
    }
   ],
   "source": [
    "call_df.sort_values(\"gap_days\", ignore_index = True, inplace = True)\n",
    "mean = call_df[\"cross_ret\"].mean()\n",
    "call_df[\"demeaned_cross_ret\"] = call_df[\"cross_ret\"] - mean\n",
    "call_df[\"cum_demeaned_cross_ret\"] = call_df[\"demeaned_cross_ret\"].cumsum()\n",
    "plot(call_df, \"cum_demeaned_cross_ret\", ry = \"gap_days\")"
   ]
  },
  {
   "cell_type": "markdown",
   "id": "d1cb4b9d",
   "metadata": {},
   "source": [
    "## 夜盤 open - 日盤 open"
   ]
  },
  {
   "cell_type": "markdown",
   "id": "e2af08a0",
   "metadata": {},
   "source": [
    "### put"
   ]
  },
  {
   "cell_type": "code",
   "execution_count": null,
   "id": "c2ee0895",
   "metadata": {},
   "outputs": [],
   "source": []
  },
  {
   "cell_type": "markdown",
   "id": "358ac041",
   "metadata": {},
   "source": [
    "### call"
   ]
  },
  {
   "cell_type": "markdown",
   "id": "67a69266",
   "metadata": {},
   "source": [
    "## 夜盤 open - 夜盤 close"
   ]
  },
  {
   "cell_type": "markdown",
   "id": "70075d76",
   "metadata": {},
   "source": [
    "### put"
   ]
  },
  {
   "cell_type": "code",
   "execution_count": null,
   "id": "1e1f980d",
   "metadata": {},
   "outputs": [],
   "source": []
  },
  {
   "cell_type": "markdown",
   "id": "5f687bfa",
   "metadata": {},
   "source": [
    "### call"
   ]
  }
 ],
 "metadata": {
  "kernelspec": {
   "display_name": "OP_mac",
   "language": "python",
   "name": "python3"
  },
  "language_info": {
   "codemirror_mode": {
    "name": "ipython",
    "version": 3
   },
   "file_extension": ".py",
   "mimetype": "text/x-python",
   "name": "python",
   "nbconvert_exporter": "python",
   "pygments_lexer": "ipython3",
   "version": "3.13.5"
  }
 },
 "nbformat": 4,
 "nbformat_minor": 5
}
